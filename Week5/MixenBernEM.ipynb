{
 "cells": [
  {
   "cell_type": "code",
   "execution_count": 1,
   "id": "89235025",
   "metadata": {},
   "outputs": [],
   "source": [
    "import numpy as np\n",
    "import random\n",
    "import matplotlib.pyplot as plt\n",
    "\n",
    "from scipy.stats import invwishart \n",
    "from scipy.stats import multivariate_normal \n",
    "from scipy.special import logsumexp\n",
    "from scipy.special import softmax\n",
    "from scipy.special import betaln\n",
    "from scipy.special import beta\n",
    "\n",
    "from sklearn import metrics"
   ]
  },
  {
   "cell_type": "code",
   "execution_count": 2,
   "id": "9147b0ff",
   "metadata": {},
   "outputs": [],
   "source": [
    "random_seed = 123\n",
    "rng = np.random.default_rng(random_seed)"
   ]
  },
  {
   "cell_type": "code",
   "execution_count": 3,
   "id": "aeeec820",
   "metadata": {},
   "outputs": [],
   "source": [
    "from sklearn.datasets import fetch_openml \n",
    "mnist = fetch_openml('mnist_784', parser ='auto')\n",
    "X_mnist = np.array(mnist.data) > 0.5 # binary-rise the data\n",
    "Y_mnist = np.array(mnist.target, dtype ='int')\n",
    "X_mnist_train = X_mnist[:4000, :] # use the first 4000 images as training data\n",
    "Y_mnist_train = Y_mnist[:4000]\n",
    "X_mnist_test = X_mnist[4000:5000, :] # the next 1000 as testing\n",
    "Y_mnist_test = Y_mnist[4000:5000]"
   ]
  },
  {
   "cell_type": "code",
   "execution_count": 4,
   "id": "b55eccfa",
   "metadata": {},
   "outputs": [],
   "source": [
    "X_mnist_cover1 = np.empty_like(X_mnist_train, dtype='f')\n",
    "X_mnist_cover1[:] = X_mnist_train\n",
    "for i in range(0,len(X_mnist_cover1)):\n",
    "    indices = random.sample(range(0,784), 784//2)\n",
    "    X_mnist_cover1[i][indices] = np.nan"
   ]
  },
  {
   "cell_type": "markdown",
   "id": "594f9f3f",
   "metadata": {},
   "source": [
    "E-Step:\n",
    "$$\\begin{align}\n",
    "    r_{i,k} &= \\frac{p(z^{(i)} = k|\\boldsymbol{\\Theta})p(\\mathbf{x}_{iO}|\\theta,z^{(i)}=k)}{\\sum_{k'} p(z^{(i)} = k'|\\boldsymbol{\\Theta})p(\\mathbf{x}_{iO}|\\theta,z^{(i)}=k')} \\\\\n",
    "\n",
    "    &\\propto \\exp \\Big[ \\log \\pi_k + \\sum_{d \\in O_i}^D x_d^{(i)}\\log\\mu_{kd} + (1 - x_d^{(i)})\\log(1 - \\mu_{kd})\\Big]\n",
    "\\end{align}$$\n",
    "\n",
    "M-Step \n",
    "$$\\begin{align}\n",
    "    &N_k = \\sum_i^N r_{ik}\\\\\n",
    "    &\\pi_k = \\frac{N_k}{N}\\\\\n",
    "    &\\mu_k = \\frac{1}{N_k}\\sum_n^N r_{nk} \\cdot \\mathbb{E}[\\mathbf{x}_n] = \\frac{1}{N_k} \\sum_n^N r_{nk} \\cdot (\\mathbb{E}[\\mathbf{x}_{n,h}|z_n=k],\\mathbf{x}_{n,o}) = \\frac{1}{N_k} \\sum_n^N r_{nk} \\cdot (\\mu_{k,H_n}^{(t-1)};\\mathbf{x}_{n,o})\n",
    "\\end{align}$$"
   ]
  },
  {
   "cell_type": "code",
   "execution_count": 42,
   "id": "0612f251",
   "metadata": {},
   "outputs": [],
   "source": [
    "def e_step(X,θ,π,missing_mask,K=10,eps=1e-14):\n",
    "    N,D = X.shape\n",
    "    K,_ = θ.shape \n",
    "    R = np.zeros((N,K))\n",
    "\n",
    "    for i in range(N):\n",
    "        for k in range(K):\n",
    "            mask = ~missing_mask[i]\n",
    "\n",
    "            R[i,k] = np.log(π[k] + eps) + np.sum((X[i] * np.log(θ[k] + eps))[mask]) + np.sum(((1 - X[i]) * np.log(1 - θ[k] + eps))[mask])\n",
    "\n",
    "    log_norm = logsumexp(R, axis=1, keepdims=True)\n",
    "    R = np.exp(R - log_norm)\n",
    "\n",
    "    loglik = np.sum(log_norm) / N\n",
    "\n",
    "    return R,loglik\n"
   ]
  },
  {
   "cell_type": "code",
   "execution_count": 43,
   "id": "779bd347",
   "metadata": {},
   "outputs": [],
   "source": [
    "def m_step(X,R,θ,missing_mask,K=10):\n",
    "    N,D = X.shape\n",
    "    obs_mask = ~missing_mask\n",
    "\n",
    "    nk = R.sum(axis=0)\n",
    "\n",
    "    X_expected = X.copy()\n",
    "    X_expected[missing_mask] = (R@θ)[obs_mask]\n",
    "\n",
    "    new_θ = (R.T @ X_expected)/nk[:,None]\n",
    "    new_π = nk/N\n",
    "\n",
    "    return new_π,new_θ\n"
   ]
  },
  {
   "cell_type": "code",
   "execution_count": 44,
   "id": "1dd7404f",
   "metadata": {},
   "outputs": [],
   "source": [
    "def em_algorithm(X,max_iters=100,K=10,tol=1e-4):\n",
    "    N,D = X.shape\n",
    "\n",
    "    missing_mask = np.isnan(X)\n",
    "\n",
    "    R = rng.random((N,K))\n",
    "    R /= np.sum(R,axis=1,keepdims=True)\n",
    "    θ = np.random.uniform(0,1,size=(K,D))\n",
    "\n",
    "    loglikes = []\n",
    "\n",
    "    π,θ = m_step(X,R,θ,missing_mask,10)\n",
    "\n",
    "    for _ in range(0,max_iters):\n",
    "        R,ll = e_step(X,θ,π,missing_mask,10)\n",
    "        loglikes.append(ll)\n",
    "\n",
    "        π,θ = m_step(X,R,θ,missing_mask,10)\n",
    "\n",
    "        zs = np.argmax(R, axis=1)\n",
    "\n",
    "        if len(loglikes) > 1 and np.abs(loglikes[-1] - loglikes[-2]) < tol : break\n",
    "\n",
    "    return zs,π,θ,loglikes\n"
   ]
  },
  {
   "cell_type": "code",
   "execution_count": 45,
   "id": "c4da59f4",
   "metadata": {},
   "outputs": [],
   "source": [
    "zs,π,θ,loglikes = em_algorithm(X_mnist_cover1)"
   ]
  },
  {
   "cell_type": "code",
   "execution_count": null,
   "id": "ec44c042",
   "metadata": {},
   "outputs": [
    {
     "data": {
      "text/plain": [
       "0.021161580968968887"
      ]
     },
     "execution_count": 38,
     "metadata": {},
     "output_type": "execute_result"
    }
   ],
   "source": [
    "metrics.adjusted_rand_score(Y_mnist_train, zs)"
   ]
  },
  {
   "cell_type": "code",
   "execution_count": null,
   "id": "c869aba4",
   "metadata": {},
   "outputs": [
    {
     "data": {
      "text/plain": [
       "[<matplotlib.lines.Line2D at 0x7f40903220a0>]"
      ]
     },
     "execution_count": 33,
     "metadata": {},
     "output_type": "execute_result"
    },
    {
     "data": {
      "image/png": "[encoded data removed]",
      "text/plain": [
       "<Figure size 640x480 with 1 Axes>"
      ]
     },
     "metadata": {},
     "output_type": "display_data"
    }
   ],
   "source": [
    "plt.plot(loglikes)"
   ]
  },
  {
   "cell_type": "code",
   "execution_count": 28,
   "id": "760e190a",
   "metadata": {},
   "outputs": [
    {
     "data": {
      "image/png": "[encoded data removed]",
      "text/plain": [
       "<Figure size 700x350 with 10 Axes>"
      ]
     },
     "metadata": {},
     "output_type": "display_data"
    }
   ],
   "source": [
    "figure = plt.figure(figsize=(7, 3.5))\n",
    "rows, cols= 2, 5\n",
    "for k in range(10):\n",
    "    img = θ[k, :].reshape(28, 28)\n",
    "    figure.add_subplot(rows, cols, k+1)\n",
    "    plt.axis(\"off\")\n",
    "    plt.imshow(img, cmap=\"gray\")\n",
    "plt.show()"
   ]
  }
 ],
 "metadata": {
  "kernelspec": {
   "display_name": "myenv",
   "language": "python",
   "name": "python3"
  },
  "language_info": {
   "codemirror_mode": {
    "name": "ipython",
    "version": 3
   },
   "file_extension": ".py",
   "mimetype": "text/x-python",
   "name": "python",
   "nbconvert_exporter": "python",
   "pygments_lexer": "ipython3",
   "version": "3.9.21"
  }
 },
 "nbformat": 4,
 "nbformat_minor": 5
}
