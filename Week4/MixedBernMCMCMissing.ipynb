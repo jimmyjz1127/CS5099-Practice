{
 "cells": [
  {
   "cell_type": "code",
   "execution_count": 2,
   "id": "ac9d5593",
   "metadata": {},
   "outputs": [],
   "source": [
    "%matplotlib inline\n",
    "# %matplotlib notebook\n",
    "%config Completer.use_jedi = False\n",
    "import matplotlib.pyplot as plt\n",
    "import numpy as np\n",
    "import pandas as pd\n",
    "\n",
    "\n",
    "from scipy.special import logsumexp\n",
    "from scipy.special import softmax\n",
    "from scipy.special import betaln\n",
    "from scipy.special import beta\n",
    "\n",
    "import numpy.linalg as linalg\n",
    "from sklearn.cluster import KMeans\n",
    "from sklearn import metrics\n",
    "import scipy.sparse as sparse\n",
    "import random\n",
    "\n",
    "from collections import Counter\n",
    "\n",
    "\n",
    "from sklearn.metrics import accuracy_score, precision_recall_fscore_support\n",
    "from sklearn.metrics import confusion_matrix\n",
    "\n",
    "import matplotlib.pyplot as plt\n",
    "import seaborn as sns"
   ]
  },
  {
   "cell_type": "code",
   "execution_count": 3,
   "id": "5b00f644",
   "metadata": {},
   "outputs": [],
   "source": [
    "random_seed = 123\n",
    "rng = np.random.default_rng(random_seed)"
   ]
  },
  {
   "cell_type": "code",
   "execution_count": 4,
   "id": "817d52e1",
   "metadata": {},
   "outputs": [],
   "source": [
    "from sklearn.datasets import fetch_openml\n",
    "mnist = fetch_openml('mnist_784', parser ='auto')"
   ]
  },
  {
   "cell_type": "code",
   "execution_count": 5,
   "id": "7033b18d",
   "metadata": {},
   "outputs": [],
   "source": [
    "X_mnist = np.array(mnist.data) > 0.5 # binary-rise the data\n",
    "Y_mnist = np.array(mnist.target, dtype ='int')\n",
    "X_mnist_train = X_mnist[:4000, :] # use the first 4000 images as training data\n",
    "Y_mnist_train = Y_mnist[:4000]\n",
    "X_mnist_test = X_mnist[4000:5000, :] # the next 1000 as testing\n",
    "Y_mnist_test = Y_mnist[4000:5000]"
   ]
  },
  {
   "cell_type": "code",
   "execution_count": null,
   "id": "64f2b1d8",
   "metadata": {},
   "outputs": [],
   "source": [
    "def bernoulli_loglike(X, θ, π):\n",
    "    # Compute Categorical Distribution over components for each row using SoftMax\n",
    "    logp  = np.log(π) + (X @ np.log(θ).T + (1 - X) @ np.log(1 - θ).T) # log likelihood\n",
    "    logp -= logp.max(axis=1, keepdims=True) # reduce logits for numerical stability (invariance property)\n",
    "    p     = np.exp(logp)\n",
    "    p    /= p.sum(axis=1, keepdims=True) # normalize\n",
    "\n",
    "    return p"
   ]
  },
  {
   "cell_type": "code",
   "execution_count": 28,
   "id": "4f9595be",
   "metadata": {},
   "outputs": [],
   "source": [
    "def bernoulli_loglike(X, θ, π, missing_mask):\n",
    "    N,D = X.shape\n",
    "    K,_ = θ.shape \n",
    "    log_ps = np.zeros((N,K))\n",
    "\n",
    "    for i in range(N):\n",
    "        for k in range(K):\n",
    "            mask = np.where(~missing_mask[i])[0]\n",
    "\n",
    "            log_ps[i,k] = np.log(π[k]) + np.sum((X[i] * np.log(θ[k]))[mask]) + np.sum(((1 - X[i]) * np.log(1 - θ[k]))[mask])\n",
    "\n",
    "    log_ps -= log_ps.max(axis=1, keepdims=True) # reduce logits for numerical stability (invariance property)\n",
    "    p     = np.exp(log_ps)\n",
    "    p    /= p.sum(axis=1, keepdims=True) # normalize  \n",
    "\n",
    "    return p\n"
   ]
  },
  {
   "cell_type": "markdown",
   "id": "ef3bc684",
   "metadata": {},
   "source": [
    "# 2 Un-Collapsed Gibbs Sampling"
   ]
  },
  {
   "cell_type": "markdown",
   "id": "c3f8b345",
   "metadata": {},
   "source": [
    "Joint Posterior \n",
    "\n",
    "$$\\begin{align}\n",
    "    p(\\boldsymbol{\\pi},\\boldsymbol{\\theta},\\mathbf{z}|\\mathbf{X},\\boldsymbol{\\alpha},a,b) \\propto p(\\mathbf{X}|\\mathbf{z},\\boldsymbol{\\theta}) p(\\mathbf{z}|\\boldsymbol{\\pi}) p(\\boldsymbol{\\pi}|\\boldsymbol{\\alpha}) p(\\boldsymbol{\\theta}|a,b)\n",
    "\\end{align}$$"
   ]
  },
  {
   "cell_type": "markdown",
   "id": "5098860e",
   "metadata": {},
   "source": [
    "Routine\n",
    "\n",
    "1) Initialize \n",
    "$$\\begin{align}\n",
    "    \\boldsymbol{\\alpha} &= [\\alpha_1 = \\frac{1}{K},...,\\alpha_K = \\frac{1}{K}]\\\\\n",
    "    a,b &= \\frac{1}{2}\\\\\n",
    "    \\boldsymbol{\\pi} &\\sim \\mathcal{Dirichlet}(\\boldsymbol{\\alpha}) \\\\\n",
    "    \\boldsymbol{\\theta} &\\sim \\mathcal{Beta}(a,b)\\\\\n",
    "    \\boldsymbol{z} &\\sim \\mathcal{Cat}(\\boldsymbol{\\pi})\n",
    "\\end{align}$$\n"
   ]
  },
  {
   "cell_type": "markdown",
   "id": "f6b0a715",
   "metadata": {},
   "source": [
    "\n",
    "2) For $t=1,..,N$  \n",
    "\n",
    "$$\n",
    "\\begin{align}\n",
    "    \\text{Sample } \\boldsymbol{\\pi}^{(t)} &\\sim P(\\boldsymbol{\\pi} | \\boldsymbol{z}^{(t-1)}) = \\mathrm{Dirichlet}(\\boldsymbol{\\alpha}_N^{(t-1)}) \\\\\n",
    "        \\boldsymbol{\\alpha}_N^{(t-1)} &= \\left[\\alpha_0^1 + n_1,\\, \\alpha_0^2 + n_2,\\, \\dots,\\, \\alpha_0^K + n_K \\right],\n",
    "        \\quad \\text{where} \\quad\n",
    "        n_k^{(t-1)} = \\sum_{i=1}^N \\mathbb{1}(z_i^{(t-1)} = k) \\\\\\\\\n",
    "\n",
    "    \\text{Sample }\\mathbf X^{(t)}\n",
    "        &\\sim P(\\mathbf X\\mid\\mathbf z^{(t-1)},\\boldsymbol{\\theta}^{(t-1)}) \\\\\n",
    "    \\text{for } i &\\in \\{1,\\dots,N\\}: \\;\n",
    "        \\mathbf x_{H,i}^{(t)}\\sim\\mathrm{Bernoulli}\\bigl(\\theta^{(t-1)}_{z_i^{(t-1)}}\\bigr)\\\\\n",
    "\n",
    "    \\text{Sample } \\boldsymbol{\\theta}^{(t)} &\\sim P(\\boldsymbol{\\theta}|\\mathbf{X}^{(t)},\\mathbf{z}^{(t-1)}) = \\prod_k^K \\prod_d^D \\mathrm{Beta}(a_{k,d} + n_{k,d}^{(1)}, b_{k,d} + n_{k,d}^{(0)}), \\quad \\text{where}\\\\\n",
    "        &n_{k,d}^{(1)} = \\sum_{i=1}^N \\mathbb{1}(x_{i,d}^{(t)} = 1, z_i^{(t-1)} = k)\\\\\n",
    "        &n_{k,d}^{(0)} = \\sum_{i=1}^N \\mathbb{1}(x_{i,d}^{(t)} = 0, z_i^{(t-1)} = k)\\\\\\\\\n",
    "\n",
    "    \\text{Sample } \\mathbf{z}^{(t)} \\sim &P(\\mathbf{z}|\\mathbf{X}_O,\\boldsymbol{\\pi}^{(t)}, \\boldsymbol{\\theta}^{(t)})\\\\\n",
    "\n",
    "        \\text{For } i &\\in {1,..,N} \\text{ and } d \\in {\\mathbf{X}_O}\\\\\n",
    "            &\\text{Sample } z_i^{(t)} \\sim \\text{Categorical}(p_1^{(i)},...,p_K^{(i)}) \\quad \\text{where,}\\\\\n",
    "                &\\qquad p_k^{(i)} \\propto \\pi_k^{(t)} \\prod_{d=1}^D (\\theta_{k,d}^{(t)})^{x_{i,d}}(1-\\theta_{k,d}^{(t)})^{(1 - x_{i,d})}\\\\\\\\\n",
    "\n",
    "\\end{align}\n",
    "$$"
   ]
  },
  {
   "cell_type": "markdown",
   "id": "7d1ae754",
   "metadata": {},
   "source": [
    "3. Discard burn-in samples"
   ]
  },
  {
   "cell_type": "code",
   "execution_count": 17,
   "id": "1936628b",
   "metadata": {},
   "outputs": [],
   "source": [
    "def sampleZs(p):\n",
    "    ''' \n",
    "        Samples cluster assignments z for n datapoints \n",
    "\n",
    "        @param (p) : softmax categorical probabilities over clusters (N, K)\n",
    "    '''\n",
    "\n",
    "    # Inverse sample from categorical distribution\n",
    "    cdf = np.cumsum(p, axis=1) # compute CDF for each row (each categorical distribution)\n",
    "    u   = rng.random(size=(p.shape[0], 1))\n",
    "    return (cdf > u).argmax(axis=1)  # return first index where cdf is greater than random u"
   ]
  },
  {
   "cell_type": "code",
   "execution_count": 83,
   "id": "8732c32f",
   "metadata": {},
   "outputs": [],
   "source": [
    "def sample_θ(X, zs, a_mat, b_mat, K) :\n",
    "    ''' \n",
    "        Samples θs from multivariate Beta distribution\n",
    "\n",
    "        @param (X)     : data matrix (nxd)\n",
    "        @param (zs)    : component assignments (n)\n",
    "        @param (a_mat) : multi-var beta prior for a (K, d)\n",
    "        @param (b_mat) : multi-var beta prior for b (K, d)\n",
    "        @param (K)     : the number of components\n",
    "    '''\n",
    "\n",
    "    n,d=X.shape\n",
    "\n",
    "    zs_zerohot = np.eye(K)[zs.astype(np.int64)]\n",
    "\n",
    "    nk = np.sum(zs_zerohot, axis=0)\n",
    "    nkd1 = zs_zerohot.T @ X\n",
    "    nkd0 = nk[:, None]- nkd1\n",
    "    \n",
    "    return rng.beta(a_mat + nkd1, b_mat + nkd0)"
   ]
  },
  {
   "cell_type": "code",
   "execution_count": null,
   "id": "96623e01",
   "metadata": {},
   "outputs": [],
   "source": [
    "def sample_θi(X, zs, a_mat, b_mat, K, missing_mask) :\n",
    "    n,D=X.shape\n",
    "    obs_mask = ~missing_mask\n",
    "\n",
    "    nkd1 = np.zeros((K,D))\n",
    "    nkd0 = np.zeros((K,D))\n",
    "\n",
    "    for k in range(K):\n",
    "        indices = np.where(zs==k)[0] # (n_k x D)\n",
    "        obs_k = obs_mask[indices] #filtr observation masks for indices belonging to k (n_k x D)\n",
    "\n",
    "        nkd1[k] = np.nansum(X[indices] * obs_k, axis=0) # nansum treats nans as 0\n",
    "        \n",
    "        obs_counts = np.sum(obs_k, axis=0)# sum all non-nan across D\n",
    "        nkd0[k] = obs_counts - nkd1[k] \n",
    "\n",
    "    return rng.beta(a_mat + nkd1, b_mat + nkd0)\n"
   ]
  },
  {
   "cell_type": "code",
   "execution_count": 18,
   "id": "8c205e04",
   "metadata": {},
   "outputs": [],
   "source": [
    "\n",
    "# Vectorized (more memory due to one-hot, but less time)\n",
    "def sample_θ(X, zs, a_mat, b_mat, K, missing_mask) :\n",
    "    n,D=X.shape\n",
    "    obs_mask = ~missing_mask\n",
    "\n",
    "    zs_zerohot = np.eye(K)[zs.astype(np.int64)]\n",
    "\n",
    "    obs_k = zs_zerohot.T @ obs_mask\n",
    "\n",
    "    nkd1 = zs_zerohot.T @ np.nan_to_num(X * obs_mask, nan=0)\n",
    "\n",
    "    nkd0 = obs_k - nkd1\n",
    "\n",
    "    return rng.beta(a_mat + nkd1, b_mat + nkd0)"
   ]
  },
  {
   "cell_type": "code",
   "execution_count": 19,
   "id": "eabe2e65",
   "metadata": {},
   "outputs": [],
   "source": [
    "def sample_π(zs, α_0, K):\n",
    "    ''' \n",
    "        Samples mixing weights from Dirichlet distribution parameterized by pseudocounts of components\n",
    "        \n",
    "        @param (zs)  : cluster assignments (n)\n",
    "        @param (α_0) : Dirichlet prior list (K)\n",
    "        @param (K)   : the number of components\n",
    "    '''\n",
    "\n",
    "    z_counts = np.bincount(zs.astype(np.int64), minlength=K)\n",
    "    return rng.dirichlet(α_0 + z_counts)"
   ]
  },
  {
   "cell_type": "code",
   "execution_count": 20,
   "id": "ff3d0698",
   "metadata": {},
   "outputs": [],
   "source": [
    "def sample_X_missing(z, θ, X, missing_mask):\n",
    "    n, D = X.shape\n",
    "    X_sample = X.copy()\n",
    "\n",
    "    θ_indexed = θ[z]  # shape (n, D)\n",
    "\n",
    "    sampled = np.random.binomial(1, θ_indexed)\n",
    "\n",
    "    X_sample[missing_mask] = sampled[missing_mask]\n",
    "\n",
    "    return X_sample"
   ]
  },
  {
   "cell_type": "code",
   "execution_count": 29,
   "id": "e0d0ae43",
   "metadata": {},
   "outputs": [],
   "source": [
    "def gibbs_missing(X, num_iter, num_burn, K=10, rng=np.random.default_rng(random_seed), eps=1e-20) :\n",
    "    n, d = X.shape\n",
    "\n",
    "    missing_mask = np.isnan(X) # (n,d)\n",
    "\n",
    "    πs = np.zeros((num_iter + num_burn, K))\n",
    "    zs = np.zeros((num_iter + num_burn, n), dtype=np.int16)\n",
    "    θs = np.zeros((num_iter + num_burn, K, d))\n",
    "\n",
    "    # Intialize\n",
    "    α_0 = np.full(K, 1 / K, dtype=np.float64)  # Dirichlet\n",
    "    a_mat  = np.full((K, d), 1) # Beta\n",
    "    b_mat  = np.full((K, d), 1) # Beta\n",
    "\n",
    "    πs[0] = rng.dirichlet(α_0)\n",
    "    R = rng.random((K,d))\n",
    "    θs[0] = R/np.sum(R, axis=1, keepdims=True)\n",
    "    zs[0] = np.random.randint(0,K,size=n)\n",
    "\n",
    "    for t in range(1,num_iter+num_burn):\n",
    "\n",
    "        πs[t] = sample_π(zs[t-1], α_0, K)\n",
    "\n",
    "        θs[t] = sample_θ(X, zs[t-1], a_mat, b_mat, K, missing_mask)\n",
    "        \n",
    "        zs[t] = sampleZs(bernoulli_loglike(X, θs[t],πs[t],missing_mask)).astype(np.int16)\n",
    "    \n",
    "    return πs[num_burn:], θs[num_burn:], zs[num_burn:]"
   ]
  },
  {
   "cell_type": "code",
   "execution_count": 12,
   "id": "b8098b32",
   "metadata": {},
   "outputs": [],
   "source": [
    "X_mnist_cover1 = np.empty_like(X_mnist_train, dtype='f')\n",
    "X_mnist_cover1[:] = X_mnist_train\n",
    "for i in range(0,len(X_mnist_cover1)):\n",
    "    indices = random.sample(range(0,784), 784//2)\n",
    "    X_mnist_cover1[i][indices] = np.nan"
   ]
  },
  {
   "cell_type": "code",
   "execution_count": 91,
   "id": "150267d4",
   "metadata": {},
   "outputs": [
    {
     "data": {
      "image/png": "[encoded data removed]",
      "text/plain": [
       "<Figure size 700x350 with 10 Axes>"
      ]
     },
     "metadata": {},
     "output_type": "display_data"
    }
   ],
   "source": [
    "figure = plt.figure(figsize=(7, 3.5))\n",
    "rows, cols= 2, 5\n",
    "for k in range(10):\n",
    "    img = X_mnist_cover1[k, :].reshape(28, 28)\n",
    "    figure.add_subplot(rows, cols, k+1)\n",
    "    plt.title(k)\n",
    "    plt.axis(\"off\")\n",
    "    plt.imshow(img, cmap=\"gray\")\n",
    "plt.show()"
   ]
  },
  {
   "cell_type": "code",
   "execution_count": null,
   "id": "86f20e20",
   "metadata": {},
   "outputs": [],
   "source": [
    "πs,θs,zs= gibbs_missing(X_mnist_cover1, 400, 4, 10)"
   ]
  },
  {
   "cell_type": "code",
   "execution_count": 31,
   "id": "685032c6",
   "metadata": {},
   "outputs": [
    {
     "data": {
      "image/png": "[encoded data removed]",
      "text/plain": [
       "<Figure size 640x480 with 1 Axes>"
      ]
     },
     "metadata": {},
     "output_type": "display_data"
    }
   ],
   "source": [
    "scores = [metrics.adjusted_rand_score(Y_mnist_train, zs[i]) for i in range(0,len(zs))]\n",
    "plt.plot(scores)\n",
    "plt.title(\"Traceplot of zs\")\n",
    "plt.show()"
   ]
  },
  {
   "cell_type": "code",
   "execution_count": 32,
   "id": "3c71ae14",
   "metadata": {},
   "outputs": [
    {
     "data": {
      "text/plain": [
       "0.3172723784911137"
      ]
     },
     "execution_count": 32,
     "metadata": {},
     "output_type": "execute_result"
    }
   ],
   "source": [
    "metrics.adjusted_rand_score(Y_mnist_train, zs[-1])"
   ]
  },
  {
   "cell_type": "code",
   "execution_count": null,
   "id": "b44470d6",
   "metadata": {},
   "outputs": [],
   "source": []
  }
 ],
 "metadata": {
  "kernelspec": {
   "display_name": "myenv",
   "language": "python",
   "name": "python3"
  },
  "language_info": {
   "codemirror_mode": {
    "name": "ipython",
    "version": 3
   },
   "file_extension": ".py",
   "mimetype": "text/x-python",
   "name": "python",
   "nbconvert_exporter": "python",
   "pygments_lexer": "ipython3",
   "version": "3.9.21"
  }
 },
 "nbformat": 4,
 "nbformat_minor": 5
}
