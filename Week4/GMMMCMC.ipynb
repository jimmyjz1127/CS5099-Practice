{
 "cells": [
  {
   "cell_type": "code",
   "execution_count": 1,
   "id": "90f06d70",
   "metadata": {},
   "outputs": [],
   "source": [
    "\n",
    "import matplotlib.pyplot as plt\n",
    "import numpy as np\n",
    "import numpy.linalg as linalg\n",
    "import pandas as pd\n",
    "\n",
    "from scipy.special import logsumexp\n",
    "from scipy.special import softmax\n",
    "from scipy.stats import invwishart\n",
    "from scipy.stats import multivariate_normal\n",
    "\n",
    "\n",
    "from sklearn.cluster import KMeans\n",
    "from sklearn import metrics\n",
    "import scipy.sparse as sparse\n",
    "\n",
    "from sklearn.metrics import accuracy_score, precision_recall_fscore_support\n",
    "from sklearn.metrics import confusion_matrix\n",
    "\n",
    "import matplotlib.pyplot as plt\n",
    "import seaborn as sns\n",
    "\n",
    "\n",
    "import random"
   ]
  },
  {
   "cell_type": "code",
   "execution_count": 2,
   "id": "46cd1340",
   "metadata": {},
   "outputs": [],
   "source": [
    "import numpy as np"
   ]
  },
  {
   "cell_type": "code",
   "execution_count": 3,
   "id": "99656510",
   "metadata": {},
   "outputs": [],
   "source": [
    "random_seed = 123\n",
    "rng = np.random.default_rng(random_seed)"
   ]
  },
  {
   "cell_type": "markdown",
   "id": "8e6024ab",
   "metadata": {},
   "source": [
    "# 1 Import Dataset"
   ]
  },
  {
   "cell_type": "code",
   "execution_count": 4,
   "id": "6555e663",
   "metadata": {},
   "outputs": [],
   "source": [
    "data = np.load('../blobs_10_24.npz')\n",
    "\n",
    "X=data[\"X\"]\n",
    "y=data[\"y\"]\n",
    "X_train=X[:4000, :]\n",
    "y_train=y[:4000]\n",
    "X_test =X[4000:5000, :]\n",
    "y_test =y[4000:5000]"
   ]
  },
  {
   "cell_type": "markdown",
   "id": "81442e75",
   "metadata": {},
   "source": [
    "# 2 Un-Collapsed Gibbs"
   ]
  },
  {
   "cell_type": "markdown",
   "id": "a431a7d0",
   "metadata": {},
   "source": [
    "1) Initialize $\\mathbf{z}, \\boldsymbol{\\mu}, \\boldsymbol{\\Sigma}, \\boldsymbol{\\pi}$\n",
    "2) For $t=0,...,T$\n",
    "$$\\begin{align}\n",
    "    \\text{Sample } \\boldsymbol{\\pi}^{(t)} &\\sim p(\\boldsymbol{pi} | \\mathbf{z}^{(t-1)}) = \\mathrm{Dirichlet}(\\boldsymbol{\\alpha}_N^{(t-1)}),\\\\\n",
    "    &\\boldsymbol{\\alpha}_N^{(t-1)} = \\left[\\alpha_0^1 + n_1,\\, \\alpha_0^2 + n_2,\\, \\dots,\\, \\alpha_0^K + n_K \\right],\n",
    "        \\quad \\text{where} \\quad\n",
    "        n_k^{(t-1)} = \\sum_{i=1}^N \\mathbb{1}(z_i^{(t-1)} = k) \\\\\\\\\n",
    "\n",
    "    \\text{Sample } \\boldsymbol{\\Sigma}^{(t)}, &\\boldsymbol{\\mu}^{(t)} \\sim p(\\boldsymbol{\\Sigma},\\boldsymbol{\\mu}|\\mathbf{z}^{(t-1)}, \\mathbf{X})\\\\\n",
    "     &= \\prod_k^K \\mathrm{NIW}(\\mu,\\Sigma | \\mathbf{m}_N, \\kappa_N, \\nu_N, \\mathbf{S}_N) =  \\prod_k^K \\mathrm{N}(\\mu|\\mathbf{m}_N, \\frac{1}{\\kappa_N}\\Sigma) \\times \\mathrm{IW}(\\Sigma | \\mathbf{S}_N, \\nu_N),\\\\\n",
    "        &\\qquad\\qquad \\mathbf{m}_{N_k} = \\frac{\\kappa_{0_k}m_{0_k} + N_k\\bar{\\mathbf{x}}_k}{\\kappa_{0_k} + N_k}\\\\\n",
    "        &\\qquad\\qquad \\kappa_{N_k} = \\kappa_{0} + N_k\\\\\n",
    "        &\\qquad\\qquad \\nu_{N_k} = \\nu_{0} + N_k\\\\\n",
    "        &\\qquad\\qquad \\mathbf{S}_{N_k} = \\mathbf{S}_{0_k} + \\mathbf{S}_{\\bar{\\mathbf{x}}_k} + \\frac{\\kappa_{0_k}N_k}{\\kappa_{0_k} + N_k}(\\bar{\\mathbf{x}}_k - m_{0_k})(\\bar{\\mathbf{x}}_k - m_{0_k})^T\\\\\\\\\n",
    "\n",
    "    \\text{Sample } \\mathbf{z}^{(t)} \\sim &P(\\mathbf{z}|\\mathbf{X},\\boldsymbol{\\pi}^{(t)}, \\boldsymbol{\\theta}^{(t)})\\\\\n",
    "\n",
    "        \\text{For } i &\\in {1,..,N}\\\\\n",
    "            &\\text{Sample } z_i^{(t)} \\sim \\text{Categorical}(p_1^{(i)},...,p_K^{(i)}) \\quad \\text{where,}\\\\\n",
    "                &\\qquad p_k^{(i)} \\propto \\pi_k^{(t)} \\mathcal{N}(\\mathbf{x}_i|\\boldsymbol{\\mu}_k^{(t)},\\boldsymbol{\\Sigma}_k^{(t)})\\\\\\\\\n",
    "\\end{align}$$"
   ]
  },
  {
   "cell_type": "code",
   "execution_count": 5,
   "id": "f62e308d",
   "metadata": {},
   "outputs": [],
   "source": [
    "def gaussian_likelihood(X, μ, Σ, π, K=10):\n",
    "    N,D = X.shape\n",
    "    \n",
    "    p = np.zeros((N,K))\n",
    "\n",
    "    for k in range(K):\n",
    "        p[:,k] = π[k] * multivariate_normal.pdf(X, mean=μ[k],cov=Σ[k])\n",
    "    p /= p.sum(axis=1, keepdims=True)\n",
    "\n",
    "    return p"
   ]
  },
  {
   "cell_type": "code",
   "execution_count": 6,
   "id": "c6d6385d",
   "metadata": {},
   "outputs": [],
   "source": [
    "def sampleZs(p):\n",
    "    ''' \n",
    "        Samples cluster assignments z for n datapoints \n",
    "\n",
    "        @param (p) : softmax categorical probabilities over clusters (N, K)\n",
    "    '''\n",
    "\n",
    "    # Inverse sample from categorical distribution\n",
    "    cdf = np.cumsum(p, axis=1) # compute CDF for each row (each categorical distribution)\n",
    "    u   = rng.random(size=(p.shape[0], 1))\n",
    "    return (cdf > u).argmax(axis=1)  # return first index where cdf is greater than random u"
   ]
  },
  {
   "cell_type": "code",
   "execution_count": 7,
   "id": "fc3de924",
   "metadata": {},
   "outputs": [],
   "source": [
    "def sample_π(zs, α_0, K):\n",
    "    ''' \n",
    "        Samples mixing weights from Dirichlet distribution parameterized by pseudocounts of components\n",
    "        \n",
    "        @param (zs)  : cluster assignments (n)\n",
    "        @param (α_0) : Dirichlet prior list (K)\n",
    "        @param (K)   : the number of components\n",
    "    '''\n",
    "\n",
    "    z_counts = np.bincount(zs.astype(np.int64), minlength=K)\n",
    "    return rng.dirichlet(α_0 + z_counts)"
   ]
  },
  {
   "cell_type": "code",
   "execution_count": 8,
   "id": "9b35f6d3",
   "metadata": {},
   "outputs": [],
   "source": [
    "def sample_NIW(X,zs,μ_0,S_0,k_0,ν_0,K=10):\n",
    "    N,D = X.shape\n",
    "\n",
    "    zs_hot = np.eye(K)[zs.astype(int)]\n",
    "    counts = np.bincount(zs.astype(int), minlength=K)[:, None] # component cardinality \n",
    "    x_bar = np.divide(zs_hot.T @ X, counts, where=counts != 0) # component-based mean\n",
    "\n",
    "    Σs = np.zeros((K,D,D))\n",
    "    μs = np.zeros((K,D))\n",
    "\n",
    "    for k in range(K):\n",
    "        indices = (zs == k)\n",
    "        n_k = np.sum(indices)\n",
    "        k_n = k_0 + n_k\n",
    "\n",
    "        X_k = X[indices]\n",
    "        S = (X_k - x_bar[k]).T @ (X_k - x_bar[k])\n",
    "        diff = (x_bar[k] - μ_0).reshape(-1,1)\n",
    "        S_n = S_0 + S + ((k_0 * n_k)/(k_n)) * (diff @ diff.T)\n",
    "        Σs[k] = invwishart.rvs(df=ν_0 + n_k, scale=S_n)\n",
    "\n",
    "\n",
    "        μ_n = (k_0 * μ_0 + n_k * x_bar[k])/k_n\n",
    "        μs[k] = np.random.multivariate_normal(mean=μ_n, cov=Σs[k]/k_n)\n",
    "        \n",
    "    return Σs,μs"
   ]
  },
  {
   "cell_type": "code",
   "execution_count": 9,
   "id": "c7a0cde8",
   "metadata": {},
   "outputs": [],
   "source": [
    "def gibbs(X, num_iter, num_burn, K=10, rng=np.random.default_rng(random_seed), eps=1e-20) :\n",
    "    N,D = X.shape\n",
    "\n",
    "    πs = np.zeros((num_iter + num_burn, K))\n",
    "    zs = np.zeros((num_iter + num_burn, N))\n",
    "    Σs = np.zeros((num_iter + num_burn,K,D,D))\n",
    "    μs = np.zeros((num_iter + num_burn, K, D))\n",
    "\n",
    "    # Intialize\n",
    "    α_0 = np.full(K, 1 / K)  # Dirichlet\n",
    "    k_0 = 0.01         # Prior confidence in μ_0\n",
    "    μ_0 = np.zeros(D)  # Prior mean vector \n",
    "    ν_0 = D + 1        # DOF for inverse wishart\n",
    "    S_0 = np.eye(D)# prior scatter matrix\n",
    "\n",
    "    πs[0] = rng.dirichlet(α_0)\n",
    "    zs[0] = np.random.randint(0,K,size=N)\n",
    "    Σs[0],μs[0] = sample_NIW(X,zs[0],μ_0,S_0,k_0,ν_0,K)\n",
    "\n",
    "    for t in range(1,num_iter+num_burn):\n",
    "        πs[t] = sample_π(zs[t-1], α_0, K)\n",
    "        Σs[t],μs[t] = sample_NIW(X,zs[t-1],μ_0,S_0,k_0,ν_0,K)\n",
    "        zs[t] = sampleZs(gaussian_likelihood(X,μs[t],Σs[t],πs[t],K=10))\n",
    "\n",
    "    return zs[num_burn:], Σs[num_burn:], μs[num_burn:], πs[num_burn:]"
   ]
  },
  {
   "cell_type": "code",
   "execution_count": 10,
   "id": "001286ff",
   "metadata": {},
   "outputs": [],
   "source": [
    "zs,sigmas,mus,pis = gibbs(X_train,4000,1000,10)"
   ]
  },
  {
   "cell_type": "code",
   "execution_count": 11,
   "id": "35582174",
   "metadata": {},
   "outputs": [
    {
     "data": {
      "image/png": "[encoded data removed]",
      "text/plain": [
       "<Figure size 640x480 with 1 Axes>"
      ]
     },
     "metadata": {},
     "output_type": "display_data"
    }
   ],
   "source": [
    "scores = [metrics.adjusted_rand_score(y_train, zs[i]) for i in range(0,len(zs))]\n",
    "plt.plot(scores)\n",
    "plt.title(\"Traceplot of zs\")\n",
    "plt.show()"
   ]
  },
  {
   "cell_type": "code",
   "execution_count": 15,
   "id": "8bb067d7",
   "metadata": {},
   "outputs": [
    {
     "name": "stdout",
     "output_type": "stream",
     "text": [
      "0.6701364755734729\n"
     ]
    }
   ],
   "source": [
    "max_idx = np.argmax(scores)\n",
    "best_zs = scores[max_idx]\n",
    "best_mu = scores[max_idx]\n",
    "best_sigma = scores[max_idx]\n",
    "best_pi = scores[max_idx]\n",
    "print(scores[max_idx])"
   ]
  },
  {
   "cell_type": "markdown",
   "id": "3afe0fe8",
   "metadata": {},
   "source": [
    "# 2 Missing Data with Data Sampling"
   ]
  },
  {
   "cell_type": "markdown",
   "id": "c2d2bec7",
   "metadata": {},
   "source": [
    "1) Initialize $\\mathbf{z}, \\boldsymbol{\\mu}, \\boldsymbol{\\Sigma}, \\boldsymbol{\\pi}$\n",
    "2) For $t=0,...,T$\n",
    "$$\\begin{align}\n",
    "    \\text{Sample } \\boldsymbol{\\pi}^{(t)} &\\sim p(\\boldsymbol{pi} | \\mathbf{z}^{(t-1)}) = \\mathrm{Dirichlet}(\\boldsymbol{\\alpha}_N^{(t-1)}),\\\\\n",
    "    &\\boldsymbol{\\alpha}_N^{(t-1)} = \\left[\\alpha_0^1 + n_1,\\, \\alpha_0^2 + n_2,\\, \\dots,\\, \\alpha_0^K + n_K \\right],\n",
    "        \\quad \\text{where} \\quad\n",
    "        n_k^{(t-1)} = \\sum_{i=1}^N \\mathbb{1}(z_i^{(t-1)} = k) \\\\\\\\\n",
    "\n",
    "    \\text{Sample } \\boldsymbol{\\Sigma}^{(t)}, &\\boldsymbol{\\mu}^{(t)} \\sim p(\\boldsymbol{\\Sigma},\\boldsymbol{\\mu}|\\mathbf{z}^{(t-1)}, \\mathbf{X})\\\\\n",
    "     &= \\prod_k^K \\mathrm{NIW}(\\mu,\\Sigma | \\mathbf{m}_N, \\kappa_N, \\nu_N, \\mathbf{S}_N) =  \\prod_k^K \\mathrm{N}(\\mu|\\mathbf{m}_N, \\frac{1}{\\kappa_N}\\Sigma) \\times \\mathrm{IW}(\\Sigma | \\mathbf{S}_N, \\nu_N),\\\\\n",
    "        &\\qquad\\qquad \\mathbf{m}_{N_k} = \\frac{\\kappa_{0_k}m_{0_k} + N_k\\bar{\\mathbf{x}}_k}{\\kappa_{0_k} + N_k}\\\\\n",
    "        &\\qquad\\qquad \\kappa_{N_k} = \\kappa_{0} + N_k\\\\\n",
    "        &\\qquad\\qquad \\nu_{N_k} = \\nu_{0} + N_k\\\\\n",
    "        &\\qquad\\qquad \\mathbf{S}_{N_k} = \\mathbf{S}_{0_k} + \\mathbf{S}_{\\bar{\\mathbf{x}}_k} + \\frac{\\kappa_{0_k}N_k}{\\kappa_{0_k} + N_k}(\\bar{\\mathbf{x}}_k - m_{0_k})(\\bar{\\mathbf{x}}_k - m_{0_k})^T\\\\\\\\\n",
    "\n",
    "    \\text{Sample } \\mathbf{X} \\sim  p(&\\mathbf{\\mathbf{X}|\\boldsymbol{z}^{(t-1)},\\boldsymbol{\\Sigma}^{(t)}, \\boldsymbol{\\mu}^{(t)}})\\\\\n",
    "        \\text{For } i &\\in {1,..,N}\\\\\n",
    "             &\\text{Sample } \\mathbf{x}_{i,H} \\sim p(\\mathbf{x}_{i,H}|\\mathbf{x}_{i,O}, \\mathbf{z}_i = k, \\boldsymbol{\\mu}_k^{(t)}, \\boldsymbol{\\Sigma}_k^{(t)}) = \\mathcal{N}(\\mathbf{m}_i,V_i),\\quad \\text{where} \\\\\n",
    "                &\\qquad \\mathbf{m}_i = \\boldsymbol{\\mu}_H + \\boldsymbol{\\Sigma}_{H,O}\\boldsymbol{\\Sigma}_{O,O}^{-1}(\\mathbf{x}_{i,O} - \\boldsymbol{\\mu}_O)\\\\\n",
    "                &\\qquad V_i = \\boldsymbol{\\Sigma}_{H,H} - \\boldsymbol{\\Sigma}_{H,O}\\boldsymbol{\\Sigma}_{O,O}^{-1}\\boldsymbol{\\Sigma}_{O,H}\\\\\\\\\n",
    "\n",
    "    \\text{Sample } \\mathbf{z}^{(t)} \\sim &P(\\mathbf{z}|\\mathbf{X},\\boldsymbol{\\pi}^{(t)}, \\boldsymbol{\\theta}^{(t)})\\\\\n",
    "\n",
    "        \\text{For } i &\\in {1,..,N}\\\\\n",
    "            &\\text{Sample } z_i^{(t)} \\sim \\text{Categorical}(p_1^{(i)},...,p_K^{(i)}) \\quad \\text{where,}\\\\\n",
    "                &\\qquad p_k^{(i)} \\propto \\pi_k^{(t)} \\mathcal{N}(\\mathbf{x}_i|\\boldsymbol{\\mu}_k^{(t)},\\boldsymbol{\\Sigma}_k^{(t)})\\\\\\\\\n",
    "\\end{align}$$"
   ]
  },
  {
   "cell_type": "markdown",
   "id": "ed50235e",
   "metadata": {},
   "source": [
    "Missing Data Conditional Sampling \n",
    "\n",
    "$$\\begin{align}\n",
    "    \\mathbf{x}_{i,H} | \\mathbf{x}_{i,O}& \\sim \\mathcal{N}(\\mathbf{m}_i, V_i)\\\\\\\\\n",
    "        \\mathbf{m}_i &= \\boldsymbol{\\mu}_H + \\boldsymbol{\\Sigma}_{H,O}\\boldsymbol{\\Sigma}_{O,O}^{-1}(\\mathbf{x}_{i,O} - \\boldsymbol{\\mu}_O)\\\\\\\\\n",
    "        V_i &= \\boldsymbol{\\Sigma}_{H,H} - \\boldsymbol{\\Sigma}_{H,O}\\boldsymbol{\\Sigma}_{O,O}^{-1}\\boldsymbol{\\Sigma}_{O,H}\n",
    "\n",
    "\\end{align}$$"
   ]
  },
  {
   "cell_type": "code",
   "execution_count": 38,
   "id": "bc479893",
   "metadata": {},
   "outputs": [
    {
     "name": "stdout",
     "output_type": "stream",
     "text": [
      "(array([[0],\n",
      "       [1]]), array([[2, 3]]))\n",
      "[[3 4]\n",
      " [7 8]]\n"
     ]
    }
   ],
   "source": [
    "test = np.array([[1,2,3,4],[5,6,7,8],[5,6,7,8],[5,6,7,8]])\n",
    "\n",
    "obs = np.array([0,1])\n",
    "miss = np.array([2,3])\n",
    "print(np.ix_(obs,miss))\n",
    "print(test[np.ix_(obs,miss)])"
   ]
  },
  {
   "cell_type": "code",
   "execution_count": 113,
   "id": "9a83d7cf",
   "metadata": {},
   "outputs": [],
   "source": [
    "# With conditioning on observed pixels \n",
    "def sampleXsConditional(X, zs, μs, Σs, missing_mask, K=10):\n",
    "    N, D = X.shape\n",
    "    X_sample = X.copy()\n",
    "\n",
    "    for i in range(N):\n",
    "        k = zs[i].astype(int)\n",
    "        μ = μs[k]\n",
    "        Σ = Σs[k]\n",
    "\n",
    "        miss_mask = missing_mask[i]\n",
    "        obs_mask = ~miss_mask\n",
    "\n",
    "        μ_h = μ[miss_mask]\n",
    "        μ_o = μ[obs_mask]\n",
    "        Σ_oh = Σ[obs_mask][:, miss_mask]\n",
    "        Σ_ho = Σ[miss_mask][:, obs_mask]\n",
    "        Σ_oo = Σ[obs_mask][:, obs_mask]\n",
    "        Σ_hh = Σ[miss_mask][:, miss_mask]\n",
    "\n",
    "        m_i = μ_h + Σ_ho @ np.linalg.inv(Σ_oo) @ (X[i,obs_mask] - μ_o)\n",
    "        V_i = Σ_hh - Σ_ho @ np.linalg.inv(Σ_oo) @ Σ_oh\n",
    "\n",
    "        X_sample[i,miss_mask] = np.random.multivariate_normal(m_i,V_i)\n",
    "\n",
    "    return X_sample\n"
   ]
  },
  {
   "cell_type": "code",
   "execution_count": 114,
   "id": "483166e5",
   "metadata": {},
   "outputs": [],
   "source": [
    "# With conditional independence assumption (unconditioned on observed features)\n",
    "def sampleXsIID(X, zs, μs, Σs, missing_mask, K=10):\n",
    "    N, D = X.shape\n",
    "    X_sample = X.copy()\n",
    "\n",
    "    for i in range(N):\n",
    "        k = zs[i].astype(int)\n",
    "        μ = μs[k]\n",
    "        Σ = Σs[k]\n",
    "        sample =  rng.multivariate_normal(μ,Σ)\n",
    "        X_sample[i, missing_mask[i]]  =sample[missing_mask[i]]\n",
    "\n",
    "    return X_sample\n"
   ]
  },
  {
   "cell_type": "code",
   "execution_count": 26,
   "id": "0e129f15",
   "metadata": {},
   "outputs": [],
   "source": [
    "def mean_impute(X,missing_mask):\n",
    "    X_0 = X.copy()\n",
    "    means = np.nanmean(np.where(missing_mask, np.nan, X), axis=0)\n",
    "    X_0[missing_mask] = np.take(means, np.where(missing_mask)[1])\n",
    "    return X_0"
   ]
  },
  {
   "cell_type": "code",
   "execution_count": 132,
   "id": "9c21dd84",
   "metadata": {},
   "outputs": [],
   "source": [
    "def gibbs_missing(X, num_iter, num_burn, iid=False, K=10, rng=np.random.default_rng(random_seed), eps=1e-20) :\n",
    "    N,D = X.shape\n",
    "\n",
    "    missing_mask = np.isnan(X)\n",
    "\n",
    "    πs = np.zeros((num_iter + num_burn, K))\n",
    "    zs = np.zeros((num_iter + num_burn, N))\n",
    "    Σs = np.zeros((num_iter + num_burn,K,D,D))\n",
    "    μs = np.zeros((num_iter + num_burn, K, D))\n",
    "    xs = np.zeros((num_iter + num_burn, N, D))\n",
    "\n",
    "    # Intialize\n",
    "    α_0 = np.full(K, 1 / K)  # Dirichlet\n",
    "    k_0 = 0.01         # Prior confidence in μ_0\n",
    "    μ_0 = np.zeros(D)  # Prior mean vector \n",
    "    ν_0 = D + 1        # DOF for inverse wishart\n",
    "    S_0 = np.eye(D)# prior scatter matrix\n",
    "\n",
    "    πs[0] = rng.dirichlet(α_0)\n",
    "    zs[0] = np.random.randint(0,K,size=N)\n",
    "    xs[0] = mean_impute(X,missing_mask)\n",
    "    Σs[0],μs[0] = sample_NIW(xs[0],zs[0],μ_0,S_0,k_0,ν_0,K)\n",
    "\n",
    "    for t in range(1,num_iter+num_burn):\n",
    "        πs[t] = sample_π(zs[t-1], α_0, K)\n",
    "\n",
    "        if (iid) : \n",
    "            xs[t] = sampleXsIID(X,zs[t-1],μs[t-1],Σs[t-1],missing_mask,K)\n",
    "        else :\n",
    "            xs[t] = sampleXsConditional(X,zs[t-1],μs[t-1],Σs[t-1],missing_mask,K)\n",
    "\n",
    "        Σs[t],μs[t] = sample_NIW(xs[t-1],zs[t-1],μ_0,S_0,k_0,ν_0,K)\n",
    "\n",
    "        zs[t] = sampleZs(gaussian_likelihood(xs[t],μs[t],Σs[t],πs[t],K=10))\n",
    "\n",
    "    return zs[num_burn:], Σs[num_burn:], μs[num_burn:], πs[num_burn:]"
   ]
  },
  {
   "cell_type": "markdown",
   "id": "c8c86080",
   "metadata": {},
   "source": [
    "lagging the sample of X behind (using previous iteration's samples for sampling $\\mu, \\sigma, z$ produces more stable traceplot and overall higher adjusted rand)"
   ]
  },
  {
   "cell_type": "code",
   "execution_count": 54,
   "id": "e8fbe729",
   "metadata": {},
   "outputs": [],
   "source": [
    "\n",
    "X_cover1 = np.empty_like(X_train, dtype='f')\n",
    "X_cover1[:] = X_train\n",
    "for i in range(0,len(X_cover1)):\n",
    "    indices = random.sample(range(0,X.shape[1]), X.shape[1]//2)\n",
    "    X_cover1[i][indices] = np.nan"
   ]
  },
  {
   "cell_type": "code",
   "execution_count": 133,
   "id": "995a8fbb",
   "metadata": {},
   "outputs": [],
   "source": [
    "zs,Σs,μs,πs= gibbs_missing(X_cover1, 100, 25, iid=False,K=10)"
   ]
  },
  {
   "cell_type": "code",
   "execution_count": 134,
   "id": "df917bd4",
   "metadata": {},
   "outputs": [
    {
     "data": {
      "image/png": "[encoded data removed]",
      "text/plain": [
       "<Figure size 640x480 with 1 Axes>"
      ]
     },
     "metadata": {},
     "output_type": "display_data"
    }
   ],
   "source": [
    "scores = [metrics.adjusted_rand_score(y_train, zs[i]) for i in range(0,len(zs))]\n",
    "plt.plot(scores)\n",
    "plt.title(\"Traceplot of zs\")\n",
    "plt.show()"
   ]
  },
  {
   "cell_type": "code",
   "execution_count": 118,
   "id": "287a3a93",
   "metadata": {},
   "outputs": [],
   "source": [
    "zs,Σs,μs,πs= gibbs_missing(X_cover1, 100, 25, iid=True,K=10)"
   ]
  },
  {
   "cell_type": "code",
   "execution_count": 119,
   "id": "5d802df2",
   "metadata": {},
   "outputs": [
    {
     "data": {
      "image/png": "[encoded data removed]",
      "text/plain": [
       "<Figure size 640x480 with 1 Axes>"
      ]
     },
     "metadata": {},
     "output_type": "display_data"
    }
   ],
   "source": [
    "scores = [metrics.adjusted_rand_score(y_train, zs[i]) for i in range(0,len(zs))]\n",
    "plt.plot(scores)\n",
    "plt.title(\"Traceplot of zs\")\n",
    "plt.show()"
   ]
  },
  {
   "cell_type": "code",
   "execution_count": null,
   "id": "1e004043",
   "metadata": {},
   "outputs": [],
   "source": []
  }
 ],
 "metadata": {
  "kernelspec": {
   "display_name": "myenv",
   "language": "python",
   "name": "python3"
  },
  "language_info": {
   "codemirror_mode": {
    "name": "ipython",
    "version": 3
   },
   "file_extension": ".py",
   "mimetype": "text/x-python",
   "name": "python",
   "nbconvert_exporter": "python",
   "pygments_lexer": "ipython3",
   "version": "3.9.21"
  }
 },
 "nbformat": 4,
 "nbformat_minor": 5
}
