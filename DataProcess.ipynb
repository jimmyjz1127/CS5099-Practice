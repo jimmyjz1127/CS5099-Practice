{
 "cells": [
  {
   "cell_type": "code",
   "execution_count": null,
   "id": "ed6a785e",
   "metadata": {},
   "outputs": [],
   "source": [
    "import re\n",
    "import pandas as pd"
   ]
  },
  {
   "cell_type": "code",
   "execution_count": null,
   "id": "77e34ea8",
   "metadata": {},
   "outputs": [],
   "source": [
    "import re\n",
    "\n",
    "# Read the file line by line and split using regex\n",
    "with open('./../votematrix-2024.dat.txt', 'r', encoding='utf-8') as f:\n",
    "    lines = f.readlines()\n",
    "\n",
    "# Tokenize each line using regex to split on 2+ spaces or tabs\n",
    "parsed_data = [re.split(r'\\s{2,}|\\t+', line.strip()) for line in lines]\n",
    "\n",
    "# First row is the header\n",
    "header = parsed_data[0]\n",
    "data = parsed_data[1:]\n",
    "\n",
    "# Create a DataFrame\n",
    "df = pd.DataFrame(data, columns=header)"
   ]
  },
  {
   "cell_type": "code",
   "execution_count": null,
   "id": "16f424f4",
   "metadata": {},
   "outputs": [],
   "source": [
    "df.to_csv('./../votematrix-2024-processed.csv')"
   ]
  }
 ],
 "metadata": {
  "language_info": {
   "name": "python"
  }
 },
 "nbformat": 4,
 "nbformat_minor": 5
}
