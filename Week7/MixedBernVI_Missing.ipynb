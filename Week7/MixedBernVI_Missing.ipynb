{
 "cells": [
  {
   "cell_type": "code",
   "execution_count": 43,
   "id": "d8b23011",
   "metadata": {},
   "outputs": [],
   "source": [
    "%matplotlib inline\n",
    "# %matplotlib notebook\n",
    "%config Completer.use_jedi = False\n",
    "import matplotlib.pyplot as plt\n",
    "import numpy as np\n",
    "import pandas as pd\n",
    "\n",
    "\n",
    "from scipy.special import logsumexp\n",
    "from scipy.special import softmax\n",
    "from scipy.special import betaln\n",
    "from scipy.special import beta\n",
    "\n",
    "from scipy.stats import multivariate_normal \n",
    "from scipy.stats import invwishart \n",
    "\n",
    "from sklearn import metrics\n",
    "from scipy.special import psi, gammaln\n",
    "from scipy.special import digamma,expit\n"
   ]
  },
  {
   "cell_type": "code",
   "execution_count": 44,
   "id": "075c0a68",
   "metadata": {},
   "outputs": [],
   "source": [
    "random_seed = 123\n",
    "rng = np.random.default_rng(random_seed)"
   ]
  },
  {
   "cell_type": "markdown",
   "id": "aa427ed9",
   "metadata": {},
   "source": [
    "# 1 Derivation"
   ]
  },
  {
   "cell_type": "markdown",
   "id": "67f0ea62",
   "metadata": {},
   "source": [
    "## Mean Field \n",
    "\n",
    "Mean Field (Structured) Independence Simplifying Assumption\n",
    "$$\\begin{align}\n",
    "    q(\\boldsymbol{\\pi},\\boldsymbol{\\phi},\\mathbf{z},\\mathbf{X}_H)& = \n",
    "        \\underbrace{q(\\boldsymbol{\\pi})}_{\\text{Dirichlet}}\\quad\n",
    "        \\underbrace{q(\\boldsymbol{\\phi})}_{\\text{Beta}}\\quad\n",
    "        \\underbrace{q(\\mathbf{z})}_{\\text{Cat}}\\quad\n",
    "        \\underbrace{q(\\mathbf{X}_H)}_{\\text{Bernoulli}}\\\\\n",
    "\n",
    "        &=  q(\\mathbf{z}, \\mathbf{X}_H) \\cdot\n",
    "            \\prod_K^K q(\\boldsymbol{\\pi}_k) q(\\boldsymbol{\\phi}_k)\n",
    "\\end{align}$$\n",
    "\n",
    "Update Steps \n",
    "\n",
    "$$\\begin{align}\n",
    "    &\\ln q(\\boldsymbol{\\phi},\\boldsymbol{\\pi}) = \\Big\\langle \\ln p(\\mathbf{z},\\boldsymbol{\\phi},\\mathbf{X}_H,\\mathbf{X}_O) \\Big\\rangle_{q(\\mathbf{z},\\mathbf{X}_H)}  + \\text{const}\\\\\\\\\n",
    "    \n",
    "    &\\ln q(\\mathbf{z},\\mathbf{X}_H) = \\Big\\langle \\ln p(\\mathbf{z},\\boldsymbol{\\phi},\\mathbf{X}_H,\\mathbf{X}_O) \\Big\\rangle_{q(\\boldsymbol{\\phi},\\boldsymbol{\\pi})} + \\text{const}\n",
    "\\end{align}$$\n",
    "\n",
    "Posterior\n",
    "$$\n",
    "    p(\\mathbf{X}_O,\\mathbf{X}_H,\\boldsymbol{\\phi},\\mathbf{z},\\boldsymbol{\\pi}) \\propto p(\\mathbf{X}_O,\\mathbf{X}_H|\\boldsymbol{\\phi},\\mathbf{z})p(\\boldsymbol{\\phi})p(\\mathbf{z}|\\boldsymbol{\\pi})p(\\boldsymbol{\\pi})\n",
    "$$"
   ]
  },
  {
   "cell_type": "markdown",
   "id": "bddb4a3a",
   "metadata": {},
   "source": [
    "## Update for model parameters $p(\\mu,\\pi)$\n",
    "\n",
    "$$\\begin{align}\n",
    "    \\ln q(\\boldsymbol{\\phi},\\boldsymbol{\\pi}) &= \\Big\\langle \\ln p(\\mathbf{z},\\boldsymbol{\\phi},\\mathbf{X}_H,\\mathbf{X}_O) \\Big\\rangle_{q(\\mathbf{z})} + \\text{const}\\\\\\\\\n",
    "\n",
    "    &= \\Big\\langle \\ln p(\\mathbf{X}_O,\\mathbf{X}_H|\\boldsymbol{\\phi}, \\mathbf{z}) \\Big\\rangle_{q(\\mathbf{z})} + \n",
    "       \\Big\\langle \\ln p(\\boldsymbol{\\phi}) \\Big\\rangle_{q(\\mathbf{z})} + \n",
    "        \\Big\\langle \\ln p(\\mathbf{z}|\\boldsymbol{\\pi})p(\\boldsymbol{\\pi}) \\Big\\rangle_{q(\\mathbf{z})} +\n",
    "       \\text{const}\\\\\\\\\n",
    "\n",
    "    &=  \\underbrace{\\Big\\langle \\ln p(\\mathbf{X}_O,\\mathbf{X}_H|\\boldsymbol{\\phi}, \\mathbf{z}) \\Big\\rangle_{q(\\mathbf{z})} + \n",
    "        \\ln p(\\boldsymbol{\\phi})}_{\\text{Terms containing $\\boldsymbol{\\phi}$}} + \n",
    "       \\underbrace{\n",
    "            \\Big\\langle \\ln p(\\mathbf{z}|\\boldsymbol{\\pi}) \\Big\\rangle_{q(\\mathbf{z})} + \n",
    "            \\ln p(\\boldsymbol{\\pi}) \n",
    "       }_{\\text{\\text{Terms containing $\\boldsymbol{\\pi}$}}} +\n",
    "       \\text{const}\\\\\\\\\n",
    "\\end{align}$$"
   ]
  },
  {
   "cell_type": "markdown",
   "id": "7bff668e",
   "metadata": {},
   "source": [
    "#### Update Step for $q(\\boldsymbol{\\pi})$\n",
    "\n",
    "$$\\begin{align}\n",
    "    \\ln q(\\boldsymbol{\\pi}) &= \\ln p(\\boldsymbol{\\pi}) + \\Big\\langle \\ln p(\\mathbf{z}|\\boldsymbol{\\pi}) \\Big\\rangle_{q(\\mathbf{z})} + \\text{const} \\\\\n",
    "\n",
    "    &= \\ln \\text{Dir}(\\boldsymbol{\\pi}|\\boldsymbol{\\alpha}_0) + \\Big\\langle \\sum_n^N \\ln p(z_n|\\boldsymbol{\\pi}) \\Big\\rangle_{q(\\mathbf{z})} + \\text{const} \\\\\n",
    "\n",
    "    &= \\ln \\Big[ \\frac{1}{B(\\alpha_0)}\\prod_k^K \\pi_k^{\\alpha_0 - 1} \\Big] + \\Big\\langle \\sum_n^N \\sum_k^K \\ln \\pi_{k}^{z_{nk}} \\Big\\rangle_{q(\\mathbf{z})} + \\text{const} \\\\\n",
    "       \n",
    "    &= \\underbrace{-\\ln B(\\alpha_0)}_{\\text{Independent of $\\pi$}} + \\sum_k^K \\ln \\pi_k^{\\alpha_0 - 1} +\n",
    "       \\Big\\langle \\sum_k^K \\sum_n^N z_{nk}\\ln \\pi_{k} \\Big\\rangle_{q(\\mathbf{z})} + \\text{const} \\\\\n",
    "\n",
    "    &=   \\sum_k^K (\\alpha_0 - 1) \\ln \\pi_k + \\sum_k^K \\sum_n^N \\Big\\langle z_{nk} \\Big\\rangle_{q(\\mathbf{z})} \\ln \\pi_{k} + \\text{const}, \\quad -\\ln B(\\alpha_0) \\text{ absorbed into const}\\\\\n",
    "\n",
    "    &= \\sum_k^K (\\alpha_0 - 1) \\ln \\pi_k + \\sum_k^K \\sum_n^N r_{nk} \\ln \\pi_{k} + \\text{const}\\\\\n",
    "\n",
    "    &= \\sum_k^K \\Big[ (\\alpha_0 - 1) \\ln \\pi_k + \\ln \\pi_{k} \\sum_n^N r_{nk} \\Big] + \\text{const}\\\\\n",
    "\n",
    "    &= \\sum_k^K \\Big[ (\\alpha_0 + N_k -1) \\ln \\pi_k  \\Big] + \\text{const}, \\quad \\text{where } N_k = \\sum_n^N r_{nk} \\\\\n",
    "\n",
    "    \\implies & \\boxed{q(\\boldsymbol{\\pi}) = \\prod_k^K \\pi_k^{\\alpha_0 + N_k - 1} + \\text{const} = \\text{Dir}(\\boldsymbol{\\pi}|\\boldsymbol{\\alpha}_0 + N), \\quad \\text{where } N = [N_0,...,N_K]}\\\\\n",
    "\\end{align}$$"
   ]
  },
  {
   "cell_type": "markdown",
   "id": "bd914ba5",
   "metadata": {},
   "source": [
    "#### Update step for $q(\\boldsymbol{\\phi})$\n",
    "\n",
    "$$\\begin{align}\n",
    "    \\ln q(\\boldsymbol{\\phi}) &= \\Big\\langle \\ln p(\\mathbf{X}_H,\\mathbf{X}_O|\\boldsymbol{\\phi}, \\mathbf{z}) \\Big\\rangle_{q(\\mathbf{z},\\mathbf{X}_H)} + \\ln p(\\boldsymbol{\\phi}) + \\text{const}\\\\\\\\\n",
    "\n",
    "    &= \\sum_k^K \\ln p(\\boldsymbol{\\phi}_k) + \\Big\\langle \\sum_n^N \\sum_k^K \\ln p(\\mathbf{x}^n_{O},\\mathbf{x}^n_{H}|\\boldsymbol{\\phi}_k)^{z_{nk}} \\Big\\rangle_{q(\\mathbf{z},\\mathbf{X}_H)}  + \\text{const}\\\\\\\\\n",
    "\n",
    "    &= \\sum_k^K \\ln p(\\boldsymbol{\\phi}_k) + \\Big\\langle \\sum_n^N \\sum_k^K z_{nk} \\cdot \\ln p(\\mathbf{x}^n_{O},\\mathbf{x}^n_{H}|\\boldsymbol{\\phi}_k) \\Big\\rangle_{q(\\mathbf{z},\\mathbf{X}_H)}  + \\text{const}\\\\\\\\\n",
    "\n",
    "    &= \\sum_k^K \\Bigg[ \\ln p(\\boldsymbol{\\phi}_k) + \\sum_n^N \\Big\\langle z_{nk} \\cdot \\ln p(\\mathbf{x}^n_{O},\\mathbf{x}^n_{H}|\\boldsymbol{\\phi}_k) \\Big\\rangle_{q(\\mathbf{z},\\mathbf{X}_H)}   \\Bigg]+ \\text{const}\\\\\\\\ \n",
    "\n",
    "    \\implies & \\ln q(\\boldsymbol{\\phi}) = \\sum_k^K \\ln q(\\boldsymbol{\\phi}_k)\n",
    "\\end{align}$$\n",
    "\n",
    "Hence with $\\boldsymbol{\\phi} = \\{\\boldsymbol{\\mu}\\}$,\n",
    "$$\\begin{align}\n",
    "    \\ln q(\\boldsymbol{\\mu}_k) &= \\ln p(\\boldsymbol{\\mu}_k) + \\sum_n^N \\Big\\langle z_{nk} \\cdot \\ln p(\\mathbf{x}^n_{O},\\mathbf{x}^n_{H}|\\boldsymbol{\\mu}_k) \\Big\\rangle_{q(z_n,\\mathbf{x}^n_H)} + \\text{const}\\\\\\\\\n",
    "\n",
    "    &= \\ln p(\\boldsymbol{\\mu}_k) + \\sum_n^N \\Big\\langle z_{nk} \\Big\\rangle_{q_(z_n)} \\cdot  \\Big\\langle \\ln p(\\mathbf{x}^n_{O},\\mathbf{x}^n_{H}|\\boldsymbol{\\mu}_k) \\Big\\rangle_{q(\\mathbf{x}^n_H | z_n)} + \\text{const}\\\\\\\\\n",
    "\n",
    "    &= \\ln p(\\boldsymbol{\\mu}_k) +  \\sum_n^N r_{nk} \\cdot   \\Big\\langle \\ln p(\\mathbf{x}^n_{O},\\mathbf{x}^n_{H}|\\boldsymbol{\\mu}_k) \\Big\\rangle_{q(\\mathbf{x}^n_H | z_n)} + \\text{const}\\\\\\\\\n",
    "\n",
    "    &= \\ln \\mathcal{Beta}(\\boldsymbol{\\mu}_k | \\mathbf{a}_{0},\\mathbf{b}_{0}) + \n",
    "        \\sum_n^N r_{nk} \\cdot \\Big\\langle \\ln \\mathcal{Bern}(\\mathbf{x}^n_{O},\\mathbf{x}^n_{H}|\\boldsymbol{\\mu}_k) \\Big\\rangle_{q(\\mathbf{x}^n_H | z_n)} + \\text{const}\\\\\\\\\n",
    "\n",
    "    &= \\sum_d^D \\ln\\mathcal{Beta}(\\mu_{k,d}|a_{0,d}, b_{0,d}) + \n",
    "         \\sum_n^N r_{nk} \\cdot \\Big\\langle \\ln \\mathcal{Bern}(\\mathbf{x}^{n}_{O},\\mathbf{x}^{n}_{H}|\\mu_{k}) \\Big\\rangle_{q(\\mathbf{x}^n_H | z_n)} + \\text{const}\\\\\\\\\n",
    "\n",
    "\n",
    "    &=  \\sum_d^D (a_{0,d} - 1)\\ln\\mu_{k,d} + (b_{0,d} - 1)\\ln(1 - \\mu_{k,d}) + \n",
    "        \\sum_n^N r_{nk} \\cdot \\Big\\langle \n",
    "            [x^{n}_O, x^{n}_H] \\ln\\mu_{k} + (1 - [x^{n}_O, x^{n}_H])\\ln(1 - \\mu_{k}) \n",
    "        \\Big\\rangle_{q(\\mathbf{x}^n_H | z_n)} \n",
    "        + \\text{const}\\\\\\\\\n",
    "\n",
    "    &= \\sum_d^D (a_{0,d} - 1)\\ln\\mu_{k,d} + (b_{0,d} - 1)\\ln(1 - \\mu_{k,d}) + \n",
    "       \\sum_d^D \\sum_n^N r_{nk} \\cdot \\Big\\langle \n",
    "            x_d^n \\ln\\mu_{k,d} + (1 - x_d^n)\\ln(1 - \\mu_{k,d}) \n",
    "        \\Big\\rangle_{q(\\mathbf{x}^n_H | z_n)} + \\text{const}\\\\\\\\\n",
    "\n",
    "    &= \\sum_d^D (a_{0,d} - 1)\\ln\\mu_{k,d} + (b_{0,d} - 1)\\ln(1 - \\mu_{k,d}) + \n",
    "       \\sum_d^D \\sum_n^N r_{nk} \\cdot \\Big[\n",
    "            \\big\\langle x_d^n \\big\\rangle_{k}\\ln\\mu_{k,d} + \n",
    "            (1 - \\big\\langle x_d^n \\big\\rangle_{k})\\ln(1 - \\mu_{k,d})\n",
    "       ] + \\text{const}\\\\\\\\\n",
    "    \n",
    "    \\implies \\ln q(\\mu_{k,d}) &= (a_{0,d} - 1)\\ln\\mu_{k,d} + (b_{0,d} - 1)\\ln(1 - \\mu_{k,d}) + \n",
    "                \\sum_n^N r_{nk} \\big\\langle x_d^n \\big\\rangle_{k} \\ln\\mu_{k,d} + \n",
    "                \\sum_n^N r_{nk} (1 - \\big\\langle x_d^n \\big\\rangle_{k})\\ln(1 - \\mu_{k})\n",
    "            + \\text{const}\\\\\\\\\n",
    "\n",
    "    &= \\Big(a_{0,d} + \\sum_n^N r_{nk} \\big\\langle x_d^n \\big\\rangle_{k}\\ln\\mu_{k,d} - 1\\Big)\\ln\\mu_{k,d} + \n",
    "        \\Big(b_{0,d} +  \\sum_n^N r_{nk} (1 - \\big\\langle x_d^n \\big\\rangle_{k}) - 1\\Big)\\ln(1 - \\mu_{k,d}) + \\text{const}\n",
    "\\end{align}$$\n",
    "This is Beta form. Hence \n",
    "$$\\begin{align}\n",
    "    q(\\mu_{k,d}) &= \\mathcal{Beta}(\\mu_{k,d}|a_{k,d}, b_{k,d})\\\\\n",
    "        &a_{k,d} = a_{0,d} + \\sum_n^N r_{nk} \\big\\langle x_d^n \\big\\rangle_{k}\\\\\n",
    "        &b_{k,d} = b_{0,d} + \\sum_n^N r_{nk} (1 - \\big\\langle x_d^n \\big\\rangle_{k})\n",
    "\\end{align}$$\n",
    "Where for $d \\in H$ \n",
    "$$\n",
    "    \\langle x_{d} \\rangle_{q(\\mathbf{x}^n_H | z_n=k)} = \\frac{\\exp \\Big({\\langle \\ln \\mu_{k,d}\\rangle}\\Big)}{\\exp \\Big({\\langle \\ln \\mu_{k,d} \\rangle}\\Big) + \\exp \\Big({\\langle \\ln(1 - \\mu_{k,d}) \\rangle} \\Big)} =\n",
    "    \\frac{\\exp \\Big({\\psi(a_{k,d}) - \\psi(a_{k,d} + b_{k,d})} \\Big )}{\\exp\\Big({\\psi(a_{k,d}) - \\psi(a_{k,d} + b_{k,d})}\\Big) + \\exp\\Big({\\psi(b_{k,d}) - \\psi(a_{k,d} + b_{k,d})}\\Big)}\n",
    "$$"
   ]
  },
  {
   "cell_type": "markdown",
   "id": "bd41a909",
   "metadata": {},
   "source": [
    "#### Update step for $q(\\mathbf{z},\\mathbf{X}_H)$\n",
    "Noting that \n",
    "$$\n",
    "    q(\\mathbf{z},\\mathbf{X}_H) = \\underbrace{q(\\mathbf{z})}_{(1)}\\underbrace{q(\\mathbf{X}_H|\\mathbf{z})}_{(2)}\n",
    "$$\n",
    "\n",
    "We have\n",
    "$$\\begin{align}\n",
    "    (2) \\quad \\ln q(\\mathbf{X}_H|\\mathbf{z}) &= \\ln q(\\mathbf{X}_H,\\mathbf{z}) + \\text{const}\\\\\\\\\n",
    "\n",
    "    &= \\Big\\langle \\ln p(\\mathbf{X}_O,\\mathbf{X}_H,\\boldsymbol{\\mu},\\boldsymbol{\\pi}) \\Big\\rangle_{q(\\mu,\\pi)} + \\text{const}\\\\\\\\\n",
    "\n",
    "     &= \\Big\\langle \\ln p(\\mathbf{X}_O,\\mathbf{X}_H|\\boldsymbol{\\mu},\\mathbf{z}) \\Big\\rangle_{q(\\mu)} + \n",
    "       \\underbrace{ \\Big\\langle \\ln p(\\mathbf{z}|\\boldsymbol{\\pi}) \\Big\\rangle_{q(\\pi)} + \n",
    "        \\ln p(\\boldsymbol{\\mu}) + \\ln p(\\boldsymbol{\\pi})}_{\\text{Independent of }\\mathbf{X}_H} + \n",
    "    \\text{const}\\\\\\\\\n",
    "\n",
    "    &= \\Big\\langle \\ln p(\\mathbf{X}_O,\\mathbf{X}_H|\\boldsymbol{\\mu},\\mathbf{z}) \\Big\\rangle_{q(\\mu)} + \n",
    "        \\text{const}\\\\\\\\\n",
    "\n",
    "    &= \\Big\\langle \\sum_n^N \\sum_k^K z_{nk} \\cdot \\ln p(\\mathbf{x}^n_O,\\mathbf{x}^n_H|\\boldsymbol{\\mu}_k) \\Big\\rangle_{q(\\mu)} + \\text{const}\\\\\\\\\n",
    "\n",
    "    &= \\sum_n^N  \\Bigg\\langle \\sum_k^K z_{nk} \\ln p(\\mathbf{x}^n_O|\\boldsymbol{\\mu}_k) + z_{nk}\\ln p(\\mathbf{x}^n_{H}|\\mathbf{x}^n_{O},\\boldsymbol{\\mu}_k)\\Bigg\\rangle_{q(\\mu)} + \\text{const}\\\\\\\\\n",
    "\n",
    "    \\implies & \\ln q(\\mathbf{x}^n_H|z_n) = \\Bigg\\langle \\sum_k^K z_{nk} \\ln p(\\mathbf{x}^n_O|\\boldsymbol{\\mu}_k) + z_{nk}\\ln p(\\mathbf{x}^n_{H}|\\mathbf{x}^n_{O},\\boldsymbol{\\mu}_k)\\Bigg\\rangle_{q(\\mu)} + \\text{const}\\\\\\\\\n",
    "\n",
    "    &= \\underbrace{\\Bigg\\langle \\sum_k^K z_{nk} \\ln p(\\mathbf{x}^n_O|\\boldsymbol{\\mu}_k)\\Bigg\\rangle_{q(\\mu)}}_{\\text{Independent of }\\mathbf{x}^n_H} + \n",
    "        \\Bigg\\langle \\sum_k^K z_{nk}\\ln p(\\mathbf{x}^n_{H}|\\mathbf{x}^n_{O},\\boldsymbol{\\mu}_k)\\Bigg\\rangle_{q(\\mu)} + \\text{const}\\\\\\\\\n",
    "\n",
    "        &= \\sum_k^K \\Bigg\\langle  z_{nk}\\ln p(\\mathbf{x}^n_{H}|\\mathbf{x}^n_{O},\\boldsymbol{\\mu}_k)\\Bigg\\rangle_{q(\\mu)} + \\text{const}\\\\\\\\\n",
    "\n",
    "    \\implies \\ln q(\\mathbf{x}^n_H|z_n=k) &=  \\Bigg\\langle \\ln p(\\mathbf{x}^n_{H}|\\mathbf{x}^n_{O},\\boldsymbol{\\mu}_k)\\Bigg\\rangle_{q(\\mu)} + \\text{const}\\\\\\\\\n",
    "\n",
    "    &= \\Bigg\\langle \\ln\\mathcal{Bern}(\\mathbf{x}^n_{H}|\\mathbf{x}^n_{O},\\boldsymbol{\\mu}_k)\\Bigg\\rangle_{q(\\mu)} + \\text{const} =  \\Bigg\\langle \\ln \\mathcal{Bern}(\\mathbf{x}^n_{H}|\\boldsymbol{\\mu}_k)\\Bigg\\rangle_{q(\\mu)} + \\text{const}\n",
    "        ,\\qquad \\text{Since for Bernouilli } \\mathbf{x}_H \\perp \\mathbf{x}_O \\\\\\\\\n",
    "\n",
    "    &= \\Bigg\\langle \\sum_{d\\in H} x_d^n \\ln \\mu_{k,d} + (1 - x^n_d)\\ln(1 - \\mu_{k,d}) \\Bigg\\rangle_{q(\\mu)} + \\text{const}\\\\\\\\\n",
    "\n",
    "    &= \\sum_{d\\in H} \\Bigg[ x_d^n \\Big\\langle \\ln \\mu_{k,d} \\Big\\rangle_{q(\\mu)} + \n",
    "        (1 - x^n_d) \\Big\\langle \\ln (1-\\mu_{k,d})\\Big\\rangle_{q(\\mu)} \\Bigg] +\n",
    "        \\text{const}\\\\\\\\\n",
    "\n",
    "    \\implies  \\ln q(x_d^n | z_n =k) &= x_d^n \\Big\\langle \\ln \\mu_{k,d} \\Big\\rangle_{q(\\mu)} + \n",
    "        (1 - x^n_d) \\Big\\langle \\ln (1-\\mu_{k,d})\\Big\\rangle_{q(\\mu)}  + \\text{const}\\\\\\\\\n",
    "\n",
    "    &= x_d^n \\Big( \\psi(a_{k,d}) - \\psi(a_{k,d} + b_{k,d}) \\Big) + (1 - x_d^n)\\Big(  \\psi(b_{k,d}) - \\psi(a_{k,d} + b_{k,d}) \\Big)\n",
    "\n",
    "\\end{align}$$\n",
    "\n",
    "  \n",
    "And  \n",
    "$$\\begin{align}\n",
    "    (1) \\quad \\ln q(z_n) &= \\ln q(z_n, \\mathbf{x}^n_H) - \\ln q(\\mathbf{x}_H^n) + \\text{const}\\\\\\\\\n",
    "\n",
    "    &= \\Big\\langle \\sum_k^K z_{nk} \\ln \\boldsymbol{\\pi}_k + \\sum_k^K z_{nk} \\ln p(\\mathbf{x}_O^n,\\mathbf{x}_H^n|\\boldsymbol{\\mu}_k)  \\Big\\rangle_{q(\\mu,\\pi)} - \n",
    "        \\Big\\langle \\sum_k^K z_{nk} \\ln p(\\mathbf{x}^n_H|\\mathbf{x}^n_O,\\boldsymbol{\\mu}_k) \\Big\\rangle_{q(\\mu)} + \\text{const}\\\\\\\\\n",
    "\n",
    "    &= \\Bigg\\langle  \n",
    "            \\sum_k^K z_{nk}\\ln \\boldsymbol{\\pi}_k + \n",
    "            \\sum_k^K z_{nk} \\ln p(\\mathbf{x}^n_O|\\boldsymbol{\\mu}_k) + \n",
    "            \\sum_k^K z_{nk} \\ln p(\\mathbf{x}^n_H|\\mathbf{x}^n_O,\\boldsymbol{\\mu}_k) \n",
    "       \\Bigg\\rangle_{q(\\mu,\\pi)} -\n",
    "       \\Bigg\\langle \n",
    "            \\sum_k^K z_{nk} \\ln p(\\mathbf{x}^n_H|\\mathbf{x}^n_O,\\boldsymbol{\\mu}_k)\n",
    "       \\Bigg\\rangle_{q(\\mu)} + \\text{const}\\\\\\\\\n",
    "\n",
    "    &= \\Bigg\\langle  \n",
    "            \\sum_k^K z_{nk}\\ln \\boldsymbol{\\pi}_k + \n",
    "            \\sum_k^K z_{nk} \\ln p(\\mathbf{x}^n_O|\\boldsymbol{\\mu}_k) \n",
    "       \\Bigg\\rangle_{q(\\mu,\\pi)} + \\text{const}\\\\\\\\\n",
    "\n",
    "    &= \\sum_k^K \\Bigg[ \n",
    "        \\Big\\langle  z_{nk}\\ln \\boldsymbol{\\pi}_k \\Big\\rangle_{q(\\pi)} + \n",
    "        \\Big\\langle z_{nk} \\ln p(\\mathbf{x}^n_O|\\boldsymbol{\\mu}_k) \\Big\\rangle_{q(\\mu)}\n",
    "       \\Bigg] + \\text{const}\\\\\\\\\n",
    "\n",
    "    \\implies \\ln q(z_n=k) &= \\Big\\langle \\ln \\boldsymbol{\\pi}_k \\Big\\rangle_{q(\\pi)} + \\Big\\langle\\ln p(\\mathbf{x}^n_O|\\boldsymbol{\\mu}_k) \\Big\\rangle_{q(\\mu)} + \\text{const}\\\\\\\\\n",
    "\n",
    "    &= \\psi(\\alpha_k) - \\psi\\Big(\\sum_{k'}\\alpha_{k'}\\Big) + \\Big\\langle \\ln \\mathcal{Bern}(\\mathbf{x}^n_O|\\boldsymbol{\\mu}_k) \\Big\\rangle_{q(\\mu)} + \\text{const}\\\\\\\\\n",
    "\n",
    "    &= \\psi(\\alpha_k) - \\psi\\Big(\\sum_{k'}\\alpha_{k'}\\Big) +\n",
    "       \\Big\\langle \n",
    "             \\sum_{d \\in O} x_{d}^n \\ln (1-\\mu_{k,d}) + (1-x_{d}^n)\\ln(1-\\mu_{k,d})\n",
    "       \\Big\\rangle_{q(\\mu)} + \\text{const}\\\\\\\\\n",
    "\n",
    "    &= \\psi(\\alpha_k) - \\psi\\Big(\\sum_{k'}\\alpha_{k'}\\Big) +\n",
    "        \\sum_{d \\in O} x_{d}^n \\Big\\langle\\ln\\mu_{k,d}\\Big\\rangle + (1-x_{d}^n)\\Big\\langle\\ln(1-\\mu_{k,d})\\Big\\rangle\n",
    "        + \\text{const}\\\\\\\\\n",
    "\n",
    "    &= \\psi(\\alpha_k) - \\psi\\Big(\\sum_{k'}\\alpha_{k'}\\Big) +\n",
    "        \\sum_{d \\in O} \n",
    "            x_{d}^n \\Big(\\psi(a_{k,d}) - \\psi(a_{k,d} + b_{k,d})\\Big) + \n",
    "            (1-x_d^n)\\Big(\\psi(b_{k,d}) - \\psi(a_{k,d} + b_{k,d}\\Big)) + \n",
    "        \\text{const}\n",
    "\n",
    "\n",
    "\\end{align}$$"
   ]
  },
  {
   "cell_type": "markdown",
   "id": "aa885de7",
   "metadata": {},
   "source": [
    "$$\\begin{align}\n",
    "    \\text{ELBO} =\\quad& \\Big\\langle \\ln p(\\boldsymbol{\\pi},\\boldsymbol{\\mu},\\mathbf{z},\\mathbf{X}_O,\\mathbf{X}_H) \\Big\\rangle_{q} - \n",
    "                \\Big\\langle \\ln q(\\boldsymbol{\\pi},\\boldsymbol{\\mu},\\mathbf{z},\\mathbf{X}_H) \\Big\\rangle_{q}\\\\\\\\\n",
    "\n",
    "                =\\quad& \\Big\\langle \\ln p(\\boldsymbol{\\pi}) \\Big\\rangle - \\Big\\langle \\ln q(\\boldsymbol{\\pi}) \\Big\\rangle + \n",
    "                  \\Big\\langle \\ln p(\\boldsymbol{\\mu}) \\Big\\rangle - \\Big\\langle \\ln q(\\boldsymbol{\\mu}) \\Big\\rangle + \n",
    "                  \\Big\\langle \\ln p(\\mathbf{z}|\\boldsymbol{\\pi}) \\Big\\rangle - \\Big\\langle \\ln q(\\mathbf{z}) \\Big\\rangle + \n",
    "                  \\Big\\langle \\ln p(\\mathbf{X}_O, \\mathbf{X}_H|\\mathbf{z},\\boldsymbol{\\mu}) \\Big\\rangle - \\Big\\langle \\ln q(\\mathbf{X}_H|\\mathbf{z}) \\Big\\rangle\\\\\\\\\n",
    "\n",
    "\n",
    "                = \\quad& \n",
    "                    \\ln B(\\boldsymbol{\\alpha}) - \\ln B(\\boldsymbol{\\alpha}_0) + \\sum_k^K (\\alpha_{0,k} - \\alpha_k)(\\psi(\\alpha_k) - \\psi(\\sum_{k'}\\alpha_{k'}) ) \\quad + \\\\\n",
    "                    & \\sum_k^K \\sum_d^D \\Big[ \n",
    "                        (a_{0,d} - a_{k,d})(\\psi(a_{k,d}) - \\psi(a_{k,d} + b_{k,d})) +\n",
    "                        (b_{0,d} - b_{k,d})(\\psi(b_{k,d}) - \\psi(a_{k,d} + b_{k,d})) + \n",
    "                        \\ln B(a_{k,d},b_{k,d}) - \n",
    "                        \\ln B(a_{0,d},b_{0,d})\n",
    "                    \\Big] + \\\\\n",
    "                    & \\sum_n^N \\sum_k^K \\Bigg[ r_{nk} (\\psi(\\alpha_k) - \\psi(\\sum_{k'}\\alpha_{k'})) - r_{nk}\\ln r_{nk} \\Bigg] + \\\\\n",
    "                    & \\sum_n^N \\sum_k^K \\sum_d^D r_{nk} \\Bigg[ \n",
    "                        \\langle x_{d}^n \\rangle\\Big(\\psi(a_{k,d}) - \\psi(a_{k,d} + b_{k,d})\\Big)  + \n",
    "                        (1 - \\langle x_{d}^n \\rangle)\\Big(\\psi(b_{k,d}) - \\psi(a_{k,d} + b_{k,d})\\Big)\n",
    "                    \\Bigg] - \\\\\n",
    "                    & \\sum_n^N\\sum_k^K r_{nk} \\Big[ \\sum_d^D \\tau^n_{d,k} \\ln \\tau^n_{d,k}  + (1 - \\tau^n_{d,k})\\ln(1 - \\tau^n_{d,k})\\Big]\n",
    "                \n",
    "\\end{align}$$\n",
    "Where\n",
    "$$\n",
    "    \\langle x_{d}^n \\rangle = \\begin{cases} \n",
    "                                    \\tau^n_{d,k}, \\quad \\text{if } d \\in H\\\\\n",
    "                                    x_d^n, \\quad \\text{if } d \\in O\n",
    "                              \\end{cases}\n",
    "$$\n",
    "And\n",
    "$$\n",
    "    \\tau^n_{d,k} = \\frac{\\exp \\Big({\\psi(a_{k,d}) - \\psi(a_{k,d} + b_{k,d})} \\Big )}{\\exp\\Big({\\psi(a_{k,d}) - \\psi(a_{k,d} + b_{k,d})}\\Big) + \\exp\\Big({\\psi(b_{k,d}) - \\psi(a_{k,d} + b_{k,d})}\\Big)}\n",
    "$$"
   ]
  },
  {
   "cell_type": "markdown",
   "id": "adb979de",
   "metadata": {},
   "source": [
    "# 2 Implementation"
   ]
  },
  {
   "cell_type": "markdown",
   "id": "b82d85a3",
   "metadata": {},
   "source": [
    "$$\n",
    "    B(\\alpha) = \\frac{\\prod_k^K \\Gamma(\\alpha_k)}{\\Gamma(\\sum_k^K \\alpha_k)}\n",
    "$$"
   ]
  },
  {
   "cell_type": "code",
   "execution_count": 45,
   "id": "4340acbe",
   "metadata": {},
   "outputs": [
    {
     "data": {
      "text/plain": [
       "array([-0.57721566, -0.57721566, -0.57721566, -0.57721566, -0.57721566,\n",
       "       -0.57721566, -0.57721566, -0.57721566, -0.57721566, -0.57721566])"
      ]
     },
     "execution_count": 45,
     "metadata": {},
     "output_type": "execute_result"
    }
   ],
   "source": [
    "α_0 = np.full(10, 1, dtype=np.float64)\n",
    "psi(α_0)"
   ]
  },
  {
   "cell_type": "code",
   "execution_count": 82,
   "id": "65eda859",
   "metadata": {},
   "outputs": [],
   "source": [
    "def b_func(α):\n",
    "    return np.sum(gammaln(α), axis=0) - gammaln(α.sum())\n",
    "\n",
    "def log_B_beta(a, b):\n",
    "    \"\"\"elementwise log Beta(a,b); a,b shape (...).\"\"\"\n",
    "    return gammaln(a) + gammaln(b) - gammaln(a + b)"
   ]
  },
  {
   "cell_type": "code",
   "execution_count": 83,
   "id": "d0be60fe",
   "metadata": {},
   "outputs": [],
   "source": [
    "def kl_pi(α,α_0):\n",
    "    return b_func(α) - b_func(α_0) + np.sum((α_0 - α) * (psi(α) - psi(α.sum())))\n",
    "\n",
    "def kl_mu(a_0,b_0,a,b):\n",
    "    Elog_mu  = psi(a) - psi(a + b)\n",
    "    Elog_1mu = psi(b) - psi(a + b)\n",
    "    return (np.sum(log_B_beta(a, b) - log_B_beta(a_0, b_0)) +\n",
    "            np.sum((a_0 - a) * Elog_mu) +\n",
    "            np.sum((b_0 - b) * Elog_1mu))\n",
    "\n",
    "def kl_z(R,α):\n",
    "    return np.sum( R * (psi(α) - psi(α.sum()))[None,:] - (R * np.log(R + 1e-12)))\n",
    "\n",
    "def kl_XH(miss, R, hat_x, a, b):\n",
    "    N,D=miss.shape\n",
    "    _,K = R.shape\n",
    "\n",
    "    tau = np.zeros((N, D, K))\n",
    "    for d in range(D):\n",
    "        if np.any(miss[:, d]):\n",
    "            tau[miss[:, d], d, :] = hat_x[:, d][None, :]\n",
    "\n",
    "    eps = 1e-10\n",
    "\n",
    "    N, D, K = tau.shape\n",
    "    E_mu = a / (a + b + eps)  # (K, D)\n",
    "\n",
    "    tau = np.transpose(tau, (0, 2, 1))  # shape (N, K, D)\n",
    "    E_mu = np.transpose(E_mu, (0, 1))   # shape (K, D)\n",
    "\n",
    "    log_tau = np.log(tau + eps)\n",
    "    log_1_tau = np.log(1 - tau + eps)\n",
    "    log_mu = np.log(E_mu[None, :, :] + eps)\n",
    "    log_1_mu = np.log(1 - E_mu[None, :, :] + eps)\n",
    "\n",
    "    kl_elem = tau * (log_tau - log_mu) + (1 - tau) * (log_1_tau - log_1_mu)  # (N, K, D)\n",
    "    kl_per_z = np.sum(kl_elem, axis=2)  # (N, K)\n",
    "\n",
    "    kl_total = np.sum(R * kl_per_z)  # scalar\n",
    "\n",
    "    return kl_total \n",
    "\n",
    "def elbo_X_obs(X, R, a, b):\n",
    "    \"\"\"\n",
    "    Expected log p(X_obs | z, mu).\n",
    "    X: (N,D) with np.nan for missing.\n",
    "    \"\"\"\n",
    "    obs = ~np.isnan(X)\n",
    "    X_obs  = np.where(obs, X, 0.0)\n",
    "    Xc_obs = np.where(obs, 1.0 - X, 0.0)\n",
    "\n",
    "    Elog_mu  = psi(a) - psi(a + b)    # (K,D)\n",
    "    Elog_1mu = psi(b) - psi(a + b)    # (K,D)\n",
    "\n",
    "    ll = X_obs @ Elog_mu.T + Xc_obs @ Elog_1mu.T  # (N,K)\n",
    "    return np.sum(R * ll)\n",
    "\n",
    "\n",
    "def compute_elbo(X,R,a_0,b_0,a,b,α_0,α,hat_x):\n",
    "    miss = np.isnan(X)\n",
    "\n",
    "    elbo = (\n",
    "        kl_pi(α,α_0) + \n",
    "        kl_mu(a_0,b_0,a,b) + \n",
    "        kl_z(R,α) + \n",
    "        elbo_X_obs(X, R, a, b) -\n",
    "        kl_XH(miss,R,hat_x,a,b)\n",
    "    )\n",
    "\n",
    "    return elbo"
   ]
  },
  {
   "cell_type": "code",
   "execution_count": 48,
   "id": "6c72b04c",
   "metadata": {},
   "outputs": [],
   "source": [
    "def update_Θ(X,R,a_0,b_0,a,b,K):\n",
    "    N,D = X.shape\n",
    "\n",
    "    miss_mask = np.isnan(X)\n",
    "    obs_mask = ~miss_mask\n",
    "    # X_obs = np.where(obs_mask,X,0.0)\n",
    "\n",
    "    a_new = np.zeros((K,D))\n",
    "    b_new = np.zeros((K,D))\n",
    "\n",
    "    exp_x = expit(digamma(a) - digamma(b))\n",
    "\n",
    "    for k in range(K):\n",
    "       \n",
    "        x = (exp_x[k] * miss_mask) + np.nan_to_num(X * obs_mask, nan=0)\n",
    "\n",
    "        a_new[k,:] = a_0[k,:] + (R[:,k].T @ x)\n",
    "        b_new[k,:] = b_0[k,:] + (R[:,k].T @ (1 - x))\n",
    "\n",
    "    return a_new,b_new\n",
    "    "
   ]
  },
  {
   "cell_type": "code",
   "execution_count": 49,
   "id": "68882091",
   "metadata": {},
   "outputs": [],
   "source": [
    "def bernoulli_logprob_with_missing(X, a, b):\n",
    "\n",
    "    psi_ab  = digamma(a + b)\n",
    "    elog_mu  = digamma(a) - psi_ab # (K,D)\n",
    "    elog_1mu = digamma(b) - psi_ab # (K,D)\n",
    "\n",
    "    hat_x = expit(digamma(a) - digamma(b))\n",
    "\n",
    "    obs  = ~np.isnan(X)        \n",
    "    miss = ~obs\n",
    "\n",
    "    X_obs1  = np.where(obs, X, 0.0) # (N,D)\n",
    "    X_obs0 = np.where(obs, 1.0 - X, 0.0) # (N,D)\n",
    "\n",
    "    lp_obs = X_obs1  @ elog_mu.T  +  X_obs0 @ elog_1mu.T   # (N,K)\n",
    "\n",
    "    miss_weight = hat_x * elog_mu + (1.0 - hat_x) * elog_1mu   # (K,D)\n",
    "    lp_miss = miss.astype(float) @ miss_weight.T  # (N,K)\n",
    "\n",
    "    return lp_obs + lp_miss"
   ]
  },
  {
   "cell_type": "code",
   "execution_count": 50,
   "id": "86d3c2bc",
   "metadata": {},
   "outputs": [],
   "source": [
    "'''\n",
    "    Collapsed version\n",
    "'''\n",
    "def bernoulli_logprob_with_missing(X, a, b):\n",
    "    psi_ab = digamma(a + b)\n",
    "    elog_mu   = digamma(a) - psi_ab      \n",
    "    elog_1mu  = digamma(b) - psi_ab     \n",
    "\n",
    "    obs = ~np.isnan(X)\n",
    "    X_obs   = np.where(obs, X, 0.0)       \n",
    "    Xc_obs  = np.where(obs, 1.0 - X, 0.0) \n",
    "\n",
    "    hat_x = expit(digamma(a) - digamma(b))\n",
    "\n",
    "    # (N,D) @ (D,K) -> (N,K)\n",
    "    return X_obs @ elog_mu.T + Xc_obs @ elog_1mu.T, hat_x"
   ]
  },
  {
   "cell_type": "code",
   "execution_count": 51,
   "id": "d0b24778",
   "metadata": {},
   "outputs": [],
   "source": [
    "def update_z(X,dataLogProb,α,πs,K,mode=0):\n",
    "    N,D = X.shape\n",
    "\n",
    "    R = np.zeros((N,K))\n",
    "\n",
    "    α_sum = psi(np.sum(α))\n",
    "\n",
    "    for k in range(K):\n",
    "        logprior = psi(α[k]) - α_sum\n",
    "\n",
    "        R[:,k] = dataLogProb[:,k].copy()\n",
    "\n",
    "        if mode == 0:\n",
    "            R[:,k] += logprior\n",
    "        elif mode == 1:\n",
    "            R[:,k] += np.log(πs[k])\n",
    "\n",
    "    log_norm = logsumexp(R,axis=1,keepdims=True)\n",
    "\n",
    "    R = np.exp(R - log_norm)\n",
    "\n",
    "    loglik = np.sum(log_norm) / N\n",
    "\n",
    "    return R,loglik   "
   ]
  },
  {
   "cell_type": "code",
   "execution_count": 52,
   "id": "58529c51",
   "metadata": {},
   "outputs": [],
   "source": [
    "def update_π(R,α_0):\n",
    "    αs = α_0 + np.sum(R, axis=0) \n",
    "\n",
    "    return αs"
   ]
  },
  {
   "cell_type": "code",
   "execution_count": 93,
   "id": "9da9e9bc",
   "metadata": {},
   "outputs": [],
   "source": [
    "def meanfield_vi(X,K,mode=0,max_iters=100,tol=1e-4):\n",
    "    N,D = X.shape\n",
    "\n",
    "    α_0 = np.full(K, 1, dtype=np.float64)\n",
    "    a_0  = np.full((K, D), 1) # Beta\n",
    "    b_0  = np.full((K, D), 1) # Beta\n",
    "\n",
    "    a = a_0.copy()+ rng.gamma(1.0, 0.1, size=(K, D))\n",
    "    b = b_0.copy()+ rng.gamma(1.0, 0.1, size=(K, D))\n",
    "    α = α_0.copy()\n",
    "    πs = rng.dirichlet(alpha=α)\n",
    "\n",
    "    loglikes = []\n",
    "    elbos = []\n",
    "\n",
    "    for t in range(max_iters):\n",
    "        dataLogProb,hat_x = bernoulli_logprob_with_missing(X, a,b)\n",
    "        R,loglike = update_z(X,dataLogProb,α,πs,K,mode=mode)\n",
    "\n",
    "        α = update_π(R,α_0)\n",
    "        a,b = update_Θ(X,R,a_0,b_0,a,b,K)\n",
    "\n",
    "        loglikes.append(loglike)\n",
    "\n",
    "        elbo = compute_elbo(X,R,a_0,b_0,a,b,α_0,α,hat_x)\n",
    "\n",
    "        elbos.append(elbo)\n",
    "\n",
    "        if t > 1 and np.abs(elbos[t] - elbos[t-1]) < tol:\n",
    "            break\n",
    "\n",
    "    return R, a, b, α, loglikes,elbos"
   ]
  },
  {
   "cell_type": "markdown",
   "id": "1ddaf4a9",
   "metadata": {},
   "source": [
    "# 3 Evaluation"
   ]
  },
  {
   "cell_type": "code",
   "execution_count": 54,
   "id": "3cbb8aa7",
   "metadata": {},
   "outputs": [],
   "source": [
    "def impute_x(X, R, a, b, rng=None):\n",
    "    rng = np.random.default_rng(rng)\n",
    "    N, D = X.shape\n",
    "    K = R.shape[1]\n",
    "    miss = np.isnan(X)\n",
    "\n",
    "    hat_x = expit(digamma(a) - digamma(b))  # (K,D)\n",
    "\n",
    "    z = np.array([rng.choice(K, p=R[n]) for n in range(N)])\n",
    "    # z = np.argmax(R, axis=1)\n",
    "\n",
    "    X_imp = X.copy()\n",
    "    for n in range(N):\n",
    "        k = z[n]\n",
    "        miss_n = miss[n]\n",
    "        if np.any(miss_n):\n",
    "            X_imp[n, miss_n] = rng.binomial(1, hat_x[k, miss_n])\n",
    "    return X_imp, z"
   ]
  },
  {
   "cell_type": "code",
   "execution_count": 55,
   "id": "b3dbac60",
   "metadata": {},
   "outputs": [],
   "source": [
    "def impute_ppd(X, R, a, b, rng=None):\n",
    "    rng = np.random.default_rng(rng)\n",
    "    N, D = X.shape\n",
    "    miss = np.isnan(X)\n",
    "\n",
    "    mu_mean = a / (a + b)    \n",
    "    p = R @ mu_mean                \n",
    "\n",
    "    X_imp = X.copy()\n",
    "    X_imp[miss] = rng.binomial(1, p[miss])\n",
    "    return X_imp"
   ]
  },
  {
   "cell_type": "markdown",
   "id": "ec3c9186",
   "metadata": {},
   "source": [
    "## 3.1 Prepare Data"
   ]
  },
  {
   "cell_type": "code",
   "execution_count": 56,
   "id": "18b0024b",
   "metadata": {},
   "outputs": [],
   "source": [
    "from sklearn.datasets import fetch_openml\n",
    "mnist = fetch_openml('mnist_784', parser ='auto')\n",
    "\n",
    "X_mnist = np.array(mnist.data) > 0.5 # binary-rise the data\n",
    "Y_mnist = np.array(mnist.target, dtype ='int')\n",
    "X_mnist_train = X_mnist[:4000, :] # use the first 4000 images as training data\n",
    "Y_mnist_train = Y_mnist[:4000]\n",
    "X_mnist_test = X_mnist[4000:5000, :] # the next 1000 as testing\n",
    "Y_mnist_test = Y_mnist[4000:5000]"
   ]
  },
  {
   "cell_type": "code",
   "execution_count": 57,
   "id": "4db834ba",
   "metadata": {},
   "outputs": [
    {
     "data": {
      "image/png": "[encoded data removed]",
      "text/plain": [
       "<Figure size 700x700 with 25 Axes>"
      ]
     },
     "metadata": {},
     "output_type": "display_data"
    }
   ],
   "source": [
    "import random\n",
    "X_mnist_cover1 = np.empty_like(X_mnist_train, dtype='f')\n",
    "X_mnist_cover1[:] = X_mnist_train\n",
    "for i in range(0,len(X_mnist_cover1)):\n",
    "    indices = random.sample(range(0,784), 784//2)\n",
    "    X_mnist_cover1[i][indices] = np.nan\n",
    "\n",
    "figure = plt.figure(figsize=(7, 7))\n",
    "rows, cols= 5, 5\n",
    "for k in range(25):\n",
    "    img = X_mnist_cover1[k, :].reshape(28, 28)\n",
    "    figure.add_subplot(rows, cols, k+1)\n",
    "    plt.axis(\"off\")\n",
    "    plt.imshow(img, cmap=\"gray\")\n",
    "plt.show()"
   ]
  },
  {
   "cell_type": "code",
   "execution_count": 58,
   "id": "faf924d7",
   "metadata": {},
   "outputs": [
    {
     "data": {
      "image/png": "[encoded data removed]",
      "text/plain": [
       "<Figure size 700x700 with 25 Axes>"
      ]
     },
     "metadata": {},
     "output_type": "display_data"
    }
   ],
   "source": [
    "X_mnist_cover2 = np.empty_like(X_mnist_train, dtype='f')\n",
    "X_mnist_cover2[:] = X_mnist_train\n",
    "X_mnist_cover2[:, 0: int(784//2)] = np.nan\n",
    "\n",
    "figure = plt.figure(figsize=(7, 7))\n",
    "rows, cols= 5, 5\n",
    "for k in range(25):\n",
    "    img = X_mnist_cover2[k, :].reshape(28, 28)\n",
    "    figure.add_subplot(rows, cols, k+1)\n",
    "    plt.axis(\"off\")\n",
    "    plt.imshow(img, cmap=\"gray\")\n",
    "plt.show()"
   ]
  },
  {
   "cell_type": "markdown",
   "id": "b87f7658",
   "metadata": {},
   "source": [
    "## 3.2 Evaluation"
   ]
  },
  {
   "cell_type": "code",
   "execution_count": 94,
   "id": "9ecaddb0",
   "metadata": {},
   "outputs": [
    {
     "data": {
      "text/plain": [
       "0.37166758247991466"
      ]
     },
     "execution_count": 94,
     "metadata": {},
     "output_type": "execute_result"
    }
   ],
   "source": [
    "R, a, b, α, loglikes,elbos = meanfield_vi(X_mnist_cover1, 10)\n",
    "zs = np.argmax(R,axis=1)\n",
    "metrics.adjusted_rand_score(Y_mnist_train, zs)"
   ]
  },
  {
   "cell_type": "code",
   "execution_count": 97,
   "id": "aae1fc31",
   "metadata": {},
   "outputs": [
    {
     "data": {
      "image/png": "[encoded data removed]",
      "text/plain": [
       "<Figure size 640x480 with 1 Axes>"
      ]
     },
     "metadata": {},
     "output_type": "display_data"
    },
    {
     "data": {
      "image/png": "[encoded data removed]",
      "text/plain": [
       "<Figure size 640x480 with 1 Axes>"
      ]
     },
     "metadata": {},
     "output_type": "display_data"
    }
   ],
   "source": [
    "plt.plot(loglikes)\n",
    "plt.title(\"Expected Log Likelihood\")\n",
    "plt.show()\n",
    "\n",
    "plt.plot(elbos)\n",
    "plt.title(\"ELBO\")\n",
    "plt.show()"
   ]
  },
  {
   "cell_type": "markdown",
   "id": "7ec6b2bd",
   "metadata": {},
   "source": [
    "Predict missing pixels"
   ]
  },
  {
   "cell_type": "code",
   "execution_count": 78,
   "id": "06a60044",
   "metadata": {},
   "outputs": [
    {
     "data": {
      "image/png": "[encoded data removed]",
      "text/plain": [
       "<Figure size 700x700 with 25 Axes>"
      ]
     },
     "metadata": {},
     "output_type": "display_data"
    }
   ],
   "source": [
    "X_imp, z = impute_x(X_mnist_cover1,R,a,b)\n",
    "figure = plt.figure(figsize=(7, 7))\n",
    "rows, cols= 5, 5\n",
    "for k in range(25):\n",
    "    img = X_imp[k, :].reshape(28, 28)\n",
    "    figure.add_subplot(rows, cols, k+1)\n",
    "    plt.axis(\"off\")\n",
    "    plt.imshow(img, cmap=\"gray\")\n",
    "plt.show()"
   ]
  },
  {
   "cell_type": "code",
   "execution_count": 80,
   "id": "cd8c0f16",
   "metadata": {},
   "outputs": [
    {
     "data": {
      "image/png": "[encoded data removed]",
      "text/plain": [
       "<Figure size 700x700 with 25 Axes>"
      ]
     },
     "metadata": {},
     "output_type": "display_data"
    }
   ],
   "source": [
    "X_imp= impute_ppd(X_mnist_cover1,R,a,b)\n",
    "figure = plt.figure(figsize=(7, 7))\n",
    "rows, cols= 5, 5\n",
    "for k in range(25):\n",
    "    img = X_imp[k, :].reshape(28, 28)\n",
    "    figure.add_subplot(rows, cols, k+1)\n",
    "    plt.axis(\"off\")\n",
    "    plt.imshow(img, cmap=\"gray\")\n",
    "plt.show()"
   ]
  },
  {
   "cell_type": "code",
   "execution_count": 85,
   "id": "453afea5",
   "metadata": {},
   "outputs": [
    {
     "data": {
      "text/plain": [
       "0.3999546965473337"
      ]
     },
     "execution_count": 85,
     "metadata": {},
     "output_type": "execute_result"
    }
   ],
   "source": [
    "R, a, b, α, loglikes = meanfield_vi(X_mnist_cover1, 10,mode=1)\n",
    "zs = np.argmax(R,axis=1)\n",
    "metrics.adjusted_rand_score(Y_mnist_train, zs)"
   ]
  },
  {
   "cell_type": "markdown",
   "id": "a7d0b40f",
   "metadata": {},
   "source": [
    "---"
   ]
  },
  {
   "cell_type": "code",
   "execution_count": 81,
   "id": "3031e56c",
   "metadata": {},
   "outputs": [
    {
     "data": {
      "text/plain": [
       "0.3016483201983157"
      ]
     },
     "execution_count": 81,
     "metadata": {},
     "output_type": "execute_result"
    },
    {
     "data": {
      "image/png": "[encoded data removed]",
      "text/plain": [
       "<Figure size 640x480 with 1 Axes>"
      ]
     },
     "metadata": {},
     "output_type": "display_data"
    }
   ],
   "source": [
    "R, a, b, α, loglikes = meanfield_vi(X_mnist_cover2, 10)\n",
    "zs = np.argmax(R,axis=1)\n",
    "plt.plot(loglikes)\n",
    "metrics.adjusted_rand_score(Y_mnist_train, zs)"
   ]
  },
  {
   "cell_type": "code",
   "execution_count": 84,
   "id": "a5ba6123",
   "metadata": {},
   "outputs": [
    {
     "data": {
      "text/plain": [
       "0.2646045733660196"
      ]
     },
     "execution_count": 84,
     "metadata": {},
     "output_type": "execute_result"
    }
   ],
   "source": [
    "R, a, b, α, loglikes = meanfield_vi(X_mnist_cover2, 10,mode=1)\n",
    "zs = np.argmax(R,axis=1)\n",
    "metrics.adjusted_rand_score(Y_mnist_train, zs)"
   ]
  },
  {
   "cell_type": "code",
   "execution_count": null,
   "id": "2b355879",
   "metadata": {},
   "outputs": [],
   "source": []
  }
 ],
 "metadata": {
  "kernelspec": {
   "display_name": "myenv",
   "language": "python",
   "name": "python3"
  },
  "language_info": {
   "codemirror_mode": {
    "name": "ipython",
    "version": 3
   },
   "file_extension": ".py",
   "mimetype": "text/x-python",
   "name": "python",
   "nbconvert_exporter": "python",
   "pygments_lexer": "ipython3",
   "version": "3.9.21"
  }
 },
 "nbformat": 4,
 "nbformat_minor": 5
}
