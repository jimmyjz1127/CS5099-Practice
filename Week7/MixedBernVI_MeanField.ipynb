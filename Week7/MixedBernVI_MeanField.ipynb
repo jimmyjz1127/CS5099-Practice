{
 "cells": [
  {
   "cell_type": "code",
   "execution_count": 1,
   "id": "3ca1a107",
   "metadata": {},
   "outputs": [],
   "source": [
    "%matplotlib inline\n",
    "# %matplotlib notebook\n",
    "%config Completer.use_jedi = False\n",
    "import matplotlib.pyplot as plt\n",
    "import numpy as np\n",
    "import pandas as pd\n",
    "\n",
    "\n",
    "from scipy.special import logsumexp\n",
    "from scipy.special import softmax\n",
    "from scipy.special import betaln\n",
    "from scipy.special import beta\n",
    "\n",
    "from scipy.stats import multivariate_normal \n",
    "from scipy.stats import invwishart \n",
    "\n",
    "from sklearn import metrics\n",
    "from scipy.special import psi\n",
    "from scipy.special import digamma \n"
   ]
  },
  {
   "cell_type": "code",
   "execution_count": 2,
   "id": "e2154382",
   "metadata": {},
   "outputs": [],
   "source": [
    "random_seed = 123\n",
    "rng = np.random.default_rng(random_seed)"
   ]
  },
  {
   "cell_type": "markdown",
   "id": "ac98b53c",
   "metadata": {},
   "source": [
    "## Mean Field \n",
    "\n",
    "Mean Field (Structured) Independence Simplifying Assumption\n",
    "$$\n",
    "    q(\\boldsymbol{\\pi},\\boldsymbol{\\phi},\\mathbf{z}) = \n",
    "        \\underbrace{q(\\boldsymbol{\\pi})}_{\\text{Dirichlet}}\n",
    "        \\underbrace{q(\\boldsymbol{\\phi})}_{\\text{Beta}}\n",
    "        \\underbrace{q(\\mathbf{z})}_{\\text{Cat}}\n",
    "$$\n",
    "\n",
    "Update Steps \n",
    "\n",
    "$$\\begin{align}\n",
    "    &\\log q(\\boldsymbol{\\phi},\\boldsymbol{\\Sigma},\\boldsymbol{\\pi}) = \\Big\\langle \\log p(\\mathbf{z},\\mu,\\mathbf{X}) \\Big\\rangle_{q(\\mathbf{z})}  + \\text{const}\\\\\\\\\n",
    "    \n",
    "    &\\log q(\\mathbf{z}) = \\Big\\langle \\log p(\\mathbf{z},\\boldsymbol{\\phi},\\mathbf{X}) \\Big\\rangle_{q(\\boldsymbol{\\phi},\\boldsymbol{\\pi})} + \\text{const}\n",
    "\\end{align}$$\n",
    "\n",
    "Posterior\n",
    "$$\n",
    "    p(\\mathbf{X},\\boldsymbol{\\phi},\\mathbf{z},\\boldsymbol{\\pi}) \\propto p(\\mathbf{X}|\\boldsymbol{\\phi},\\mathbf{z})p(\\boldsymbol{\\phi})p(\\mathbf{z}|\\boldsymbol{\\pi})p(\\boldsymbol{\\pi})\n",
    "$$"
   ]
  },
  {
   "cell_type": "markdown",
   "id": "c8251d66",
   "metadata": {},
   "source": [
    "## Update for model parameters $p(\\mu,\\pi)$\n",
    "\n",
    "$$\\begin{align}\n",
    "    \\ln q(\\boldsymbol{\\phi},\\boldsymbol{\\pi}) &= \\Big\\langle \\ln p(\\mathbf{z},\\boldsymbol{\\phi},\\mathbf{X}_H,\\mathbf{X}_O) \\Big\\rangle_{q(\\mathbf{z})} + \\text{const}\\\\\\\\\n",
    "\n",
    "    &= \\Big\\langle \\ln p(\\mathbf{X}_O,\\mathbf{X}_H|\\boldsymbol{\\phi}, \\mathbf{z}) \\Big\\rangle_{q(\\mathbf{z})} + \n",
    "       \\Big\\langle \\ln p(\\boldsymbol{\\phi}) \\Big\\rangle_{q(\\mathbf{z})} + \n",
    "        \\Big\\langle \\ln p(\\mathbf{z}|\\boldsymbol{\\pi})p(\\boldsymbol{\\pi}) \\Big\\rangle_{q(\\mathbf{z})} +\n",
    "       \\text{const}\\\\\\\\\n",
    "\n",
    "    &=  \\underbrace{\\Big\\langle \\ln p(\\mathbf{X}_O,\\mathbf{X}_H|\\boldsymbol{\\phi}, \\mathbf{z}) \\Big\\rangle_{q(\\mathbf{z})} + \n",
    "        \\ln p(\\boldsymbol{\\phi})}_{\\text{Terms containing $\\boldsymbol{\\phi}$}} + \n",
    "       \\underbrace{\n",
    "            \\Big\\langle \\ln p(\\mathbf{z}|\\boldsymbol{\\pi}) \\Big\\rangle_{q(\\mathbf{z})} + \n",
    "            \\ln p(\\boldsymbol{\\pi}) \n",
    "       }_{\\text{\\text{Terms containing $\\boldsymbol{\\pi}$}}} +\n",
    "       \\text{const}\\\\\\\\\n",
    "\\end{align}$$\n"
   ]
  },
  {
   "cell_type": "markdown",
   "id": "a558624a",
   "metadata": {},
   "source": [
    "\n",
    "\n",
    "#### Update Step for $q(\\boldsymbol{\\pi})$\n",
    "\n",
    "$$\\begin{align}\n",
    "    \\log q(\\boldsymbol{\\pi}) &= \\log p(\\boldsymbol{\\pi}) + \\Big\\langle \\log p(\\mathbf{z}|\\boldsymbol{\\pi}) \\Big\\rangle_{q(\\mathbf{z})} + \\text{const} \\\\\n",
    "\n",
    "    &= \\log \\text{Dir}(\\boldsymbol{\\pi}|\\boldsymbol{\\alpha}_0) + \\Big\\langle \\sum_n^N \\log p(z_n|\\boldsymbol{\\pi}) \\Big\\rangle_{q(\\mathbf{z})} + \\text{const} \\\\\n",
    "\n",
    "    &= \\log \\Big[ \\frac{1}{B(\\alpha_0)}\\prod_k^K \\pi_k^{\\alpha_0 - 1} \\Big] + \\Big\\langle \\sum_n^N \\sum_k^K \\log \\pi_{k}^{z_{nk}} \\Big\\rangle_{q(\\mathbf{z})} + \\text{const} \\\\\n",
    "       \n",
    "    &= \\underbrace{-\\log B(\\alpha_0)}_{\\text{Independent of $\\pi$}} + \\sum_k^K \\log \\pi_k^{\\alpha_0 - 1} +\n",
    "       \\Big\\langle \\sum_k^K \\sum_n^N z_{nk}\\log \\pi_{k} \\Big\\rangle_{q(\\mathbf{z})} + \\text{const} \\\\\n",
    "\n",
    "    &=   \\sum_k^K (\\alpha_0 - 1) \\log \\pi_k + \\sum_k^K \\sum_n^N \\Big\\langle z_{nk} \\Big\\rangle_{q(\\mathbf{z})} \\log \\pi_{k} + \\text{const}, \\quad -\\log B(\\alpha_0) \\text{ absorbed into const}\\\\\n",
    "\n",
    "    &= \\sum_k^K (\\alpha_0 - 1) \\log \\pi_k + \\sum_k^K \\sum_n^N r_{nk} \\log \\pi_{k} + \\text{const}\\\\\n",
    "\n",
    "    &= \\sum_k^K \\Big[ (\\alpha_0 - 1) \\log \\pi_k + \\log \\pi_{k} \\sum_n^N r_{nk} \\Big] + \\text{const}\\\\\n",
    "\n",
    "    &= \\sum_k^K \\Big[ (\\alpha_0 + N_k -1) \\log \\pi_k  \\Big] + \\text{const}, \\quad \\text{where } N_k = \\sum_n^N r_{nk} \\\\\n",
    "\n",
    "    \\implies & \\boxed{q(\\boldsymbol{\\pi}) = \\prod_k^K \\pi_k^{\\alpha_0 + N_k - 1} + \\text{const} = \\text{Dir}(\\boldsymbol{\\pi}|\\boldsymbol{\\alpha}_0 + N), \\quad \\text{where } N = [N_0,...,N_K]}\\\\\n",
    "\\end{align}$$"
   ]
  },
  {
   "cell_type": "markdown",
   "id": "12239df1",
   "metadata": {},
   "source": [
    "#### Update step for $q(\\boldsymbol{\\phi})$\n",
    "\n",
    "\n",
    "$$\\begin{align}\n",
    "    \\log q(\\boldsymbol{\\phi}) &= \\Big\\langle \\log p(\\mathbf{X}|\\boldsymbol{\\phi}, \\mathbf{z}) \\Big\\rangle_{q(\\mathbf{z})} + \\log p(\\boldsymbol{\\phi}) + \\text{const}\\\\\\\\\n",
    "\n",
    "    &= \\sum_k^K \\log p(\\boldsymbol{\\phi}_k) + \\Big\\langle \\sum_n^N \\sum_k^K \\log p(\\mathbf{x}_n|\\boldsymbol{\\phi}_k)^{z_{nk}} \\Big\\rangle_{q(\\mathbf{z})}  + \\text{const}\\\\\\\\\n",
    "\n",
    "    &= \\sum_k^K \\log p(\\boldsymbol{\\phi}_k) + \\Big\\langle \\sum_n^N \\sum_k^K z_{nk} \\cdot \\log p(\\mathbf{x}_n|\\boldsymbol{\\phi}_k) \\Big\\rangle_{q(\\mathbf{z})}  + \\text{const}\\\\\\\\\n",
    "\n",
    "    &= \\sum_k^K \\log p(\\boldsymbol{\\phi}_k) +  \\sum_n^N \\sum_k^K \\langle z_{nk} \\rangle_{q(\\mathbf{z})}  \\cdot \\log p(\\mathbf{x}_n|\\boldsymbol{\\phi}_k)   + \\text{const}\\\\\\\\\n",
    "\n",
    "    &= \\sum_k^K \\log p(\\boldsymbol{\\phi}_k) +  \\sum_n^K \\sum_k^K r_{nk}  \\cdot \\log p(\\mathbf{x}_n|\\boldsymbol{\\phi}_k)   + \\text{const}\\\\\\\\\n",
    "\n",
    "\n",
    "    &= \\sum_k^K  \\Bigg[ \\log p(\\boldsymbol{\\phi}_k) + \\sum_n^N  r_{nk}  \\cdot \\log p(\\mathbf{x}_n|\\boldsymbol{\\phi}_k)  \\Bigg]  + \\text{const}\\\\\\\\\n",
    "\n",
    "    \\implies & \\log q(\\boldsymbol{\\phi}) = \\sum_k^K \\log q(\\boldsymbol{\\phi}_k)\n",
    "\\end{align}$$\n",
    "\n",
    "Hence with $\\boldsymbol{\\phi} = \\{\\boldsymbol{\\mu}\\}$,\n",
    "$$\\begin{align}\n",
    "    \\log q(\\boldsymbol{\\mu}_k) &= \\log p(\\boldsymbol{\\mu}_k) + \\sum_n^N  r_{nk}  \\cdot \\log p(\\mathbf{x}_n|\\boldsymbol{\\mu}_k) + \\text{const}\\\\\\\\\n",
    "\n",
    "    &= \\log \\mathcal{Beta}(\\mu_k|\\mathbf{a}_{0},\\mathbf{b}_{0}) + \n",
    "        \\sum_n^N  r_{nk}  \\cdot \\log \\mathcal{Bern}(\\mathbf{x}_n|\\boldsymbol{\\mu}_k) +\n",
    "        \\text{const}\\\\\\\\\n",
    "\n",
    "    &= \\sum_d^D \\log \\mathcal{Beta}(\\mu_{k,d}|\\mathbf{a}_{0,d},\\mathbf{b}_{0,d}) + \n",
    "       + \\sum_n^N  r_{nk}  \\cdot \\sum_d^D \\log \\mathcal{Bern}(x_{n,d}|\\boldsymbol{\\mu}_{k,d}) +\n",
    "        \\text{const}\\\\\\\\\n",
    "\n",
    "    \\implies \\log q(\\mu_{k,d}) &= \\log \\mathcal{Beta}(\\mu_{k,d}|\\mathbf{a}_{0,d},\\mathbf{b}_{0,d}) + \\sum_n^N r_{nk}  \\cdot \\log\n",
    "        \\mathcal{Bern}(x_{n,d}|\\boldsymbol{\\mu}_{k,d}) + \\text{const}\\\\\\\\\n",
    "\n",
    "    &= (a_{0,d} - 1)\\log\\mu_{k,d} + (b_{0,d} - 1)\\log(1 - \\mu_{k,d}) + \\sum_n^N r_{nk} \\cdot \\Big(x_{n,d} \\log\\mu_{k,d} + (1 - x_{n,d})\\log(1 - \\mu_{k,d})\\Big) + \\text{const}\\\\\\\\\n",
    "\n",
    "    &= (a_{0,d} - 1)\\log\\mu_{k,d} + (b_{0,d} - 1)\\log(1 - \\mu_{k,d})\n",
    "        + \\sum_n^N r_{nk} \\cdot x_{n,d} \\log\\mu_{k,d} \n",
    "        + \\sum_n^N r_{nk} \\cdot (1 - x_{n,d})\\log(1 - \\mu_{k,d})\n",
    "        + \\text{const}\\\\\\\\\n",
    "\n",
    "    &= (a_{0,d} - 1)\\log\\mu_{k,d} + (b_{0,d} - 1)\\log(1 - \\mu_{k,d})\n",
    "        +  \\log\\mu_{k,d} \\sum_n^N r_{nk} \\cdot x_{n,d}\n",
    "        + \\log(1 - \\mu_{k,d}) \\sum_n^N r_{nk} \\cdot (1 - x_{n,d})\n",
    "        + \\text{const}\\\\\\\\\n",
    "\n",
    "    &= \\Big(a_{0,d} + \\sum_n^N r_{nk} x_{n,d} - 1\\Big)\\log\\mu_{k,d} + \n",
    "       \\Big(b_{0,d} +  \\sum_n^N r_{nk}(1 - x_{n,d}) - 1 \\Big)\\log(1 - \\mu_{k,d})\n",
    "        + \\text{const}\\\\\\\\\n",
    "\\end{align}$$\n",
    "\n",
    "This is the form of a Beta distribution, hence\n",
    "\n",
    "$$\\begin{align}\n",
    "    q(\\mu_{k,d}) &= \\mathcal{Beta}(a_{kd},b_{kd}), \\quad \\text{where }\\\\ \n",
    "        &a_{kd} = a_{0,d} + \\sum_n^N r_{nk} x_{n,d}\\\\\n",
    "        &b_{kd} = b_{0,d} +  \\sum_n^N r_{nk}(1 - x_{n,d})\n",
    "\\end{align}$$"
   ]
  },
  {
   "cell_type": "markdown",
   "id": "8e8a109a",
   "metadata": {},
   "source": [
    "#### Update step for $q(\\mathbf{z})$\n",
    "$$\\begin{align}\n",
    "    \\log q(\\mathbf{z}) &= \\Big\\langle \\log p(\\mathbf{X},\\boldsymbol{\\phi},\\boldsymbol{\\pi}) \\Big\\rangle_{q(\\mu,\\pi)} + \\text{const}\\\\\\\\\n",
    "\n",
    "    &= \\Big\\langle \\log p(\\mathbf{X}|\\boldsymbol{\\phi}) \\Big\\rangle_{q(\\mu,\\pi)} + \n",
    "       \\Big\\langle \\log p(\\mathbf{z}|\\boldsymbol{\\pi}) \\Big\\rangle_{q(\\mu,\\pi)} + \n",
    "       \\underbrace{\\log p(\\boldsymbol{\\phi}) + \\log p(\\boldsymbol{\\pi})}_{\\text{Independent of } \\mathbf{z}} + \n",
    "       \\text{const}\\\\\\\\\n",
    "\n",
    "    &= \\Big\\langle \\log p(\\mathbf{X}|\\boldsymbol{\\phi}) \\Big\\rangle_{q(\\mu,\\pi)} + \n",
    "       \\Big\\langle \\log p(\\mathbf{z}|\\boldsymbol{\\pi}) \\Big\\rangle_{q(\\mu,\\pi)} + \n",
    "       \\text{const}\\\\\\\\\n",
    "\n",
    "    &= \\Big\\langle \\sum_n^N \\sum_k^K \\log p(\\mathbf{x}_n|\\boldsymbol{\\phi}_k)^{z_{nk}} \\Big\\rangle_{q(\\mu,\\pi)} + \n",
    "       \\Big\\langle \\sum_n^N \\sum_k^K \\log p(z_n = k|\\boldsymbol{\\pi})^{z_{nk}} \\Big\\rangle_{q(\\mu,\\pi)} + \n",
    "       \\text{const}\\\\\\\\\n",
    "\n",
    "    &= \\Big\\langle \\sum_n^N \\sum_k^K z_{nk} \\log p(\\mathbf{x}_n|\\boldsymbol{\\phi}_k) \\Big\\rangle_{q(\\mu,\\pi)} + \n",
    "       \\Big\\langle \\sum_n^N \\sum_k^K z_{nk} \\log p(z_n = k|\\boldsymbol{\\pi}) \\Big\\rangle_{q(\\mu,\\pi)} + \n",
    "       \\text{const}\\\\\\\\\n",
    "\n",
    "    &= \\sum_n^N \\sum_k^K \\Big\\langle  z_{nk} \\log p(\\mathbf{x}_n|\\boldsymbol{\\phi}_k) \\Big\\rangle_{q(\\mu,\\pi)} + \n",
    "       \\sum_n^N \\sum_k^K \\Big\\langle z_{nk} \\log p(z_n = k|\\boldsymbol{\\pi}) \\Big\\rangle_{q(\\mu,\\pi)} + \n",
    "       \\text{const}\\\\\\\\\n",
    "\n",
    "    &= \\sum_n^N \\Bigg[ \\sum_k^K \\Big\\langle  z_{nk} \\log p(\\mathbf{x}_n|\\boldsymbol{\\phi}_k) \\Big\\rangle_{q(\\mu,\\pi)} + \n",
    "       \\sum_k^K \\Big\\langle z_{nk} \\log p(z_n = k|\\boldsymbol{\\pi}) \\Big\\rangle_{q(\\mu,\\pi)} \\Bigg] + \n",
    "       \\text{const}\\\\\\\\\n",
    "\n",
    "    \\implies & \\log q(\\mathbf{z}) = \\sum_n^N \\log q(z_n)\n",
    "\\end{align}$$\n",
    "Hence\n",
    "$$\\begin{align}\n",
    "    \\log q(z_n) &= \\sum_k^K \\Big\\langle  z_{nk} \\log p(\\mathbf{x}_n|\\boldsymbol{\\phi}_k) \\Big\\rangle_{q(\\mu,\\pi)} + \n",
    "       \\sum_k^K \\Big\\langle z_{nk} \\log p(z_n = k|\\boldsymbol{\\pi}) \\Big\\rangle_{q(\\mu,\\pi)}  + \\text{const}\\\\\\\\\n",
    "\n",
    "    &= \\sum_k^K  \\Bigg[ \n",
    "        \\Big\\langle  z_{nk} \\log p(\\mathbf{x}_n|\\boldsymbol{\\phi}_k) \\Big\\rangle_{q(\\mu,\\pi)} +\n",
    "        \\Big\\langle z_{nk} \\log p(z_n = k|\\boldsymbol{\\pi}) \\Big\\rangle_{q(\\mu,\\pi)}\n",
    "    \\Bigg] +  \\text{const}\n",
    "\n",
    "\\end{align}$$\n",
    "\n",
    "This gives\n",
    "$$\n",
    "    \\log p(z_n=k) = \\underbrace{\\Big\\langle \\log p(\\mathbf{x}_n|\\boldsymbol{\\phi}_k) \\Big\\rangle_{q(\\mu,\\pi)}}_{(1)} +\n",
    "        \\underbrace{\\Big\\langle \\log \\boldsymbol{\\pi}_k \\Big\\rangle_{q(\\mu,\\pi)}}_{(2)} + \\text{const}\n",
    "$$\n",
    "\n",
    "For mixed-bern $\\boldsymbol{\\phi} = \\{\\boldsymbol{\\mu}\\}$. Hence,\n",
    "\n",
    "$$\\begin{align}\n",
    "    (1) \\quad \\Big\\langle \\log p(\\mathbf{x}_n|\\boldsymbol{\\phi}_k) \\Big\\rangle_{q(\\mu)} &= \\Big\\langle \\log \\mathcal{Bern}(\\mathbf{x}_n|\\boldsymbol{\\mu}_k) \\Big\\rangle_{q(\\mu)}\\\\\\\\\n",
    "\n",
    "    &= \\Big\\langle \\sum_d^D \\log \\mathcal{Bern}(x_{n,d}|\\mu_{k,d}) \\Big\\rangle_{q(\\mu)}\\\\\\\\\n",
    "\n",
    "    &= \\Big\\langle \\sum_d^D x_{n,d}\\log\\mu_{k,d} + (1 - x_{n,d})\\log(1 - \\mu_{k,d})\\Big\\rangle_{q(\\mu)}\\\\\\\\\n",
    "\n",
    "    &= \\sum_d^D x_{n,d}  \\big\\langle \\log\\mu_{k,d}\\big\\rangle_{q(\\mu)} + (1 - x_{n,d})\\big\\langle \\log(1 - \\mu_{k,d})\\big\\rangle_{q(\\mu)}\\\\\\\\\n",
    "\n",
    "    &= \\sum_d^D x_{n,d} \\Big(\\psi(a_{k,d}) - \\psi(a_{k,d} + b_{k,d}) \\Big) + (1 - x_{n,d}) \\Big( \\psi(b_{k,d}) - \\psi(a_{k,d} + b_{k,d}) \\Big)\n",
    "\\end{align}$$\n",
    "\n",
    "For (2), given that each marginal of a Dirichlet distribution is a Beta distribution with : $\\boldsymbol{\\pi}_k \\sim \\text{Beta}(\\alpha_k, \\sum_{k'}\\alpha_{k'}-\\alpha_k)$  \n",
    "And that if $X\\sim\\text{Beta}(a,b)$, then $\\mathbb{E}[\\log X] = \\psi(a) - \\psi(a + b)$\n",
    "$$\\begin{align}\n",
    "    (2) \\quad \\mathbb{E}_{q(\\boldsymbol{\\pi})}\\Big[ \\log \\boldsymbol{\\pi}_{k} \\Big] = \\psi(\\alpha_k) - \\psi\\Big(\\sum_{k'}\\alpha_{k'}\\Big)\n",
    "\\end{align}$$\n",
    "\n",
    "Hence we get the update step : \n",
    "\n",
    "$$\\begin{align}\n",
    "    \\log q(z_n=k) &= \\psi(\\alpha_k) - \\psi\\Big(\\sum_{k'}\\alpha_{k'}\\Big) + \n",
    "                     \\sum_d^D \\Bigg[x_{n,d} \\big(\\psi(a_{k,d}) - \\psi(a_{k,d} + b_{k,d}) \\big) + (1 - x_{n,d}) \\big( \\psi(b_{k,d}) - \\psi(a_{k,d} + b_{k,d}) \\big)\\Bigg] +\n",
    "                     \\text{const}\\\\\\\\\n",
    "\\end{align}$$"
   ]
  },
  {
   "cell_type": "markdown",
   "id": "e254f9d1",
   "metadata": {},
   "source": [
    "# Implementation"
   ]
  },
  {
   "cell_type": "code",
   "execution_count": 3,
   "id": "d3efe25d",
   "metadata": {},
   "outputs": [],
   "source": [
    "def update_Θ(X,R,a_0,b_0,K):\n",
    "    N,D = X.shape\n",
    "\n",
    "    a = np.zeros((K,D))\n",
    "    b = np.zeros((K,D))\n",
    "\n",
    "    for k in range(K):\n",
    "        a[k,:] = a_0[k,:] + (R[:,k].T @ X)\n",
    "        b[k,:] = b_0[k,:] + (R[:,k].T @ (1 - X))\n",
    "\n",
    "    return a,b"
   ]
  },
  {
   "cell_type": "code",
   "execution_count": 4,
   "id": "125f06ca",
   "metadata": {},
   "outputs": [],
   "source": [
    "def bernoulli_logprob(X,a,b,K):\n",
    "    N,D = X.shape \n",
    "\n",
    "    logprob = np.zeros((N,K))\n",
    "\n",
    "    for k in range(K):\n",
    "        logprob[:,k] = X @ (digamma(a[k,:]) - digamma(a[k,:] + b[k,:])) + (1 - X) @ (digamma(b[k,:]) - digamma(a[k,:] + b[k,:]))\n",
    "\n",
    "    return logprob"
   ]
  },
  {
   "cell_type": "code",
   "execution_count": 5,
   "id": "1b257126",
   "metadata": {},
   "outputs": [],
   "source": [
    "def update_π(R,α_0):\n",
    "    αs = α_0 + np.sum(R, axis=0) \n",
    "\n",
    "    return αs"
   ]
  },
  {
   "cell_type": "code",
   "execution_count": 6,
   "id": "a4168dbd",
   "metadata": {},
   "outputs": [],
   "source": [
    "def update_z(X,dataLogProb,α,πs,K,mode=0):\n",
    "    N,D = X.shape\n",
    "\n",
    "    R = np.zeros((N,K))\n",
    "\n",
    "    α_sum = psi(np.sum(α))\n",
    "\n",
    "    for k in range(K):\n",
    "        logprior = psi(α[k]) - α_sum\n",
    "\n",
    "        R[:,k] = dataLogProb[:,k].copy()\n",
    "\n",
    "        if mode == 0:\n",
    "            R[:,k] += logprior\n",
    "        elif mode == 1:\n",
    "            R[:,k] += np.log(πs[k])\n",
    "\n",
    "    log_norm = logsumexp(R,axis=1,keepdims=True)\n",
    "\n",
    "    R = np.exp(R - log_norm)\n",
    "\n",
    "    loglik = np.sum(log_norm) / N\n",
    "\n",
    "    return R,loglik   "
   ]
  },
  {
   "cell_type": "code",
   "execution_count": 7,
   "id": "74f70d60",
   "metadata": {},
   "outputs": [],
   "source": [
    "def meanfield_vi(X,K,mode=0,max_iters=100,tol=1e-4):\n",
    "    N,D = X.shape\n",
    "\n",
    "    α_0 = np.full(K, 1, dtype=np.float64)\n",
    "    a_0  = np.full((K, D), 1) # Beta\n",
    "    b_0  = np.full((K, D), 1) # Beta\n",
    "\n",
    "    a = a_0.copy()+ rng.gamma(1.0, 0.1, size=(K, D))\n",
    "    b = b_0.copy()+ rng.gamma(1.0, 0.1, size=(K, D))\n",
    "    α = α_0.copy()\n",
    "    πs = rng.dirichlet(alpha=α)\n",
    "\n",
    "    loglikes = []\n",
    "\n",
    "    for t in range(max_iters):\n",
    "        dataLogProb = bernoulli_logprob(X, a,b,K)\n",
    "        R,loglike = update_z(X,dataLogProb,α,πs,K,mode=mode)\n",
    "\n",
    "        α = update_π(R,α_0)\n",
    "        a,b = update_Θ(X,R,a_0,b_0,K)\n",
    "\n",
    "        loglikes.append(loglike)\n",
    "\n",
    "        if t > 1 and np.abs(loglikes[t] - loglikes[t-1]) < tol:\n",
    "            break\n",
    "\n",
    "    return R, a, b, α, loglikes"
   ]
  },
  {
   "cell_type": "markdown",
   "id": "72e49b73",
   "metadata": {},
   "source": [
    "## Evaluation"
   ]
  },
  {
   "cell_type": "code",
   "execution_count": 8,
   "id": "9076b1b2",
   "metadata": {},
   "outputs": [],
   "source": [
    "from sklearn.datasets import fetch_openml\n",
    "mnist = fetch_openml('mnist_784', parser ='auto')"
   ]
  },
  {
   "cell_type": "code",
   "execution_count": 9,
   "id": "d53e64ac",
   "metadata": {},
   "outputs": [],
   "source": [
    "X_mnist = np.array(mnist.data) > 0.5 # binary-rise the data\n",
    "Y_mnist = np.array(mnist.target, dtype ='int')\n",
    "X_mnist_train = X_mnist[:4000, :] # use the first 4000 images as training data\n",
    "Y_mnist_train = Y_mnist[:4000]\n",
    "X_mnist_test = X_mnist[4000:5000, :] # the next 1000 as testing\n",
    "Y_mnist_test = Y_mnist[4000:5000]"
   ]
  },
  {
   "cell_type": "code",
   "execution_count": 11,
   "id": "eacc255d",
   "metadata": {},
   "outputs": [
    {
     "data": {
      "text/plain": [
       "0.38683192534854677"
      ]
     },
     "execution_count": 11,
     "metadata": {},
     "output_type": "execute_result"
    }
   ],
   "source": [
    "R, a, b, α, loglikes = meanfield_vi(X_mnist_train, 10,mode=0)\n",
    "zs = np.argmax(R,axis=1)\n",
    "metrics.adjusted_rand_score(Y_mnist_train, zs)"
   ]
  },
  {
   "cell_type": "code",
   "execution_count": 28,
   "id": "c9193229",
   "metadata": {},
   "outputs": [
    {
     "data": {
      "text/plain": [
       "[<matplotlib.lines.Line2D at 0x7ff8689ee610>]"
      ]
     },
     "execution_count": 28,
     "metadata": {},
     "output_type": "execute_result"
    },
    {
     "data": {
      "image/png": "[encoded data removed]",
      "text/plain": [
       "<Figure size 640x480 with 1 Axes>"
      ]
     },
     "metadata": {},
     "output_type": "display_data"
    }
   ],
   "source": [
    "plt.plot(loglikes)"
   ]
  },
  {
   "cell_type": "code",
   "execution_count": 12,
   "id": "969cae2a",
   "metadata": {},
   "outputs": [
    {
     "data": {
      "image/png": "[encoded data removed]",
      "text/plain": [
       "<Figure size 640x480 with 1 Axes>"
      ]
     },
     "metadata": {},
     "output_type": "display_data"
    }
   ],
   "source": [
    "scores = []\n",
    "for i in range(0,25):\n",
    "    R, a, b, α, loglikes = meanfield_vi(X_mnist_train, 10,mode=0)\n",
    "    zs = np.argmax(R,axis=1)\n",
    "    scores.append(metrics.adjusted_rand_score(Y_mnist_train, zs))\n",
    "\n",
    "plt.plot(scores)\n",
    "plt.show()"
   ]
  },
  {
   "cell_type": "code",
   "execution_count": null,
   "id": "ac169176",
   "metadata": {},
   "outputs": [],
   "source": []
  }
 ],
 "metadata": {
  "kernelspec": {
   "display_name": "myenv",
   "language": "python",
   "name": "python3"
  },
  "language_info": {
   "codemirror_mode": {
    "name": "ipython",
    "version": 3
   },
   "file_extension": ".py",
   "mimetype": "text/x-python",
   "name": "python",
   "nbconvert_exporter": "python",
   "pygments_lexer": "ipython3",
   "version": "3.9.21"
  }
 },
 "nbformat": 4,
 "nbformat_minor": 5
}
