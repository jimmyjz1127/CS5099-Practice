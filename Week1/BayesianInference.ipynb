{
 "cells": [
  {
   "cell_type": "markdown",
   "id": "16d6d55d",
   "metadata": {},
   "source": [
    "Instructions:\n",
    "\n",
    "Implement Bayesian inference\n",
    "1) Randomly generate n=100 (2D) random samples from a MVN with mean [-1, 1]; covariance [2, 1.3; 1.3; 4] \n",
    "2) Use Gibbs sampling to infer unknown parameters : mean & covariance"
   ]
  },
  {
   "cell_type": "code",
   "execution_count": 31,
   "id": "e5321f08",
   "metadata": {},
   "outputs": [],
   "source": [
    "import numpy as np\n",
    "import matplotlib.pyplot as plt\n",
    "import pandas as pd\n",
    "import seaborn as sns\n",
    "import random"
   ]
  },
  {
   "cell_type": "markdown",
   "id": "9072da59",
   "metadata": {},
   "source": [
    "# 1 Generate Data from MVN"
   ]
  },
  {
   "cell_type": "code",
   "execution_count": 26,
   "id": "4fedb10a",
   "metadata": {},
   "outputs": [],
   "source": [
    "random_seed = 123\n",
    "rng = np.random.default_rng(random_seed)"
   ]
  },
  {
   "cell_type": "code",
   "execution_count": 52,
   "id": "57a88d95",
   "metadata": {},
   "outputs": [],
   "source": [
    "μ = np.array([-1, 1])\n",
    "Σ = np.array([[2, 1.3], [1.3, 4]])\n",
    "X = np.random.multivariate_normal(μ, Σ, size=100)"
   ]
  },
  {
   "cell_type": "markdown",
   "id": "88f837aa",
   "metadata": {},
   "source": [
    "# 2 Bayesian Inference Setup"
   ]
  },
  {
   "cell_type": "markdown",
   "id": "c71642c8",
   "metadata": {},
   "source": [
    "Posterior distribution (Normal Inverse Wishart) of $\\mu$ and $\\Sigma$\n",
    "\n",
    "$$\\begin{align}\n",
    "\n",
    "    p(\\mu,\\Sigma | D) &= \\mathcal{N}(\\mu|\\mathbf{m}_N, \\frac{1}{\\kappa_N}\\Sigma) \\times \\mathcal{IW}(\\Sigma,\\mathbf{S}_N, \\nu_N)\\\\ &= \\mathcal{NIW}(\\mu,\\Sigma | \\mathbf{m}_N, \\kappa_N, \\nu_N, \\mathbf{S}_N)\\\\\\\\\n",
    "\n",
    "    m_N &= \\frac{\\kappa_0\\mathbf{m}_0 + N\\bar{\\mathbf{x}}}{\\kappa_0 + N} \\\\\n",
    "    \\kappa_N &= \\kappa_0 + N\\\\\n",
    "    \\nu_N &= \\nu_0 + N \\\\\n",
    "    \\mathbf{S}_N &= \\mathbf{S}_0 + \\mathbf{S}_{\\bar{\\mathbf{x}}} + \\frac{\\kappa_0N}{\\kappa_0 + N}(\\bar{\\mathbf{x}} - \\mathbf{m}_0)(\\bar{\\mathbf{x}} - \\mathbf{m}_0)^T\\\\\n",
    "    &= \\mathbf{S}_0 + \\mathbf{S} + \\kappa_0\\mathbf{m}_0\\mathbf{m}_0^T - \\kappa_N\\mathbf{m}_N\\mathbf{m}_N^T \\\\\n",
    "\n",
    "    \\mathbf{S} &= \\sum_{i=1}^{N} \\mathbf{x}_i\\mathbf{x}_i^T\n",
    "    \n",
    "\\end{align}$$"
   ]
  },
  {
   "cell_type": "markdown",
   "id": "b0d9c8a5",
   "metadata": {},
   "source": [
    "Bartlett Decomposition for Sampling from Inverse-Wishart\n",
    "\n",
    "\n",
    "\n"
   ]
  },
  {
   "cell_type": "code",
   "execution_count": null,
   "id": "ab49e8d7",
   "metadata": {},
   "outputs": [],
   "source": [
    "def gibbs(X, num_iters, num_burn, eps=1e-14):\n",
    "    n,d = X.shape\n",
    "\n",
    "    x_bar = X.mean(axis=0)\n",
    "\n",
    "    μ_samples = np.zeros((num_iters + num_burn, d))\n",
    "    Σ_samples = np.zeros((num_iters + num_burn, d, d))\n",
    "\n",
    "    k_0 = 0.01\n",
    "    k_n = k_0 + n\n",
    "\n",
    "    μ_0 = x_bar.copy()\n",
    "\n",
    "    ν_0 = d + 2 \n",
    "    S_0 = np.eye(d)\n",
    "\n",
    "    # Initialize\n",
    "    Σ_samples[0] = np.cov(X.T)\n",
    "    μ_samples[0] = x_bar.copy()\n",
    "\n",
    "    for i in range(1, num_iters + num_burn):\n",
    "        # Sample μ\n",
    "        μ_n = (k_0 * μ_0 + n * x_bar) / k_n\n",
    "        Σ_n = Σ_samples[i-1]/k_n\n",
    "        μ = np.random.multivariate_normal(mean=μ_n, cov=Σ_n)\n",
    "\n",
    "        # Sample Σ\n",
    "        # S = np.sum([(x - μ).reshape(-1, 1) @ (x - μ).reshape(1, -1) for x in X], axis=0)\n",
    "        S = sum(x @ x.T for x in X)\n",
    "        # diff = (x_bar - μ_0).reshape(-1, 1)\n",
    "        # S_n = S_0 + S + (k_0 * n) / k_n * (diff @ diff.T)\n",
    "        S_n = S_0 + S + (k_0 * (μ_0 @ μ_0.T)) - (k_n * (μ_n @ μ_n.T))\n",
    "        ν_n = ν_0 + n\n",
    "\n",
    "        # Sample from Inverse-Wishart using Bartlett decomposition\n",
    "        T = np.zeros((d, d))\n",
    "        for i in range(d):\n",
    "            T[i, i] = np.sqrt(np.random.chisquare(ν_n - i))\n",
    "            for j in range(i):\n",
    "                T[i, j] = np.random.normal()\n",
    "\n",
    "        A = T @ T.T\n",
    "        L = np.linalg.cholesky(np.linalg.inv(S_n))\n",
    "        W = L @ A @ L.T\n",
    "        Sigma = np.linalg.inv(W)\n",
    "\n",
    "        # Store\n",
    "        μ_samples[i] = μ\n",
    "        Σ_samples[i] = Sigma\n",
    "\n",
    "    return μ_samples[num_burn:], Σ_samples[num_burn:]\n",
    "\n"
   ]
  },
  {
   "cell_type": "code",
   "execution_count": 66,
   "id": "0f2e61b4",
   "metadata": {},
   "outputs": [],
   "source": [
    "mus, sigmas = gibbs(X,1000, 100)"
   ]
  },
  {
   "cell_type": "code",
   "execution_count": 67,
   "id": "5eeae6f7",
   "metadata": {},
   "outputs": [
    {
     "name": "stdout",
     "output_type": "stream",
     "text": [
      "[0. 0.] [[0. 0.]\n",
      " [0. 0.]]\n"
     ]
    }
   ],
   "source": [
    "print(mus[-1], sigmas[-10])"
   ]
  },
  {
   "cell_type": "code",
   "execution_count": null,
   "id": "ecb748b9",
   "metadata": {},
   "outputs": [],
   "source": []
  }
 ],
 "metadata": {
  "kernelspec": {
   "display_name": "myenv",
   "language": "python",
   "name": "python3"
  },
  "language_info": {
   "codemirror_mode": {
    "name": "ipython",
    "version": 3
   },
   "file_extension": ".py",
   "mimetype": "text/x-python",
   "name": "python",
   "nbconvert_exporter": "python",
   "pygments_lexer": "ipython3",
   "version": "3.9.21"
  }
 },
 "nbformat": 4,
 "nbformat_minor": 5
}
