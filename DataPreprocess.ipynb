{
 "cells": [
  {
   "cell_type": "code",
   "execution_count": 28,
   "id": "3f4b4ff4",
   "metadata": {},
   "outputs": [],
   "source": [
    "import numpy as np\n",
    "import pandas as pd\n",
    "import seaborn as sns\n",
    "import matplotlib.pyplot as plt\n",
    "from argparse import Namespace\n",
    "from sklearn.compose import ColumnTransformer\n",
    "from sklearn.preprocessing import StandardScaler\n",
    "from sklearn.model_selection import train_test_split\n",
    "from sklearn.pipeline import Pipeline\n",
    "from sklearn.base import BaseEstimator, TransformerMixin\n",
    "from sklearn import set_config\n",
    "from sklearn.preprocessing import OneHotEncoder"
   ]
  },
  {
   "cell_type": "markdown",
   "id": "dfae2cb9",
   "metadata": {},
   "source": [
    "# Gaussian Datasets"
   ]
  },
  {
   "cell_type": "code",
   "execution_count": 26,
   "id": "b5e221e5",
   "metadata": {},
   "outputs": [],
   "source": [
    "path = \"./../Datasets/Gaussian/Raw/penguins_size.csv\"\n",
    "y_name = \"species\"\n",
    "name = 'penguin'"
   ]
  },
  {
   "cell_type": "code",
   "execution_count": 15,
   "id": "1a8070be",
   "metadata": {},
   "outputs": [
    {
     "data": {
      "text/html": [
       "<div>\n",
       "<style scoped>\n",
       "    .dataframe tbody tr th:only-of-type {\n",
       "        vertical-align: middle;\n",
       "    }\n",
       "\n",
       "    .dataframe tbody tr th {\n",
       "        vertical-align: top;\n",
       "    }\n",
       "\n",
       "    .dataframe thead th {\n",
       "        text-align: right;\n",
       "    }\n",
       "</style>\n",
       "<table border=\"1\" class=\"dataframe\">\n",
       "  <thead>\n",
       "    <tr style=\"text-align: right;\">\n",
       "      <th></th>\n",
       "      <th>species</th>\n",
       "      <th>island</th>\n",
       "      <th>culmen_length_mm</th>\n",
       "      <th>culmen_depth_mm</th>\n",
       "      <th>flipper_length_mm</th>\n",
       "      <th>body_mass_g</th>\n",
       "      <th>sex</th>\n",
       "    </tr>\n",
       "  </thead>\n",
       "  <tbody>\n",
       "    <tr>\n",
       "      <th>0</th>\n",
       "      <td>Adelie</td>\n",
       "      <td>Torgersen</td>\n",
       "      <td>39.1</td>\n",
       "      <td>18.7</td>\n",
       "      <td>181.0</td>\n",
       "      <td>3750.0</td>\n",
       "      <td>MALE</td>\n",
       "    </tr>\n",
       "    <tr>\n",
       "      <th>1</th>\n",
       "      <td>Adelie</td>\n",
       "      <td>Torgersen</td>\n",
       "      <td>39.5</td>\n",
       "      <td>17.4</td>\n",
       "      <td>186.0</td>\n",
       "      <td>3800.0</td>\n",
       "      <td>FEMALE</td>\n",
       "    </tr>\n",
       "    <tr>\n",
       "      <th>2</th>\n",
       "      <td>Adelie</td>\n",
       "      <td>Torgersen</td>\n",
       "      <td>40.3</td>\n",
       "      <td>18.0</td>\n",
       "      <td>195.0</td>\n",
       "      <td>3250.0</td>\n",
       "      <td>FEMALE</td>\n",
       "    </tr>\n",
       "    <tr>\n",
       "      <th>3</th>\n",
       "      <td>Adelie</td>\n",
       "      <td>Torgersen</td>\n",
       "      <td>NaN</td>\n",
       "      <td>NaN</td>\n",
       "      <td>NaN</td>\n",
       "      <td>NaN</td>\n",
       "      <td>NaN</td>\n",
       "    </tr>\n",
       "    <tr>\n",
       "      <th>4</th>\n",
       "      <td>Adelie</td>\n",
       "      <td>Torgersen</td>\n",
       "      <td>36.7</td>\n",
       "      <td>19.3</td>\n",
       "      <td>193.0</td>\n",
       "      <td>3450.0</td>\n",
       "      <td>FEMALE</td>\n",
       "    </tr>\n",
       "  </tbody>\n",
       "</table>\n",
       "</div>"
      ],
      "text/plain": [
       "  species     island  culmen_length_mm  culmen_depth_mm  flipper_length_mm  \\\n",
       "0  Adelie  Torgersen              39.1             18.7              181.0   \n",
       "1  Adelie  Torgersen              39.5             17.4              186.0   \n",
       "2  Adelie  Torgersen              40.3             18.0              195.0   \n",
       "3  Adelie  Torgersen               NaN              NaN                NaN   \n",
       "4  Adelie  Torgersen              36.7             19.3              193.0   \n",
       "\n",
       "   body_mass_g     sex  \n",
       "0       3750.0    MALE  \n",
       "1       3800.0  FEMALE  \n",
       "2       3250.0  FEMALE  \n",
       "3          NaN     NaN  \n",
       "4       3450.0  FEMALE  "
      ]
     },
     "execution_count": 15,
     "metadata": {},
     "output_type": "execute_result"
    }
   ],
   "source": [
    "df = pd.read_csv(path)\n",
    "df.head()"
   ]
  },
  {
   "cell_type": "code",
   "execution_count": 17,
   "id": "961b3bf7",
   "metadata": {},
   "outputs": [
    {
     "data": {
      "text/plain": [
       "species               0\n",
       "island                0\n",
       "culmen_length_mm      2\n",
       "culmen_depth_mm       2\n",
       "flipper_length_mm     2\n",
       "body_mass_g           2\n",
       "sex                  10\n",
       "dtype: int64"
      ]
     },
     "execution_count": 17,
     "metadata": {},
     "output_type": "execute_result"
    }
   ],
   "source": [
    "df.isna().sum(axis=0)"
   ]
  },
  {
   "cell_type": "code",
   "execution_count": 18,
   "id": "709df110",
   "metadata": {},
   "outputs": [],
   "source": [
    "df = df[~df[['culmen_length_mm', 'culmen_depth_mm', 'flipper_length_mm', 'body_mass_g']].isna().all(axis=1)]"
   ]
  },
  {
   "cell_type": "code",
   "execution_count": 19,
   "id": "9b42fa75",
   "metadata": {},
   "outputs": [
    {
     "data": {
      "text/plain": [
       "species              0\n",
       "island               0\n",
       "culmen_length_mm     0\n",
       "culmen_depth_mm      0\n",
       "flipper_length_mm    0\n",
       "body_mass_g          0\n",
       "sex                  8\n",
       "dtype: int64"
      ]
     },
     "execution_count": 19,
     "metadata": {},
     "output_type": "execute_result"
    }
   ],
   "source": [
    "df.isna().sum(axis=0)"
   ]
  },
  {
   "cell_type": "code",
   "execution_count": 22,
   "id": "f30290b7",
   "metadata": {},
   "outputs": [],
   "source": [
    "drop_columns = [y_name, \"sex\", \"island\"]\n",
    "\n",
    "y = pd.Categorical(df[y_name]).codes\n",
    "X = df.drop(columns=drop_columns)\n",
    "\n",
    "X_train, X_test, y_train, y_test = train_test_split(X, y, test_size=0.2, stratify=y, random_state=42)"
   ]
  },
  {
   "cell_type": "code",
   "execution_count": 23,
   "id": "28370f86",
   "metadata": {},
   "outputs": [],
   "source": [
    "pipeline = Pipeline([\n",
    "    ('scaler', StandardScaler())\n",
    "])\n",
    "\n",
    "X_train_prepared = pipeline.fit_transform(X_train)\n",
    "X_test_prepared = pipeline.transform(X_test)"
   ]
  },
  {
   "cell_type": "code",
   "execution_count": 24,
   "id": "2bdd5f9b",
   "metadata": {},
   "outputs": [
    {
     "data": {
      "text/plain": [
       "array([0, 0, 0, 2, 1, 0, 2, 2, 1, 2, 0, 2, 1, 2, 0, 0, 2, 2, 0, 1, 0, 0,\n",
       "       0, 0, 0, 1, 0, 0, 2, 0, 1, 0, 0, 2, 0, 0, 2, 2, 0, 0, 2, 2, 2, 0,\n",
       "       0, 0, 0, 0, 2, 1, 2, 1, 2, 2, 2, 2, 2, 0, 2, 0, 0, 2, 0, 0, 1, 1,\n",
       "       0, 0, 0, 0, 2, 1, 0, 2, 1, 0, 1, 0, 2, 2, 0, 2, 2, 0, 0, 2, 0, 2,\n",
       "       1, 1, 2, 2, 0, 1, 1, 2, 0, 1, 0, 0, 0, 2, 0, 2, 1, 2, 1, 2, 2, 1,\n",
       "       0, 1, 0, 1, 2, 2, 0, 0, 2, 2, 2, 2, 1, 2, 0, 2, 0, 0, 0, 0, 0, 2,\n",
       "       1, 0, 0, 0, 1, 0, 0, 0, 1, 2, 1, 1, 2, 2, 0, 0, 0, 0, 2, 2, 0, 2,\n",
       "       0, 1, 2, 2, 0, 1, 2, 2, 2, 0, 0, 2, 0, 0, 2, 0, 2, 0, 0, 0, 2, 0,\n",
       "       2, 0, 2, 0, 0, 2, 2, 2, 2, 2, 2, 1, 1, 2, 0, 2, 2, 0, 2, 2, 2, 0,\n",
       "       0, 0, 1, 0, 1, 1, 0, 0, 0, 1, 0, 0, 1, 0, 0, 1, 1, 0, 2, 0, 1, 0,\n",
       "       2, 0, 1, 2, 2, 2, 2, 1, 1, 1, 2, 1, 0, 1, 0, 0, 0, 1, 0, 2, 0, 0,\n",
       "       2, 2, 0, 0, 1, 0, 1, 2, 1, 2, 2, 0, 2, 2, 2, 0, 2, 0, 2, 0, 0, 0,\n",
       "       1, 2, 1, 0, 0, 2, 0, 0, 1], dtype=int8)"
      ]
     },
     "execution_count": 24,
     "metadata": {},
     "output_type": "execute_result"
    }
   ],
   "source": [
    "y_train"
   ]
  },
  {
   "cell_type": "code",
   "execution_count": 28,
   "id": "2b7b163f",
   "metadata": {},
   "outputs": [],
   "source": [
    "np.save(f\"./../Datasets/Gaussian/Processed/{name}/X_train_{name}.npy\", X_train_prepared)\n",
    "np.save(f\"./../Datasets/Gaussian/Processed/{name}/y_train_{name}.npy\", y_train)\n",
    "np.save(f\"./../Datasets/Gaussian/Processed/{name}/X_test_{name}.npy\", X_test_prepared)\n",
    "np.save(f\"./../Datasets/Gaussian/Processed/{name}/y_test_{name}.npy\", y_test)"
   ]
  },
  {
   "cell_type": "markdown",
   "id": "f6474e86",
   "metadata": {},
   "source": [
    "# Mushroom"
   ]
  },
  {
   "cell_type": "code",
   "execution_count": 33,
   "id": "d0113983",
   "metadata": {},
   "outputs": [],
   "source": [
    "df = pd.read_csv(\"./../Datasets/Bernoulli/Raw/mushroom.csv\")"
   ]
  },
  {
   "cell_type": "code",
   "execution_count": 34,
   "id": "86c692a3",
   "metadata": {},
   "outputs": [
    {
     "data": {
      "text/html": [
       "<div>\n",
       "<style scoped>\n",
       "    .dataframe tbody tr th:only-of-type {\n",
       "        vertical-align: middle;\n",
       "    }\n",
       "\n",
       "    .dataframe tbody tr th {\n",
       "        vertical-align: top;\n",
       "    }\n",
       "\n",
       "    .dataframe thead th {\n",
       "        text-align: right;\n",
       "    }\n",
       "</style>\n",
       "<table border=\"1\" class=\"dataframe\">\n",
       "  <thead>\n",
       "    <tr style=\"text-align: right;\">\n",
       "      <th></th>\n",
       "      <th>cap-shape</th>\n",
       "      <th>cap-surface</th>\n",
       "      <th>cap-color</th>\n",
       "      <th>bruises%3F</th>\n",
       "      <th>odor</th>\n",
       "      <th>gill-attachment</th>\n",
       "      <th>gill-spacing</th>\n",
       "      <th>gill-size</th>\n",
       "      <th>gill-color</th>\n",
       "      <th>stalk-shape</th>\n",
       "      <th>...</th>\n",
       "      <th>stalk-color-above-ring</th>\n",
       "      <th>stalk-color-below-ring</th>\n",
       "      <th>veil-type</th>\n",
       "      <th>veil-color</th>\n",
       "      <th>ring-number</th>\n",
       "      <th>ring-type</th>\n",
       "      <th>spore-print-color</th>\n",
       "      <th>population</th>\n",
       "      <th>habitat</th>\n",
       "      <th>class</th>\n",
       "    </tr>\n",
       "  </thead>\n",
       "  <tbody>\n",
       "    <tr>\n",
       "      <th>0</th>\n",
       "      <td>b'x'</td>\n",
       "      <td>b's'</td>\n",
       "      <td>b'n'</td>\n",
       "      <td>b't'</td>\n",
       "      <td>b'p'</td>\n",
       "      <td>b'f'</td>\n",
       "      <td>b'c'</td>\n",
       "      <td>b'n'</td>\n",
       "      <td>b'k'</td>\n",
       "      <td>b'e'</td>\n",
       "      <td>...</td>\n",
       "      <td>b'w'</td>\n",
       "      <td>b'w'</td>\n",
       "      <td>b'p'</td>\n",
       "      <td>b'w'</td>\n",
       "      <td>b'o'</td>\n",
       "      <td>b'p'</td>\n",
       "      <td>b'k'</td>\n",
       "      <td>b's'</td>\n",
       "      <td>b'u'</td>\n",
       "      <td>b'p'</td>\n",
       "    </tr>\n",
       "    <tr>\n",
       "      <th>1</th>\n",
       "      <td>b'x'</td>\n",
       "      <td>b's'</td>\n",
       "      <td>b'y'</td>\n",
       "      <td>b't'</td>\n",
       "      <td>b'a'</td>\n",
       "      <td>b'f'</td>\n",
       "      <td>b'c'</td>\n",
       "      <td>b'b'</td>\n",
       "      <td>b'k'</td>\n",
       "      <td>b'e'</td>\n",
       "      <td>...</td>\n",
       "      <td>b'w'</td>\n",
       "      <td>b'w'</td>\n",
       "      <td>b'p'</td>\n",
       "      <td>b'w'</td>\n",
       "      <td>b'o'</td>\n",
       "      <td>b'p'</td>\n",
       "      <td>b'n'</td>\n",
       "      <td>b'n'</td>\n",
       "      <td>b'g'</td>\n",
       "      <td>b'e'</td>\n",
       "    </tr>\n",
       "    <tr>\n",
       "      <th>2</th>\n",
       "      <td>b'b'</td>\n",
       "      <td>b's'</td>\n",
       "      <td>b'w'</td>\n",
       "      <td>b't'</td>\n",
       "      <td>b'l'</td>\n",
       "      <td>b'f'</td>\n",
       "      <td>b'c'</td>\n",
       "      <td>b'b'</td>\n",
       "      <td>b'n'</td>\n",
       "      <td>b'e'</td>\n",
       "      <td>...</td>\n",
       "      <td>b'w'</td>\n",
       "      <td>b'w'</td>\n",
       "      <td>b'p'</td>\n",
       "      <td>b'w'</td>\n",
       "      <td>b'o'</td>\n",
       "      <td>b'p'</td>\n",
       "      <td>b'n'</td>\n",
       "      <td>b'n'</td>\n",
       "      <td>b'm'</td>\n",
       "      <td>b'e'</td>\n",
       "    </tr>\n",
       "    <tr>\n",
       "      <th>3</th>\n",
       "      <td>b'x'</td>\n",
       "      <td>b'y'</td>\n",
       "      <td>b'w'</td>\n",
       "      <td>b't'</td>\n",
       "      <td>b'p'</td>\n",
       "      <td>b'f'</td>\n",
       "      <td>b'c'</td>\n",
       "      <td>b'n'</td>\n",
       "      <td>b'n'</td>\n",
       "      <td>b'e'</td>\n",
       "      <td>...</td>\n",
       "      <td>b'w'</td>\n",
       "      <td>b'w'</td>\n",
       "      <td>b'p'</td>\n",
       "      <td>b'w'</td>\n",
       "      <td>b'o'</td>\n",
       "      <td>b'p'</td>\n",
       "      <td>b'k'</td>\n",
       "      <td>b's'</td>\n",
       "      <td>b'u'</td>\n",
       "      <td>b'p'</td>\n",
       "    </tr>\n",
       "    <tr>\n",
       "      <th>4</th>\n",
       "      <td>b'x'</td>\n",
       "      <td>b's'</td>\n",
       "      <td>b'g'</td>\n",
       "      <td>b'f'</td>\n",
       "      <td>b'n'</td>\n",
       "      <td>b'f'</td>\n",
       "      <td>b'w'</td>\n",
       "      <td>b'b'</td>\n",
       "      <td>b'k'</td>\n",
       "      <td>b't'</td>\n",
       "      <td>...</td>\n",
       "      <td>b'w'</td>\n",
       "      <td>b'w'</td>\n",
       "      <td>b'p'</td>\n",
       "      <td>b'w'</td>\n",
       "      <td>b'o'</td>\n",
       "      <td>b'e'</td>\n",
       "      <td>b'n'</td>\n",
       "      <td>b'a'</td>\n",
       "      <td>b'g'</td>\n",
       "      <td>b'e'</td>\n",
       "    </tr>\n",
       "  </tbody>\n",
       "</table>\n",
       "<p>5 rows × 23 columns</p>\n",
       "</div>"
      ],
      "text/plain": [
       "  cap-shape cap-surface cap-color bruises%3F  odor gill-attachment  \\\n",
       "0      b'x'        b's'      b'n'       b't'  b'p'            b'f'   \n",
       "1      b'x'        b's'      b'y'       b't'  b'a'            b'f'   \n",
       "2      b'b'        b's'      b'w'       b't'  b'l'            b'f'   \n",
       "3      b'x'        b'y'      b'w'       b't'  b'p'            b'f'   \n",
       "4      b'x'        b's'      b'g'       b'f'  b'n'            b'f'   \n",
       "\n",
       "  gill-spacing gill-size gill-color stalk-shape  ... stalk-color-above-ring  \\\n",
       "0         b'c'      b'n'       b'k'        b'e'  ...                   b'w'   \n",
       "1         b'c'      b'b'       b'k'        b'e'  ...                   b'w'   \n",
       "2         b'c'      b'b'       b'n'        b'e'  ...                   b'w'   \n",
       "3         b'c'      b'n'       b'n'        b'e'  ...                   b'w'   \n",
       "4         b'w'      b'b'       b'k'        b't'  ...                   b'w'   \n",
       "\n",
       "  stalk-color-below-ring veil-type veil-color ring-number ring-type  \\\n",
       "0                   b'w'      b'p'       b'w'        b'o'      b'p'   \n",
       "1                   b'w'      b'p'       b'w'        b'o'      b'p'   \n",
       "2                   b'w'      b'p'       b'w'        b'o'      b'p'   \n",
       "3                   b'w'      b'p'       b'w'        b'o'      b'p'   \n",
       "4                   b'w'      b'p'       b'w'        b'o'      b'e'   \n",
       "\n",
       "  spore-print-color population habitat class  \n",
       "0              b'k'       b's'    b'u'  b'p'  \n",
       "1              b'n'       b'n'    b'g'  b'e'  \n",
       "2              b'n'       b'n'    b'm'  b'e'  \n",
       "3              b'k'       b's'    b'u'  b'p'  \n",
       "4              b'n'       b'a'    b'g'  b'e'  \n",
       "\n",
       "[5 rows x 23 columns]"
      ]
     },
     "execution_count": 34,
     "metadata": {},
     "output_type": "execute_result"
    }
   ],
   "source": [
    "df.head()\n"
   ]
  },
  {
   "cell_type": "code",
   "execution_count": 35,
   "id": "fe82ed4d",
   "metadata": {},
   "outputs": [
    {
     "data": {
      "text/plain": [
       "cap-shape                    6\n",
       "cap-surface                  4\n",
       "cap-color                   10\n",
       "bruises%3F                   2\n",
       "odor                         9\n",
       "gill-attachment              2\n",
       "gill-spacing                 2\n",
       "gill-size                    2\n",
       "gill-color                  12\n",
       "stalk-shape                  2\n",
       "stalk-root                   5\n",
       "stalk-surface-above-ring     4\n",
       "stalk-surface-below-ring     4\n",
       "stalk-color-above-ring       9\n",
       "stalk-color-below-ring       9\n",
       "veil-type                    1\n",
       "veil-color                   4\n",
       "ring-number                  3\n",
       "ring-type                    5\n",
       "spore-print-color            9\n",
       "population                   6\n",
       "habitat                      7\n",
       "class                        2\n",
       "dtype: int64"
      ]
     },
     "execution_count": 35,
     "metadata": {},
     "output_type": "execute_result"
    }
   ],
   "source": [
    "df.nunique()"
   ]
  },
  {
   "cell_type": "code",
   "execution_count": 17,
   "id": "cab5774a",
   "metadata": {},
   "outputs": [],
   "source": [
    "def binarize_all_columns(df):\n",
    "    df_bin = df.copy()\n",
    "    for col in df_bin.columns:\n",
    "        unique_vals = df_bin[col].dropna().unique()\n",
    "        if len(unique_vals) != 2:\n",
    "            raise ValueError(f\"Column '{col}' does not have exactly 2 unique values.\")\n",
    "        val_map = {unique_vals[0]: 0, unique_vals[1]: 1}\n",
    "        df_bin[col] = df_bin[col].map(val_map)\n",
    "    return df_bin"
   ]
  },
  {
   "cell_type": "code",
   "execution_count": null,
   "id": "31e991e7",
   "metadata": {},
   "outputs": [],
   "source": [
    "drop_columns = [\"stock-root, class\"]\n",
    "\n",
    "y = pd.Categorical(df['class']).codes\n",
    "X = df.drop(columns=drop_columns)\n",
    "\n",
    "\n",
    "X_train, X_test, y_train, y_test = train_test_split(X, y, test_size=0.2, stratify=y, random_state=42)\n",
    "\n",
    "pipeline = Pipeline([\n",
    "    ('onehot', OneHotEncoder(drop=\"first\"))\n",
    "])\n",
    "\n",
    "X_train_prepared = pipeline.fit_transform(X_train)\n",
    "X_test_prepared = pipeline.transform(X_test)"
   ]
  },
  {
   "cell_type": "code",
   "execution_count": 23,
   "id": "7eec9920",
   "metadata": {},
   "outputs": [],
   "source": [
    "name=\"mushroom\"\n",
    "np.save(f\"./../Datasets/Bernoulli/Processed/{name}/X_train_{name}.npy\", X_train)\n",
    "np.save(f\"./../Datasets/Bernoulli/Processed/{name}/y_train_{name}.npy\", y_train)\n",
    "np.save(f\"./../Datasets/Bernoulli/Processed/{name}/X_test_{name}.npy\", X_test)\n",
    "np.save(f\"./../Datasets/Bernoulli/Processed/{name}/y_test_{name}.npy\", y_test)"
   ]
  },
  {
   "cell_type": "code",
   "execution_count": null,
   "id": "0de5f5ef",
   "metadata": {},
   "outputs": [],
   "source": []
  }
 ],
 "metadata": {
  "kernelspec": {
   "display_name": "myenv",
   "language": "python",
   "name": "python3"
  },
  "language_info": {
   "codemirror_mode": {
    "name": "ipython",
    "version": 3
   },
   "file_extension": ".py",
   "mimetype": "text/x-python",
   "name": "python",
   "nbconvert_exporter": "python",
   "pygments_lexer": "ipython3",
   "version": "3.9.21"
  }
 },
 "nbformat": 4,
 "nbformat_minor": 5
}
