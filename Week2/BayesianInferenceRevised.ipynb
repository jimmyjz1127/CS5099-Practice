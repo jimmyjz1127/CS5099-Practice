{
 "cells": [
  {
   "cell_type": "markdown",
   "id": "463295e3",
   "metadata": {},
   "source": [
    "Instructions:\n",
    "\n",
    "Implement Bayesian inference\n",
    "1) Randomly generate n (2D) random samples from a MVN with mean [-1, 1]; covariance [2, 1.3; 1.3; 4] \n",
    "2) Use Gibbs sampling to infer unknown parameters : mean & covariance"
   ]
  },
  {
   "cell_type": "code",
   "execution_count": 4,
   "id": "0122708f",
   "metadata": {},
   "outputs": [],
   "source": [
    "import numpy as np\n",
    "import matplotlib.pyplot as plt\n",
    "import pandas as pd\n",
    "import seaborn as sns\n",
    "import random\n",
    "\n",
    "from scipy.stats import invwishart"
   ]
  },
  {
   "cell_type": "markdown",
   "id": "705a5668",
   "metadata": {},
   "source": [
    "# 1 Generate Data from MVN"
   ]
  },
  {
   "cell_type": "code",
   "execution_count": 5,
   "id": "e7e7a284",
   "metadata": {},
   "outputs": [],
   "source": [
    "random_seed = 123\n",
    "rng = np.random.default_rng(random_seed)"
   ]
  },
  {
   "cell_type": "code",
   "execution_count": 6,
   "id": "5e5b98f4",
   "metadata": {},
   "outputs": [],
   "source": [
    "μ = np.array([-1, 1])\n",
    "Σ = np.array([[2, 1.3], [1.3, 4]])\n",
    "X = np.random.multivariate_normal(μ, Σ, size=1000)"
   ]
  },
  {
   "cell_type": "markdown",
   "id": "80953e01",
   "metadata": {},
   "source": [
    "# 2 Inference"
   ]
  },
  {
   "cell_type": "markdown",
   "id": "146d7730",
   "metadata": {},
   "source": [
    "## 2.1 Semi Conjugate Prior"
   ]
  },
  {
   "cell_type": "markdown",
   "id": "d0631e58",
   "metadata": {},
   "source": [
    "Assume Semi-Conjugate Prior ($\\mu$ and $\\Sigma$ independent)\n",
    "\n",
    "$\n",
    "\\qquad p(\\mu, \\Sigma) = p(\\mu)p(\\Sigma)\n",
    "$\n",
    "\n",
    "Where,\n",
    "\n",
    "$\n",
    "\\qquad \\mu \\sim \\mathcal{N}(\\mu_0, \\Lambda_0^{-1})\n",
    "$  \n",
    "$\n",
    "\\qquad \\Sigma \\sim \\mathcal{IW}(\\nu_0, \\Psi_0)\n",
    "$"
   ]
  },
  {
   "cell_type": "markdown",
   "id": "b889500d",
   "metadata": {},
   "source": [
    "Conditional Posterior for $\\mu$ (Murphy 128)  \n",
    "$$\\begin{align}\n",
    "    p(\\mu|D, \\Sigma) &= \\mathcal{N}(\\mathbf{m}_N, \\mathbf{V}_N)\\\\\n",
    "    \\mathbf{V}_N &= (\\mathbf{V}_0^{-1} + N\\Sigma^{-1})^{-1}\\\\\n",
    "    \\mathbf{m}_N &= \\mathbf{V}_N(\\Sigma^{-1}(N\\bar{\\mathbf{x}}) + \\mathbf{V}_0^{-1}\\mathbf{m}_0)\n",
    "\\end{align}$$  \n",
    "\n",
    "Conditional Posterior for $\\Sigma$ (Murphy 129)\n",
    "$$\\begin{align}\n",
    "    p(\\Sigma | D, \\mathbf{\\mu}) &= \\mathcal{IW}(\\Sigma|\\mathbf{S}_N, \\nu_N)\\\\\n",
    "    \\nu_N &= \\nu_0 + N\\\\\n",
    "    \\mathbf{S}^{-1}_N &= \\mathbf{S}_0 + \\mathbf{S}_{\\mu}\n",
    "\\end{align}$$"
   ]
  },
  {
   "cell_type": "code",
   "execution_count": 1,
   "id": "b4bc1913",
   "metadata": {},
   "outputs": [],
   "source": [
    "def gibbs(X, num_iters, num_burn):\n",
    "    n, d = X.shape\n",
    "    x_bar = X.mean(axis=0)\n",
    "\n",
    "    μ_0 = np.zeros(d)\n",
    "    V_0 = np.eye(d) * 1e10  # uninformative prior on mu\n",
    "    ν_0 = d + 2\n",
    "    Ψ_0 = np.eye(d)\n",
    "\n",
    "    μ_samples = np.zeros((num_iters + num_burn, d))\n",
    "    Σ_samples = np.zeros((num_iters + num_burn, d, d))\n",
    "\n",
    "    # Initialize\n",
    "    μ = x_bar.copy()\n",
    "    Σ = np.cov(X.T)\n",
    "\n",
    "    for i in range(num_iters + num_burn):\n",
    "        ''' \n",
    "            Sample μ\n",
    "        '''\n",
    "        Σ_inv = np.linalg.inv(Σ)\n",
    "        V_0_inv = np.linalg.inv(V_0)\n",
    "\n",
    "        V_n = np.linalg.inv(V_0_inv + n * Σ_inv)\n",
    "        μ_n = V_n @ ((Σ_inv @ (n * x_bar)) + (V_0_inv @ μ_0))\n",
    "        μ = np.random.multivariate_normal(mean=μ_n, cov=V_n)\n",
    "\n",
    "        ''' \n",
    "            Sample Σ\n",
    "        '''\n",
    "        Ψ_μ = X - μ\n",
    "        Ψ_n = Ψ_0 + Ψ_μ.T @ Ψ_μ\n",
    "        ν_n = ν_0 + n\n",
    "        Σ = invwishart.rvs(df=ν_n, scale=Ψ_n)\n",
    "\n",
    "        # save\n",
    "        μ_samples[i] = μ\n",
    "        Σ_samples[i] = Σ\n",
    "\n",
    "    return μ_samples[num_burn:], Σ_samples[num_burn:]\n"
   ]
  },
  {
   "cell_type": "code",
   "execution_count": 7,
   "id": "ea0a9837",
   "metadata": {},
   "outputs": [],
   "source": [
    "mus, sigmas = gibbs(X,10000, 2500)"
   ]
  },
  {
   "cell_type": "code",
   "execution_count": 8,
   "id": "d79d4d60",
   "metadata": {},
   "outputs": [
    {
     "name": "stdout",
     "output_type": "stream",
     "text": [
      "[-0.9845891  1.0000674] [[2.08023097 1.33088953]\n",
      " [1.33088953 4.0109295 ]]\n"
     ]
    }
   ],
   "source": [
    "print(mus.mean(axis=0), sigmas.mean(axis=0))"
   ]
  },
  {
   "cell_type": "markdown",
   "id": "76a4dd39",
   "metadata": {},
   "source": [
    "## 2.2 Fully Conjugate Prior"
   ]
  },
  {
   "cell_type": "markdown",
   "id": "f1613b68",
   "metadata": {},
   "source": [
    "Assuming a fully conjugate prior\n",
    "$$\\begin{align}\n",
    "    p(\\boldsymbol{\\mu}, \\boldsymbol{\\Sigma}) = p(\\boldsymbol{\\mu} | \\boldsymbol{\\Sigma})p(\\boldsymbol{\\Sigma}) = \\mathcal{NIW}(\\mu,\\Sigma | \\mathbf{m}_0, \\kappa_0, \\nu_0, \\mathbf{S}_0)\n",
    "\\end{align}$$"
   ]
  },
  {
   "cell_type": "markdown",
   "id": "1e52001e",
   "metadata": {},
   "source": [
    "Joint Posterior\n",
    "\n",
    "$$\\begin{align}\n",
    "\n",
    "    p(\\mu,\\Sigma | D) &= \\mathcal{N}(\\mu|\\mathbf{m}_N, \\frac{1}{\\kappa_N}\\Sigma) \\times \\mathcal{IW}(\\Sigma | \\mathbf{S}_N, \\nu_N)\\\\ &= \\mathcal{NIW}(\\mu,\\Sigma | \\mathbf{m}_N, \\kappa_N, \\nu_N, \\mathbf{S}_N)\\\\\\\\\n",
    "\n",
    "    m_N &= \\frac{\\kappa_0\\mathbf{m}_0 + N\\bar{\\mathbf{x}}}{\\kappa_0 + N}\\\\\n",
    "    \\kappa_N &= \\kappa_0 + N\\\\\n",
    "    \\nu_N &= \\nu_0 + N \\\\\n",
    "    \\mathbf{S}_N &= \\mathbf{S}_0 + \\mathbf{S}_{\\bar{\\mathbf{x}}} + \\frac{\\kappa_0N}{\\kappa_0 + N}(\\bar{\\mathbf{x}} - \\mathbf{m}_0)(\\bar{\\mathbf{x}} - \\mathbf{m}_0)^T\\\\\n",
    "    &= \\mathbf{S}_0 + \\mathbf{S} + \\kappa_0\\mathbf{m}_0\\mathbf{m}_0^T - \\kappa_N\\mathbf{m}_N\\mathbf{m}_N^T \\\\\n",
    "\n",
    "    \\mathbf{S} &= \\sum_{i=1}^{N} (\\bar{x} - \\mu_0)(\\bar{x} - \\mu_0)^T\n",
    "    \n",
    "\\end{align}$$"
   ]
  },
  {
   "cell_type": "markdown",
   "id": "b542851f",
   "metadata": {},
   "source": [
    "Inference Process:  \n",
    "$\n",
    "\\qquad \\Sigma \\sim \\mathcal{IW}(\\nu_n, S_n)\n",
    "$  \n",
    "  \n",
    "$\n",
    "\\qquad \\mu \\sim \\mathcal{N}(\\mu_n, \\frac{\\Sigma}{\\kappa_n})\n",
    "$"
   ]
  },
  {
   "cell_type": "code",
   "execution_count": 9,
   "id": "b9536aa8",
   "metadata": {},
   "outputs": [],
   "source": [
    "def exact_inference(X):\n",
    "    n,d = X.shape\n",
    "\n",
    "    x_bar = X.mean(axis=0)\n",
    "\n",
    "    k_0 = 0.01         # Prior confidence in μ_0\n",
    "    k_n = k_0 + n      \n",
    "    μ_0 = np.zeros(d)  # Prior mean vector \n",
    "    ν_0 = d + 1        # DOF for inverse wishart\n",
    "    ν_n = ν_0 + n\n",
    "    S_0 = np.eye(d)    # prior scatter matrix\n",
    "\n",
    "    ''' \n",
    "        Infer Σ\n",
    "    '''\n",
    "    S = (X - x_bar).T @ (X - x_bar)\n",
    "    diff = (x_bar - μ_0).reshape(-1,1)\n",
    "    S_n = S_0 + S +(k_0 * n / k_n) * (diff @ diff.T)\n",
    "    Σ = invwishart.rvs(df=ν_n, scale=S_n)\n",
    "    \n",
    "\n",
    "    '''\n",
    "        Infer μ\n",
    "    '''\n",
    "    μ_n = (k_0 * μ_0 + n * x_bar)/k_n\n",
    "    μ = np.random.multivariate_normal(mean=μ_n, cov=Σ/k_n)\n",
    "\n",
    "    return μ,Σ"
   ]
  },
  {
   "cell_type": "code",
   "execution_count": 14,
   "id": "bf276473",
   "metadata": {},
   "outputs": [],
   "source": [
    "mu, sigma = exact_inference(X)"
   ]
  },
  {
   "cell_type": "code",
   "execution_count": 15,
   "id": "3db931b1",
   "metadata": {},
   "outputs": [
    {
     "name": "stdout",
     "output_type": "stream",
     "text": [
      "[-0.99017225  1.0004372 ] [[2.20515488 1.39655234]\n",
      " [1.39655234 4.14845622]]\n"
     ]
    }
   ],
   "source": [
    "print(mu,sigma)"
   ]
  },
  {
   "cell_type": "code",
   "execution_count": null,
   "id": "d3d17150",
   "metadata": {},
   "outputs": [],
   "source": []
  }
 ],
 "metadata": {
  "kernelspec": {
   "display_name": "myenv",
   "language": "python",
   "name": "python3"
  },
  "language_info": {
   "codemirror_mode": {
    "name": "ipython",
    "version": 3
   },
   "file_extension": ".py",
   "mimetype": "text/x-python",
   "name": "python",
   "nbconvert_exporter": "python",
   "pygments_lexer": "ipython3",
   "version": "3.9.21"
  }
 },
 "nbformat": 4,
 "nbformat_minor": 5
}
