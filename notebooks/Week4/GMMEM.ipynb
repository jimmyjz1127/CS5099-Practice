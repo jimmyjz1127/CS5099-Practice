{
 "cells": [
  {
   "cell_type": "code",
   "execution_count": 1,
   "id": "13563b86",
   "metadata": {},
   "outputs": [],
   "source": [
    "import numpy as np\n",
    "import random\n",
    "import matplotlib.pyplot as plt\n",
    "from scipy.stats import invwishart \n",
    "from scipy.stats import multivariate_normal \n",
    "from scipy.special import logsumexp\n",
    "from sklearn import metrics"
   ]
  },
  {
   "cell_type": "code",
   "execution_count": 2,
   "id": "6df4ef52",
   "metadata": {},
   "outputs": [],
   "source": [
    "random_seed = 123\n",
    "rng = np.random.default_rng(random_seed)"
   ]
  },
  {
   "cell_type": "code",
   "execution_count": 10,
   "id": "530f188b",
   "metadata": {},
   "outputs": [],
   "source": [
    "dirpath = \"./../../Datasets/Gaussian/Processed/IRIS/\"\n",
    "X_train = np.load(dirpath + \"X_train_iris.npy\")\n",
    "y_train = np.load(dirpath + \"y_train_iris.npy\")"
   ]
  },
  {
   "cell_type": "markdown",
   "id": "2b6a4327",
   "metadata": {},
   "source": [
    "I wrote everything in vectorized format, and should have done in iterative format but will do so in future"
   ]
  },
  {
   "cell_type": "markdown",
   "id": "ae084e91",
   "metadata": {},
   "source": [
    "Complete Data Log Likelihood:\n",
    "$$\\begin{align}\n",
    "    \\log p(\\mathbf{X},\\mathbf{z}|\\boldsymbol{\\theta}) &= \\log p(\\mathbf{X}_H,\\mathbf{X}_O,\\mathbf{z}|\\boldsymbol{\\theta}), \\quad \\text{where } p(\\mathbf{X},\\mathbf{z}|\\boldsymbol{\\theta}) = \\sum_i^N  p(\\mathbf{x}_i,\\mathbf{z}_i|\\boldsymbol{\\theta})\n",
    "\\end{align}$$"
   ]
  },
  {
   "cell_type": "markdown",
   "id": "a7d97c1e",
   "metadata": {},
   "source": [
    "Goal\n",
    "\n",
    "$$\\begin{align}\n",
    "    \\boldsymbol{\\hat{\\theta}} &\\leftarrow \\argmax_{\\boldsymbol{\\theta}} \\log p(\\mathbf{X}_O| \\boldsymbol{\\theta})\n",
    "\\end{align}$$\n",
    "Where,\n",
    "$$\\begin{align}\n",
    "    \\log p(\\mathbf{X}_O| \\boldsymbol{\\theta}) &=  \\log \\sum_{\\mathbf{z}} \\sum_{\\mathbf{X}_H} p(\\mathbf{X}_O, \\mathbf{X}_H, \\mathbf{z}| \\boldsymbol{\\theta})\n",
    "\\end{align}$$\n",
    "\n",
    "Introduce distributon $q(\\mathbf{z}, \\mathbf{X}_H)$\n",
    "\n",
    "$$\\begin{align}\n",
    "    \\log \\sum_{\\mathbf{z}} \\sum_{\\mathbf{X}_H} p(\\mathbf{X}_O, \\mathbf{X}_H, \\mathbf{z}| \\boldsymbol{\\theta}) = \\log \\sum_{\\mathbf{z}} \\sum_{\\mathbf{X}_H} q(\\mathbf{z}, \\mathbf{X}_H) \\frac{p(\\mathbf{X}_O, \\mathbf{X}_H, \\mathbf{z}| \\boldsymbol{\\theta})}{q(\\mathbf{z}, \\mathbf{X}_H)}\n",
    "\\end{align}$$\n",
    "\n",
    "Jensen's Inequality\n",
    "$$\\begin{align}\n",
    "    \\log p(\\mathbf{X}_O| \\boldsymbol{\\theta}) \\geq  \\sum_{\\mathbf{z}} \\sum_{\\mathbf{X}_H} q(\\mathbf{z}, \\mathbf{X}_H) \\log \\frac{p(\\mathbf{X}_O, \\mathbf{X}_H, \\mathbf{z}| \\boldsymbol{\\theta})}{q(\\mathbf{z}, \\mathbf{X}_H)}\n",
    "\\end{align}$$\n",
    "\n",
    "Maximize lower bound by setting $q(\\mathbf{z}, \\mathbf{X}_H) = p(\\mathbf{z}, \\mathbf{X}_H | \\mathbf{X}_O,\\boldsymbol{\\theta})$, the posterior. Hence,\n",
    "\n",
    "$$\\begin{align}\n",
    "    p(\\mathbf{z}, \\mathbf{X}_H | \\mathbf{X}_O,\\boldsymbol{\\theta}) &= \\underbrace{p(\\mathbf{z}|\\mathbf{X}_O,\\boldsymbol{\\theta})}_{\\text{Responsibility}} \\times \\underbrace{p(\\mathbf{X}_H|\\mathbf{z},\\mathbf{X}_O,\\boldsymbol{\\theta})}_{\\text{Missing Conditional Dist.}}\\\\\\\\\n",
    "        &= \\underbrace{\\frac{p(\\mathbf{z})p(\\mathbf{X}_O|\\mathbf{z},\\boldsymbol{\\theta})}{p(\\mathbf{X}_O)}}_{\\text{Responsibility}} \\times \\underbrace{p(\\mathbf{X}_H|\\mathbf{z},\\mathbf{X}_O,\\boldsymbol{\\theta})}_{\\text{Missing Conditional Dist.}} \\\\\n",
    "        &= \\underbrace{\\boldsymbol{\\gamma}}_{responsibility} \\times \\underbrace{p(\\mathbf{X}_H|\\mathbf{z},\\mathbf{X}_O,\\boldsymbol{\\theta})}_{\\text{Missing Conditional Dist.}} \n",
    "\\end{align}$$\n",
    "\n",
    "Hence\n",
    "\n",
    "$$\\begin{align}\n",
    "    Q(\\boldsymbol{\\theta},\\boldsymbol{\\theta}^{t}) &= \\mathbb{E}_{p(\\mathbf{z}, \\mathbf{X}_H | \\mathbf{X}_O,\\boldsymbol{\\theta}^t)} \\left[\\log p(\\mathbf{X}_H,\\mathbf{X}_O,\\mathbf{z}|\\boldsymbol{\\theta}) \\right]\\\\\\\\\n",
    "    &= \\sum_{\\mathbf{z}} \\boldsymbol{\\gamma} \\cdot  \\mathbb{E}_{p(\\mathbf{X}_H | \\mathbf{X}_O,\\boldsymbol{\\theta}^t,\\mathbf{z})}[\\log p(\\mathbf{X}_H,\\mathbf{X}_O,\\mathbf{z}|\\boldsymbol{\\theta}) ]\n",
    "\n",
    "\\end{align}$$"
   ]
  },
  {
   "cell_type": "markdown",
   "id": "497e5ed9",
   "metadata": {},
   "source": [
    "E-Step:\n",
    "\n",
    "$$\n",
    "    r_{ik} = \\frac{p(z^{(i)} = k|\\boldsymbol{\\Theta})p(\\mathbf{x}_{iO}|\\theta,z^{(i)}=k)}{\\sum_{k'} p(z^{(i)} = k'|\\boldsymbol{\\Theta})p(\\mathbf{x}_{iO}|\\theta,z^{(i)}=k')}\n",
    "$$\n",
    "\n",
    "M-Step:\n",
    "$$\\begin{align}\n",
    "    &\\boldsymbol{\\pi}_k = \\frac{N_k}{N}\\\\\\\\\n",
    "\n",
    "    &\\boldsymbol{\\mu}_k = \\frac{1}{N_k}\\sum_i \\gamma_{ik} \\cdot \\mathbb{E}[\\mathbf{x}_{i}|z_n=k] = \\frac{1}{N_k}\\sum_i \\gamma_{ik} \\cdot (\\mathbb{E}[\\mathbf{x_{ih}}|z_n=k],\\mathbf{x}_{iv}) = \\frac{1}{N_k} \\sum_i^N \\gamma_{ik} \\cdot(\\mathbf{m}_{i,k};\\mathbf{x}_{iv})\\\\\\\\\n",
    "\n",
    "\n",
    "    &\\boldsymbol{\\Sigma}_k = \\frac{1}{N_k}\\sum_i \\gamma_{ik} \\cdot( \\mathbb{E}[\\mathbf{x}_i\\mathbf{x}_i^T]-\\boldsymbol{\\mu}_k\\boldsymbol{\\mu}_k^T)\\\\\\\\\n",
    "\n",
    "\\end{align}$$\n",
    "Where,\n",
    "$$\\begin{align}\n",
    "    \\mathbf{x}_{ih}|\\mathbf{x}_{io},\\theta &\\sim \\mathcal{N}(\\mathbf{m}_i,\\mathbf{V}_i)\\\\ \\mathbf{m}_i &= \\boldsymbol{\\mu}_h + \\boldsymbol{\\Sigma}_{ho}\\boldsymbol{\\Sigma}_{oo}^{-1}(\\mathbf{x}_{io} - \\boldsymbol{\\mu}_o)\\\\\n",
    "    \\mathbf{V}_i &= \\boldsymbol{\\Sigma}_{hh} - \\boldsymbol{\\Sigma}_{ho}\\boldsymbol{\\Sigma}_{oo}^{-1}\\boldsymbol{\\Sigma}_{oh}\n",
    "\\end{align}$$\n",
    "$$\\begin{align}\n",
    "    &\\mathbb{E}[\\mathbf{x}_i\\mathbf{x}_i^T] = \\left[\\begin{matrix} \n",
    "        \\mathbb{E}[\\mathbf{x}_{ih}\\mathbf{x}_{ih}^T] & \\mathbb{E}[\\mathbf{x}_{ih}]\\mathbf{x}_{iv}^T\\\\ \\mathbf{x}_{iv}\\mathbb{E}[\\mathbf{x}_{ih}]^T & \\mathbf{x}_{iv}\\mathbf{x}_{iv}^T\n",
    "    \\end{matrix}\\right]\\\\\\\\\n",
    "\n",
    "    & \\mathbb{E}[\\mathbf{x}_{ih}\\mathbf{x}_{ih}^T] = \\mathbb{E}[\\mathbf{x}_{ih}]\\mathbb{E}[\\mathbf{x}_{ih}]^T + \\mathbf{V}_i\n",
    "\n",
    "\\end{align}$$"
   ]
  },
  {
   "cell_type": "code",
   "execution_count": null,
   "id": "5da07f09",
   "metadata": {},
   "outputs": [],
   "source": [
    "def e_step(X,μs,Σs,πs,missing_mask,missing,K,eps=1e-14):\n",
    "    N,D = X.shape\n",
    "\n",
    "    R = np.zeros((N,K))\n",
    "\n",
    "    if not missing : \n",
    "        for k in range(K):\n",
    "            R[:,k] = np.log(πs[k] + eps) + multivariate_normal.logpdf(X, mean=μs[k], cov=Σs[k],allow_singular=True)\n",
    "    else:\n",
    "        for i in range(N):\n",
    "            miss_mask = missing_mask[i]\n",
    "            obs_mask = ~miss_mask\n",
    "\n",
    "            for k in range(K):\n",
    "                μ_o = μs[k][obs_mask]\n",
    "                Σ_oo = Σs[k][np.ix_(obs_mask, obs_mask)]\n",
    "\n",
    "                R[i,k] = np.log(πs[k] + eps) + multivariate_normal.logpdf(X[i,obs_mask],μ_o,Σ_oo,allow_singular=True)\n",
    "\n",
    "    log_norm = logsumexp(R, axis=1, keepdims=True)\n",
    "    R = np.exp(R - log_norm)\n",
    "\n",
    "    loglik = np.sum(log_norm) / N\n",
    "\n",
    "    return R, loglik"
   ]
  },
  {
   "cell_type": "code",
   "execution_count": null,
   "id": "1b384f09",
   "metadata": {},
   "outputs": [],
   "source": [
    "def m_step(X,R,μs,Σs,missing_mask,missing,K):\n",
    "    N,D = X.shape\n",
    "    obs_mask = ~missing_mask\n",
    "\n",
    "    nk = R.sum(axis=0)\n",
    "    πs = nk / N\n",
    "\n",
    "    if not missing:\n",
    "        μ = (R.T @ X)/nk[:,None]\n",
    "        # (N,K,D) = (N,D) - (K,D)\n",
    "        diff = X[:, None, :] - μ[None, :, :]\n",
    "        # (N,K,D,D) = (N,K,D) * (N,K,D)\n",
    "        outer = diff[:, :, :, None] * diff[:, :, None, :]\n",
    "        weighted_outer = R[:, :, None, None] * outer  # (N, K, D, D)\n",
    "        Σ = weighted_outer.sum(axis=0) / nk[:, None, None]\n",
    "        return πs, μ, Σ\n",
    "    else:\n",
    "        new_μs = np.zeros((K,D))\n",
    "        new_Σs = np.zeros((K,D,D))\n",
    "\n",
    "        for i in range(N):\n",
    "            miss_mask = missing_mask[i]\n",
    "            obs_mask = ~miss_mask\n",
    "\n",
    "            for k in range(K):\n",
    "                μ = μs[k]\n",
    "                Σ = Σs[k]\n",
    "\n",
    "                μ_h = μ[miss_mask]\n",
    "                μ_o = μ[obs_mask]\n",
    "                Σ_oh = Σ[np.ix_(obs_mask, miss_mask)]\n",
    "                Σ_ho = Σ[np.ix_(miss_mask, obs_mask)]\n",
    "                Σ_oo = Σ[np.ix_(obs_mask, obs_mask)]\n",
    "                Σ_hh = Σ[np.ix_(miss_mask, miss_mask)]\n",
    "\n",
    "                m_i = μ_h + Σ_ho @ np.linalg.inv(Σ_oo) @ (X[i,obs_mask] - μ_o)\n",
    "                V_i = Σ_hh - Σ_ho @ np.linalg.inv(Σ_oo) @ Σ_oh\n",
    "\n",
    "                x_hat = X[i].copy()\n",
    "                x_hat[miss_mask] = m_i\n",
    "                new_μs[k] += R[i,k] * x_hat \n",
    "\n",
    "                outer = np.outer(x_hat, x_hat)\n",
    "                if np.any(miss_mask):\n",
    "                    outer[np.ix_(miss_mask, miss_mask)] += V_i \n",
    "\n",
    "                new_Σs[k] += R[i, k] * outer\n",
    "\n",
    "        new_μs /= nk[:, None]\n",
    "        for k in range(K):\n",
    "            μ_k = new_μs[k][:, None]  # D x 1\n",
    "            new_Σs[k] /=  nk[k] \n",
    "            new_Σs[k] -= μ_k @ μ_k.T\n",
    "    return πs,new_μs,new_Σs           \n",
    "\n"
   ]
  },
  {
   "cell_type": "code",
   "execution_count": 245,
   "id": "a0b84815",
   "metadata": {},
   "outputs": [],
   "source": [
    "def em_algorithm(X,K,max_iters=100,tol=1e-4):\n",
    "    N,D = X.shape\n",
    "\n",
    "    missing_mask = np.isnan(X)\n",
    "    missing = np.any(missing_mask)\n",
    "\n",
    "    μs = np.zeros((K,D)) + rng.gamma(1.0, 0.1, size=(K, D))\n",
    "    Σs = np.array([np.eye(D) for _ in range(K)])\n",
    "    R = rng.dirichlet(alpha=np.full(K, 1), size=N)\n",
    "\n",
    "    loglikes = []\n",
    "\n",
    "    for i in range(0,max_iters):\n",
    "        πs,μs,Σs = m_step(X,R,μs,Σs,missing_mask,missing,K)\n",
    "\n",
    "        R,ll = e_step(X,μs,Σs,πs,missing_mask,missing,K)\n",
    "        loglikes.append(ll)\n",
    "\n",
    "        zs = np.argmax(R, axis=1)\n",
    "\n",
    "        if len(loglikes) > 1 and np.abs(loglikes[-1] - loglikes[-2]) < tol : break\n",
    "\n",
    "    return zs,πs,μs,Σs,loglikes"
   ]
  },
  {
   "cell_type": "code",
   "execution_count": 138,
   "id": "8a7ce9f0",
   "metadata": {},
   "outputs": [],
   "source": [
    "X_cover1 = np.empty_like(X_train, dtype='f')\n",
    "X_cover1[:] = X_train\n",
    "for i in range(0,len(X_cover1)):\n",
    "    indices = random.sample(range(0,X_train.shape[1]), X_train.shape[1]//2)\n",
    "    X_cover1[i][indices] = np.nan"
   ]
  },
  {
   "cell_type": "code",
   "execution_count": 254,
   "id": "431b2674",
   "metadata": {},
   "outputs": [],
   "source": [
    "zs,πs,μs,Σs,ll = em_algorithm(X_cover1,3,20)"
   ]
  },
  {
   "cell_type": "code",
   "execution_count": 255,
   "id": "046f759f",
   "metadata": {},
   "outputs": [
    {
     "data": {
      "image/png": "[encoded data removed]",
      "text/plain": [
       "<Figure size 640x480 with 1 Axes>"
      ]
     },
     "metadata": {},
     "output_type": "display_data"
    }
   ],
   "source": [
    "plt.plot(ll)\n",
    "plt.show()"
   ]
  },
  {
   "cell_type": "code",
   "execution_count": 256,
   "id": "f6bb7bae",
   "metadata": {},
   "outputs": [
    {
     "data": {
      "text/plain": [
       "0.5672727272727273"
      ]
     },
     "execution_count": 256,
     "metadata": {},
     "output_type": "execute_result"
    }
   ],
   "source": [
    "metrics.adjusted_rand_score(y_train, zs)"
   ]
  },
  {
   "cell_type": "code",
   "execution_count": null,
   "id": "6bbdf809",
   "metadata": {},
   "outputs": [],
   "source": []
  }
 ],
 "metadata": {
  "kernelspec": {
   "display_name": "myenv",
   "language": "python",
   "name": "python3"
  },
  "language_info": {
   "codemirror_mode": {
    "name": "ipython",
    "version": 3
   },
   "file_extension": ".py",
   "mimetype": "text/x-python",
   "name": "python",
   "nbconvert_exporter": "python",
   "pygments_lexer": "ipython3",
   "version": "3.9.21"
  }
 },
 "nbformat": 4,
 "nbformat_minor": 5
}
