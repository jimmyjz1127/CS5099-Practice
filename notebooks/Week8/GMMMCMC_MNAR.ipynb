{
 "cells": [
  {
   "cell_type": "code",
   "execution_count": 1,
   "id": "90f06d70",
   "metadata": {},
   "outputs": [],
   "source": [
    "\n",
    "import matplotlib.pyplot as plt\n",
    "import numpy as np\n",
    "import numpy.linalg as linalg\n",
    "import pandas as pd\n",
    "\n",
    "from scipy.special import logsumexp\n",
    "from scipy.special import softmax\n",
    "from scipy.stats import invwishart\n",
    "from scipy.stats import multivariate_normal\n",
    "\n",
    "from sklearn.cluster import KMeans\n",
    "from sklearn import metrics\n",
    "import scipy.sparse as sparse\n",
    "\n",
    "from sklearn.metrics import accuracy_score, precision_recall_fscore_support\n",
    "from sklearn.metrics import confusion_matrix\n",
    "\n",
    "import matplotlib.pyplot as plt\n",
    "import seaborn as sns\n",
    "\n",
    "\n",
    "import random"
   ]
  },
  {
   "cell_type": "code",
   "execution_count": 2,
   "id": "46cd1340",
   "metadata": {},
   "outputs": [],
   "source": [
    "import numpy as np"
   ]
  },
  {
   "cell_type": "code",
   "execution_count": 3,
   "id": "99656510",
   "metadata": {},
   "outputs": [],
   "source": [
    "random_seed = 123\n",
    "rng = np.random.default_rng(random_seed)"
   ]
  },
  {
   "cell_type": "markdown",
   "id": "8e6024ab",
   "metadata": {},
   "source": [
    "# 1 Import Dataset"
   ]
  },
  {
   "cell_type": "code",
   "execution_count": 4,
   "id": "ad65f5ea",
   "metadata": {},
   "outputs": [],
   "source": [
    "dirpath = \"./../../Datasets/Gaussian/Processed/IRIS/\"\n",
    "X_train = np.load(dirpath + \"X_train_iris.npy\")\n",
    "y_train = np.load(dirpath + \"y_train_iris.npy\")"
   ]
  },
  {
   "cell_type": "markdown",
   "id": "3afe0fe8",
   "metadata": {},
   "source": [
    "# 2 Missing Data with Data Sampling"
   ]
  },
  {
   "cell_type": "markdown",
   "id": "c9bc8b61",
   "metadata": {},
   "source": [
    "$$\\begin{align}\n",
    "    p(\\mathbf{z},\\boldsymbol{\\phi},\\boldsymbol{\\gamma},\\boldsymbol{\\pi},\\mathbf{X}_H \\mid \\mathbf{X}_O, \\mathbf{M}) \\propto&\\\\ \n",
    "        &p(\\mathbf{X}_O \\mid \\mathbf{z}, \\boldsymbol{\\phi})\\\\\n",
    "        &p(\\mathbf{X}_H \\mid \\mathbf{X}_O, \\mathbf{M}, \\boldsymbol{\\phi}, \\mathbf{z})\\\\\n",
    "        &p(\\mathbf{M} \\mid \\boldsymbol{\\gamma}, \\mathbf{z})\\,p(\\boldsymbol{\\gamma})\\\\ \n",
    "        &p(\\boldsymbol{\\phi})\\\\\n",
    "        &p(\\mathbf{z} \\mid \\boldsymbol{\\pi})\\, p(\\boldsymbol{\\pi})\n",
    "\\end{align}$$"
   ]
  },
  {
   "cell_type": "markdown",
   "id": "c2d2bec7",
   "metadata": {},
   "source": [
    "1) Initialize $\\mathbf{z}, \\boldsymbol{\\mu}, \\boldsymbol{\\Sigma}, \\boldsymbol{\\pi}$\n",
    "2) For $t=0,...,T$\n",
    "$$\\begin{align}\n",
    "    \\text{Sample } \\boldsymbol{\\pi}^{(t)} &\\sim p(\\boldsymbol{\\pi} | \\mathbf{z}^{(t-1)}) = \\mathrm{Dirichlet}(\\boldsymbol{\\alpha}_N^{(t-1)}),\\\\\n",
    "    &\\boldsymbol{\\alpha}_N^{(t-1)} = \\left[\\alpha_0^1 + n_1,\\, \\alpha_0^2 + n_2,\\, \\dots,\\, \\alpha_0^K + n_K \\right],\n",
    "        \\quad \\text{where} \\quad\n",
    "        n_k^{(t-1)} = \\sum_{i=1}^N \\mathbb{1}(z_i^{(t-1)} = k) \\\\\\\\\n",
    "\n",
    "    \\text{Sample } \\boldsymbol{\\Sigma}^{(t)}, &\\boldsymbol{\\mu}^{(t)} \\sim p(\\boldsymbol{\\Sigma},\\boldsymbol{\\mu}|\\mathbf{z}^{(t-1)}, \\mathbf{X})\\\\\n",
    "     &= \\prod_k^K \\mathrm{NIW}(\\mu,\\Sigma | \\mathbf{m}_N, \\kappa_N, \\nu_N, \\mathbf{S}_N) =  \\prod_k^K \\mathrm{N}(\\mu|\\mathbf{m}_N, \\frac{1}{\\kappa_N}\\Sigma) \\times \\mathrm{IW}(\\Sigma | \\mathbf{S}_N, \\nu_N),\\\\\n",
    "        &\\qquad\\qquad \\mathbf{m}_{N_k} = \\frac{\\kappa_{0_k}m_{0_k} + N_k\\bar{\\mathbf{x}}_k}{\\kappa_{0_k} + N_k}\\\\\n",
    "        &\\qquad\\qquad \\kappa_{N_k} = \\kappa_{0} + N_k\\\\\n",
    "        &\\qquad\\qquad \\nu_{N_k} = \\nu_{0} + N_k\\\\\n",
    "        &\\qquad\\qquad \\mathbf{S}_{N_k} = \\mathbf{S}_{0_k} + \\mathbf{S}_{\\bar{\\mathbf{x}}_k} + \\frac{\\kappa_{0_k}N_k}{\\kappa_{0_k} + N_k}(\\bar{\\mathbf{x}}_k - m_{0_k})(\\bar{\\mathbf{x}}_k - m_{0_k})^T\\\\\\\\\n",
    "\n",
    "    \\text{Sample } \\mathbf{X} \\sim  p(&\\mathbf{\\mathbf{X}|\\boldsymbol{z}^{(t-1)},\\boldsymbol{\\Sigma}^{(t)}, \\boldsymbol{\\mu}^{(t)}})\\\\\n",
    "        \\text{For } i &\\in {1,..,N}\\\\\n",
    "             &\\text{Sample } \\mathbf{x}_{i,H} \\sim p(\\mathbf{x}_{i,H}|\\mathbf{x}_{i,O}, \\mathbf{z}_i = k, \\boldsymbol{\\mu}_k^{(t)}, \\boldsymbol{\\Sigma}_k^{(t)}) = \\mathcal{N}(\\mathbf{m}_i,V_i),\\quad \\text{where} \\\\\n",
    "                &\\qquad \\mathbf{m}_i = \\boldsymbol{\\mu}_H + \\boldsymbol{\\Sigma}_{H,O}\\boldsymbol{\\Sigma}_{O,O}^{-1}(\\mathbf{x}_{i,O} - \\boldsymbol{\\mu}_O)\\\\\n",
    "                &\\qquad V_i = \\boldsymbol{\\Sigma}_{H,H} - \\boldsymbol{\\Sigma}_{H,O}\\boldsymbol{\\Sigma}_{O,O}^{-1}\\boldsymbol{\\Sigma}_{O,H}\\\\\\\\\n",
    "\n",
    "    \\text{Sample } \\boldsymbol{\\gamma}^{(t)} \\sim& p(\\boldsymbol{\\gamma} \\mid \\mathbf{z}^{(t-1)},\\mathbf{M}^{(t)}) = \\prod_k^K \\prod_d^D \\mathrm{Beta}(o_{0} + n^{(1)}_{k,d}, h_0 + n^{(0)}_{k,d}), \\quad \\text{where}\\\\\n",
    "        & n^{(1)}_{k,d} = \\sum_n^N \\mathbb{1}(m_{n,d} = 1, z_i^{(t-1)} = k)\\\\\n",
    "        & n^{(0)}_{k,d} = \\sum_n^N \\mathbb{1}(m_{n,d} = 0, z_i^{(t-1)} = k)\\\\\n",
    "    \\text{Where }& \\mathbf{M} \\text{ is observation mask}\\\\\\\\ \n",
    "\n",
    "    \\text{Sample } \\mathbf{z}^{(t)} \\sim &P(\\mathbf{z}|\\mathbf{X},\\boldsymbol{\\pi}^{(t)}, \\boldsymbol{\\theta}^{(t)},\\mathbf{R},\\mathbf{M}^{(t)})\\\\\n",
    "\n",
    "        \\text{For } i &\\in {1,..,N}\\\\\n",
    "            &\\text{Sample } z_i^{(t)} \\sim \\text{Categorical}(p_1^{(i)},...,p_K^{(i)}) \\quad \\text{where,}\\\\\n",
    "                &\\qquad p_k^{(i)} \\propto \\pi_k^{(t)} \\mathcal{N}(\\mathbf{x}_i|\\boldsymbol{\\mu}_k^{(t)},\\boldsymbol{\\Sigma}_k^{(t)}) \\cdot \\mathcal{Bern}(\\mathbf{m}_k^{(t)}|\\mathbf{r}_i)\\\\\\\\\n",
    "\\end{align}$$"
   ]
  },
  {
   "cell_type": "markdown",
   "id": "ed50235e",
   "metadata": {},
   "source": [
    "Missing Data Conditional Sampling \n",
    "\n",
    "$$\\begin{align}\n",
    "    \\mathbf{x}_{i,H} | \\mathbf{x}_{i,O}& \\sim \\mathcal{N}(\\mathbf{m}_i, V_i)\\\\\\\\\n",
    "        \\mathbf{m}_i &= \\boldsymbol{\\mu}_H + \\boldsymbol{\\Sigma}_{H,O}\\boldsymbol{\\Sigma}_{O,O}^{-1}(\\mathbf{x}_{i,O} - \\boldsymbol{\\mu}_O)\\\\\\\\\n",
    "        V_i &= \\boldsymbol{\\Sigma}_{H,H} - \\boldsymbol{\\Sigma}_{H,O}\\boldsymbol{\\Sigma}_{O,O}^{-1}\\boldsymbol{\\Sigma}_{O,H}\n",
    "\n",
    "\\end{align}$$"
   ]
  },
  {
   "cell_type": "code",
   "execution_count": null,
   "id": "be07a280",
   "metadata": {},
   "outputs": [],
   "source": [
    "def gaussian_likelihood(X, μ, Σ, π, K):\n",
    "    N,D = X.shape\n",
    "    \n",
    "    logp = np.zeros((N,K))\n",
    "\n",
    "    for k in range(K):\n",
    "        logp[:,k] = np.log(π[k]) + multivariate_normal.logpdf(X, mean=μ[k],cov=Σ[k])\n",
    "\n",
    "    log_norm = logsumexp(logp,axis=1,keepdims=True)\n",
    "\n",
    "    p = np.exp(logp - log_norm)\n",
    "\n",
    "    loglik = np.sum(log_norm)/N\n",
    "\n",
    "    return p,loglik"
   ]
  },
  {
   "cell_type": "code",
   "execution_count": 15,
   "id": "6a68b394",
   "metadata": {},
   "outputs": [],
   "source": [
    "\n",
    "from scipy.stats import multivariate_normal\n",
    "from scipy.special import logsumexp\n",
    "import numpy as np\n",
    "\n",
    "def gaussian_likelihood(X, μ, Σ, π, M, missing_mask, eps=1e-12):\n",
    "\n",
    "    N, D = X.shape\n",
    "    K    = π.shape[0]\n",
    "\n",
    "    # log φ and log(1-φ)\n",
    "    logM   = np.log(np.clip(M,   eps, 1 - eps))       # (K,D)\n",
    "    log1mM = np.log(np.clip(1-M, eps, 1 - eps))       # (K,D)\n",
    "\n",
    "    obs_mask  = ~missing_mask                      # (N,D)  bool\n",
    "    obs_float = obs_mask.astype(float)             # (N,D)\n",
    "    log_pr    = (obs_float @ logM.T) + ((1-obs_float) @ log1mM.T)  # (N,K)\n",
    "\n",
    "    logp = np.empty((N, K))\n",
    "\n",
    "    for k in range(K):\n",
    "        for i in range(N):\n",
    "            # μ_o = mu[k, obs_mask[i] ]\n",
    "            # Σ_oo = Sigma[k][np.ix_(obs_mask[i] , obs_mask[i] )]\n",
    "            \n",
    "            logp[i,k] = (\n",
    "                np.log(π[k] + eps) +\n",
    "                multivariate_normal.logpdf(X[i], mean=μ[k], cov=Σ[k], allow_singular=True) + \n",
    "                np.sum(log_pr[i, k])\n",
    "            )\n",
    "\n",
    "\n",
    "    # normalise\n",
    "    log_norm = logsumexp(logp, axis=1, keepdims=True)\n",
    "    p        = np.exp(logp - log_norm)\n",
    "    mean_loglik = log_norm.mean()\n",
    "\n",
    "    return p, mean_loglik\n"
   ]
  },
  {
   "cell_type": "code",
   "execution_count": 6,
   "id": "67e36aa4",
   "metadata": {},
   "outputs": [],
   "source": [
    "def sampleZs(p):\n",
    "    ''' \n",
    "        Samples cluster assignments z for n datapoints \n",
    "\n",
    "        @param (p) : softmax categorical probabilities over clusters (N, K)\n",
    "    '''\n",
    "\n",
    "    # Inverse sample from categorical distribution\n",
    "    cdf = np.cumsum(p, axis=1) # compute CDF for each row (each categorical distribution)\n",
    "    u   = rng.random(size=(p.shape[0], 1))\n",
    "    return (cdf > u).argmax(axis=1)  # return first index where cdf is greater than random u"
   ]
  },
  {
   "cell_type": "code",
   "execution_count": 7,
   "id": "17fb01b3",
   "metadata": {},
   "outputs": [],
   "source": [
    "def sample_NIW(X,zs,μ_0,S_0,k_0,ν_0,K):\n",
    "    N,D = X.shape\n",
    "\n",
    "    zs_hot = np.eye(K)[zs.astype(int)]\n",
    "    counts = np.bincount(zs.astype(int), minlength=K)[:, None] # component cardinality \n",
    "    nonzero = counts.ravel() > 0 \n",
    "    x_bar = np.zeros((K, D))\n",
    "    np.divide(zs_hot.T @ X, counts, out=x_bar, where=nonzero[:, None])\n",
    "\n",
    "    Σs = np.zeros((K,D,D))\n",
    "    μs = np.zeros((K,D))\n",
    "\n",
    "    for k in range(K):\n",
    "        indices = (zs == k)\n",
    "        n_k = np.sum(indices)\n",
    "        k_n = k_0 + n_k\n",
    "\n",
    "        X_k = X[indices]\n",
    "        S = (X_k - x_bar[k]).T @ (X_k - x_bar[k])\n",
    "        diff = (x_bar[k] - μ_0).reshape(-1,1)\n",
    "        S_n = S_0 + S + ((k_0 * n_k)/(k_n)) * (diff @ diff.T)\n",
    "        Σs[k] = invwishart.rvs(df=ν_0 + n_k, scale=S_n)\n",
    "\n",
    "\n",
    "        μ_n = (k_0 * μ_0 + n_k * x_bar[k])/k_n\n",
    "        μs[k] = np.random.multivariate_normal(mean=μ_n, cov=Σs[k]/k_n)\n",
    "        \n",
    "    return Σs,μs"
   ]
  },
  {
   "cell_type": "code",
   "execution_count": 8,
   "id": "9a83d7cf",
   "metadata": {},
   "outputs": [],
   "source": [
    "# With conditioning on observed pixels \n",
    "def sampleXsConditional(X, zs, μs, Σs, missing_mask):\n",
    "    N, D = X.shape\n",
    "    X_sample = X.copy()\n",
    "\n",
    "    for i in range(N):\n",
    "        k = zs[i].astype(int)\n",
    "        μ = μs[k]\n",
    "        Σ = Σs[k]\n",
    "\n",
    "        miss_mask = missing_mask[i]\n",
    "        obs_mask = ~miss_mask\n",
    "\n",
    "        μ_h = μ[miss_mask]\n",
    "        μ_o = μ[obs_mask]\n",
    "        Σ_oh = Σ[obs_mask][:, miss_mask]\n",
    "        Σ_ho = Σ[miss_mask][:, obs_mask]\n",
    "        Σ_oo = Σ[obs_mask][:, obs_mask]\n",
    "        Σ_hh = Σ[miss_mask][:, miss_mask]\n",
    "\n",
    "        m_i = μ_h + Σ_ho @ np.linalg.inv(Σ_oo) @ (X[i,obs_mask] - μ_o)\n",
    "        V_i = Σ_hh - Σ_ho @ np.linalg.inv(Σ_oo) @ Σ_oh\n",
    "\n",
    "        X_sample[i,miss_mask] = np.random.multivariate_normal(m_i,V_i)\n",
    "\n",
    "    return X_sample\n"
   ]
  },
  {
   "cell_type": "code",
   "execution_count": 9,
   "id": "0e129f15",
   "metadata": {},
   "outputs": [],
   "source": [
    "def mean_impute(X,missing_mask):\n",
    "    X_0 = X.copy()\n",
    "    means = np.nanmean(np.where(missing_mask, np.nan, X), axis=0)\n",
    "    X_0[missing_mask] = np.take(means, np.where(missing_mask)[1])\n",
    "    return X_0"
   ]
  },
  {
   "cell_type": "code",
   "execution_count": 10,
   "id": "d32b2522",
   "metadata": {},
   "outputs": [],
   "source": [
    "def sample_π(zs, α_0, K):\n",
    "    ''' \n",
    "        Samples mixing weights from Dirichlet distribution parameterized by pseudocounts of components\n",
    "        \n",
    "        @param (zs)  : cluster assignments (n)\n",
    "        @param (α_0) : Dirichlet prior list (K)\n",
    "        @param (K)   : the number of components\n",
    "    '''\n",
    "\n",
    "    z_counts = np.bincount(zs.astype(np.int64), minlength=K)\n",
    "    return rng.dirichlet(α_0 + z_counts)"
   ]
  },
  {
   "cell_type": "code",
   "execution_count": 11,
   "id": "f31a6f50",
   "metadata": {},
   "outputs": [],
   "source": [
    "def sample_M(zs,α_mat, β_mat,missing_mask):\n",
    "    K,_ = α_mat.shape \n",
    "\n",
    "    obs_mask = (~missing_mask).astype(np.float32)\n",
    "\n",
    "    zs_zerohot = np.eye(K)[zs.astype(np.int64)]\n",
    " \n",
    "    mkd1 = zs_zerohot.T @ obs_mask   # shape: (K, D)\n",
    "    mkd0 = np.sum(zs_zerohot, axis=0)[:, None] - mkd1\n",
    "\n",
    "    return rng.beta(α_mat + mkd1, β_mat + mkd0)"
   ]
  },
  {
   "cell_type": "code",
   "execution_count": 16,
   "id": "9c21dd84",
   "metadata": {},
   "outputs": [],
   "source": [
    "def gibbs_missing(X, num_iter, num_burn,K, rng=np.random.default_rng(random_seed), eps=1e-20) :\n",
    "    N,D = X.shape\n",
    "\n",
    "    logliks = []\n",
    "\n",
    "    missing_mask = np.isnan(X)\n",
    "\n",
    "    πs = []\n",
    "    zs = []\n",
    "    Σs = []\n",
    "    μs = []\n",
    "    xs = []\n",
    "    Ms = []\n",
    "\n",
    "    # Intialize\n",
    "    α_0 = np.full(K, 1 / K)  # Dirichlet\n",
    "    k_0 = 0.01         # Prior confidence in μ_0\n",
    "    μ_0 = np.zeros(D)  # Prior mean vector \n",
    "    ν_0 = D + 1        # DOF for inverse wishart\n",
    "    S_0 = np.eye(D)# prior scatter matrix\n",
    "\n",
    "    α_mat  = np.full((K, D), 1) # Beta\n",
    "    β_mat  = np.full((K, D), 1) # Beta\n",
    "\n",
    "    z = np.random.randint(0,K,size=N)\n",
    "    x = mean_impute(X,missing_mask)\n",
    "    Σ,μ = sample_NIW(x,z,μ_0,S_0,k_0,ν_0,K)\n",
    "\n",
    "    for t in range(1,num_iter+num_burn):\n",
    "        π = sample_π(z, α_0, K)\n",
    "\n",
    "        x = sampleXsConditional(X,z,μ,Σ,missing_mask)\n",
    "\n",
    "        Σ,μ = sample_NIW(x,z,μ_0,S_0,k_0,ν_0,K)\n",
    "\n",
    "        M = sample_M(z,α_mat,β_mat,missing_mask)\n",
    "\n",
    "        # p, loglik = gaussian_likelihood(x,μ,Σ,π,5)\n",
    "        p, loglik = gaussian_likelihood(x, μ, Σ, π, M, missing_mask)\n",
    "\n",
    "        z = sampleZs(p)\n",
    "\n",
    "        if t > num_burn:\n",
    "            πs.append(π.copy())\n",
    "            zs.append(z.copy())\n",
    "            Σs.append(Σ.copy())\n",
    "            μs.append(μ.copy())\n",
    "            xs.append(x.copy())\n",
    "            Ms.append(M.copy())\n",
    "            logliks.append(loglik)\n",
    "\n",
    "    return zs, Σs, μs, πs, Ms, logliks"
   ]
  },
  {
   "cell_type": "markdown",
   "id": "a5ee88c5",
   "metadata": {},
   "source": [
    "# 2 evaluation"
   ]
  },
  {
   "cell_type": "code",
   "execution_count": 13,
   "id": "1fb0e74a",
   "metadata": {},
   "outputs": [],
   "source": [
    "import random\n",
    "N,D = X_train.shape\n",
    "X_cover1 = np.empty_like(X_train, dtype='f')\n",
    "X_cover1[:] = X_train\n",
    "for i in range(0,len(X_cover1)):\n",
    "    indices = random.sample(range(0,D), D//2)\n",
    "    X_cover1[i][indices] = np.nan"
   ]
  },
  {
   "cell_type": "code",
   "execution_count": 19,
   "id": "995a8fbb",
   "metadata": {},
   "outputs": [],
   "source": [
    "zs, Σs, μs, πs, Ms, logliks= gibbs_missing(X_cover1, 500, 150, K=3)"
   ]
  },
  {
   "cell_type": "code",
   "execution_count": 20,
   "id": "df917bd4",
   "metadata": {},
   "outputs": [
    {
     "data": {
      "image/png": "[encoded data removed]",
      "text/plain": [
       "<Figure size 640x480 with 1 Axes>"
      ]
     },
     "metadata": {},
     "output_type": "display_data"
    }
   ],
   "source": [
    "scores = [metrics.adjusted_rand_score(y_train, zs[i]) for i in range(0,len(zs))]\n",
    "plt.plot(scores)\n",
    "plt.title(\"Traceplot of zs\")\n",
    "plt.show()"
   ]
  }
 ],
 "metadata": {
  "kernelspec": {
   "display_name": "myenv",
   "language": "python",
   "name": "python3"
  },
  "language_info": {
   "codemirror_mode": {
    "name": "ipython",
    "version": 3
   },
   "file_extension": ".py",
   "mimetype": "text/x-python",
   "name": "python",
   "nbconvert_exporter": "python",
   "pygments_lexer": "ipython3",
   "version": "3.9.21"
  }
 },
 "nbformat": 4,
 "nbformat_minor": 5
}
