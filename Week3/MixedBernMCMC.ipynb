{
 "cells": [
  {
   "cell_type": "code",
   "execution_count": 56,
   "id": "26326d7f",
   "metadata": {},
   "outputs": [],
   "source": [
    "%matplotlib inline\n",
    "# %matplotlib notebook\n",
    "%config Completer.use_jedi = False\n",
    "import matplotlib.pyplot as plt\n",
    "import numpy as np\n",
    "import pandas as pd\n",
    "from scipy.special import logsumexp\n",
    "from scipy.special import softmax\n",
    "from scipy.special import betaln\n",
    "import numpy.linalg as linalg\n",
    "from sklearn.cluster import KMeans\n",
    "from sklearn import metrics\n",
    "import scipy.sparse as sparse\n",
    "\n",
    "from collections import Counter\n",
    "\n",
    "\n",
    "from sklearn.metrics import accuracy_score, precision_recall_fscore_support\n",
    "from sklearn.metrics import confusion_matrix\n",
    "\n",
    "import matplotlib.pyplot as plt\n",
    "import seaborn as sns"
   ]
  },
  {
   "cell_type": "code",
   "execution_count": 3,
   "id": "10abc4a9",
   "metadata": {},
   "outputs": [],
   "source": [
    "random_seed = 123\n",
    "rng = np.random.default_rng(random_seed)"
   ]
  },
  {
   "cell_type": "markdown",
   "id": "5be45860",
   "metadata": {},
   "source": [
    "# 1 Import Dataset"
   ]
  },
  {
   "cell_type": "code",
   "execution_count": 4,
   "id": "a3153a65",
   "metadata": {},
   "outputs": [],
   "source": [
    "from sklearn.datasets import fetch_openml\n",
    "mnist = fetch_openml('mnist_784', parser ='auto')"
   ]
  },
  {
   "cell_type": "markdown",
   "id": "a5021814",
   "metadata": {},
   "source": [
    "Binarize the Data"
   ]
  },
  {
   "cell_type": "code",
   "execution_count": 5,
   "id": "64face34",
   "metadata": {},
   "outputs": [],
   "source": [
    "X_mnist = np.array(mnist.data) > 0.5 # binary-rise the data\n",
    "Y_mnist = np.array(mnist.target, dtype ='int')\n",
    "X_mnist_train = X_mnist[:4000, :] # use the first 4000 images as training data\n",
    "Y_mnist_train = Y_mnist[:4000]\n",
    "X_mnist_test = X_mnist[4000:5000, :] # the next 1000 as testing\n",
    "Y_mnist_test = Y_mnist[4000:5000]"
   ]
  },
  {
   "cell_type": "markdown",
   "id": "56b7370e",
   "metadata": {},
   "source": [
    "# 2 Un-Collapsed Gibbs Sampling"
   ]
  },
  {
   "cell_type": "markdown",
   "id": "516f711d",
   "metadata": {},
   "source": [
    "## 2.1 Algorithm"
   ]
  },
  {
   "cell_type": "markdown",
   "id": "6ccb54e9",
   "metadata": {},
   "source": [
    "Joint Posterior \n",
    "\n",
    "$$\\begin{align}\n",
    "    p(\\mathbf{\\pi},\\mathbf{\\theta},\\mathbf{z}|\\mathbf{X},\\mathbf{\\alpha},a,b) \\propto p(\\mathbf{X}|\\mathbf{z},\\mathbf{\\theta}) p(\\mathbf{z}|\\mathbf{\\pi}) p(\\mathbf{\\pi}|\\mathbf{\\alpha}) p(\\mathbf{\\theta}|a,b)\n",
    "\\end{align}$$"
   ]
  },
  {
   "cell_type": "markdown",
   "id": "d0cc067c",
   "metadata": {},
   "source": [
    "Routine\n",
    "\n",
    "1) Initialize \n",
    "$$\\begin{align}\n",
    "    \\boldsymbol{\\alpha} &= [\\alpha_1 = \\frac{1}{K},...,\\alpha_K = \\frac{1}{K}]\\\\\n",
    "    a,b &= \\frac{1}{2}\\\\\n",
    "    \\boldsymbol{\\pi} &\\sim \\mathcal{Dirichlet}(\\boldsymbol{\\alpha})\\\\\n",
    "    \\boldsymbol{\\theta} &\\sim \\mathcal{Beta}(a,b)\\\\\n",
    "    \\boldsymbol{z} &\\sim \\mathcal{Cat}(\\boldsymbol{\\pi})\n",
    "\\end{align}$$\n",
    "\n"
   ]
  },
  {
   "cell_type": "markdown",
   "id": "30a0a8ba",
   "metadata": {},
   "source": [
    "\n",
    "2) For $t=1,..,N$\n",
    "$$\\begin{align}\n",
    "    \\text{Sample } \\boldsymbol{\\pi}^{(t)} &\\sim \\mathrm{Dirichlet}(\\boldsymbol{\\alpha}_N) \\\\\n",
    "        \\boldsymbol{\\alpha}_N &= \\left[\\alpha_0^1 + n_1,\\, \\alpha_0^2 + n_2,\\, \\dots,\\, \\alpha_0^K + n_K \\right],\n",
    "        \\quad \\text{where} \\quad\n",
    "        n_k = \\sum_{i=1}^N \\mathbb{1}(z_i^{(t-1)} = k) \\\\\\\\\n",
    "\n",
    "    \\text{Sample } \\boldsymbol{\\theta}^{(t)} &\\sim \\mathrm{Beta}(\\mathbf{a}_N, \\mathbf{b}_N) \\\\\n",
    "        \\mathbf{a}_N &= \\left[\n",
    "        \\begin{matrix}\n",
    "        a_{0,1} + n_{1,1}^{(1)} & \\cdots & a_{0,D} + n_{1,D}^{(1)} \\\\\n",
    "        \\vdots & \\ddots & \\vdots \\\\\n",
    "        a_{K,1} + n_{K,1}^{(1)} & \\cdots & a_{K,D} + n_{K,D}^{(1)}\n",
    "        \\end{matrix}\n",
    "        \\right],\n",
    "        \\quad \\text{where} \\quad\n",
    "        n_{k,d}^{(1)} = \\sum_{i=1}^N \\mathbb{1}(x_{i,d} = 1 \\land z_i^{(t-1)} = k) \\\\\\\\\n",
    "\n",
    "        \\mathbf{b}_N &= \\left[\n",
    "        \\begin{matrix}\n",
    "        b_{0,1} + n_{1,1}^{(0)} & \\cdots & b_{0,D} + n_{1,D}^{(0)} \\\\\n",
    "        \\vdots & \\ddots & \\vdots \\\\\n",
    "        b_{K,1} + n_{K,1}^{(0)} & \\cdots & b_{K,D} + n_{K,D}^{(0)}\n",
    "        \\end{matrix}\n",
    "        \\right],\n",
    "        \\quad \\text{where} \\quad\n",
    "        n_{k,d}^{(0)} = \\sum_{i=1}^N \\mathbb{1}(x_{i,d} = 0 \\land z_i^{(t-1)} = k)\\\\\\\\\n",
    "\n",
    "    \\text{Sample } \\mathbf{z}^{(t)} &= [z_1^{(t)}, \\dots, z_N^{(t)}] \\quad \\text{where,}\\\\\n",
    "\n",
    "        &\\boldsymbol{z}_i^{(t)} \\sim \\text{Categorical}(p_1^{(i)},...,p_K^{(i)}) \\quad \\text{where,}\\\\\n",
    "        &\\qquad p_k^{(i)} \\propto \\pi_k^{(t)} \\prod_{d=1}^D (\\theta_{k,d}^{(t)})^{x_{i,d}}(1-\\theta_{k,d}^{(t)})^{(1 - x_{i,d})}\n",
    "\\end{align}$$"
   ]
  },
  {
   "cell_type": "markdown",
   "id": "4c71ccd8",
   "metadata": {},
   "source": [
    "---"
   ]
  },
  {
   "cell_type": "markdown",
   "id": "a704ddc2",
   "metadata": {},
   "source": [
    "Softmax:\n",
    "\n",
    "$$\n",
    "    \\mathbf{softmax}_i(p_k) = \\frac{\\exp(p_{ik}) - \\exp(\\mathbf{max}(\\mathbf{p}_i))}{\\sum_{k'}\\exp(p_{ik'})}\n",
    "$$"
   ]
  },
  {
   "cell_type": "code",
   "execution_count": 7,
   "id": "fd608f1b",
   "metadata": {},
   "outputs": [],
   "source": [
    "def sampleZs(X, θ, π, eps):\n",
    "    ''' \n",
    "        Compute softmax to produce cat distribution for each row\n",
    "\n",
    "        @param (X) : data matrix (n x d)\n",
    "        @param (θ) : biases for each pixel (K x d)\n",
    "        @param (π) : mixture weights for each component (K)\n",
    "    '''\n",
    "\n",
    "    # Compute Categorical Distribution over components for each row using SoftMax\n",
    "    logp  = np.log(π + eps) + (X @ np.log(θ + eps).T + (1 - X) @ np.log(1 - θ + eps).T) # log likelihood\n",
    "    logp -= logp.max(axis=1, keepdims=True) # reduce logits for numerical stability (invariance property)\n",
    "    p     = np.exp(logp)\n",
    "    p    /= p.sum(axis=1, keepdims=True) # normalize\n",
    "\n",
    "    # Inverse Sample from Categorical Distribution\n",
    "    cdf = np.cumsum(p, axis=1) # compute CDF for each row (each categorical distribution)\n",
    "    u   = rng.random(size=(p.shape[0], 1))\n",
    "    return (cdf > u).argmax(axis=1)  # return first index where cdf is greater than random u"
   ]
  },
  {
   "cell_type": "code",
   "execution_count": 8,
   "id": "74fa1013",
   "metadata": {},
   "outputs": [],
   "source": [
    "def sample_θ(X, zs, a_mat, b_mat, K) :\n",
    "    ''' \n",
    "        Samples θs from multivariate Beta distribution\n",
    "\n",
    "        @param (X)     : data matrix (nxd)\n",
    "        @param (zs)    : component assignments (n)\n",
    "        @param (a_mat) : multi-var beta prior for a (K, d)\n",
    "        @param (b_mat) : multi-var beta prior for b (K, d)\n",
    "        @param (K)     : the number of components\n",
    "    '''\n",
    "\n",
    "    n,d=X.shape\n",
    "\n",
    "    nkd1 = np.zeros((K,d))\n",
    "    nkd0 = np.zeros((K,d))\n",
    "\n",
    "    for k in range(K):\n",
    "        indices = np.where(zs == k)[0].tolist()\n",
    "        nkd1[k] = X[indices].sum(axis=0)\n",
    "        nkd0[k] = len(indices) - nkd1[k]\n",
    "    \n",
    "    return rng.beta(a_mat + nkd1, b_mat + nkd0)"
   ]
  },
  {
   "cell_type": "code",
   "execution_count": 9,
   "id": "19fc19a3",
   "metadata": {},
   "outputs": [],
   "source": [
    "def sample_π(zs, α_0, K):\n",
    "    ''' \n",
    "        Samples mixing weights from Dirichlet distribution parameterized by pseudocounts of components\n",
    "        \n",
    "        @param (zs)  : cluster assignments (n)\n",
    "        @param (α_0) : Dirichlet prior list (K)\n",
    "        @param (K)   : the number of components\n",
    "    '''\n",
    "\n",
    "    z_counts = np.bincount(zs, minlength=K)\n",
    "    return rng.dirichlet(α_0 + z_counts)"
   ]
  },
  {
   "cell_type": "code",
   "execution_count": 10,
   "id": "468933dc",
   "metadata": {},
   "outputs": [],
   "source": [
    "def gibbs(X, num_iter, num_burn, K=10, rng=np.random.default_rng(random_seed), eps=1e-20) :\n",
    "    n, d = X.shape\n",
    "    X = X.astype(np.uint8)\n",
    "\n",
    "    πs = np.zeros((num_iter + num_burn, K))\n",
    "    zs = np.zeros((num_iter + num_burn, n), dtype=np.int16)\n",
    "    θs = np.zeros((num_iter + num_burn, K, d))\n",
    "\n",
    "    # Intialize\n",
    "    α_0 = np.full(K, 1 / K, dtype=np.float64)  # Dirichlet\n",
    "    a_mat  = np.full((K, d), 1) # Beta\n",
    "    b_mat  = np.full((K, d), 1) # Beta\n",
    "\n",
    "    πs[0] = rng.dirichlet(α_0)\n",
    "    R = rng.random((K,d))\n",
    "    θs[0] = R/np.sum(R, axis=1, keepdims=True)\n",
    "    zs[0] = sampleZs(X, θs[0], πs[0], eps)\n",
    "\n",
    "    for t in range(1,num_iter+num_burn):\n",
    "        πs[t] = sample_π(zs[t-1], α_0, 10)\n",
    "\n",
    "        θs[t] = sample_θ(X, zs[t-1], a_mat, b_mat, 10)\n",
    "        \n",
    "        zs[t] = sampleZs(X, θs[t],πs[t],eps).astype(np.int16)\n",
    "    \n",
    "    return πs[num_burn:], θs[num_burn:], zs[num_burn:]"
   ]
  },
  {
   "cell_type": "markdown",
   "id": "dcb01156",
   "metadata": {},
   "source": [
    "# 2.2 Evaluation"
   ]
  },
  {
   "cell_type": "code",
   "execution_count": 11,
   "id": "d5abb5af",
   "metadata": {},
   "outputs": [],
   "source": [
    "πs,θs,zs= gibbs(X_mnist_train, 1000, 250, 10)"
   ]
  },
  {
   "cell_type": "code",
   "execution_count": 12,
   "id": "3f23cd48",
   "metadata": {},
   "outputs": [
    {
     "data": {
      "text/plain": [
       "0.3948179243242432"
      ]
     },
     "execution_count": 12,
     "metadata": {},
     "output_type": "execute_result"
    }
   ],
   "source": [
    "metrics.adjusted_rand_score(Y_mnist_train, zs[-1])"
   ]
  },
  {
   "cell_type": "code",
   "execution_count": 13,
   "id": "0d854692",
   "metadata": {},
   "outputs": [
    {
     "data": {
      "image/png": "[encoded data removed]",
      "text/plain": [
       "<Figure size 700x350 with 10 Axes>"
      ]
     },
     "metadata": {},
     "output_type": "display_data"
    }
   ],
   "source": [
    "figure = plt.figure(figsize=(7, 3.5))\n",
    "rows, cols= 2, 5\n",
    "for k in range(10):\n",
    "    img = θs[-1][k, :].reshape(28, 28)\n",
    "    figure.add_subplot(rows, cols, k+1)\n",
    "    plt.title(k)\n",
    "    plt.axis(\"off\")\n",
    "    plt.imshow(img, cmap=\"gray\")\n",
    "plt.show()"
   ]
  },
  {
   "cell_type": "markdown",
   "id": "64f9384d",
   "metadata": {},
   "source": [
    "# 3 Collapsed Gibbs Sampling"
   ]
  },
  {
   "cell_type": "markdown",
   "id": "dab8e524",
   "metadata": {},
   "source": [
    "Full Posterior:\n",
    "$$\n",
    "    P(\\boldsymbol{\\pi},\\boldsymbol{\\theta},\\mathbf{z}|\\mathbf{X},\\mathbf{a},\\mathbf{b},\\boldsymbol{\\alpha})\\propto \\underbrace{p(\\mathbf{X}|\\mathbf{z},\\mathbf{\\theta}) p(\\mathbf{\\theta}|a,b)}_{\\text{Conjugacy}} \\underbrace{p(\\mathbf{z}|\\mathbf{\\pi}) p(\\mathbf{\\pi}|\\mathbf{\\alpha})}_{\\text{Conjugacy}}\n",
    "$$"
   ]
  },
  {
   "cell_type": "markdown",
   "id": "ac3587ed",
   "metadata": {},
   "source": [
    "$$\n",
    "    \\prod_k^{K}\\prod_d^{D} \\frac{1}{B(a_{k,d}, b_{k,d})} \\theta_{k,d}^{(a_{k,d} + n^{(1)}_{k,d} - 1)}(1-\\theta_{k,d})^{(b_{k,d} + n^{(0)}_{k,d} - 1)}\\\\\n",
    "    =\\frac{1}{B(\\boldsymbol{a}, \\boldsymbol{b})} \\boldsymbol{\\theta}^{(\\boldsymbol{a} + \\boldsymbol{n^{(1)}}- 1)}(1-\\boldsymbol{\\theta})^{(\\boldsymbol{b} + \\boldsymbol{n^{(0)}} - 1)}\n",
    "$$"
   ]
  },
  {
   "cell_type": "markdown",
   "id": "1d895b99",
   "metadata": {},
   "source": [
    "---"
   ]
  },
  {
   "cell_type": "markdown",
   "id": "6456aef8",
   "metadata": {},
   "source": [
    "## Beta-Binomial Conjugacy:\n",
    "$$\\begin{align}\n",
    "    \\underset{Binomial}{P(\\mathbf{X}|\\mathbf{z},\\boldsymbol{\\theta})}&\\underset{Beta}{P(\\boldsymbol{\\theta}|\\mathbf{a},\\mathbf{b})} &= \n",
    "        \\left[ \\prod_{i}^{N} \\prod_{d}^{D} \\theta_{d,z_i}^{x_{d,i}} (1 - \\theta_{d,z_i})^{(1 - x_{d,i})} \\right]\\left[ \\prod_{k}^{K} \\prod_{d}^{D} \\frac{\\theta_{d,k}^{(a_{d,k}-1)}(1-\\theta_{d,k})^{(b_{d,k} - 1)}}{B(a_{d,k},b_{d,k})} \\right]\n",
    "\\end{align}$$\n",
    "\n",
    "$\\quad$ Let $n_{d,k}^{(1)} = \\sum_{i}^{N} \\mathbb{1}(z_i = k, x_{d,i} = 1)$,  hence $\\quad \\prod_{i}^{N} \\theta_{d,z_i}^{x_{d,i}} = \\prod_{k}^{K} \\theta_{d,k}^{n_{d,k}^{(1)}}$\n",
    "\n",
    "$$\\begin{align}\n",
    "     &= \\left[ \\prod_{k}^{K} \\prod_{d}^{D} \\theta_{d,k}^{n_{d,k}^{(1)}} (1 - \\theta_{d,k})^{n_{d,k}^{(0)}} \\right] \\left[ \\prod_{k}^{K} \\prod_{d}^{D} \\frac{\\theta_{d,k}^{(a_{d,k}-1)}   (1-\\theta_{d,k})^{(b_{d,k} - 1)}}{B(a_{d,k},b_{d,k})} \\right]\\\\\n",
    "\n",
    "    &= \\prod_{k}^{K} \\prod_{d}^{D} \\left(\\frac{1}{B(a_{d,k},b_{d,k})} \\right) \\theta_{d,k}^{(a_{d,k}+n_{d,k}^{(1)}-1)} (1-\\theta_{d,k})^{(b_{d,k} + n_{d,k}^{(0)}-1)}\n",
    "\\end{align}$$\n",
    "\n",
    "$\\quad$ Let $\\mathbf{a},\\mathbf{b},\\boldsymbol{\\theta},\\mathbf{n^{(0)}},\\mathbf{n^{(1)}}$ be $(k \\times d)$ matrices. E.g.  $B(\\mathbf{a},\\mathbf{b})=\\prod_k^{K}\\prod_{d}^{D} B(a_{d,k},b_{d,k})$\n",
    "\n",
    "$$\\begin{align}\n",
    "    &= \\frac{1}{B(\\mathbf{a},\\mathbf{b})}\\boldsymbol{\\theta}^{(\\mathbf{a} + \\mathbf{n}^{(1)}-1)}(1 - \\boldsymbol{\\theta})^{(\\mathbf{b} + \\mathbf{n}^{(0)} - 1)}\n",
    "\\end{align}$$\n",
    "\n",
    "#### Integrate Out $\\theta$\n",
    "\n",
    "$$\\begin{align}\n",
    "    P(\\mathbf{X}|\\mathbf{z}) &= \\int P(\\mathbf{X}|\\mathbf{z},\\boldsymbol{\\theta})P(\\boldsymbol{\\theta}|\\mathbf{a},\\mathbf{b})d\\boldsymbol{\\theta}\\\\\\\\\n",
    "                             &= \\int \\frac{1}{B(\\mathbf{a},\\mathbf{b})} \\boldsymbol{\\theta}^{(\\mathbf{a} + \\mathbf{n}^{(1)} -1)}(1 - \\boldsymbol{\\theta})^{(\\mathbf{b} +    \\mathbf{n}^{(0)} - 1)}d\\boldsymbol{\\theta}\\\\\\\\\n",
    "                             &= \\frac{1}{B(\\mathbf{a},\\mathbf{b})} \\underbrace{\\int \\boldsymbol{\\theta}^{(\\mathbf{a} + \\mathbf{n}^{(1)} -1)}(1 - \\boldsymbol{\\theta})^{(\\mathbf{b} + \\mathbf{n}^{(0)} - 1)}d\\boldsymbol{\\theta}}_{\\text{Beta Function (Normalization Term)}}\\\\\\\\\n",
    "                             &= \\frac{B(\\mathbf{a} + \\mathbf{n}^{(1)}, \\mathbf{b} + \\mathbf{n}^{(0)})}{B(\\mathbf{a},\\mathbf{b})}\n",
    "\\end{align}$$"
   ]
  },
  {
   "cell_type": "markdown",
   "id": "861ed6f1",
   "metadata": {},
   "source": [
    "### Predictive Likelihood\n",
    "\n",
    "$$\\begin{align}\n",
    "    P(\\mathbf{x}_i | \\mathbf{X}_{-i}, z_i=k, \\mathbf{z}_{-i}) &= \\prod_d^D \\frac{B(a_{k,d} + n_{k,d}^{(1)} + x_{i,d}, \\quad b_{k,d} + n_{k,d}^{(0)} - x_{i,d})}{B(a_{k,d} + n_{k,d}^{(1)}, b_{k,d} + n_{k,d}^{(0)})}\n",
    "\\end{align}$$"
   ]
  },
  {
   "cell_type": "markdown",
   "id": "17971c1b",
   "metadata": {},
   "source": [
    "---"
   ]
  },
  {
   "cell_type": "markdown",
   "id": "d140b55d",
   "metadata": {},
   "source": [
    "## Dirichlet-Categorical Conjugacy"
   ]
  },
  {
   "cell_type": "markdown",
   "id": "783b738a",
   "metadata": {},
   "source": [
    "$$\n",
    "    P(\\mathbf{z}|\\boldsymbol{\\pi})P(\\boldsymbol{\\pi}|\\boldsymbol{\\alpha}) = \\left[ \\prod_{i}^{N} \\pi_{z_i}\\right] \\left[ \\frac{1}{B(\\boldsymbol{\\alpha})} \\prod_{k}^{K} \\pi_k^{\\alpha_k - 1} \\right]\n",
    "$$\n",
    "\n",
    "$\\quad$ Let $n_{k} = \\sum_{i}^{N} \\mathbb{1}(z_i = 1) \\quad$ hence $\\quad \\prod_i^N \\pi_{z_i} = \\prod_k^K \\pi_k^{n_k}$\n",
    "\n",
    "$$\\begin{align}\n",
    "    &= \\left[ \\prod_k^K \\pi_k^{n_k} \\right] \\left[ \\frac{1}{B(\\boldsymbol{\\alpha})} \\prod_k^K \\pi_k^{(\\alpha_k - 1)} \\right]\\\\\n",
    "    &= \\frac{1}{B(\\boldsymbol{\\alpha})} \\prod_k^K \\pi_k^{(\\alpha_k + n_k - 1)}\n",
    "\\end{align}$$\n",
    "\n",
    "\n",
    "### Integrate out $\\pi$\n",
    "\n",
    "$$\\begin{align}\n",
    "    P(\\mathbf{z}) &= \\int P(\\mathbf{z}|\\boldsymbol{\\pi})P(\\boldsymbol{\\pi})d\\boldsymbol{\\pi}\\\\\n",
    "                  &= \\int \\frac{1}{B(\\boldsymbol{\\alpha})} \\prod_k^K \\pi_k^{(\\alpha_k + n_k - 1)}d\\boldsymbol{\\pi}\\\\\n",
    "                  &= \\frac{1}{B(\\boldsymbol{\\alpha})} \\underbrace{\\int \\prod_k^K \\pi_k^{(\\alpha_k + n_k - 1)}d\\boldsymbol{\\pi}}_{\\text{Dirichlet Kernal (Normalization term)}}\\\\\n",
    "                  &= \\frac{B(\\boldsymbol{\\alpha} + n)}{B(\\boldsymbol{\\alpha})}\n",
    "\\end{align}$$"
   ]
  },
  {
   "cell_type": "markdown",
   "id": "62cf55a2",
   "metadata": {},
   "source": [
    "---"
   ]
  },
  {
   "cell_type": "markdown",
   "id": "2c5041e7",
   "metadata": {},
   "source": [
    "## Conditional Distribution of $z_i$ for Gibbs (after marginalizing out $\\theta$ and $\\pi$)"
   ]
  },
  {
   "cell_type": "markdown",
   "id": "4562f701",
   "metadata": {},
   "source": [
    "$$\\begin{align}\n",
    "    P(z_i \\mid \\mathbf{z}_{-i}) &= \\frac{P(z_i, \\mathbf{z}_{-i})}{P(\\mathbf{z}_{-i})} = \\frac{P(\\mathbf{z})}{P(\\mathbf{z}_{-i})}, \\quad \\text{where } \\mathbf{z}_{-i} = \\{ z_j \\mid j \\ne i \\}\\\\\n",
    "\n",
    "    &= \\left[ \\frac{B(\\boldsymbol{\\alpha} + \\mathbf{n})}{B(\\boldsymbol{\\alpha})} \\right]\\left[ \\frac{B(\\boldsymbol{\\alpha})}{B(\\boldsymbol{\\alpha} + \\mathbf{n}_{-i})} \\right]\\\\\n",
    "\n",
    "    &= \\frac{B(\\boldsymbol{\\alpha} + \\mathbf{n})}{B(\\boldsymbol{\\alpha} + \\mathbf{n}_{-i})}\\\\\n",
    "\n",
    "    &= \\left[ \\frac{\\prod_k^K \\Gamma(\\alpha_k + n_k)}{\\Gamma(\\sum_j^K \\alpha_j + n_j)} \\right] \\left[ \\frac{\\Gamma(\\sum_j^K \\alpha_j + n_{-i,j})}{\\prod_k^K \\Gamma(\\alpha_k + n_{-i,k})} \\right]\n",
    "\\end{align}$$\n",
    "\n",
    "Note : $n_{-i,k} = \\sum_j \\mathbb{1}(z_n = k, j \\neq i) = n_k - 1$\n",
    "\n",
    "$$\\begin{align}\n",
    "     &= \\left[ \\frac{\\prod_k^K \\Gamma(\\alpha_k + n_{-i,k} + 1)}{\\Gamma(\\sum_j^K \\alpha_j + n_{-i,j} + 1)} \\right]\\left[ \\frac{\\Gamma(\\sum_j^K \\alpha_j + n_{-i,j})}{\\prod_k^K \\Gamma(\\alpha_k + n_{-i,k})} \\right]\n",
    "\\end{align}$$\n",
    "Hence,\n",
    "$$\\begin{align}\n",
    "     P(z_i = k | z_{-i}) &= \\left[ \\frac{\\Gamma(\\alpha_k + n_{-i,k} + 1)}{\\Gamma(\\sum_j^K \\alpha_j + n_{-i,j} + 1)} \\right]\\left[ \\frac{\\Gamma(\\sum_j^K \\alpha_j + n_{-i,j})}{\\Gamma(\\alpha_k + n_{-i,k})} \\right]\n",
    "\\end{align}$$\n",
    "\n",
    "Using $\\frac{\\Gamma(x + 1)}{\\Gamma(x)} = x$,\n",
    "\n",
    "$$\\begin{align}\n",
    "    &= \\frac{\\alpha_k + n_{-i,k}}{\\sum_j^K \\alpha_k + n_{-i,k}}\\\\\n",
    "\\end{align}$$"
   ]
  },
  {
   "cell_type": "markdown",
   "id": "c6e112f6",
   "metadata": {},
   "source": [
    "---"
   ]
  },
  {
   "cell_type": "markdown",
   "id": "98978aaf",
   "metadata": {},
   "source": [
    "## Collapsed Posterior\n",
    "\n",
    "$$\\begin{align}\n",
    "    P(z_i = k | \\mathbf{z}_{-i}, \\mathbf{X}) &= P(\\mathbf{x}_i | \\mathbf{X}_{-i}, z_i=k, \\mathbf{z}_{-i})P(z_i=k|\\mathbf{z}_{-i}) \\\\ \n",
    "        &\\propto \\left[ \\frac{\\alpha_k + n_{-i,k}}{\\sum_k^K \\alpha_k + n_{-i,k}} \\right] \\left[ \\prod_d^D \\frac{B(a_{k,d} + n_{k,d}^{(1)} + x_{i,d}, \\quad b_{k,d} + n_{k,d}^{(0)} - x_{i,d})}{B(a_{k,d} + n_{k,d}^{(1)}, b_{k,d} + n_{k,d}^{(0)})} \\right]\n",
    "\\end{align}$$"
   ]
  },
  {
   "cell_type": "markdown",
   "id": "864594a2",
   "metadata": {},
   "source": [
    "---"
   ]
  },
  {
   "cell_type": "markdown",
   "id": "e8cc7429",
   "metadata": {},
   "source": [
    "## Gibbs Routine\n",
    "1) Intialize $\\mathbf{z}=[z_1,...,z_n]$\n",
    "2) For $t=1,...,T$  \n",
    "$\\qquad $ Sample $z_i^{(t)} \\sim P(z_i^{(t)} | z_1^{(t)},...,z_{i-1}^{(t)}, z_{i+1}^{(t-1)},...,z_{n}^{(t-1)})$\n",
    "3) Discard Burn in"
   ]
  },
  {
   "cell_type": "code",
   "execution_count": null,
   "id": "41df3e63",
   "metadata": {},
   "outputs": [],
   "source": [
    "def gibbs_collapsed(X, num_iter, num_burn, K=10, rng=np.random.default_rng(random_seed), eps=1e-20) :\n",
    "    n, d = X.shape\n",
    "    X = X.astype(np.uint8)\n",
    "\n",
    "    zs_samples = []\n",
    "\n",
    "    # Intialize\n",
    "    α_0 = np.full(K, 1 / K, dtype=np.float64)  # Dirichlet\n",
    "    a_mat  = np.full((K, d), 1) # Beta\n",
    "    b_mat  = np.full((K, d), 1) # Beta\n",
    "\n",
    "    zs = rng.integers(0,K, size=n)\n",
    "\n",
    "    for t in range(1,num_iter+num_burn):\n",
    "\n",
    "        for i in range(0,n):\n",
    "\n",
    "            cat_dist = np.zeros((K))\n",
    "\n",
    "            for k in range(K):\n",
    "                indices = (zs == k)\n",
    "                if zs[i]==k : \n",
    "                    indices[i] = False\n",
    "\n",
    "                nk = indices.sum()\n",
    "                nkd1 = X[indices].sum(axis=0)\n",
    "                nkd0 = nk - nkd1\n",
    "\n",
    "                cat_dist[k] = np.log(nk + α_0[k]) + np.sum(betaln(a_mat[k] + nkd1, b_mat[k] + nkd0) - betaln(a_mat[k], b_mat[k]))\n",
    "\n",
    "            cat_dist -= cat_dist.max()\n",
    "\n",
    "            p = np.exp(cat_dist)\n",
    "\n",
    "            p /= p.sum()\n",
    "\n",
    "            cdf = np.cumsum(p)\n",
    "            u   = rng.random(size=(1))\n",
    "            zs[i] = (cdf > u).argmax()  # return first index where cdf is greater than random u \n",
    "\n",
    "        if t > num_burn:\n",
    "            zs_samples.append(zs)\n",
    "    \n",
    "    return zs_samples"
   ]
  },
  {
   "cell_type": "markdown",
   "id": "f70a4525",
   "metadata": {},
   "source": [
    "## Collapsed Posterior\n",
    "\n",
    "$$\\begin{align}\n",
    "    P(z_i = k | \\mathbf{z}_{-i}, \\mathbf{X}) &= P(\\mathbf{x}_i | \\mathbf{X}_{-i}, z_i=k, \\mathbf{z}_{-i})P(z_i=k|\\mathbf{z}_{-i}) \\\\ \n",
    "        &\\propto \\left[ \\frac{\\alpha_k + n_{-i,k}}{\\sum_k^K \\alpha_k + n_{-i,k}} \\right] \\left[ \\prod_d^D \\frac{B(a_{k,d} + n_{k,d}^{(1)} + x_{i,d}, \\quad b_{k,d} + n_{k,d}^{(0)} - x_{i,d})}{B(a_{k,d} + n_{k,d}^{(1)}, b_{k,d} + n_{k,d}^{(0)})} \\right]\n",
    "\\end{align}$$"
   ]
  },
  {
   "cell_type": "code",
   "execution_count": null,
   "id": "ed07ccb7",
   "metadata": {},
   "outputs": [],
   "source": [
    "def gibbs_collapsed(X, num_iter, num_burn, K=10, rng=np.random.default_rng(random_seed), eps=1e-20) :\n",
    "    n, d = X.shape\n",
    "    X = X.astype(np.uint8)\n",
    "\n",
    "    zs_samples = []\n",
    "\n",
    "    # Intialize\n",
    "    α_0 = np.full(K, 1 / K, dtype=np.float64)  # Dirichlet\n",
    "    a_mat  = np.full((K, d), 1) # Beta\n",
    "    b_mat  = np.full((K, d), 1) # Beta\n",
    "\n",
    "    zs = rng.integers(0,K, size=n)\n",
    "\n",
    "    nk = np.zeros((K))\n",
    "    nkd1 = np.zeros((K,d))\n",
    "\n",
    "    # Initialize nk\n",
    "    for k in range(0,K):\n",
    "        indices = (zs == k)\n",
    "        nk[k] = indices.sum()\n",
    "        nkd1[k] = X[indices].sum(axis=0)\n",
    "\n",
    "    for t in range(1,num_iter+num_burn):\n",
    "\n",
    "        for i in range(0,n):\n",
    "            x_i = X[i]\n",
    "            \n",
    "            nk[zs[i]] -= 1\n",
    "            nkd1[zs[i]] -= x_i\n",
    "            nkd0 = nk[:, None] - nkd1\n",
    "\n",
    "            log_prior = np.log(α_0 + nk)\n",
    "\n",
    "            log_like = np.sum(\n",
    "                betaln(a_mat + nkd1 + x_i, b_mat + nkd0 + 1 - x_i) \n",
    "                - betaln(a_mat + nkd1, b_mat + nkd0), axis=1\n",
    "            )\n",
    "\n",
    "            cat_dist = np.array(log_prior + log_like)\n",
    "\n",
    "            cat_dist -= cat_dist.max()\n",
    "\n",
    "            p = np.exp(cat_dist)\n",
    "            p /= p.sum()\n",
    "\n",
    "            cdf = np.cumsum(p)\n",
    "            u   = rng.random(size=(1))\n",
    "            zs[i] = (cdf > u).argmax()  # return first index where cdf is greater than random u \n",
    "\n",
    "            nk[zs[i]] += 1\n",
    "            nkd1[zs[i]] += x_i\n",
    "\n",
    "        if t > num_burn:\n",
    "            zs_samples.append(zs.copy())\n",
    "    \n",
    "    return zs_samples"
   ]
  },
  {
   "cell_type": "code",
   "execution_count": 175,
   "id": "f752a408",
   "metadata": {},
   "outputs": [],
   "source": [
    "zs=gibbs_collapsed(X_mnist_train, 1000,)"
   ]
  },
  {
   "cell_type": "code",
   "execution_count": 176,
   "id": "dade1d8e",
   "metadata": {},
   "outputs": [
    {
     "data": {
      "text/plain": [
       "0.29532764471349204"
      ]
     },
     "execution_count": 176,
     "metadata": {},
     "output_type": "execute_result"
    }
   ],
   "source": [
    "metrics.adjusted_rand_score(Y_mnist_train, zs[-1])"
   ]
  },
  {
   "cell_type": "markdown",
   "id": "4c9a9222",
   "metadata": {},
   "source": []
  }
 ],
 "metadata": {
  "kernelspec": {
   "display_name": "myenv",
   "language": "python",
   "name": "python3"
  },
  "language_info": {
   "codemirror_mode": {
    "name": "ipython",
    "version": 3
   },
   "file_extension": ".py",
   "mimetype": "text/x-python",
   "name": "python",
   "nbconvert_exporter": "python",
   "pygments_lexer": "ipython3",
   "version": "3.9.21"
  }
 },
 "nbformat": 4,
 "nbformat_minor": 5
}
