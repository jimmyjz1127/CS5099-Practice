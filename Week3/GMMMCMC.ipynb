{
 "cells": [
  {
   "cell_type": "code",
   "execution_count": 12,
   "id": "90f06d70",
   "metadata": {},
   "outputs": [],
   "source": [
    "\n",
    "import matplotlib.pyplot as plt\n",
    "import numpy as np\n",
    "import numpy.linalg as linalg\n",
    "import pandas as pd\n",
    "\n",
    "from scipy.special import logsumexp\n",
    "from scipy.special import softmax\n",
    "from scipy.stats import invwishart\n",
    "from scipy.stats import multivariate_normal\n",
    "\n",
    "\n",
    "from sklearn.cluster import KMeans\n",
    "from sklearn import metrics\n",
    "import scipy.sparse as sparse\n",
    "\n",
    "from sklearn.metrics import accuracy_score, precision_recall_fscore_support\n",
    "from sklearn.metrics import confusion_matrix\n",
    "\n",
    "import matplotlib.pyplot as plt\n",
    "import seaborn as sns"
   ]
  },
  {
   "cell_type": "code",
   "execution_count": 38,
   "id": "46cd1340",
   "metadata": {},
   "outputs": [],
   "source": [
    "import numpy as np"
   ]
  },
  {
   "cell_type": "code",
   "execution_count": 4,
   "id": "99656510",
   "metadata": {},
   "outputs": [],
   "source": [
    "random_seed = 123\n",
    "rng = np.random.default_rng(random_seed)"
   ]
  },
  {
   "cell_type": "markdown",
   "id": "8e6024ab",
   "metadata": {},
   "source": [
    "# 1 Import Dataset"
   ]
  },
  {
   "cell_type": "code",
   "execution_count": 9,
   "id": "6555e663",
   "metadata": {},
   "outputs": [],
   "source": [
    "data = np.load('../blobs_10_24.npz')\n",
    "\n",
    "X=data[\"X\"]\n",
    "y=data[\"y\"]\n",
    "X_train=X[:4000, :]\n",
    "y_train=y[:4000]\n",
    "X_test =X[4000:5000, :]\n",
    "y_test =y[4000:5000]"
   ]
  },
  {
   "cell_type": "markdown",
   "id": "81442e75",
   "metadata": {},
   "source": [
    "# 2 Un-Collapsed Gibbs"
   ]
  },
  {
   "cell_type": "markdown",
   "id": "a431a7d0",
   "metadata": {},
   "source": [
    "1) Initialize $\\mathbf{z}, \\boldsymbol{\\mu}, \\boldsymbol{\\Sigma}, \\boldsymbol{\\pi}$\n",
    "2) For $t=0,...,T$\n",
    "$$\\begin{align}\n",
    "    \\text{Sample } \\boldsymbol{\\pi}^{(t)} &\\sim p(\\boldsymbol{pi} | \\mathbf{z}^{(t-1)}) = \\mathrm{Dirichlet}(\\boldsymbol{\\alpha}_N^{(t-1)}),\\\\\n",
    "    &\\boldsymbol{\\alpha}_N^{(t-1)} = \\left[\\alpha_0^1 + n_1,\\, \\alpha_0^2 + n_2,\\, \\dots,\\, \\alpha_0^K + n_K \\right],\n",
    "        \\quad \\text{where} \\quad\n",
    "        n_k^{(t-1)} = \\sum_{i=1}^N \\mathbb{1}(z_i^{(t-1)} = k) \\\\\\\\\n",
    "\n",
    "    \\text{Sample } \\boldsymbol{\\Sigma}^{(t)}, &\\boldsymbol{\\mu}^{(t)} \\sim p(\\boldsymbol{\\Sigma},\\boldsymbol{\\mu}|\\mathbf{z}^{(t-1)}, \\mathbf{X})\\\\\n",
    "     &= \\prod_k^K \\mathrm{NIW}(\\mu,\\Sigma | \\mathbf{m}_N, \\kappa_N, \\nu_N, \\mathbf{S}_N) =  \\prod_k^K \\mathrm{N}(\\mu|\\mathbf{m}_N, \\frac{1}{\\kappa_N}\\Sigma) \\times \\mathrm{IW}(\\Sigma | \\mathbf{S}_N, \\nu_N),\\\\\n",
    "        &\\qquad\\qquad \\mathbf{m}_{N_k} = \\frac{\\kappa_{0_k}m_{0_k} + N_k\\bar{\\mathbf{x}}_k}{\\kappa_{0_k} + N_k}\\\\\n",
    "        &\\qquad\\qquad \\kappa_{N_k} = \\kappa_{0} + N_k\\\\\n",
    "        &\\qquad\\qquad \\nu_{N_k} = \\nu_{0} + N_k\\\\\n",
    "        &\\qquad\\qquad \\mathbf{S}_{N_k} = \\mathbf{S}_{0_k} + \\mathbf{S}_{\\bar{\\mathbf{x}}_k} + \\frac{\\kappa_{0_k}N_k}{\\kappa_{0_k} + N_k}(\\bar{\\mathbf{x}}_k - m_{0_k})(\\bar{\\mathbf{x}}_k - m_{0_k})^T\\\\\\\\\n",
    "\n",
    "    \\text{Sample } \\mathbf{z}^{(t)} \\sim &P(\\mathbf{z}|\\mathbf{X},\\boldsymbol{\\pi}^{(t)}, \\boldsymbol{\\theta}^{(t)})\\\\\n",
    "\n",
    "        \\text{For } i &\\in {1,..,N}\\\\\n",
    "            &\\text{Sample } z_i^{(t)} \\sim \\text{Categorical}(p_1^{(i)},...,p_K^{(i)}) \\quad \\text{where,}\\\\\n",
    "                &\\qquad p_k^{(i)} \\propto \\pi_k^{(t)} \\mathcal{N}(\\mathbf{x}_i|\\boldsymbol{\\mu}_k^{(t)},\\boldsymbol{\\Sigma}_k^{(t)})\\\\\\\\\n",
    "\\end{align}$$"
   ]
  },
  {
   "cell_type": "code",
   "execution_count": 113,
   "id": "f62e308d",
   "metadata": {},
   "outputs": [],
   "source": [
    "def gaussian_likelihood(X, μ, Σ, π, K=10):\n",
    "    N,D = X.shape\n",
    "    \n",
    "    p = np.zeros((N,K))\n",
    "\n",
    "    for k in range(K):\n",
    "        p[:,k] = π[k] * multivariate_normal.pdf(X, mean=μ[k],cov=Σ[k])\n",
    "    p /= p.sum(axis=1, keepdims=True)\n",
    "\n",
    "    return p"
   ]
  },
  {
   "cell_type": "code",
   "execution_count": 99,
   "id": "c6d6385d",
   "metadata": {},
   "outputs": [],
   "source": [
    "def sampleZs(p):\n",
    "    ''' \n",
    "        Samples cluster assignments z for n datapoints \n",
    "\n",
    "        @param (p) : softmax categorical probabilities over clusters (N, K)\n",
    "    '''\n",
    "\n",
    "    # Inverse sample from categorical distribution\n",
    "    cdf = np.cumsum(p, axis=1) # compute CDF for each row (each categorical distribution)\n",
    "    u   = rng.random(size=(p.shape[0], 1))\n",
    "    return (cdf > u).argmax(axis=1)  # return first index where cdf is greater than random u"
   ]
  },
  {
   "cell_type": "code",
   "execution_count": 100,
   "id": "fc3de924",
   "metadata": {},
   "outputs": [],
   "source": [
    "def sample_π(zs, α_0, K):\n",
    "    ''' \n",
    "        Samples mixing weights from Dirichlet distribution parameterized by pseudocounts of components\n",
    "        \n",
    "        @param (zs)  : cluster assignments (n)\n",
    "        @param (α_0) : Dirichlet prior list (K)\n",
    "        @param (K)   : the number of components\n",
    "    '''\n",
    "\n",
    "    z_counts = np.bincount(zs.astype(np.int64), minlength=K)\n",
    "    return rng.dirichlet(α_0 + z_counts)"
   ]
  },
  {
   "cell_type": "code",
   "execution_count": 104,
   "id": "9b35f6d3",
   "metadata": {},
   "outputs": [],
   "source": [
    "def sample_NIW(X,zs,μ_0,S_0,k_0,ν_0,K=10):\n",
    "    N,D = X.shape\n",
    "\n",
    "    zs_hot = np.eye(K)[zs.astype(int)]\n",
    "    counts = np.bincount(zs.astype(int), minlength=K)[:, None] # component cardinality \n",
    "    x_bar = np.divide(zs_hot.T @ X, counts, where=counts != 0) # component-based mean\n",
    "\n",
    "    Σs = np.zeros((K,D,D))\n",
    "    μs = np.zeros((K,D))\n",
    "\n",
    "    for k in range(K):\n",
    "        indices = (zs == k)\n",
    "        n_k = np.sum(indices)\n",
    "        k_n = k_0 + n_k\n",
    "\n",
    "        X_k = X[indices]\n",
    "        S = (X_k - x_bar[k]).T @ (X_k - x_bar[k])\n",
    "        diff = (x_bar[k] - μ_0).reshape(-1,1)\n",
    "        S_n = S_0 + S + ((k_0 * n_k)/(k_n)) * (diff @ diff.T)\n",
    "        Σs[k] = invwishart.rvs(df=ν_0 + n_k, scale=S_n)\n",
    "\n",
    "\n",
    "        μ_n = (k_0 * μ_0 + n_k * x_bar[k])/k_n\n",
    "        μs[k] = np.random.multivariate_normal(mean=μ_n, cov=Σs[k]/k_n)\n",
    "        \n",
    "    return Σs,μs"
   ]
  },
  {
   "cell_type": "code",
   "execution_count": 110,
   "id": "c7a0cde8",
   "metadata": {},
   "outputs": [],
   "source": [
    "def gibbs(X, num_iter, num_burn, K=10, rng=np.random.default_rng(random_seed), eps=1e-20) :\n",
    "    N,D = X.shape\n",
    "\n",
    "    πs = np.zeros((num_iter + num_burn, K))\n",
    "    zs = np.zeros((num_iter + num_burn, N))\n",
    "    Σs = np.zeros((num_iter + num_burn,K,D,D))\n",
    "    μs = np.zeros((num_iter + num_burn, K, D))\n",
    "\n",
    "    # Intialize\n",
    "    α_0 = np.full(K, 1 / K)  # Dirichlet\n",
    "    k_0 = 0.01         # Prior confidence in μ_0\n",
    "    μ_0 = np.zeros(D)  # Prior mean vector \n",
    "    ν_0 = D + 1        # DOF for inverse wishart\n",
    "    S_0 = np.eye(D)# prior scatter matrix\n",
    "\n",
    "    πs[0] = rng.dirichlet(α_0)\n",
    "    zs[0] = np.random.randint(0,K,size=N)\n",
    "    Σs[0],μs[0] = sample_NIW(X,zs[0],μ_0,S_0,k_0,ν_0,K)\n",
    "\n",
    "    for t in range(1,num_iter+num_burn):\n",
    "        πs[t] = sample_π(zs[t-1], α_0, K)\n",
    "        Σs[t],μs[t] = sample_NIW(X,zs[t-1],μ_0,S_0,k_0,ν_0,K)\n",
    "        zs[t] = sampleZs(gaussian_likelihood(X,μs[t],Σs[t],πs[t],K=10))\n",
    "\n",
    "    return zs[num_burn:], Σs[num_burn:], μs[num_burn:], πs[num_burn:]"
   ]
  },
  {
   "cell_type": "code",
   "execution_count": 111,
   "id": "001286ff",
   "metadata": {},
   "outputs": [],
   "source": [
    "zs,sigmas,mus,pis = gibbs(X_train,4000,1000,10)"
   ]
  },
  {
   "cell_type": "code",
   "execution_count": 112,
   "id": "35582174",
   "metadata": {},
   "outputs": [
    {
     "data": {
      "image/png": "[encoded data removed]",
      "text/plain": [
       "<Figure size 640x480 with 1 Axes>"
      ]
     },
     "metadata": {},
     "output_type": "display_data"
    }
   ],
   "source": [
    "scores = [metrics.adjusted_rand_score(y_train, zs[i]) for i in range(0,len(zs))]\n",
    "plt.plot(scores)\n",
    "plt.title(\"Traceplot of zs\")\n",
    "plt.show()"
   ]
  }
 ],
 "metadata": {
  "kernelspec": {
   "display_name": "myenv",
   "language": "python",
   "name": "python3"
  },
  "language_info": {
   "codemirror_mode": {
    "name": "ipython",
    "version": 3
   },
   "file_extension": ".py",
   "mimetype": "text/x-python",
   "name": "python",
   "nbconvert_exporter": "python",
   "pygments_lexer": "ipython3",
   "version": "3.9.21"
  }
 },
 "nbformat": 4,
 "nbformat_minor": 5
}
