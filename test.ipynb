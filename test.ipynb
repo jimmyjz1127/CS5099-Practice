{
 "cells": [
  {
   "cell_type": "code",
   "execution_count": 6,
   "id": "c3054aab",
   "metadata": {},
   "outputs": [],
   "source": [
    "\n",
    "import matplotlib.pyplot as plt\n",
    "import numpy as np\n",
    "import numpy.linalg as linalg\n",
    "import pandas as pd\n",
    "\n",
    "from scipy.special import logsumexp\n",
    "from scipy.special import softmax\n",
    "from scipy.stats import invwishart\n",
    "from scipy.stats import multivariate_normal\n",
    "\n",
    "from sklearn.cluster import KMeans\n",
    "from sklearn import metrics\n",
    "import scipy.sparse as sparse\n",
    "\n",
    "from sklearn.metrics import accuracy_score, precision_recall_fscore_support\n",
    "from sklearn.metrics import confusion_matrix\n",
    "from sklearn.metrics import adjusted_rand_score\n",
    "\n",
    "import seaborn as sns\n",
    "\n",
    "\n",
    "import random\n",
    "\n",
    "from models.PriorParameters import GMMPriorParameters\n",
    "from models.PriorParameters import BMMPriorParameters\n",
    "from models.GMMGibbs import GMMGibbs\n",
    "from models.BMMGibbs import BMMGibbs\n",
    "from models.GMMVBEM import GMMVBEM\n",
    "from models.BMMVBEM import BMMVBEM\n",
    "from models.BMMEM import BMMEM\n",
    "from models.GMMEM import GMMEM"
   ]
  },
  {
   "cell_type": "code",
   "execution_count": 2,
   "id": "073cda61",
   "metadata": {},
   "outputs": [],
   "source": [
    "dirpath = \"./../Datasets/Gaussian/Processed/IRIS/\"\n",
    "X_train = np.load(dirpath + \"X_train_iris.npy\")\n",
    "y_train = np.load(dirpath + \"y_train_iris.npy\")"
   ]
  },
  {
   "cell_type": "code",
   "execution_count": 3,
   "id": "54ae956c",
   "metadata": {},
   "outputs": [
    {
     "name": "stdout",
     "output_type": "stream",
     "text": [
      "{'avg_ari': 0.5669987211633801, 'avg_ll': np.float64(-2.395269352478206), 'avg_pl': np.float64(-322.7762303989955)}\n",
      "CPU times: user 15.5 s, sys: 28.3 ms, total: 15.6 s\n",
      "Wall time: 15.9 s\n"
     ]
    }
   ],
   "source": [
    "%%time\n",
    "params = GMMPriorParameters(X_train, 3)\n",
    "gmm_model = GMMGibbs(params)\n",
    "samples = gmm_model.fit(X_train, num_iters=1000, burn=250)\n",
    "obj = gmm_model.get_summarizing_results(y_train)\n",
    "print(obj)"
   ]
  },
  {
   "cell_type": "code",
   "execution_count": 4,
   "id": "03c33b8b",
   "metadata": {},
   "outputs": [],
   "source": [
    "import random\n",
    "N,D = X_train.shape\n",
    "X_cover1 = np.empty_like(X_train, dtype='f')\n",
    "X_cover1[:] = X_train\n",
    "for i in range(0,len(X_cover1)):\n",
    "    indices = random.sample(range(0,D), D//2)\n",
    "    X_cover1[i][indices] = np.nan"
   ]
  },
  {
   "cell_type": "code",
   "execution_count": 5,
   "id": "b5fa74c7",
   "metadata": {},
   "outputs": [
    {
     "name": "stdout",
     "output_type": "stream",
     "text": [
      "{'avg_ari': 0.49954646525784135, 'avg_ll': np.float64(-3.369802858295938), 'avg_pl': np.float64(-431.52137056992245)}\n",
      "CPU times: user 34.6 s, sys: 34.4 ms, total: 34.7 s\n",
      "Wall time: 34.9 s\n"
     ]
    }
   ],
   "source": [
    "%%time\n",
    "params = GMMPriorParameters(X_cover1, 3)\n",
    "gmm_model = GMMGibbs(params)\n",
    "samples = gmm_model.fit(X_cover1, num_iters=1000, burn=250)\n",
    "obj = gmm_model.get_summarizing_results(y_train)\n",
    "print(obj)"
   ]
  },
  {
   "cell_type": "code",
   "execution_count": 5,
   "id": "69028508",
   "metadata": {},
   "outputs": [
    {
     "data": {
      "text/plain": [
       "[<matplotlib.lines.Line2D at 0x7ffb6e44cb80>]"
      ]
     },
     "execution_count": 5,
     "metadata": {},
     "output_type": "execute_result"
    },
    {
     "data": {
      "image/png": "[encoded data removed]",
      "text/plain": [
       "<Figure size 640x480 with 1 Axes>"
      ]
     },
     "metadata": {},
     "output_type": "display_data"
    }
   ],
   "source": [
    "scores = [adjusted_rand_score(s['z'],y_train) for s in samples]\n",
    "plt.plot(scores)"
   ]
  },
  {
   "cell_type": "markdown",
   "id": "602057c2",
   "metadata": {},
   "source": [
    "---"
   ]
  },
  {
   "cell_type": "code",
   "execution_count": 2,
   "id": "71b39682",
   "metadata": {},
   "outputs": [],
   "source": [
    "dirpath = \"./../Datasets/Bernoulli/Processed/mushroom/\"\n",
    "\n",
    "X_train = np.load(dirpath + \"X_train_mushroom.npy\")\n",
    "y_train = np.load(dirpath + \"y_train_mushroom.npy\")"
   ]
  },
  {
   "cell_type": "code",
   "execution_count": 3,
   "id": "d1b444fc",
   "metadata": {},
   "outputs": [
    {
     "name": "stdout",
     "output_type": "stream",
     "text": [
      "{'avg_ari': 0.635933143231185, 'avg_ll': np.float64(-45.96792932694071), 'avg_pl': np.float64(-202491.43236542004)}\n",
      "CPU times: user 6min 59s, sys: 196 ms, total: 6min 59s\n",
      "Wall time: 1min 25s\n"
     ]
    }
   ],
   "source": [
    "%%time\n",
    "params = BMMPriorParameters(X_train, 2)\n",
    "bmm_model = BMMGibbs(params)\n",
    "samples = bmm_model.fit(X_train, num_iters=1000, burn=250)\n",
    "obj = bmm_model.get_summarizing_results(y_train)\n",
    "print(obj)"
   ]
  },
  {
   "cell_type": "markdown",
   "id": "52bb25bb",
   "metadata": {},
   "source": [
    "---"
   ]
  },
  {
   "cell_type": "code",
   "execution_count": 8,
   "id": "41dcc64a",
   "metadata": {},
   "outputs": [],
   "source": [
    "dirpath = \"./../Datasets/Bernoulli/Processed/MP2024/\"\n",
    "X = np.load(dirpath + \"X_mp2024.npy\")\n",
    "y = np.load(dirpath + \"y_mp2024.npy\")"
   ]
  },
  {
   "cell_type": "code",
   "execution_count": 7,
   "id": "620a555e",
   "metadata": {},
   "outputs": [
    {
     "name": "stdout",
     "output_type": "stream",
     "text": [
      "{'avg_ari': 0.9241387100009311, 'avg_ll': np.float64(-5.794703621066371), 'avg_pl': np.float64(-3756.584233780035)}\n",
      "CPU times: user 12min 31s, sys: 381 ms, total: 12min 31s\n",
      "Wall time: 3min 22s\n"
     ]
    }
   ],
   "source": [
    "%%time\n",
    "params = BMMPriorParameters(X, 13)\n",
    "bmm_model = BMMGibbs(params)\n",
    "samples = bmm_model.fit(X, num_iters=1000, burn=250)\n",
    "obj = bmm_model.get_summarizing_results(y)\n",
    "print(obj)"
   ]
  },
  {
   "cell_type": "markdown",
   "id": "6c7f2679",
   "metadata": {},
   "source": [
    "---\n",
    "---\n",
    "\n",
    "# VBEM"
   ]
  },
  {
   "cell_type": "code",
   "execution_count": 2,
   "id": "d98f1b5f",
   "metadata": {},
   "outputs": [],
   "source": [
    "dirpath = \"./../Datasets/Gaussian/Processed/IRIS/\"\n",
    "X_train = np.load(dirpath + \"X_train_iris.npy\")\n",
    "y_train = np.load(dirpath + \"y_train_iris.npy\")"
   ]
  },
  {
   "cell_type": "code",
   "execution_count": 3,
   "id": "4fab97e2",
   "metadata": {},
   "outputs": [
    {
     "data": {
      "text/plain": [
       "0.6834053874293315"
      ]
     },
     "execution_count": 3,
     "metadata": {},
     "output_type": "execute_result"
    }
   ],
   "source": [
    "params = GMMPriorParameters(X_train, 3)\n",
    "gmm_vbem_model = GMMVBEM(params)\n",
    "result = gmm_vbem_model.fit(X_train, tol=1e-3)\n",
    "adjusted_rand_score(y_train,result['z'])"
   ]
  },
  {
   "cell_type": "code",
   "execution_count": 7,
   "id": "6ec2f3eb",
   "metadata": {},
   "outputs": [
    {
     "data": {
      "text/plain": [
       "[<matplotlib.lines.Line2D at 0x7f2f9651d760>]"
      ]
     },
     "execution_count": 7,
     "metadata": {},
     "output_type": "execute_result"
    },
    {
     "data": {
      "image/png": "[encoded data removed]",
      "text/plain": [
       "<Figure size 640x480 with 1 Axes>"
      ]
     },
     "metadata": {},
     "output_type": "display_data"
    }
   ],
   "source": [
    "plt.plot(result['elbos'])"
   ]
  },
  {
   "cell_type": "code",
   "execution_count": 2,
   "id": "fce4be35",
   "metadata": {},
   "outputs": [],
   "source": [
    "dirpath = \"./../Datasets/Bernoulli/Processed/MP2024/\"\n",
    "X = np.load(dirpath + \"X_mp2024.npy\")\n",
    "y = np.load(dirpath + \"y_mp2024.npy\")"
   ]
  },
  {
   "cell_type": "code",
   "execution_count": 3,
   "id": "ab6e7c19",
   "metadata": {},
   "outputs": [
    {
     "name": "stdout",
     "output_type": "stream",
     "text": [
      "0.9505736893313538\n",
      "CPU times: user 1min 24s, sys: 1.36 s, total: 1min 26s\n",
      "Wall time: 17.8 s\n"
     ]
    },
    {
     "data": {
      "text/plain": [
       "[<matplotlib.lines.Line2D at 0x7fe6b53f0370>]"
      ]
     },
     "execution_count": 3,
     "metadata": {},
     "output_type": "execute_result"
    },
    {
     "data": {
      "image/png": "[encoded data removed]",
      "text/plain": [
       "<Figure size 640x480 with 1 Axes>"
      ]
     },
     "metadata": {},
     "output_type": "display_data"
    }
   ],
   "source": [
    "%%time\n",
    "params = BMMPriorParameters(X, 13)\n",
    "bmm_vbem_model = BMMVBEM(params)\n",
    "result = bmm_vbem_model.fit(X, tol=1e-3)\n",
    "print(adjusted_rand_score(y,result['z']))\n",
    "plt.plot(result['elbos'])"
   ]
  },
  {
   "cell_type": "code",
   "execution_count": 4,
   "id": "1acdc671",
   "metadata": {},
   "outputs": [],
   "source": [
    "dirpath = \"./../Datasets/Bernoulli/Processed/mushroom/\"\n",
    "\n",
    "X_train = np.load(dirpath + \"X_train_mushroom.npy\")\n",
    "y_train = np.load(dirpath + \"y_train_mushroom.npy\")"
   ]
  },
  {
   "cell_type": "code",
   "execution_count": 6,
   "id": "f110bdc0",
   "metadata": {},
   "outputs": [
    {
     "name": "stdout",
     "output_type": "stream",
     "text": [
      "0.6359385486587681\n",
      "CPU times: user 4.9 s, sys: 93.2 ms, total: 5 s\n",
      "Wall time: 999 ms\n"
     ]
    },
    {
     "data": {
      "text/plain": [
       "[<matplotlib.lines.Line2D at 0x7fe6b29a9520>]"
      ]
     },
     "execution_count": 6,
     "metadata": {},
     "output_type": "execute_result"
    },
    {
     "data": {
      "image/png": "[encoded data removed]",
      "text/plain": [
       "<Figure size 640x480 with 1 Axes>"
      ]
     },
     "metadata": {},
     "output_type": "display_data"
    }
   ],
   "source": [
    "%%time\n",
    "params = BMMPriorParameters(X_train, 2)\n",
    "bmm_vbem_model = BMMVBEM(params)\n",
    "result = bmm_vbem_model.fit(X_train, tol=1e-3)\n",
    "print(adjusted_rand_score(y_train,result['z']))\n",
    "plt.plot(result['elbos'])"
   ]
  },
  {
   "cell_type": "markdown",
   "id": "9d520b68",
   "metadata": {},
   "source": [
    "---"
   ]
  },
  {
   "cell_type": "code",
   "execution_count": 2,
   "id": "f59dc42d",
   "metadata": {},
   "outputs": [],
   "source": [
    "dirpath = \"./../Datasets/Bernoulli/Processed/mushroom/\"\n",
    "\n",
    "X_train = np.load(dirpath + \"X_train_mushroom.npy\")\n",
    "y_train = np.load(dirpath + \"y_train_mushroom.npy\")"
   ]
  },
  {
   "cell_type": "code",
   "execution_count": 3,
   "id": "1c34c160",
   "metadata": {},
   "outputs": [],
   "source": [
    "em_bmm_model = BMMEM(2)\n",
    "z, pi, theta, ll = em_bmm_model.fit(X_train)"
   ]
  },
  {
   "cell_type": "code",
   "execution_count": 13,
   "id": "57238b7b",
   "metadata": {},
   "outputs": [],
   "source": [
    "dirpath = \"./../Datasets/Gaussian/Processed/IRIS/\"\n",
    "X_train = np.load(dirpath + \"X_train_iris.npy\")\n",
    "y_train = np.load(dirpath + \"y_train_iris.npy\")\n",
    "\n",
    "N,D = X_train.shape\n",
    "X_cover1 = np.empty_like(X_train, dtype='f')\n",
    "X_cover1[:] = X_train\n",
    "for i in range(0,len(X_cover1)):\n",
    "    indices = random.sample(range(0,D), D//2)\n",
    "    X_cover1[i][indices] = np.nan\n",
    "\n",
    "X_cover2 = np.empty_like(X_train, dtype='f')\n",
    "X_cover2[:] = X_train\n",
    "for i in range(0,len(X_cover2)):\n",
    "    indices = random.sample(range(0,X_train.shape[1]), X_train.shape[1]//2)\n",
    "    X_cover2[i][indices] = np.nan"
   ]
  },
  {
   "cell_type": "code",
   "execution_count": 9,
   "id": "6fd05224",
   "metadata": {},
   "outputs": [
    {
     "name": "stdout",
     "output_type": "stream",
     "text": [
      "0.5443328008616204\n"
     ]
    }
   ],
   "source": [
    "em_gmm_model = GMMEM(3)\n",
    "result = em_gmm_model.em_algorithm(X_train)\n",
    "print(adjusted_rand_score(result['z'], y_train))"
   ]
  },
  {
   "cell_type": "code",
   "execution_count": 12,
   "id": "ac6ad063",
   "metadata": {},
   "outputs": [
    {
     "name": "stdout",
     "output_type": "stream",
     "text": [
      "0.21307162714331027\n"
     ]
    }
   ],
   "source": [
    "em_gmm_model = GMMEM(3)\n",
    "result = em_gmm_model.em_algorithm(X_cover1)\n",
    "print(adjusted_rand_score(result['z'], y_train))"
   ]
  },
  {
   "cell_type": "code",
   "execution_count": 17,
   "id": "e4a31584",
   "metadata": {},
   "outputs": [
    {
     "name": "stdout",
     "output_type": "stream",
     "text": [
      "0.39040412051767737\n"
     ]
    }
   ],
   "source": [
    "em_gmm_model = GMMEM(3)\n",
    "result = em_gmm_model.em_algorithm(X_cover2)\n",
    "print(adjusted_rand_score(result['z'], y_train))"
   ]
  },
  {
   "cell_type": "code",
   "execution_count": null,
   "id": "a6031562",
   "metadata": {},
   "outputs": [],
   "source": []
  }
 ],
 "metadata": {
  "kernelspec": {
   "display_name": "myenv",
   "language": "python",
   "name": "python3"
  },
  "language_info": {
   "codemirror_mode": {
    "name": "ipython",
    "version": 3
   },
   "file_extension": ".py",
   "mimetype": "text/x-python",
   "name": "python",
   "nbconvert_exporter": "python",
   "pygments_lexer": "ipython3",
   "version": "3.9.21"
  }
 },
 "nbformat": 4,
 "nbformat_minor": 5
}
