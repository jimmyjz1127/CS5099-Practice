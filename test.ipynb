{
 "cells": [
  {
   "cell_type": "code",
   "execution_count": 1,
   "id": "c3054aab",
   "metadata": {},
   "outputs": [],
   "source": [
    "\n",
    "import matplotlib.pyplot as plt\n",
    "import numpy as np\n",
    "import numpy.linalg as linalg\n",
    "import pandas as pd\n",
    "\n",
    "from scipy.special import logsumexp\n",
    "from scipy.special import softmax\n",
    "from scipy.stats import invwishart\n",
    "from scipy.stats import multivariate_normal\n",
    "\n",
    "from sklearn.cluster import KMeans\n",
    "from sklearn import metrics\n",
    "import scipy.sparse as sparse\n",
    "\n",
    "from sklearn.metrics import accuracy_score, precision_recall_fscore_support\n",
    "from sklearn.metrics import confusion_matrix\n",
    "from sklearn.metrics import adjusted_rand_score\n",
    "\n",
    "import seaborn as sns\n",
    "\n",
    "\n",
    "import random\n",
    "\n",
    "from models.PriorParameters import GMMPriorParameters\n",
    "from models.PriorParameters import BMMPriorParameters\n",
    "from models.GMMGibbs import GMMGibbs\n",
    "from models.BMMGibbs import BMMGibbs\n",
    "from models.GMMVBEM import GMMVBEM\n",
    "from models.BMMVBEM import BMMVBEM\n",
    "from models.BMMEM import BMMEM"
   ]
  },
  {
   "cell_type": "code",
   "execution_count": 5,
   "id": "073cda61",
   "metadata": {},
   "outputs": [],
   "source": [
    "dirpath = \"./../Datasets/Gaussian/Processed/IRIS/\"\n",
    "X_train = np.load(dirpath + \"X_train_iris.npy\")\n",
    "y_train = np.load(dirpath + \"y_train_iris.npy\")"
   ]
  },
  {
   "cell_type": "code",
   "execution_count": null,
   "id": "54ae956c",
   "metadata": {},
   "outputs": [
    {
     "name": "stdout",
     "output_type": "stream",
     "text": [
      "{'avg_ari': 0.5661543405592891, 'avg_ll': np.float64(-2.2155133196007957), 'avg_pl': np.float64(-264.5522578132815)}\n",
      "CPU times: user 16.3 s, sys: 16 ms, total: 16.3 s\n",
      "Wall time: 16.4 s\n"
     ]
    }
   ],
   "source": [
    "%%time\n",
    "params = GMMPriorParameters(X_train, 3)\n",
    "gmm_model = GMMGibbs(params)\n",
    "samples = gmm_model.fit(X_train, num_iters=1000, burn=250)\n",
    "obj = gmm_model.get_summarizing_results(y_train)\n",
    "print(obj)"
   ]
  },
  {
   "cell_type": "code",
   "execution_count": 3,
   "id": "03c33b8b",
   "metadata": {},
   "outputs": [],
   "source": [
    "import random\n",
    "N,D = X_train.shape\n",
    "X_cover1 = np.empty_like(X_train, dtype='f')\n",
    "X_cover1[:] = X_train\n",
    "for i in range(0,len(X_cover1)):\n",
    "    indices = random.sample(range(0,D), D//2)\n",
    "    X_cover1[i][indices] = np.nan"
   ]
  },
  {
   "cell_type": "code",
   "execution_count": 4,
   "id": "b5fa74c7",
   "metadata": {},
   "outputs": [
    {
     "name": "stdout",
     "output_type": "stream",
     "text": [
      "{'avg_ari': 0.5261325445440197, 'avg_ll': np.float64(-3.0681262868492247), 'avg_pl': np.float64(-390.29912560668873)}\n",
      "CPU times: user 34.9 s, sys: 21.5 ms, total: 34.9 s\n",
      "Wall time: 35.1 s\n"
     ]
    }
   ],
   "source": [
    "%%time\n",
    "params = GMMPriorParameters(X_cover1, 3)\n",
    "gmm_model = GMMGibbs(params)\n",
    "samples = gmm_model.fit(X_cover1, num_iters=1000, burn=250)\n",
    "obj = gmm_model.get_summarizing_results(y_train)\n",
    "print(obj)"
   ]
  },
  {
   "cell_type": "code",
   "execution_count": 5,
   "id": "69028508",
   "metadata": {},
   "outputs": [
    {
     "data": {
      "text/plain": [
       "[<matplotlib.lines.Line2D at 0x7ffb6e44cb80>]"
      ]
     },
     "execution_count": 5,
     "metadata": {},
     "output_type": "execute_result"
    },
    {
     "data": {
      "image/png": "[encoded data removed]",
      "text/plain": [
       "<Figure size 640x480 with 1 Axes>"
      ]
     },
     "metadata": {},
     "output_type": "display_data"
    }
   ],
   "source": [
    "scores = [adjusted_rand_score(s['z'],y_train) for s in samples]\n",
    "plt.plot(scores)"
   ]
  },
  {
   "cell_type": "markdown",
   "id": "602057c2",
   "metadata": {},
   "source": [
    "---"
   ]
  },
  {
   "cell_type": "code",
   "execution_count": 2,
   "id": "71b39682",
   "metadata": {},
   "outputs": [],
   "source": [
    "dirpath = \"./../Datasets/Bernoulli/Processed/mushroom/\"\n",
    "\n",
    "X_train = np.load(dirpath + \"X_train_mushroom.npy\")\n",
    "y_train = np.load(dirpath + \"y_train_mushroom.npy\")"
   ]
  },
  {
   "cell_type": "code",
   "execution_count": 3,
   "id": "d1b444fc",
   "metadata": {},
   "outputs": [
    {
     "name": "stdout",
     "output_type": "stream",
     "text": [
      "{'avg_ari': 0.567119444535497, 'avg_ll': np.float64(-40.05260345826872), 'avg_pl': np.float64(-203223.04616459654)}\n",
      "CPU times: user 7min 8s, sys: 171 ms, total: 7min 9s\n",
      "Wall time: 1min 27s\n"
     ]
    }
   ],
   "source": [
    "%%time\n",
    "params = BMMPriorParameters(X_train, 2)\n",
    "bmm_model = BMMGibbs(params)\n",
    "samples = bmm_model.fit(X_train, num_iters=1000, burn=250)\n",
    "obj = bmm_model.get_summarizing_results(y_train)\n",
    "print(obj)"
   ]
  },
  {
   "cell_type": "markdown",
   "id": "52bb25bb",
   "metadata": {},
   "source": [
    "---"
   ]
  },
  {
   "cell_type": "code",
   "execution_count": 8,
   "id": "41dcc64a",
   "metadata": {},
   "outputs": [],
   "source": [
    "dirpath = \"./../Datasets/Bernoulli/Processed/MP2024/\"\n",
    "X = np.load(dirpath + \"X_mp2024.npy\")\n",
    "y = np.load(dirpath + \"y_mp2024.npy\")"
   ]
  },
  {
   "cell_type": "code",
   "execution_count": 7,
   "id": "620a555e",
   "metadata": {},
   "outputs": [
    {
     "name": "stdout",
     "output_type": "stream",
     "text": [
      "{'avg_ari': 0.9241387100009311, 'avg_ll': np.float64(-5.794703621066371), 'avg_pl': np.float64(-3756.584233780035)}\n",
      "CPU times: user 12min 31s, sys: 381 ms, total: 12min 31s\n",
      "Wall time: 3min 22s\n"
     ]
    }
   ],
   "source": [
    "%%time\n",
    "params = BMMPriorParameters(X, 13)\n",
    "bmm_model = BMMGibbs(params)\n",
    "samples = bmm_model.fit(X, num_iters=1000, burn=250)\n",
    "obj = bmm_model.get_summarizing_results(y)\n",
    "print(obj)"
   ]
  },
  {
   "cell_type": "markdown",
   "id": "6c7f2679",
   "metadata": {},
   "source": [
    "---\n",
    "---\n",
    "\n",
    "# VBEM"
   ]
  },
  {
   "cell_type": "code",
   "execution_count": 2,
   "id": "d98f1b5f",
   "metadata": {},
   "outputs": [],
   "source": [
    "dirpath = \"./../Datasets/Gaussian/Processed/IRIS/\"\n",
    "X_train = np.load(dirpath + \"X_train_iris.npy\")\n",
    "y_train = np.load(dirpath + \"y_train_iris.npy\")"
   ]
  },
  {
   "cell_type": "code",
   "execution_count": 3,
   "id": "4fab97e2",
   "metadata": {},
   "outputs": [
    {
     "data": {
      "text/plain": [
       "0.6834053874293315"
      ]
     },
     "execution_count": 3,
     "metadata": {},
     "output_type": "execute_result"
    }
   ],
   "source": [
    "params = GMMPriorParameters(X_train, 3)\n",
    "gmm_vbem_model = GMMVBEM(params)\n",
    "result = gmm_vbem_model.fit(X_train, tol=1e-3)\n",
    "adjusted_rand_score(y_train,result['z'])"
   ]
  },
  {
   "cell_type": "code",
   "execution_count": 7,
   "id": "6ec2f3eb",
   "metadata": {},
   "outputs": [
    {
     "data": {
      "text/plain": [
       "[<matplotlib.lines.Line2D at 0x7f2f9651d760>]"
      ]
     },
     "execution_count": 7,
     "metadata": {},
     "output_type": "execute_result"
    },
    {
     "data": {
      "image/png": "[encoded data removed]",
      "text/plain": [
       "<Figure size 640x480 with 1 Axes>"
      ]
     },
     "metadata": {},
     "output_type": "display_data"
    }
   ],
   "source": [
    "plt.plot(result['elbos'])"
   ]
  },
  {
   "cell_type": "code",
   "execution_count": 11,
   "id": "ab6e7c19",
   "metadata": {},
   "outputs": [
    {
     "name": "stdout",
     "output_type": "stream",
     "text": [
      "0.9428740786754579\n",
      "CPU times: user 1min 22s, sys: 1.3 s, total: 1min 23s\n",
      "Wall time: 16.3 s\n"
     ]
    },
    {
     "data": {
      "text/plain": [
       "[<matplotlib.lines.Line2D at 0x7f2f964095b0>]"
      ]
     },
     "execution_count": 11,
     "metadata": {},
     "output_type": "execute_result"
    },
    {
     "data": {
      "image/png": "[encoded data removed]",
      "text/plain": [
       "<Figure size 640x480 with 1 Axes>"
      ]
     },
     "metadata": {},
     "output_type": "display_data"
    }
   ],
   "source": [
    "%%time\n",
    "params = BMMPriorParameters(X, 13)\n",
    "bmm_vbem_model = BMMVBEM(params)\n",
    "result = bmm_vbem_model.fit(X, tol=1e-3)\n",
    "print(adjusted_rand_score(y,result['z']))\n",
    "plt.plot(result['elbos'])"
   ]
  },
  {
   "cell_type": "code",
   "execution_count": 9,
   "id": "1acdc671",
   "metadata": {},
   "outputs": [],
   "source": [
    "dirpath = \"./../Datasets/Bernoulli/Processed/mushroom/\"\n",
    "\n",
    "X_train = np.load(dirpath + \"X_train_mushroom.npy\")\n",
    "y_train = np.load(dirpath + \"y_train_mushroom.npy\")"
   ]
  },
  {
   "cell_type": "code",
   "execution_count": 10,
   "id": "f110bdc0",
   "metadata": {},
   "outputs": [
    {
     "name": "stdout",
     "output_type": "stream",
     "text": [
      "0.12938936237866278\n",
      "CPU times: user 2.67 s, sys: 64.7 ms, total: 2.73 s\n",
      "Wall time: 552 ms\n"
     ]
    },
    {
     "data": {
      "text/plain": [
       "[<matplotlib.lines.Line2D at 0x7f2f96486a60>]"
      ]
     },
     "execution_count": 10,
     "metadata": {},
     "output_type": "execute_result"
    },
    {
     "data": {
      "image/png": "[encoded data removed]",
      "text/plain": [
       "<Figure size 640x480 with 1 Axes>"
      ]
     },
     "metadata": {},
     "output_type": "display_data"
    }
   ],
   "source": [
    "%%time\n",
    "params = BMMPriorParameters(X_train, 2)\n",
    "bmm_vbem_model = BMMVBEM(params)\n",
    "result = bmm_vbem_model.fit(X_train, tol=1e-3)\n",
    "print(adjusted_rand_score(y_train,result['z']))\n",
    "plt.plot(result['elbos'])"
   ]
  },
  {
   "cell_type": "markdown",
   "id": "9d520b68",
   "metadata": {},
   "source": [
    "---"
   ]
  },
  {
   "cell_type": "code",
   "execution_count": 2,
   "id": "f59dc42d",
   "metadata": {},
   "outputs": [],
   "source": [
    "dirpath = \"./../Datasets/Bernoulli/Processed/mushroom/\"\n",
    "\n",
    "X_train = np.load(dirpath + \"X_train_mushroom.npy\")\n",
    "y_train = np.load(dirpath + \"y_train_mushroom.npy\")"
   ]
  },
  {
   "cell_type": "code",
   "execution_count": 3,
   "id": "1c34c160",
   "metadata": {},
   "outputs": [],
   "source": [
    "em_bmm_model = BMMEM(2)\n",
    "z, pi, theta, ll = em_bmm_model.fit(X_train)"
   ]
  },
  {
   "cell_type": "code",
   "execution_count": null,
   "id": "57238b7b",
   "metadata": {},
   "outputs": [],
   "source": []
  }
 ],
 "metadata": {
  "kernelspec": {
   "display_name": "myenv",
   "language": "python",
   "name": "python3"
  },
  "language_info": {
   "codemirror_mode": {
    "name": "ipython",
    "version": 3
   },
   "file_extension": ".py",
   "mimetype": "text/x-python",
   "name": "python",
   "nbconvert_exporter": "python",
   "pygments_lexer": "ipython3",
   "version": "3.9.21"
  }
 },
 "nbformat": 4,
 "nbformat_minor": 5
}
