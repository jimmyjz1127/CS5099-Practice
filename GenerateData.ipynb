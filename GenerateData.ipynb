{
 "cells": [
  {
   "cell_type": "code",
   "execution_count": 1,
   "id": "9ddad2b4",
   "metadata": {},
   "outputs": [],
   "source": [
    "%matplotlib inline\n",
    "# %matplotlib notebook\n",
    "%config Completer.use_jedi = False\n",
    "import matplotlib.pyplot as plt\n",
    "import numpy as np\n",
    "import pandas as pd\n",
    "\n",
    "\n",
    "from scipy.special import logsumexp\n",
    "from scipy.special import softmax\n",
    "from scipy.special import betaln\n",
    "from scipy.special import beta\n",
    "\n",
    "import numpy.linalg as linalg\n",
    "from sklearn.cluster import KMeans\n",
    "from sklearn import metrics\n",
    "import scipy.sparse as sparse\n",
    "import random\n",
    "\n",
    "from collections import Counter\n",
    "\n",
    "from sklearn.metrics import accuracy_score, precision_recall_fscore_support\n",
    "from sklearn.metrics import confusion_matrix\n",
    "from sklearn.preprocessing import StandardScaler\n",
    "from sklearn.preprocessing import Normalizer\n",
    "\n",
    "from sklearn.model_selection import train_test_split\n",
    "from sklearn.pipeline import Pipeline\n",
    "import matplotlib.pyplot as plt\n",
    "import seaborn as sns\n",
    "\n",
    "from sklearn.datasets import make_blobs"
   ]
  },
  {
   "cell_type": "code",
   "execution_count": 2,
   "id": "b697b7fc",
   "metadata": {},
   "outputs": [],
   "source": [
    "random_seed = 123\n",
    "rng = np.random.default_rng(random_seed)"
   ]
  },
  {
   "cell_type": "markdown",
   "id": "86c51157",
   "metadata": {},
   "source": [
    "# Shapes"
   ]
  },
  {
   "cell_type": "code",
   "execution_count": 271,
   "id": "3d6aca20",
   "metadata": {},
   "outputs": [],
   "source": [
    "from skimage.draw import disk, rectangle, polygon\n",
    "\n",
    "def generate_shape(shape, std=0.1, size=10):\n",
    "    img = np.zeros((size, size), dtype=np.float32)\n",
    "    center1 = np.round(size // 2 + np.random.uniform(0,0)).astype(np.int16)\n",
    "    center2 = np.round(size // 2 + np.random.uniform(0,0)).astype(np.int16)\n",
    "    \n",
    "    if shape == 'circle':\n",
    "        rr, cc = disk((center1, center2), radius=size//4, shape=img.shape)\n",
    "        img[rr, cc] = 1\n",
    "    elif shape == 'square':\n",
    "        s = size // 3\n",
    "        rr, cc = rectangle((center1-s, center2-s), extent=(2*s, 2*s), shape=img.shape)\n",
    "        img[rr, cc] = 1\n",
    "    elif shape == 'triangle':\n",
    "        s = size // 3\n",
    "        points = [(center1, center2 - s), (center1 - s, center2 + s), (center1 + s, center2 + s)]\n",
    "        rr, cc = polygon([p[0] for p in points], [p[1] for p in points], shape=img.shape)\n",
    "        img[rr, cc] = 1\n",
    "    elif shape == 'plus':\n",
    "        t = 1\n",
    "        img[center1 - t:center1 + t + 1, :] = 1\n",
    "        img[:, center2 - t:center2 + t + 1] = 1\n",
    "    elif shape == \"bar\" :\n",
    "        t = 1\n",
    "        img[:, center1 - t:center2 + t + 1] = 1\n",
    "    else:\n",
    "        raise ValueError(\"Unknown shape\")\n",
    "    \n",
    "    return img+  np.random.normal(0, std, size=img.shape)"
   ]
  },
  {
   "cell_type": "code",
   "execution_count": 257,
   "id": "da8bb013",
   "metadata": {},
   "outputs": [],
   "source": [
    "shapes = ['square','triangle','plus']\n",
    "\n",
    "X = []\n",
    "y = []\n",
    "\n",
    "for idx,shape in enumerate(shapes):\n",
    "    for _ in range(250):\n",
    "        X.append(generate_shape(shape, std=0, size=9))\n",
    "        y.append(idx)"
   ]
  },
  {
   "cell_type": "code",
   "execution_count": 258,
   "id": "5689b312",
   "metadata": {},
   "outputs": [],
   "source": [
    "X = np.array(X).reshape(len(X), -1)\n",
    "y = np.array(y)"
   ]
  },
  {
   "cell_type": "code",
   "execution_count": 270,
   "id": "53f13aae",
   "metadata": {},
   "outputs": [
    {
     "data": {
      "image/png": "[encoded data removed]",
      "text/plain": [
       "<Figure size 700x350 with 3 Axes>"
      ]
     },
     "metadata": {},
     "output_type": "display_data"
    }
   ],
   "source": [
    "figure = plt.figure(figsize=(7, 3.5))\n",
    "rows, cols= 1, 3\n",
    "for k in range(3):\n",
    "    img = X[(k+1) * 249].reshape(9,9)\n",
    "    figure.add_subplot(rows, cols, k+1)\n",
    "    plt.axis(\"off\")\n",
    "    plt.imshow(img, cmap=\"gray\")"
   ]
  },
  {
   "cell_type": "code",
   "execution_count": 263,
   "id": "3fa08d24",
   "metadata": {},
   "outputs": [
    {
     "data": {
      "image/png": "[encoded data removed]",
      "text/plain": [
       "<Figure size 700x350 with 3 Axes>"
      ]
     },
     "metadata": {},
     "output_type": "display_data"
    }
   ],
   "source": [
    "means = []\n",
    "for k in range(3):\n",
    "    indices = y == k\n",
    "    means.append(np.mean(X[indices],axis=0))\n",
    "\n",
    "figure = plt.figure(figsize=(7, 3.5))\n",
    "rows, cols= 1, 3\n",
    "for k in range(3):\n",
    "    img = means[k].reshape(9,9)\n",
    "    figure.add_subplot(rows, cols, k+1)\n",
    "    plt.axis(\"off\")\n",
    "    plt.imshow(img, cmap=\"gray\")"
   ]
  },
  {
   "cell_type": "code",
   "execution_count": 260,
   "id": "82a114b5",
   "metadata": {},
   "outputs": [],
   "source": [
    "def paint_mnist(X):\n",
    "    figure = plt.figure(figsize=(7, 3.5))\n",
    "    rows, cols= 5, 5\n",
    "    for k in range(25):\n",
    "        img = X[k,:].reshape(9,9)\n",
    "        figure.add_subplot(rows, cols, k+1)\n",
    "        plt.imshow(img, cmap=\"gray\")\n",
    "    plt.show()"
   ]
  },
  {
   "cell_type": "code",
   "execution_count": 261,
   "id": "75e17707",
   "metadata": {},
   "outputs": [],
   "source": [
    "X_train, X_test, y_train, y_test = train_test_split(X, y, test_size=0.2, stratify=y, random_state=42)"
   ]
  },
  {
   "cell_type": "code",
   "execution_count": 125,
   "id": "5cefebeb",
   "metadata": {},
   "outputs": [],
   "source": [
    "X_train_bin = X_train > 0.5\n",
    "X_test_bin = X_test > 0.5"
   ]
  },
  {
   "cell_type": "code",
   "execution_count": 228,
   "id": "8de7963e",
   "metadata": {},
   "outputs": [],
   "source": [
    "pipeline = Pipeline([\n",
    "    ('scaler', Normalizer())\n",
    "])\n",
    "\n",
    "X_train_prepared = pipeline.fit_transform(X_train)\n",
    "X_test_prepared = pipeline.transform(X_test)"
   ]
  },
  {
   "cell_type": "code",
   "execution_count": null,
   "id": "3e1065d6",
   "metadata": {},
   "outputs": [],
   "source": [
    "name=\"shapes\"\n",
    "\n",
    "np.save(f\"./../Datasets/Bernoulli/Processed/{name}/X_train_{name}.npy\", X_train)\n",
    "np.save(f\"./../Datasets/Bernoulli/Processed/{name}/X_test_{name}.npy\", X_test)\n",
    "np.save(f\"./../Datasets/Bernoulli/Processed/{name}/y_train_{name}.npy\", y_train)\n",
    "np.save(f\"./../Datasets/Bernoulli/Processed/{name}/y_test_{name}.npy\", y_test)"
   ]
  },
  {
   "cell_type": "markdown",
   "id": "4564d2ab",
   "metadata": {},
   "source": [
    "# Shapes Improved"
   ]
  },
  {
   "cell_type": "code",
   "execution_count": null,
   "id": "59ece8f6",
   "metadata": {},
   "outputs": [],
   "source": [
    "from skimage.draw import disk, rectangle, polygon\n",
    "\n",
    "def generate_shape(shape, size=10, fg=0.95, bg=0.05):\n",
    "    img = np.full((size, size), bg, dtype=np.float32)\n",
    "    center1 = size // 2\n",
    "    center2 = size // 2\n",
    "    \n",
    "    if shape == 'circle':\n",
    "        rr, cc = disk((center1, center2), radius=size//4, shape=img.shape)\n",
    "        img[rr, cc] = fg\n",
    "    elif shape == 'square':\n",
    "        s = size // 3\n",
    "        r0, r1 = center1 - s, center1 + s\n",
    "        c0, c1 = center2 - s, center2 + s\n",
    "        img[r0:r1, c0:c1] = fg\n",
    "    elif shape == 'triangle':\n",
    "        s = size // 3\n",
    "        points = [(center1, center2 - s), (center1 - s, center2 + s), (center1 + s, center2 + s)]\n",
    "        rr, cc = polygon([p[0] for p in points], [p[1] for p in points], shape=img.shape)\n",
    "        img[rr, cc] = fg\n",
    "    elif shape == 'plus':\n",
    "        t = 1\n",
    "        img[center1 - t:center1 + t + 1, :] = fg\n",
    "        img[:, center2 - t:center2 + t + 1] = fg\n",
    "    elif shape == \"bar\" :\n",
    "        t = 1\n",
    "        img[:, center1 - t:center2 + t + 1] = fg\n",
    "    else:\n",
    "        raise ValueError(\"Unknown shape\")\n",
    "    \n",
    "    return img\n",
    "    \n",
    "\n",
    "def make_bernoulli_patterns(N=1500, seed=0, d=10):\n",
    "    rng = np.random.default_rng(seed)\n",
    "    cluster_patterns = [\n",
    "        generate_shape('triangle', size=d).flatten(),\n",
    "        generate_shape('square', size=d).flatten(),\n",
    "        generate_shape('plus', size=d).flatten()\n",
    "    ]\n",
    "    K =3\n",
    "\n",
    "    pis = np.random.dirichlet(np.full(K, 1))\n",
    "\n",
    "    X = []\n",
    "    z = []\n",
    "\n",
    "    for i in range(N):\n",
    "        k = rng.choice(K, p=pis)\n",
    "        x = rng.binomial(1, cluster_patterns[k])\n",
    "        X.append(x)\n",
    "        z.append(k)\n",
    "\n",
    "    return np.array(X), np.array(z), pis"
   ]
  },
  {
   "cell_type": "code",
   "execution_count": 538,
   "id": "87b2f19a",
   "metadata": {},
   "outputs": [],
   "source": [
    "X, z, pis = make_bernoulli_patterns()"
   ]
  },
  {
   "cell_type": "code",
   "execution_count": 539,
   "id": "4d5e88f3",
   "metadata": {},
   "outputs": [
    {
     "data": {
      "image/png": "[encoded data removed]",
      "text/plain": [
       "<Figure size 600x600 with 1 Axes>"
      ]
     },
     "metadata": {},
     "output_type": "display_data"
    }
   ],
   "source": [
    "unique, counts = np.unique(z, return_counts=True)\n",
    "\n",
    "plt.figure(figsize=(6, 6))\n",
    "plt.pie(\n",
    "    counts,\n",
    "    labels=unique,\n",
    "    autopct='%1.1f%%',\n",
    "    startangle=90,\n",
    "    textprops={'fontsize': 14}  # <-- Set label font size here\n",
    ")\n",
    "plt.title('BMM Shapes Mixing Proportions', fontsize=16)  # Optional: increase title size\n",
    "plt.axis('equal')\n",
    "plt.show()"
   ]
  },
  {
   "cell_type": "code",
   "execution_count": null,
   "id": "215db494",
   "metadata": {},
   "outputs": [
    {
     "data": {
      "image/png": "[encoded data removed]",
      "text/plain": [
       "<Figure size 700x700 with 3 Axes>"
      ]
     },
     "metadata": {},
     "output_type": "display_data"
    }
   ],
   "source": [
    "# ones = X[z==0][0]\n",
    "# twos = X[z==1][0]\n",
    "# threes = X[z==2][0]\n",
    "\n",
    "# shapes = [ones,twos,threes]\n",
    "\n",
    "# # shapes = [\n",
    "# #     generate_shape('triangle'),\n",
    "# #     generate_shape('square'),\n",
    "# #     generate_shape('plus')\n",
    "# # ]\n",
    "\n",
    "# figure = plt.figure(figsize=(7, 7))\n",
    "# rows, cols= 1,3 \n",
    "# for k in range(3):\n",
    "#     img = shapes[k].reshape(10,10)\n",
    "#     figure.add_subplot(rows, cols, k+1)\n",
    "#     plt.title(k)\n",
    "#     plt.axis(\"off\")\n",
    "#     plt.imshow(img, cmap=\"gray\")\n",
    "# plt.show()"
   ]
  },
  {
   "cell_type": "code",
   "execution_count": 440,
   "id": "e39beb32",
   "metadata": {},
   "outputs": [],
   "source": [
    "means = []\n",
    "for k in range(3):\n",
    "    indices = z == k\n",
    "    means.append(np.mean(X[indices], axis=0))\n",
    "means = np.array(means)"
   ]
  },
  {
   "cell_type": "code",
   "execution_count": 441,
   "id": "aaf119de",
   "metadata": {},
   "outputs": [],
   "source": [
    "def paint(X):\n",
    "    figure = plt.figure(figsize=(7, 7))\n",
    "    rows, cols= 1,3 \n",
    "    for k in range(3):\n",
    "        img = X[k,:].reshape(10,10)\n",
    "        figure.add_subplot(rows, cols, k+1)\n",
    "        plt.title(k)\n",
    "        plt.axis(\"off\")\n",
    "        plt.imshow(img, cmap=\"gray\")\n",
    "    plt.show()"
   ]
  },
  {
   "cell_type": "code",
   "execution_count": 442,
   "id": "6a06b5f7",
   "metadata": {},
   "outputs": [
    {
     "data": {
      "image/png": "[encoded data removed]",
      "text/plain": [
       "<Figure size 700x700 with 3 Axes>"
      ]
     },
     "metadata": {},
     "output_type": "display_data"
    }
   ],
   "source": [
    "paint(means)"
   ]
  },
  {
   "cell_type": "code",
   "execution_count": 443,
   "id": "bb90fbb7",
   "metadata": {},
   "outputs": [],
   "source": [
    "X_train, X_test, y_train, y_test = train_test_split(X, z, test_size=0.2, stratify=z, random_state=42)"
   ]
  },
  {
   "cell_type": "code",
   "execution_count": null,
   "id": "131a34e8",
   "metadata": {},
   "outputs": [],
   "source": [
    "# name = \"shapes\"\n",
    "\n",
    "# np.save(f\"./../Datasets/Bernoulli/Processed/{name}/X_train_{name}.npy\",X_train)\n",
    "# np.save(f\"./../Datasets/Bernoulli/Processed/{name}/X_test_{name}.npy\",X_test)\n",
    "# np.save(f\"./../Datasets/Bernoulli/Processed/{name}/y_train_{name}.npy\",y_train)\n",
    "# np.save(f\"./../Datasets/Bernoulli/Processed/{name}/y_test_{name}.npy\",y_test)\n",
    "# np.save(f\"./../Datasets/Bernoulli/Processed/{name}/means_{name}.npy\", np.array(means))\n",
    "# np.save(f\"./../Datasets/Bernoulli/Processed/{name}/pis_{name}.npy\", pis)"
   ]
  },
  {
   "cell_type": "markdown",
   "id": "ad7a117b",
   "metadata": {},
   "source": [
    "# GMM Synthetic"
   ]
  },
  {
   "cell_type": "code",
   "execution_count": 25,
   "id": "4feb1dce",
   "metadata": {},
   "outputs": [],
   "source": [
    "from scipy.stats import wishart, multivariate_normal"
   ]
  },
  {
   "cell_type": "code",
   "execution_count": null,
   "id": "576d218d",
   "metadata": {},
   "outputs": [],
   "source": [
    "def generate_wishart_covariances(K, D, df=None, rng=None):\n",
    "    rng = rng or np.random.default_rng()\n",
    "    df = df or D + 2  # degrees of freedom must be >= D\n",
    "\n",
    "    covs = []\n",
    "    for _ in range(K):\n",
    "        scale_matrix = np.eye(D)\n",
    "        cov = wishart(df=df, scale=scale_matrix, seed=rng).rvs()\n",
    "        covs.append(cov)\n",
    "\n",
    "    return np.array(covs)\n",
    "\n",
    "def generate_means(covariances):\n",
    "    K,D,D = covariances.shape\n",
    "    rng = np.random.default_rng()\n",
    "\n",
    "    m_0 = np.zeros((D))\n",
    "    k = 0.01\n",
    "\n",
    "    means = []\n",
    "\n",
    "    for cov in covariances:\n",
    "        mean = rng.multivariate_normal(m_0, cov/k)\n",
    "        means.append(mean)\n",
    "\n",
    "    return np.array(means)\n",
    "\n",
    "def generate_gmm_mixture_data(means, covariances, num_total):\n",
    "    K,D = means.shape\n",
    "\n",
    "    pis = np.random.dirichlet(np.full(K,1))\n",
    "    n_samples_per_cluster = rng.multinomial(num_total, pis)\n",
    "\n",
    "    X = []\n",
    "    y = []\n",
    "\n",
    "    for k in range(K):\n",
    "        n_k = n_samples_per_cluster[k]\n",
    "        X_k = np.random.multivariate_normal(means[k], covariances[k], size=n_k)\n",
    "        y_k = np.full(n_k, k)\n",
    "\n",
    "        X.append(X_k)\n",
    "        y.append(y_k)\n",
    "\n",
    "    return np.vstack(X), np.concatenate(y)"
   ]
  },
  {
   "cell_type": "code",
   "execution_count": 540,
   "id": "59baadd0",
   "metadata": {},
   "outputs": [],
   "source": [
    "covariances = generate_wishart_covariances(3, 3)\n",
    "means = generate_means(covariances)\n",
    "X,y = generate_gmm_mixture_data(means, covariances, 750)"
   ]
  },
  {
   "cell_type": "code",
   "execution_count": 542,
   "id": "4a493b96",
   "metadata": {},
   "outputs": [
    {
     "data": {
      "image/png": "[encoded data removed]",
      "text/plain": [
       "<Figure size 600x600 with 1 Axes>"
      ]
     },
     "metadata": {},
     "output_type": "display_data"
    }
   ],
   "source": [
    "unique, counts = np.unique(z, return_counts=True)\n",
    "\n",
    "plt.figure(figsize=(6, 6))\n",
    "plt.pie(\n",
    "    counts,\n",
    "    labels=unique,\n",
    "    autopct='%1.1f%%',\n",
    "    startangle=90,\n",
    "    textprops={'fontsize': 14}  # <-- Set label font size here\n",
    ")\n",
    "plt.title('GMM Synthetic Mixing Proportions', fontsize=16)  # Optional: increase title size\n",
    "plt.axis('equal')\n",
    "plt.show()"
   ]
  },
  {
   "cell_type": "code",
   "execution_count": 255,
   "id": "b31abb78",
   "metadata": {},
   "outputs": [],
   "source": [
    "X_train, X_test, y_train, y_test = train_test_split(X, y, test_size=0.2, stratify=y, random_state=42)"
   ]
  },
  {
   "cell_type": "code",
   "execution_count": 39,
   "id": "40144ba5",
   "metadata": {},
   "outputs": [],
   "source": [
    "name = \"synthetic\"\n",
    "\n",
    "np.save(f\"./../Datasets/Gaussian/Processed/{name}/X_train_{name}.npy\",X_train)\n",
    "np.save(f\"./../Datasets/Gaussian/Processed/{name}/X_test_{name}.npy\",X_test)\n",
    "np.save(f\"./../Datasets/Gaussian/Processed/{name}/y_train_{name}.npy\",y_train)\n",
    "np.save(f\"./../Datasets/Gaussian/Processed/{name}/y_test_{name}.npy\",y_test)\n",
    "np.save(f\"./../Datasets/Gaussian/Processed/{name}/means_{name}.npy\", np.array(means))\n",
    "np.save(f\"./../Datasets/Gaussian/Processed/{name}/covs_{name}.npy\", np.array(covariances))"
   ]
  },
  {
   "cell_type": "markdown",
   "id": "6dcf2528",
   "metadata": {},
   "source": [
    "# Synthetic Bernoulli"
   ]
  },
  {
   "cell_type": "markdown",
   "id": "14903c8f",
   "metadata": {},
   "source": [
    "## Synthetic Bernoulli 5"
   ]
  },
  {
   "cell_type": "code",
   "execution_count": null,
   "id": "541431e2",
   "metadata": {},
   "outputs": [],
   "source": [
    "def generate_bernoulli_parameters(K, D, a=1, b=1, rng=None):\n",
    "    \"\"\"\n",
    "    Sample K D-dimensional Bernoulli probability vectors from Beta(a, b)\n",
    "    \"\"\"\n",
    "    rng = rng or np.random.default_rng()\n",
    "    return rng.beta(a, b, size=(K, D))\n",
    "\n",
    "def generate_bernoulli_mixture_data(θ, num_total=2500, rng=None):\n",
    "    rng = rng or np.random.default_rng()\n",
    "    K, D = θ.shape\n",
    "\n",
    "    pis = rng.dirichlet(np.full(K, 1))  # Equal prior\n",
    "\n",
    "    n_samples_per_cluster = rng.multinomial(num_total, pis)\n",
    "\n",
    "    X = []\n",
    "    y = []\n",
    "\n",
    "    for k in range(K):\n",
    "        n_k = n_samples_per_cluster[k]\n",
    "        samples = rng.binomial(n=1, p=θ[k], size=(n_k, D))\n",
    "        labels = np.full(n_k, k)\n",
    "        X.append(samples)\n",
    "        y.append(labels)\n",
    "\n",
    "    X = np.vstack(X)  # shape (num_total, D)\n",
    "    y = np.concatenate(y)  # shape (num_total,)\n",
    "    return X, y\n",
    "\n"
   ]
  },
  {
   "cell_type": "code",
   "execution_count": 552,
   "id": "0d56c6db",
   "metadata": {},
   "outputs": [],
   "source": [
    "thetas = generate_bernoulli_parameters(5, 5)\n",
    "X,y = generate_bernoulli_mixture_data(thetas)"
   ]
  },
  {
   "cell_type": "code",
   "execution_count": 553,
   "id": "de9731bb",
   "metadata": {},
   "outputs": [
    {
     "data": {
      "image/png": "[encoded data removed]",
      "text/plain": [
       "<Figure size 600x600 with 1 Axes>"
      ]
     },
     "metadata": {},
     "output_type": "display_data"
    }
   ],
   "source": [
    "unique, counts = np.unique(y, return_counts=True)\n",
    "\n",
    "plt.figure(figsize=(6, 6))\n",
    "plt.pie(\n",
    "    counts,\n",
    "    labels=unique,\n",
    "    autopct='%1.1f%%',\n",
    "    startangle=90,\n",
    "    textprops={'fontsize': 14}  # <-- Set label font size here\n",
    ")\n",
    "plt.title('GMM Synthetic Mixing Proportions', fontsize=16)  # Optional: increase title size\n",
    "plt.axis('equal')\n",
    "plt.show()"
   ]
  },
  {
   "cell_type": "code",
   "execution_count": 21,
   "id": "93acfee6",
   "metadata": {},
   "outputs": [],
   "source": [
    "X_train, X_test, y_train, y_test = train_test_split(X, y, test_size=0.2, stratify=y, random_state=42)"
   ]
  },
  {
   "cell_type": "code",
   "execution_count": null,
   "id": "494ab64a",
   "metadata": {},
   "outputs": [],
   "source": [
    "name=\"synthetic5\"\n",
    "\n",
    "np.save(f\"./../Datasets/Bernoulli/Processed/{name}/X_train_{name}.npy\", X_train)\n",
    "np.save(f\"./../Datasets/Bernoulli/Processed/{name}/X_test_{name}.npy\", X_test)\n",
    "np.save(f\"./../Datasets/Bernoulli/Processed/{name}/y_train_{name}.npy\", y_train)\n",
    "np.save(f\"./../Datasets/Bernoulli/Processed/{name}/y_test_{name}.npy\", y_test)\n",
    "np.save(f\"./../Datasets/Bernoulli/Processed/{name}/means_{name}.npy\", np.array(thetas))"
   ]
  },
  {
   "cell_type": "markdown",
   "id": "f4d45782",
   "metadata": {},
   "source": [
    "# Guassian Digits 7 x 5"
   ]
  },
  {
   "cell_type": "code",
   "execution_count": 2,
   "id": "b857eae2",
   "metadata": {},
   "outputs": [],
   "source": [
    "zero = np.array([\n",
    "    [0,1,1,1,0],\n",
    "    [1,0,0,0,1],\n",
    "    [1,0,0,0,1],\n",
    "    [1,0,0,0,1],\n",
    "    [1,0,0,0,1],\n",
    "    [1,0,0,0,1],\n",
    "    [0,1,1,1,0],\n",
    "])\n",
    "\n",
    "one = np.array([\n",
    "    [0,0,1,0,0],\n",
    "    [0,1,1,0,0],\n",
    "    [0,0,1,0,0],\n",
    "    [0,0,1,0,0],\n",
    "    [0,0,1,0,0],\n",
    "    [0,0,1,0,0],\n",
    "    [0,0,1,0,0],\n",
    "])\n",
    "\n",
    "two = np.array([\n",
    "    [0,1,1,1,0],\n",
    "    [1,0,0,0,1],\n",
    "    [1,0,0,0,1],\n",
    "    [0,0,0,1,0],\n",
    "    [0,0,1,0,0],\n",
    "    [0,1,0,0,0],\n",
    "    [1,1,1,1,1],\n",
    "])\n",
    "\n",
    "three = np.array([\n",
    "    [0,1,1,1,0],\n",
    "    [1,0,0,0,1],\n",
    "    [0,0,0,0,1],\n",
    "    [0,0,1,1,0],\n",
    "    [0,0,0,0,1],\n",
    "    [1,0,0,0,1],\n",
    "    [0,1,1,1,0],\n",
    "])\n",
    "\n",
    "four = np.array([\n",
    "    [0,1,0,1,0],\n",
    "    [0,1,0,1,0],\n",
    "    [1,0,0,1,0],\n",
    "    [1,1,1,1,1],\n",
    "    [0,0,0,1,0],\n",
    "    [0,0,0,1,0],\n",
    "    [0,0,0,1,0],\n",
    "])\n",
    "\n",
    "five = np.array([\n",
    "    [1,1,1,1,1],\n",
    "    [1,0,0,0,0],\n",
    "    [1,0,0,0,0],\n",
    "    [0,1,1,1,0],\n",
    "    [0,0,0,0,1],\n",
    "    [1,0,0,0,1],\n",
    "    [0,1,1,1,0],\n",
    "])\n",
    "\n",
    "six = np.array([\n",
    "    [0,1,1,1,0],\n",
    "    [1,0,0,0,0],\n",
    "    [1,0,0,0,0],\n",
    "    [1,1,1,1,0],\n",
    "    [1,0,0,0,1],\n",
    "    [1,0,0,0,1],\n",
    "    [0,1,1,1,0],\n",
    "])\n",
    "\n",
    "seven = np.array([\n",
    "    [1,1,1,1,1],\n",
    "    [0,0,0,0,1],\n",
    "    [0,0,0,0,1],\n",
    "    [0,0,0,1,0],\n",
    "    [0,0,1,0,0],\n",
    "    [0,1,0,0,0],\n",
    "    [1,0,0,0,0],\n",
    "])\n",
    "\n",
    "eight = np.array([\n",
    "    [0,1,1,1,0],\n",
    "    [1,0,0,0,1],\n",
    "    [1,0,0,0,1],\n",
    "    [0,1,1,1,0],\n",
    "    [1,0,0,0,1],\n",
    "    [1,0,0,0,1],\n",
    "    [0,1,1,1,0],\n",
    "])\n",
    "\n",
    "nine = np.array([\n",
    "    [0,1,1,1,0],\n",
    "    [1,0,0,0,1],\n",
    "    [1,0,0,0,1],\n",
    "    [0,1,1,1,1],\n",
    "    [0,0,0,0,1],\n",
    "    [1,0,0,0,1],\n",
    "    [0,1,1,1,0],\n",
    "])\n",
    "\n",
    "templates = np.array([zero, one, two, three, four , five, six, seven ,eight, nine])"
   ]
  },
  {
   "cell_type": "code",
   "execution_count": 3,
   "id": "430ee08a",
   "metadata": {},
   "outputs": [],
   "source": [
    "def paint_mnist(X):\n",
    "    figure = plt.figure(figsize=(7, 3.5))\n",
    "    rows, cols= 2, 5\n",
    "    for k in range(10):\n",
    "        img = X[k]\n",
    "        figure.add_subplot(rows, cols, k+1)\n",
    "        plt.imshow(img, cmap=\"gray\")\n",
    "    plt.show()"
   ]
  },
  {
   "cell_type": "code",
   "execution_count": 4,
   "id": "7815782b",
   "metadata": {},
   "outputs": [
    {
     "data": {
      "image/png": "[encoded data removed]",
      "text/plain": [
       "<Figure size 700x350 with 10 Axes>"
      ]
     },
     "metadata": {},
     "output_type": "display_data"
    }
   ],
   "source": [
    "paint_mnist(templates)"
   ]
  },
  {
   "cell_type": "code",
   "execution_count": 40,
   "id": "e72adfc8",
   "metadata": {},
   "outputs": [],
   "source": [
    "def add_gaussian_noise(X, mean=0.0, std=0.1):\n",
    "    noise = np.random.normal(loc=mean, scale=std, size=X.shape)\n",
    "    X_noisy = X + noise\n",
    "    return X_noisy"
   ]
  },
  {
   "cell_type": "code",
   "execution_count": 6,
   "id": "d2c86f2d",
   "metadata": {},
   "outputs": [],
   "source": [
    "X = []\n",
    "y = []\n",
    "\n",
    "for i in range(10):\n",
    "    for n in range(500):\n",
    "        X.append(add_gaussian_noise(templates[i].flatten()))\n",
    "        y.append(i)\n",
    "\n",
    "X = np.array(X)\n",
    "y = np.array(y)"
   ]
  },
  {
   "cell_type": "code",
   "execution_count": 7,
   "id": "a152e61a",
   "metadata": {},
   "outputs": [],
   "source": [
    "means = []\n",
    "covs = []\n",
    "for k in range(10):\n",
    "    means.append(np.mean(X[y==k], axis=0))\n",
    "    covs.append(np.cov(X[y==k], rowvar=False))\n",
    "means = np.array(means)\n",
    "covs = np.array(covs)"
   ]
  },
  {
   "cell_type": "code",
   "execution_count": 49,
   "id": "3de8ff53",
   "metadata": {},
   "outputs": [],
   "source": [
    "def paint_mnist(X,D1,D2):\n",
    "    figure = plt.figure(figsize=(7, 3.5))\n",
    "    rows, cols= 2, 5\n",
    "    for k in range(10):\n",
    "        img = X[k,:].reshape(D1,D2)\n",
    "        figure.add_subplot(rows, cols, k+1)\n",
    "        plt.imshow(img, cmap=\"gray\")\n",
    "    plt.show()"
   ]
  },
  {
   "cell_type": "code",
   "execution_count": null,
   "id": "8513fe44",
   "metadata": {},
   "outputs": [
    {
     "data": {
      "image/png": "[encoded data removed]",
      "text/plain": [
       "<Figure size 700x350 with 10 Axes>"
      ]
     },
     "metadata": {},
     "output_type": "display_data"
    }
   ],
   "source": [
    "paint_mnist(X[2000:], 5, 7)"
   ]
  },
  {
   "cell_type": "code",
   "execution_count": 10,
   "id": "2da1084d",
   "metadata": {},
   "outputs": [
    {
     "data": {
      "image/png": "[encoded data removed]",
      "text/plain": [
       "<Figure size 700x350 with 10 Axes>"
      ]
     },
     "metadata": {},
     "output_type": "display_data"
    }
   ],
   "source": [
    "paint_mnist(means)"
   ]
  },
  {
   "cell_type": "code",
   "execution_count": 11,
   "id": "ca43bc00",
   "metadata": {},
   "outputs": [],
   "source": [
    "X_train, X_test, y_train, y_test = train_test_split(X, y, test_size=0.2, stratify=y, random_state=42)"
   ]
  },
  {
   "cell_type": "code",
   "execution_count": 12,
   "id": "eb744587",
   "metadata": {},
   "outputs": [],
   "source": [
    "name = \"digits\"\n",
    "\n",
    "np.save(f\"./../Datasets/Gaussian/Processed/{name}/X_train_{name}.npy\", X_train)\n",
    "np.save(f\"./../Datasets/Gaussian/Processed/{name}/X_test_{name}.npy\", X_test)\n",
    "np.save(f\"./../Datasets/Gaussian/Processed/{name}/y_train_{name}.npy\", y_train)\n",
    "np.save(f\"./../Datasets/Gaussian/Processed/{name}/y_test_{name}.npy\", y_test)\n",
    "np.save(f\"./../Datasets/Gaussian/Processed/{name}/means_{name}.npy\", means)\n",
    "np.save(f\"./../Datasets/Gaussian/Processed/{name}/covariances_{name}.npy\", covs)"
   ]
  },
  {
   "cell_type": "markdown",
   "id": "2859211d",
   "metadata": {},
   "source": [
    "# Digits Small 5x5"
   ]
  },
  {
   "cell_type": "code",
   "execution_count": 455,
   "id": "153a7b5e",
   "metadata": {},
   "outputs": [],
   "source": [
    "zero = np.array([\n",
    "    [0,1,1,1,0],\n",
    "    [1,0,0,0,1],\n",
    "    [1,0,0,0,1],\n",
    "    [1,0,0,0,1],\n",
    "    [0,1,1,1,0]\n",
    "])\n",
    "\n",
    "one = np.array([\n",
    "    [0,0,1,0,0],\n",
    "    [0,1,1,0,0],\n",
    "    [0,0,1,0,0],\n",
    "    [0,0,1,0,0],\n",
    "    [0,1,1,1,0],\n",
    "])\n",
    "\n",
    "two = np.array([\n",
    "    [0,1,1,1,0],\n",
    "    [1,0,0,0,1],\n",
    "    [0,0,1,1,0],\n",
    "    [0,1,0,0,0],\n",
    "    [1,1,1,1,1],\n",
    "])\n",
    "\n",
    "three = np.array([\n",
    "    [1,1,1,1,0],\n",
    "    [0,0,0,0,1],\n",
    "    [0,0,1,1,0],\n",
    "    [0,0,0,0,1],\n",
    "    [1,1,1,1,0]\n",
    "])\n",
    "\n",
    "four = np.array([\n",
    "    [1,0,0,0,1],\n",
    "    [1,0,0,0,1],\n",
    "    [1,1,1,1,1],\n",
    "    [0,0,0,0,1],\n",
    "    [0,0,0,0,1]\n",
    "])\n",
    "\n",
    "five = np.array([\n",
    "    [1,1,1,1,1],\n",
    "    [1,0,0,0,0],\n",
    "    [0,1,1,1,0],\n",
    "    [0,0,0,0,1],\n",
    "    [1,1,1,1,1]\n",
    "])\n",
    "\n",
    "six = np.array([\n",
    "    [0,1,1,1,1],\n",
    "    [1,0,0,0,0],\n",
    "    [1,1,1,1,0],\n",
    "    [1,0,0,0,1],\n",
    "    [0,1,1,1,0]\n",
    "])\n",
    "\n",
    "seven = np.array([\n",
    "    [1,1,1,1,1],\n",
    "    [0,0,0,0,1],\n",
    "    [0,0,0,1,0],\n",
    "    [0,0,1,0,0],\n",
    "    [0,1,0,0,0],\n",
    "])\n",
    "\n",
    "eight = np.array([\n",
    "    [0,1,1,1,0],\n",
    "    [1,0,0,0,1],\n",
    "    [0,1,1,1,0],\n",
    "    [1,0,0,0,1],\n",
    "    [0,1,1,1,0],\n",
    "])\n",
    "\n",
    "\n",
    "nine = np.array([\n",
    "    [0,1,1,1,0],\n",
    "    [1,0,0,0,1],\n",
    "    [0,1,1,1,1],\n",
    "    [0,0,0,0,1],\n",
    "    [0,0,0,0,1],\n",
    "])\n",
    "\n",
    "\n",
    "# digits = np.array([\n",
    "#     zero, one, two, three, four, five, six, seven ,eight, nine\n",
    "# ])\n",
    "\n",
    "digits = np.array([\n",
    "    zero, one, two, three, four\n",
    "])"
   ]
  },
  {
   "cell_type": "code",
   "execution_count": 483,
   "id": "8cdefbe5",
   "metadata": {},
   "outputs": [],
   "source": [
    "def paint_mnist(X):\n",
    "    figure = plt.figure(figsize=(7, 3.5))\n",
    "    rows, cols = 2, 5\n",
    "    for k in range(5):\n",
    "        img = X[k]\n",
    "        if len(img.shape) == 1:\n",
    "            d = int(np.sqrt(img.shape[0]))\n",
    "            img = X[k].reshape(d,d)\n",
    "        ax = figure.add_subplot(rows, cols, k + 1)\n",
    "        ax.imshow(img, cmap=\"gray\")\n",
    "        ax.set_xticks([])\n",
    "        ax.set_yticks([])\n",
    "        ax.tick_params(bottom=False, left=False)  # hide tick lines\n",
    "    plt.tight_layout()\n",
    "    plt.show()"
   ]
  },
  {
   "cell_type": "code",
   "execution_count": 484,
   "id": "07721bf4",
   "metadata": {},
   "outputs": [
    {
     "data": {
      "image/png": "[encoded data removed]",
      "text/plain": [
       "<Figure size 700x350 with 5 Axes>"
      ]
     },
     "metadata": {},
     "output_type": "display_data"
    }
   ],
   "source": [
    "paint_mnist(digits)"
   ]
  },
  {
   "cell_type": "code",
   "execution_count": null,
   "id": "505b21d3",
   "metadata": {},
   "outputs": [],
   "source": [
    "X = []\n",
    "y = []\n",
    "\n",
    "\n",
    "\n",
    "for i in range(5):\n",
    "    for n in range(300):\n",
    "        X.append(add_gaussian_noise(digits[i].flatten(), std=0.15))\n",
    "        y.append(i)\n",
    "\n",
    "X = np.array(X)\n",
    "y = np.array(y)"
   ]
  },
  {
   "cell_type": "code",
   "execution_count": 504,
   "id": "f50ced2f",
   "metadata": {},
   "outputs": [],
   "source": [
    "pis = np.random.dirichlet(np.full(5, 5))\n",
    "\n",
    "X = []\n",
    "y = []\n",
    "\n",
    "\n",
    "\n",
    "for i in range(1500):\n",
    "    k = rng.choice(5, p=pis)\n",
    "    X.append(add_gaussian_noise(digits[k].flatten(), std=0.15))\n",
    "    y.append(k)\n",
    "\n",
    "X = np.array(X)\n",
    "y = np.array(y)"
   ]
  },
  {
   "cell_type": "code",
   "execution_count": 508,
   "id": "40af4045",
   "metadata": {},
   "outputs": [
    {
     "data": {
      "image/png": "[encoded data removed]",
      "text/plain": [
       "<Figure size 600x600 with 1 Axes>"
      ]
     },
     "metadata": {},
     "output_type": "display_data"
    }
   ],
   "source": [
    "unique, counts = np.unique(y, return_counts=True)\n",
    "\n",
    "plt.figure(figsize=(6, 6))\n",
    "plt.pie(\n",
    "    counts,\n",
    "    labels=unique,\n",
    "    autopct='%1.1f%%',\n",
    "    startangle=90,\n",
    "    textprops={'fontsize': 14}  # <-- Set label font size here\n",
    ")\n",
    "plt.title('Distribution of GMM Digits', fontsize=16)  # Optional: increase title size\n",
    "plt.axis('equal')\n",
    "plt.show()"
   ]
  },
  {
   "cell_type": "code",
   "execution_count": 458,
   "id": "085205ad",
   "metadata": {},
   "outputs": [
    {
     "data": {
      "image/png": "[encoded data removed]",
      "text/plain": [
       "<Figure size 700x350 with 5 Axes>"
      ]
     },
     "metadata": {},
     "output_type": "display_data"
    }
   ],
   "source": [
    "examples = [\n",
    "    X[0].reshape(5,5),\n",
    "    X[300].reshape(5,5),\n",
    "    X[600].reshape(5,5),\n",
    "    X[900].reshape(5,5),\n",
    "    X[1200].reshape(5,5)\n",
    "]\n",
    "\n",
    "paint_mnist(examples)"
   ]
  },
  {
   "cell_type": "code",
   "execution_count": 460,
   "id": "dc6c1c50",
   "metadata": {},
   "outputs": [],
   "source": [
    "means = []\n",
    "covs = []\n",
    "for k in range(5):\n",
    "    means.append(np.mean(X[y==k], axis=0))\n",
    "    covs.append(np.cov(X[y==k], rowvar=False))\n",
    "means = np.array(means)\n",
    "covs = np.array(covs)"
   ]
  },
  {
   "cell_type": "code",
   "execution_count": 485,
   "id": "d18c0908",
   "metadata": {},
   "outputs": [
    {
     "data": {
      "image/png": "[encoded data removed]",
      "text/plain": [
       "<Figure size 700x350 with 5 Axes>"
      ]
     },
     "metadata": {},
     "output_type": "display_data"
    }
   ],
   "source": [
    "paint_mnist(means)"
   ]
  },
  {
   "cell_type": "code",
   "execution_count": 135,
   "id": "991da912",
   "metadata": {},
   "outputs": [],
   "source": [
    "X_train, X_test, y_train, y_test = train_test_split(X, y, test_size=0.2, stratify=y, random_state=42)"
   ]
  },
  {
   "cell_type": "code",
   "execution_count": 136,
   "id": "308ec60c",
   "metadata": {},
   "outputs": [],
   "source": [
    "name = \"digits5x5\"\n",
    "\n",
    "np.save(f\"./../Datasets/Gaussian/Processed/{name}/X_train_{name}.npy\", X_train)\n",
    "np.save(f\"./../Datasets/Gaussian/Processed/{name}/X_test_{name}.npy\", X_test)\n",
    "np.save(f\"./../Datasets/Gaussian/Processed/{name}/y_train_{name}.npy\", y_train)\n",
    "np.save(f\"./../Datasets/Gaussian/Processed/{name}/y_test_{name}.npy\", y_test)\n",
    "np.save(f\"./../Datasets/Gaussian/Processed/{name}/means_{name}.npy\", means)\n",
    "np.save(f\"./../Datasets/Gaussian/Processed/{name}/covariances_{name}.npy\", covs)"
   ]
  },
  {
   "cell_type": "markdown",
   "id": "b3aaad4a",
   "metadata": {},
   "source": [
    "# MNAR "
   ]
  },
  {
   "cell_type": "code",
   "execution_count": 235,
   "id": "180ab9aa",
   "metadata": {},
   "outputs": [],
   "source": [
    "dirpath_synthetic = \"./../Datasets/Bernoulli/Processed/synthetic/\"\n",
    "\n",
    "X_train_synthetic = np.load(dirpath_synthetic + \"X_train_synthetic.npy\")\n",
    "y_train_synthetic = np.load(dirpath_synthetic + \"y_train_synthetic.npy\")\n",
    "X_test_synthetic = np.load(dirpath_synthetic + \"X_test_synthetic.npy\")\n",
    "y_test_synthetic = np.load(dirpath_synthetic + \"y_test_synthetic.npy\")\n",
    "means = np.load(dirpath_synthetic + \"means_synthetic.npy\")"
   ]
  },
  {
   "cell_type": "markdown",
   "id": "60a072c6",
   "metadata": {},
   "source": [
    "### MNAR Missing Rate"
   ]
  },
  {
   "cell_type": "code",
   "execution_count": 236,
   "id": "d5260916",
   "metadata": {},
   "outputs": [],
   "source": [
    "rng = np.random.default_rng(5099)"
   ]
  },
  {
   "cell_type": "code",
   "execution_count": 237,
   "id": "2ff7bb7f",
   "metadata": {},
   "outputs": [],
   "source": [
    "def generate_mnar_mixture_data(X, y, K):\n",
    "    N,D = X.shape\n",
    "    \n",
    "    γ = np.array([\n",
    "            np.full((D), 0.0),np.full((D), 0.2),np.full((D), 0.4),\n",
    "            np.full((D), 0.6),np.full((D), 0.8)\n",
    "        ]) \n",
    "\n",
    "    R = np.ones((N, D), dtype=bool)  \n",
    "\n",
    "    for n in range(N):\n",
    "        k = y[n]\n",
    "\n",
    "        R[n] = rng.binomial(1, 1 - γ[k])  \n",
    "\n",
    "    X_missing = X.copy().astype(np.float64).copy()\n",
    "    X_missing[~R] = np.nan  \n",
    "\n",
    "    return X_missing,R\n"
   ]
  }
 ],
 "metadata": {
  "kernelspec": {
   "display_name": "myenv",
   "language": "python",
   "name": "python3"
  },
  "language_info": {
   "codemirror_mode": {
    "name": "ipython",
    "version": 3
   },
   "file_extension": ".py",
   "mimetype": "text/x-python",
   "name": "python",
   "nbconvert_exporter": "python",
   "pygments_lexer": "ipython3",
   "version": "3.9.21"
  }
 },
 "nbformat": 4,
 "nbformat_minor": 5
}
