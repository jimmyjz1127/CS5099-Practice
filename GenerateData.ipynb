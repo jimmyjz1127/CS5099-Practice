{
 "cells": [
  {
   "cell_type": "code",
   "execution_count": 1,
   "id": "9ddad2b4",
   "metadata": {},
   "outputs": [],
   "source": [
    "%matplotlib inline\n",
    "# %matplotlib notebook\n",
    "%config Completer.use_jedi = False\n",
    "import matplotlib.pyplot as plt\n",
    "import numpy as np\n",
    "import pandas as pd\n",
    "\n",
    "\n",
    "from scipy.special import logsumexp\n",
    "from scipy.special import softmax\n",
    "from scipy.special import betaln\n",
    "from scipy.special import beta\n",
    "\n",
    "import numpy.linalg as linalg\n",
    "from sklearn.cluster import KMeans\n",
    "from sklearn import metrics\n",
    "import scipy.sparse as sparse\n",
    "import random\n",
    "\n",
    "from collections import Counter\n",
    "\n",
    "from sklearn.metrics import accuracy_score, precision_recall_fscore_support\n",
    "from sklearn.metrics import confusion_matrix\n",
    "from sklearn.preprocessing import StandardScaler\n",
    "from sklearn.preprocessing import Normalizer\n",
    "\n",
    "from sklearn.model_selection import train_test_split\n",
    "from sklearn.pipeline import Pipeline\n",
    "import matplotlib.pyplot as plt\n",
    "import seaborn as sns\n",
    "\n",
    "from sklearn.datasets import make_blobs"
   ]
  },
  {
   "cell_type": "code",
   "execution_count": 2,
   "id": "b697b7fc",
   "metadata": {},
   "outputs": [],
   "source": [
    "random_seed = 123\n",
    "rng = np.random.default_rng(random_seed)"
   ]
  },
  {
   "cell_type": "markdown",
   "id": "86c51157",
   "metadata": {},
   "source": [
    "# Shapes"
   ]
  },
  {
   "cell_type": "code",
   "execution_count": 221,
   "id": "3d6aca20",
   "metadata": {},
   "outputs": [],
   "source": [
    "from skimage.draw import disk, rectangle, polygon\n",
    "\n",
    "def generate_shape(shape, std=0.1, size=10):\n",
    "    img = np.zeros((size, size), dtype=np.float32)\n",
    "    center1 = np.round(size // 2 + np.random.uniform(-size//15,size//15)).astype(np.int16)\n",
    "    center2 = np.round(size // 2 + np.random.uniform(-size//15,size//15)).astype(np.int16)\n",
    "    \n",
    "    if shape == 'circle':\n",
    "        rr, cc = disk((center1, center1), radius=size//3, shape=img.shape)\n",
    "        img[rr, cc] = 1\n",
    "    elif shape == 'square':\n",
    "        s = size // 3\n",
    "        rr, cc = rectangle((center1-s, center2-s), extent=(2*s, 2*s), shape=img.shape)\n",
    "        img[rr, cc] = 1\n",
    "    elif shape == 'triangle':\n",
    "        s = size // 3\n",
    "        points = [(center1, center2 - s), (center1 - s, center2 + s), (center1 + s, center2 + s)]\n",
    "        rr, cc = polygon([p[0] for p in points], [p[1] for p in points], shape=img.shape)\n",
    "        img[rr, cc] = 1\n",
    "    elif shape == 'plus':\n",
    "        t = 1\n",
    "        img[center1 - t:center1 + t + 1, :] = 1\n",
    "        img[:, center2 - t:center2 + t + 1] = 1\n",
    "    elif shape == \"bar\" :\n",
    "        t = 1\n",
    "        img[:, center1 - t:center2 + t + 1] = 1\n",
    "    else:\n",
    "        raise ValueError(\"Unknown shape\")\n",
    "    \n",
    "    return img+  np.random.normal(0, std, size=img.shape)"
   ]
  },
  {
   "cell_type": "code",
   "execution_count": 224,
   "id": "da8bb013",
   "metadata": {},
   "outputs": [],
   "source": [
    "shapes = ['square','triangle','bar','plus']\n",
    "\n",
    "X = []\n",
    "y = []\n",
    "\n",
    "for idx,shape in enumerate(shapes):\n",
    "    for _ in range(1000):\n",
    "        X.append(generate_shape(shape))\n",
    "        y.append(idx)"
   ]
  },
  {
   "cell_type": "code",
   "execution_count": 225,
   "id": "5689b312",
   "metadata": {},
   "outputs": [],
   "source": [
    "X = np.array(X).reshape(len(X), -1)\n",
    "y = np.array(y)"
   ]
  },
  {
   "cell_type": "code",
   "execution_count": 226,
   "id": "75e17707",
   "metadata": {},
   "outputs": [],
   "source": [
    "X_train, X_test, y_train, y_test = train_test_split(X, y, test_size=0.2, stratify=y, random_state=42)"
   ]
  },
  {
   "cell_type": "code",
   "execution_count": 227,
   "id": "5cefebeb",
   "metadata": {},
   "outputs": [],
   "source": [
    "X_train_bin = X_train > 0.5\n",
    "X_test_bin = X_test > 0.5"
   ]
  },
  {
   "cell_type": "code",
   "execution_count": 228,
   "id": "8de7963e",
   "metadata": {},
   "outputs": [],
   "source": [
    "pipeline = Pipeline([\n",
    "    ('scaler', Normalizer())\n",
    "])\n",
    "\n",
    "X_train_prepared = pipeline.fit_transform(X_train)\n",
    "X_test_prepared = pipeline.transform(X_test)"
   ]
  },
  {
   "cell_type": "code",
   "execution_count": 229,
   "id": "3e1065d6",
   "metadata": {},
   "outputs": [],
   "source": [
    "name=\"shapes\"\n",
    "\n",
    "np.save(f\"./../Datasets/Gaussian/Processed/{name}/X_train_{name}.npy\",X_train_prepared)\n",
    "np.save(f\"./../Datasets/Gaussian/Processed/{name}/X_test_{name}.npy\",X_test_prepared)\n",
    "np.save(f\"./../Datasets/Gaussian/Processed/{name}/y_train_{name}.npy\",y_train)\n",
    "np.save(f\"./../Datasets/Gaussian/Processed/{name}/y_test_{name}.npy\",y_test)\n",
    "\n",
    "np.save(f\"./../Datasets/Bernoulli/Processed/{name}/X_train_{name}.npy\", X_train_bin)\n",
    "np.save(f\"./../Datasets/Bernoulli/Processed/{name}/X_test_{name}.npy\", X_test_bin)\n",
    "np.save(f\"./../Datasets/Bernoulli/Processed/{name}/y_train_{name}.npy\", y_train)\n",
    "np.save(f\"./../Datasets/Bernoulli/Processed/{name}/y_test_{name}.npy\", y_test)"
   ]
  },
  {
   "cell_type": "markdown",
   "id": "ad7a117b",
   "metadata": {},
   "source": [
    "# Clusters"
   ]
  },
  {
   "cell_type": "code",
   "execution_count": 13,
   "id": "4feb1dce",
   "metadata": {},
   "outputs": [],
   "source": [
    "from scipy.stats import wishart, multivariate_normal"
   ]
  },
  {
   "cell_type": "code",
   "execution_count": 14,
   "id": "576d218d",
   "metadata": {},
   "outputs": [],
   "source": [
    "def generate_wishart_covariances(K, D, df=None, rng=None):\n",
    "    rng = rng or np.random.default_rng()\n",
    "    df = df or D + 2  # degrees of freedom must be >= D\n",
    "\n",
    "    covs = []\n",
    "    for _ in range(K):\n",
    "        scale_matrix = np.eye(D)\n",
    "        cov = wishart(df=df, scale=scale_matrix, seed=rng).rvs()\n",
    "        covs.append(cov)\n",
    "\n",
    "    return np.array(covs)\n",
    "\n",
    "def generate_means(covariances):\n",
    "    K,D,D = covariances.shape\n",
    "    rng = np.random.default_rng()\n",
    "\n",
    "    m_0 = np.zeros((D))\n",
    "    k = 0.01\n",
    "\n",
    "    means = []\n",
    "\n",
    "    for cov in covariances:\n",
    "        mean = rng.multivariate_normal(m_0, cov/k)\n",
    "        means.append(mean)\n",
    "\n",
    "    return means\n",
    "\n"
   ]
  },
  {
   "cell_type": "code",
   "execution_count": 15,
   "id": "59baadd0",
   "metadata": {},
   "outputs": [],
   "source": [
    "covariances = generate_wishart_covariances(5, 5)\n",
    "means = generate_means(covariances)"
   ]
  },
  {
   "cell_type": "code",
   "execution_count": 16,
   "id": "b00f2bc0",
   "metadata": {},
   "outputs": [],
   "source": [
    "X = []\n",
    "y = []\n",
    "\n",
    "rng = np.random.default_rng()\n",
    "\n",
    "for idx, (cov, mean) in enumerate(zip(covariances, means)):\n",
    "    X_k = rng.multivariate_normal(mean, cov, size=500)\n",
    "    y_k = np.full(500, idx)  # more efficient than list comprehension\n",
    "    X.append(X_k)\n",
    "    y.append(y_k)\n",
    "\n",
    "X = np.vstack(X)  # shape: (K * 1000, D)\n",
    "y = np.concatenate(y)  # shape: (K * 1000,)"
   ]
  },
  {
   "cell_type": "code",
   "execution_count": 17,
   "id": "b31abb78",
   "metadata": {},
   "outputs": [],
   "source": [
    "X_train, X_test, y_train, y_test = train_test_split(X, y, test_size=0.2, stratify=y, random_state=42)"
   ]
  },
  {
   "cell_type": "code",
   "execution_count": 18,
   "id": "40144ba5",
   "metadata": {},
   "outputs": [],
   "source": [
    "name = \"synthetic\"\n",
    "\n",
    "np.save(f\"./../Datasets/Gaussian/Processed/{name}/X_train_{name}.npy\",X_train)\n",
    "np.save(f\"./../Datasets/Gaussian/Processed/{name}/X_test_{name}.npy\",X_test)\n",
    "np.save(f\"./../Datasets/Gaussian/Processed/{name}/y_train_{name}.npy\",y_train)\n",
    "np.save(f\"./../Datasets/Gaussian/Processed/{name}/y_test_{name}.npy\",y_test)\n",
    "np.save(f\"./../Datasets/Gaussian/Processed/{name}/means_{name}.npy\", np.array(means))\n",
    "np.save(f\"./../Datasets/Gaussian/Processed/{name}/covs_{name}.npy\", np.array(covariances))"
   ]
  },
  {
   "cell_type": "markdown",
   "id": "6dcf2528",
   "metadata": {},
   "source": [
    "# Synthetic Bernoulli"
   ]
  },
  {
   "cell_type": "markdown",
   "id": "14903c8f",
   "metadata": {},
   "source": [
    "## Synthetic Bernoulli 5"
   ]
  },
  {
   "cell_type": "code",
   "execution_count": 19,
   "id": "541431e2",
   "metadata": {},
   "outputs": [],
   "source": [
    "def generate_bernoulli_parameters(K, D, a=0.5, b=0.5, rng=None):\n",
    "    \"\"\"\n",
    "    Sample K D-dimensional Bernoulli probability vectors from Beta(a, b)\n",
    "    \"\"\"\n",
    "    rng = rng or np.random.default_rng()\n",
    "    return rng.beta(a, b, size=(K, D))\n",
    "\n",
    "def generate_bernoulli_mixture_data(θ, n_per_cluster=500, rng=None):\n",
    "    rng = rng or np.random.default_rng()\n",
    "    K, D = θ.shape\n",
    "\n",
    "    X = []\n",
    "    y = []\n",
    "\n",
    "    for k in range(K):\n",
    "        samples = rng.binomial(n=1, p=θ[k], size=(n_per_cluster, D))\n",
    "        labels = np.full(n_per_cluster, k)\n",
    "\n",
    "        X.append(samples)\n",
    "        y.append(labels)\n",
    "\n",
    "    X = np.vstack(X)  # shape (K * n_per_cluster, D)\n",
    "    y = np.concatenate(y)  # shape (K * n_per_cluster,)\n",
    "    return X, y\n"
   ]
  },
  {
   "cell_type": "code",
   "execution_count": 20,
   "id": "0d56c6db",
   "metadata": {},
   "outputs": [],
   "source": [
    "thetas = generate_bernoulli_parameters(5, 5)\n",
    "X,y = generate_bernoulli_mixture_data(thetas)"
   ]
  },
  {
   "cell_type": "code",
   "execution_count": 21,
   "id": "93acfee6",
   "metadata": {},
   "outputs": [],
   "source": [
    "X_train, X_test, y_train, y_test = train_test_split(X, y, test_size=0.2, stratify=y, random_state=42)"
   ]
  },
  {
   "cell_type": "code",
   "execution_count": null,
   "id": "494ab64a",
   "metadata": {},
   "outputs": [],
   "source": [
    "name=\"synthetic5\"\n",
    "\n",
    "np.save(f\"./../Datasets/Bernoulli/Processed/{name}/X_train_{name}.npy\", X_train)\n",
    "np.save(f\"./../Datasets/Bernoulli/Processed/{name}/X_test_{name}.npy\", X_test)\n",
    "np.save(f\"./../Datasets/Bernoulli/Processed/{name}/y_train_{name}.npy\", y_train)\n",
    "np.save(f\"./../Datasets/Bernoulli/Processed/{name}/y_test_{name}.npy\", y_test)\n",
    "np.save(f\"./../Datasets/Bernoulli/Processed/{name}/means_{name}.npy\", np.array(thetas))"
   ]
  },
  {
   "cell_type": "markdown",
   "id": "f4d45782",
   "metadata": {},
   "source": [
    "# Guassian MNIST"
   ]
  },
  {
   "cell_type": "code",
   "execution_count": 2,
   "id": "b857eae2",
   "metadata": {},
   "outputs": [],
   "source": [
    "zero = np.array([\n",
    "    [0,1,1,1,0],\n",
    "    [1,0,0,0,1],\n",
    "    [1,0,0,0,1],\n",
    "    [1,0,0,0,1],\n",
    "    [1,0,0,0,1],\n",
    "    [1,0,0,0,1],\n",
    "    [0,1,1,1,0],\n",
    "])\n",
    "\n",
    "one = np.array([\n",
    "    [0,0,1,0,0],\n",
    "    [0,1,1,0,0],\n",
    "    [0,0,1,0,0],\n",
    "    [0,0,1,0,0],\n",
    "    [0,0,1,0,0],\n",
    "    [0,0,1,0,0],\n",
    "    [0,0,1,0,0],\n",
    "])\n",
    "\n",
    "two = np.array([\n",
    "    [0,1,1,1,0],\n",
    "    [1,0,0,0,1],\n",
    "    [1,0,0,0,1],\n",
    "    [0,0,0,1,0],\n",
    "    [0,0,1,0,0],\n",
    "    [0,1,0,0,0],\n",
    "    [1,1,1,1,1],\n",
    "])\n",
    "\n",
    "three = np.array([\n",
    "    [0,1,1,1,0],\n",
    "    [1,0,0,0,1],\n",
    "    [0,0,0,0,1],\n",
    "    [0,0,1,1,0],\n",
    "    [0,0,0,0,1],\n",
    "    [1,0,0,0,1],\n",
    "    [0,1,1,1,0],\n",
    "])\n",
    "\n",
    "four = np.array([\n",
    "    [0,1,0,1,0],\n",
    "    [0,1,0,1,0],\n",
    "    [1,0,0,1,0],\n",
    "    [1,1,1,1,1],\n",
    "    [0,0,0,1,0],\n",
    "    [0,0,0,1,0],\n",
    "    [0,0,0,1,0],\n",
    "])\n",
    "\n",
    "five = np.array([\n",
    "    [1,1,1,1,1],\n",
    "    [1,0,0,0,0],\n",
    "    [1,0,0,0,0],\n",
    "    [0,1,1,1,0],\n",
    "    [0,0,0,0,1],\n",
    "    [1,0,0,0,1],\n",
    "    [0,1,1,1,0],\n",
    "])\n",
    "\n",
    "six = np.array([\n",
    "    [0,1,1,1,0],\n",
    "    [1,0,0,0,0],\n",
    "    [1,0,0,0,0],\n",
    "    [1,1,1,1,0],\n",
    "    [1,0,0,0,1],\n",
    "    [1,0,0,0,1],\n",
    "    [0,1,1,1,0],\n",
    "])\n",
    "\n",
    "seven = np.array([\n",
    "    [1,1,1,1,1],\n",
    "    [0,0,0,0,1],\n",
    "    [0,0,0,0,1],\n",
    "    [0,0,0,1,0],\n",
    "    [0,0,1,0,0],\n",
    "    [0,1,0,0,0],\n",
    "    [1,0,0,0,0],\n",
    "])\n",
    "\n",
    "eight = np.array([\n",
    "    [0,1,1,1,0],\n",
    "    [1,0,0,0,1],\n",
    "    [1,0,0,0,1],\n",
    "    [0,1,1,1,0],\n",
    "    [1,0,0,0,1],\n",
    "    [1,0,0,0,1],\n",
    "    [0,1,1,1,0],\n",
    "])\n",
    "\n",
    "nine = np.array([\n",
    "    [0,1,1,1,0],\n",
    "    [1,0,0,0,1],\n",
    "    [1,0,0,0,1],\n",
    "    [0,1,1,1,1],\n",
    "    [0,0,0,0,1],\n",
    "    [1,0,0,0,1],\n",
    "    [0,1,1,1,0],\n",
    "])\n",
    "\n",
    "templates = np.array([zero, one, two, three, four , five, six, seven ,eight, nine])"
   ]
  },
  {
   "cell_type": "code",
   "execution_count": 3,
   "id": "430ee08a",
   "metadata": {},
   "outputs": [],
   "source": [
    "def paint_mnist(X):\n",
    "    figure = plt.figure(figsize=(7, 3.5))\n",
    "    rows, cols= 2, 5\n",
    "    for k in range(10):\n",
    "        img = X[k]\n",
    "        figure.add_subplot(rows, cols, k+1)\n",
    "        plt.imshow(img, cmap=\"gray\")\n",
    "    plt.show()"
   ]
  },
  {
   "cell_type": "code",
   "execution_count": 4,
   "id": "7815782b",
   "metadata": {},
   "outputs": [
    {
     "data": {
      "image/png": "[encoded data removed]",
      "text/plain": [
       "<Figure size 700x350 with 10 Axes>"
      ]
     },
     "metadata": {},
     "output_type": "display_data"
    }
   ],
   "source": [
    "paint_mnist(templates)"
   ]
  },
  {
   "cell_type": "code",
   "execution_count": 5,
   "id": "e72adfc8",
   "metadata": {},
   "outputs": [],
   "source": [
    "def add_gaussian_noise(X, mean=0.0, std=0.15):\n",
    "    noise = np.random.normal(loc=mean, scale=std, size=X.shape)\n",
    "    X_noisy = X + noise\n",
    "    return X_noisy"
   ]
  },
  {
   "cell_type": "code",
   "execution_count": 6,
   "id": "d2c86f2d",
   "metadata": {},
   "outputs": [],
   "source": [
    "X = []\n",
    "y = []\n",
    "\n",
    "for i in range(10):\n",
    "    for n in range(500):\n",
    "        X.append(add_gaussian_noise(templates[i].flatten()))\n",
    "        y.append(i)\n",
    "\n",
    "X = np.array(X)\n",
    "y = np.array(y)"
   ]
  },
  {
   "cell_type": "code",
   "execution_count": 7,
   "id": "a152e61a",
   "metadata": {},
   "outputs": [],
   "source": [
    "means = []\n",
    "covs = []\n",
    "for k in range(10):\n",
    "    means.append(np.mean(X[y==k], axis=0))\n",
    "    covs.append(np.cov(X[y==k], rowvar=False))\n",
    "means = np.array(means)\n",
    "covs = np.array(covs)"
   ]
  },
  {
   "cell_type": "code",
   "execution_count": 8,
   "id": "3de8ff53",
   "metadata": {},
   "outputs": [],
   "source": [
    "def paint_mnist(X):\n",
    "    figure = plt.figure(figsize=(7, 3.5))\n",
    "    rows, cols= 2, 5\n",
    "    for k in range(10):\n",
    "        img = X[k,:].reshape(7,5)\n",
    "        figure.add_subplot(rows, cols, k+1)\n",
    "        plt.imshow(img, cmap=\"gray\")\n",
    "    plt.show()"
   ]
  },
  {
   "cell_type": "code",
   "execution_count": 9,
   "id": "8513fe44",
   "metadata": {},
   "outputs": [
    {
     "data": {
      "image/png": "[encoded data removed]",
      "text/plain": [
       "<Figure size 700x350 with 10 Axes>"
      ]
     },
     "metadata": {},
     "output_type": "display_data"
    }
   ],
   "source": [
    "paint_mnist(X[2000:])"
   ]
  },
  {
   "cell_type": "code",
   "execution_count": 10,
   "id": "2da1084d",
   "metadata": {},
   "outputs": [
    {
     "data": {
      "image/png": "[encoded data removed]",
      "text/plain": [
       "<Figure size 700x350 with 10 Axes>"
      ]
     },
     "metadata": {},
     "output_type": "display_data"
    }
   ],
   "source": [
    "paint_mnist(means)"
   ]
  },
  {
   "cell_type": "code",
   "execution_count": 11,
   "id": "ca43bc00",
   "metadata": {},
   "outputs": [],
   "source": [
    "X_train, X_test, y_train, y_test = train_test_split(X, y, test_size=0.2, stratify=y, random_state=42)"
   ]
  },
  {
   "cell_type": "code",
   "execution_count": 12,
   "id": "eb744587",
   "metadata": {},
   "outputs": [],
   "source": [
    "name = \"digits\"\n",
    "\n",
    "np.save(f\"./../Datasets/Gaussian/Processed/{name}/X_train_{name}.npy\", X_train)\n",
    "np.save(f\"./../Datasets/Gaussian/Processed/{name}/X_test_{name}.npy\", X_test)\n",
    "np.save(f\"./../Datasets/Gaussian/Processed/{name}/y_train_{name}.npy\", y_train)\n",
    "np.save(f\"./../Datasets/Gaussian/Processed/{name}/y_test_{name}.npy\", y_test)\n",
    "np.save(f\"./../Datasets/Gaussian/Processed/{name}/means_{name}.npy\", means)\n",
    "np.save(f\"./../Datasets/Gaussian/Processed/{name}/covariances_{name}.npy\", covs)"
   ]
  },
  {
   "cell_type": "markdown",
   "id": "b3aaad4a",
   "metadata": {},
   "source": [
    "# MNAR "
   ]
  },
  {
   "cell_type": "code",
   "execution_count": 3,
   "id": "180ab9aa",
   "metadata": {},
   "outputs": [],
   "source": [
    "dirpath_synthetic = \"./../Datasets/Bernoulli/Processed/synthetic/\"\n",
    "\n",
    "X_train_synthetic = np.load(dirpath_synthetic + \"X_train_synthetic.npy\")\n",
    "y_train_synthetic = np.load(dirpath_synthetic + \"y_train_synthetic.npy\")\n",
    "X_test_synthetic = np.load(dirpath_synthetic + \"X_test_synthetic.npy\")\n",
    "y_test_synthetic = np.load(dirpath_synthetic + \"y_test_synthetic.npy\")\n",
    "means = np.load(dirpath_synthetic + \"means_synthetic.npy\")"
   ]
  },
  {
   "cell_type": "markdown",
   "id": "60a072c6",
   "metadata": {},
   "source": [
    "### MNAR Missing Rate"
   ]
  },
  {
   "cell_type": "code",
   "execution_count": 7,
   "id": "d5260916",
   "metadata": {},
   "outputs": [],
   "source": [
    "rng = np.random.default_rng(5099)"
   ]
  },
  {
   "cell_type": "code",
   "execution_count": null,
   "id": "2ff7bb7f",
   "metadata": {},
   "outputs": [],
   "source": [
    "def generate_mnar_mixture_data(X, y, K):\n",
    "    N,D = X.shape\n",
    "    \n",
    "    γ = rng.uniform(0.5, 0.9, size=(K, D))  \n",
    "\n",
    "    R = np.ones((N, D), dtype=bool)  \n",
    "\n",
    "    for n in range(N):\n",
    "        k = y[n]\n",
    "\n",
    "        R[n] = rng.binomial(1, 1 - γ[k])  \n",
    "\n",
    "    X_missing = X.copy().astype(np.float64).copy()\n",
    "    X_missing[~R] = np.nan  \n",
    "\n",
    "    return X_missing,R\n"
   ]
  },
  {
   "cell_type": "code",
   "execution_count": 23,
   "id": "47842057",
   "metadata": {},
   "outputs": [],
   "source": [
    "test,R = generate_mnar_mixture_data(X_train_synthetic, y_train_synthetic, 10)"
   ]
  },
  {
   "cell_type": "markdown",
   "id": "388dd9e0",
   "metadata": {},
   "source": [
    "### MNAR Missing Pattern"
   ]
  },
  {
   "cell_type": "code",
   "execution_count": null,
   "id": "6935bd7f",
   "metadata": {},
   "outputs": [],
   "source": [
    "def generate_mnar_pattern(X,y,K):\n",
    "    N,D = X.shape\n",
    "\n",
    "    obs_mask = np.array([\n",
    "        [0,1,1,1,1,1,1,1,1,0],\n",
    "        [1,0,1,1,1,1,1,1,0,1],\n",
    "        [1,1,0,1,1,1,1,0,1,1],\n",
    "        [1,1,1,0,1,1,0,1,1,1],\n",
    "        [1,1,1,0,1,0,1,1,1,1],\n",
    "        [1,1,1,1,0,1,0,1,1,1],\n",
    "        [1,1,1,0,1,1,0,1,1,1],\n",
    "        [1,1,0,1,1,1,1,0,1,1],\n",
    "        [1,0,1,1,1,1,1,1,0,1],\n",
    "        [0,1,1,1,1,1,1,1,1,0]\n",
    "    ])\n",
    "\n",
    "    X_missing = X.copy().astype(np.float64).copy()\n",
    "\n",
    "    for n in range(N):\n",
    "        k = y[n]\n",
    "        X_missing[n][~obs_mask[k]] = np.nan\n",
    "\n",
    "    return X_missing"
   ]
  },
  {
   "cell_type": "markdown",
   "id": "1bec001a",
   "metadata": {},
   "source": []
  }
 ],
 "metadata": {
  "kernelspec": {
   "display_name": "myenv",
   "language": "python",
   "name": "python3"
  },
  "language_info": {
   "codemirror_mode": {
    "name": "ipython",
    "version": 3
   },
   "file_extension": ".py",
   "mimetype": "text/x-python",
   "name": "python",
   "nbconvert_exporter": "python",
   "pygments_lexer": "ipython3",
   "version": "3.9.21"
  }
 },
 "nbformat": 4,
 "nbformat_minor": 5
}
