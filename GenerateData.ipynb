{
 "cells": [
  {
   "cell_type": "code",
   "execution_count": 1,
   "id": "9ddad2b4",
   "metadata": {},
   "outputs": [],
   "source": [
    "%matplotlib inline\n",
    "# %matplotlib notebook\n",
    "%config Completer.use_jedi = False\n",
    "import matplotlib.pyplot as plt\n",
    "import numpy as np\n",
    "import pandas as pd\n",
    "\n",
    "\n",
    "from scipy.special import logsumexp\n",
    "from scipy.special import softmax\n",
    "from scipy.special import betaln\n",
    "from scipy.special import beta\n",
    "\n",
    "import numpy.linalg as linalg\n",
    "from sklearn.cluster import KMeans\n",
    "from sklearn import metrics\n",
    "import scipy.sparse as sparse\n",
    "import random\n",
    "\n",
    "from collections import Counter\n",
    "\n",
    "from sklearn.metrics import accuracy_score, precision_recall_fscore_support\n",
    "from sklearn.metrics import confusion_matrix\n",
    "from sklearn.preprocessing import StandardScaler\n",
    "from sklearn.preprocessing import Normalizer\n",
    "\n",
    "from sklearn.model_selection import train_test_split\n",
    "from sklearn.pipeline import Pipeline\n",
    "import matplotlib.pyplot as plt\n",
    "import seaborn as sns\n",
    "\n",
    "from sklearn.datasets import make_blobs"
   ]
  },
  {
   "cell_type": "code",
   "execution_count": 2,
   "id": "b697b7fc",
   "metadata": {},
   "outputs": [],
   "source": [
    "random_seed = 123\n",
    "rng = np.random.default_rng(random_seed)"
   ]
  },
  {
   "cell_type": "markdown",
   "id": "86c51157",
   "metadata": {},
   "source": [
    "# Shapes"
   ]
  },
  {
   "cell_type": "code",
   "execution_count": null,
   "id": "3d6aca20",
   "metadata": {},
   "outputs": [],
   "source": [
    "from skimage.draw import disk, rectangle, polygon\n",
    "\n",
    "def generate_shape(shape, std=0.1, size=10):\n",
    "    img = np.zeros((size, size), dtype=np.float32)\n",
    "    center1 = np.round(size // 2 + np.random.uniform(-1,1)).astype(np.int16)\n",
    "    center2 = np.round(size // 2 + np.random.uniform(-1,1)).astype(np.int16)\n",
    "    \n",
    "    if shape == 'circle':\n",
    "        rr, cc = disk((center1, center2), radius=size//4, shape=img.shape)\n",
    "        img[rr, cc] = 1\n",
    "    elif shape == 'square':\n",
    "        s = size // 3\n",
    "        rr, cc = rectangle((center1-s, center2-s), extent=(2*s, 2*s), shape=img.shape)\n",
    "        img[rr, cc] = 1\n",
    "    elif shape == 'triangle':\n",
    "        s = size // 3\n",
    "        points = [(center1, center2 - s), (center1 - s, center2 + s), (center1 + s, center2 + s)]\n",
    "        rr, cc = polygon([p[0] for p in points], [p[1] for p in points], shape=img.shape)\n",
    "        img[rr, cc] = 1\n",
    "    elif shape == 'plus':\n",
    "        t = 1\n",
    "        img[center1 - t:center1 + t + 1, :] = 1\n",
    "        img[:, center2 - t:center2 + t + 1] = 1\n",
    "    elif shape == \"bar\" :\n",
    "        t = 1\n",
    "        img[:, center1 - t:center2 + t + 1] = 1\n",
    "    else:\n",
    "        raise ValueError(\"Unknown shape\")\n",
    "    \n",
    "    return img+  np.random.normal(0, std, size=img.shape)"
   ]
  },
  {
   "cell_type": "code",
   "execution_count": 224,
   "id": "da8bb013",
   "metadata": {},
   "outputs": [],
   "source": [
    "shapes = ['square','triangle','plus']\n",
    "\n",
    "X = []\n",
    "y = []\n",
    "\n",
    "for idx,shape in enumerate(shapes):\n",
    "    for _ in range(250):\n",
    "        X.append(generate_shape(shape, std=0, size=9))\n",
    "        y.append(idx)"
   ]
  },
  {
   "cell_type": "code",
   "execution_count": 225,
   "id": "5689b312",
   "metadata": {},
   "outputs": [],
   "source": [
    "X = np.array(X).reshape(len(X), -1)\n",
    "y = np.array(y)"
   ]
  },
  {
   "cell_type": "code",
   "execution_count": 226,
   "id": "3fa08d24",
   "metadata": {},
   "outputs": [
    {
     "data": {
      "image/png": "[encoded data removed]",
      "text/plain": [
       "<Figure size 700x350 with 3 Axes>"
      ]
     },
     "metadata": {},
     "output_type": "display_data"
    }
   ],
   "source": [
    "means = []\n",
    "for k in range(3):\n",
    "    indices = y == k\n",
    "    means.append(np.mean(X[indices],axis=0))\n",
    "\n",
    "figure = plt.figure(figsize=(7, 3.5))\n",
    "rows, cols= 1, 3\n",
    "for k in range(3):\n",
    "    img = means[k].reshape(9,9)\n",
    "    figure.add_subplot(rows, cols, k+1)\n",
    "    plt.imshow(img, cmap=\"gray\")"
   ]
  },
  {
   "cell_type": "code",
   "execution_count": 157,
   "id": "82a114b5",
   "metadata": {},
   "outputs": [],
   "source": [
    "def paint_mnist(X):\n",
    "    figure = plt.figure(figsize=(7, 3.5))\n",
    "    rows, cols= 5, 5\n",
    "    for k in range(25):\n",
    "        img = X[k,:].reshape(9,9)\n",
    "        figure.add_subplot(rows, cols, k+1)\n",
    "        plt.imshow(img, cmap=\"gray\")\n",
    "    plt.show()"
   ]
  },
  {
   "cell_type": "code",
   "execution_count": 222,
   "id": "13f101cd",
   "metadata": {},
   "outputs": [
    {
     "ename": "IndexError",
     "evalue": "index 0 is out of bounds for axis 0 with size 0",
     "output_type": "error",
     "traceback": [
      "\u001b[0;31m---------------------------------------------------------------------------\u001b[0m",
      "\u001b[0;31mIndexError\u001b[0m                                Traceback (most recent call last)",
      "Cell \u001b[0;32mIn[222], line 1\u001b[0m\n\u001b[0;32m----> 1\u001b[0m \u001b[43mpaint_mnist\u001b[49m\u001b[43m(\u001b[49m\u001b[43mX\u001b[49m\u001b[43m[\u001b[49m\u001b[38;5;241;43m500\u001b[39;49m\u001b[43m:\u001b[49m\u001b[43m]\u001b[49m\u001b[43m)\u001b[49m\n",
      "Cell \u001b[0;32mIn[157], line 5\u001b[0m, in \u001b[0;36mpaint_mnist\u001b[0;34m(X)\u001b[0m\n\u001b[1;32m      3\u001b[0m rows, cols\u001b[38;5;241m=\u001b[39m \u001b[38;5;241m5\u001b[39m, \u001b[38;5;241m5\u001b[39m\n\u001b[1;32m      4\u001b[0m \u001b[38;5;28;01mfor\u001b[39;00m k \u001b[38;5;129;01min\u001b[39;00m \u001b[38;5;28mrange\u001b[39m(\u001b[38;5;241m25\u001b[39m):\n\u001b[0;32m----> 5\u001b[0m     img \u001b[38;5;241m=\u001b[39m \u001b[43mX\u001b[49m\u001b[43m[\u001b[49m\u001b[43mk\u001b[49m\u001b[43m,\u001b[49m\u001b[43m:\u001b[49m\u001b[43m]\u001b[49m\u001b[38;5;241m.\u001b[39mreshape(\u001b[38;5;241m9\u001b[39m,\u001b[38;5;241m9\u001b[39m)\n\u001b[1;32m      6\u001b[0m     figure\u001b[38;5;241m.\u001b[39madd_subplot(rows, cols, k\u001b[38;5;241m+\u001b[39m\u001b[38;5;241m1\u001b[39m)\n\u001b[1;32m      7\u001b[0m     plt\u001b[38;5;241m.\u001b[39mimshow(img, cmap\u001b[38;5;241m=\u001b[39m\u001b[38;5;124m\"\u001b[39m\u001b[38;5;124mgray\u001b[39m\u001b[38;5;124m\"\u001b[39m)\n",
      "\u001b[0;31mIndexError\u001b[0m: index 0 is out of bounds for axis 0 with size 0"
     ]
    },
    {
     "data": {
      "text/plain": [
       "<Figure size 700x350 with 0 Axes>"
      ]
     },
     "metadata": {},
     "output_type": "display_data"
    }
   ],
   "source": [
    "paint_mnist(X[500:])"
   ]
  },
  {
   "cell_type": "code",
   "execution_count": 152,
   "id": "75e17707",
   "metadata": {},
   "outputs": [],
   "source": [
    "X_train, X_test, y_train, y_test = train_test_split(X, y, test_size=0.2, stratify=y, random_state=42)"
   ]
  },
  {
   "cell_type": "code",
   "execution_count": 125,
   "id": "5cefebeb",
   "metadata": {},
   "outputs": [],
   "source": [
    "X_train_bin = X_train > 0.5\n",
    "X_test_bin = X_test > 0.5"
   ]
  },
  {
   "cell_type": "code",
   "execution_count": 228,
   "id": "8de7963e",
   "metadata": {},
   "outputs": [],
   "source": [
    "pipeline = Pipeline([\n",
    "    ('scaler', Normalizer())\n",
    "])\n",
    "\n",
    "X_train_prepared = pipeline.fit_transform(X_train)\n",
    "X_test_prepared = pipeline.transform(X_test)"
   ]
  },
  {
   "cell_type": "code",
   "execution_count": 153,
   "id": "3e1065d6",
   "metadata": {},
   "outputs": [],
   "source": [
    "name=\"shapes\"\n",
    "\n",
    "# np.save(f\"./../Datasets/Gaussian/Processed/{name}/X_train_{name}.npy\",X_train)\n",
    "# np.save(f\"./../Datasets/Gaussian/Processed/{name}/X_test_{name}.npy\",X_test)\n",
    "# np.save(f\"./../Datasets/Gaussian/Processed/{name}/y_train_{name}.npy\",y_train)\n",
    "# np.save(f\"./../Datasets/Gaussian/Processed/{name}/y_test_{name}.npy\",y_test)\n",
    "\n",
    "np.save(f\"./../Datasets/Bernoulli/Processed/{name}/X_train_{name}.npy\", X_train)\n",
    "np.save(f\"./../Datasets/Bernoulli/Processed/{name}/X_test_{name}.npy\", X_test)\n",
    "np.save(f\"./../Datasets/Bernoulli/Processed/{name}/y_train_{name}.npy\", y_train)\n",
    "np.save(f\"./../Datasets/Bernoulli/Processed/{name}/y_test_{name}.npy\", y_test)"
   ]
  },
  {
   "cell_type": "markdown",
   "id": "4564d2ab",
   "metadata": {},
   "source": [
    "# Simple Patterns"
   ]
  },
  {
   "cell_type": "code",
   "execution_count": 227,
   "id": "d27f40e8",
   "metadata": {},
   "outputs": [],
   "source": [
    "def make_bernoulli_patterns(K=3, N=500, D=64, seed=0):\n",
    "    rng = np.random.default_rng(seed)\n",
    "    cluster_patterns = []\n",
    "\n",
    "\n",
    "    for k in range(K):\n",
    "        pattern = np.full(D, 0.1)\n",
    "        start = k * (D // K) + 1\n",
    "        pattern[start:start + D // K] = 0.8\n",
    "\n",
    "        cluster_patterns.append(pattern)\n",
    "\n",
    "    X = []\n",
    "    z = []\n",
    "\n",
    "    for i in range(N):\n",
    "        k = rng.integers(0, K)\n",
    "        x = rng.binomial(1, cluster_patterns[k])\n",
    "        X.append(x)\n",
    "        z.append(k)\n",
    "\n",
    "    return np.array(X), np.array(z)"
   ]
  },
  {
   "cell_type": "code",
   "execution_count": 228,
   "id": "87b2f19a",
   "metadata": {},
   "outputs": [],
   "source": [
    "X, z = make_bernoulli_patterns()"
   ]
  },
  {
   "cell_type": "code",
   "execution_count": 229,
   "id": "e39beb32",
   "metadata": {},
   "outputs": [],
   "source": [
    "means = []\n",
    "for k in range(3):\n",
    "    indices = z == k\n",
    "    means.append(np.mean(X[indices], axis=0))\n",
    "means = np.array(means)"
   ]
  },
  {
   "cell_type": "code",
   "execution_count": 230,
   "id": "aaf119de",
   "metadata": {},
   "outputs": [],
   "source": [
    "def paint(X):\n",
    "    figure = plt.figure(figsize=(7, 7))\n",
    "    rows, cols= 5, 5\n",
    "    for k in range(25):\n",
    "        img = X[k,:].reshape(8,8)\n",
    "        figure.add_subplot(rows, cols, k+1)\n",
    "        plt.title(z[k])\n",
    "        plt.imshow(img, cmap=\"gray\")\n",
    "    plt.show()"
   ]
  },
  {
   "cell_type": "code",
   "execution_count": 231,
   "id": "6a06b5f7",
   "metadata": {},
   "outputs": [
    {
     "data": {
      "image/png": "[encoded data removed]",
      "text/plain": [
       "<Figure size 700x700 with 25 Axes>"
      ]
     },
     "metadata": {},
     "output_type": "display_data"
    }
   ],
   "source": [
    "paint(X)"
   ]
  },
  {
   "cell_type": "code",
   "execution_count": 232,
   "id": "55bf16e9",
   "metadata": {},
   "outputs": [
    {
     "data": {
      "image/png": "[encoded data removed]",
      "text/plain": [
       "<Figure size 700x700 with 3 Axes>"
      ]
     },
     "metadata": {},
     "output_type": "display_data"
    }
   ],
   "source": [
    "figure = plt.figure(figsize=(7, 7))\n",
    "rows, cols= 1, 3\n",
    "for k in range(3):\n",
    "    img = means[k,:].reshape(8,8)\n",
    "    figure.add_subplot(rows, cols, k+1)\n",
    "    plt.title(z[k])\n",
    "    plt.imshow(img, cmap=\"gray\")\n",
    "plt.show()"
   ]
  },
  {
   "cell_type": "code",
   "execution_count": 233,
   "id": "bb90fbb7",
   "metadata": {},
   "outputs": [],
   "source": [
    "X_train, X_test, y_train, y_test = train_test_split(X, z, test_size=0.2, stratify=z, random_state=42)"
   ]
  },
  {
   "cell_type": "code",
   "execution_count": 234,
   "id": "6870a7ae",
   "metadata": {},
   "outputs": [],
   "source": [
    "name = \"shapes\"\n",
    "np.save(f\"./../Datasets/Bernoulli/Processed/{name}/X_train_{name}.npy\", X_train)\n",
    "np.save(f\"./../Datasets/Bernoulli/Processed/{name}/X_test_{name}.npy\", X_test)\n",
    "np.save(f\"./../Datasets/Bernoulli/Processed/{name}/y_train_{name}.npy\", y_train)\n",
    "np.save(f\"./../Datasets/Bernoulli/Processed/{name}/y_test_{name}.npy\", y_test)\n",
    "np.save(f\"./../Datasets/Bernoulli/Processed/{name}/means_{name}.npy\", means)"
   ]
  },
  {
   "cell_type": "markdown",
   "id": "ad7a117b",
   "metadata": {},
   "source": [
    "# Clusters"
   ]
  },
  {
   "cell_type": "code",
   "execution_count": 25,
   "id": "4feb1dce",
   "metadata": {},
   "outputs": [],
   "source": [
    "from scipy.stats import wishart, multivariate_normal"
   ]
  },
  {
   "cell_type": "code",
   "execution_count": 26,
   "id": "576d218d",
   "metadata": {},
   "outputs": [],
   "source": [
    "def generate_wishart_covariances(K, D, df=None, rng=None):\n",
    "    rng = rng or np.random.default_rng()\n",
    "    df = df or D + 2  # degrees of freedom must be >= D\n",
    "\n",
    "    covs = []\n",
    "    for _ in range(K):\n",
    "        scale_matrix = np.eye(D)\n",
    "        cov = wishart(df=df, scale=scale_matrix, seed=rng).rvs()\n",
    "        covs.append(cov)\n",
    "\n",
    "    return np.array(covs)\n",
    "\n",
    "def generate_means(covariances):\n",
    "    K,D,D = covariances.shape\n",
    "    rng = np.random.default_rng()\n",
    "\n",
    "    m_0 = np.zeros((D))\n",
    "    k = 0.01\n",
    "\n",
    "    means = []\n",
    "\n",
    "    for cov in covariances:\n",
    "        mean = rng.multivariate_normal(m_0, cov/k)\n",
    "        means.append(mean)\n",
    "\n",
    "    return means\n",
    "\n"
   ]
  },
  {
   "cell_type": "code",
   "execution_count": 36,
   "id": "59baadd0",
   "metadata": {},
   "outputs": [],
   "source": [
    "covariances = generate_wishart_covariances(3, 3)\n",
    "means = generate_means(covariances)"
   ]
  },
  {
   "cell_type": "code",
   "execution_count": 37,
   "id": "b00f2bc0",
   "metadata": {},
   "outputs": [],
   "source": [
    "X = []\n",
    "y = []\n",
    "\n",
    "rng = np.random.default_rng()\n",
    "\n",
    "for idx, (cov, mean) in enumerate(zip(covariances, means)):\n",
    "    X_k = rng.multivariate_normal(mean, cov, size=250)\n",
    "    y_k = np.full(250, idx)  # more efficient than list comprehension\n",
    "    X.append(X_k)\n",
    "    y.append(y_k)\n",
    "\n",
    "X = np.vstack(X)  # shape: (K * 1000, D)\n",
    "y = np.concatenate(y)  # shape: (K * 1000,)"
   ]
  },
  {
   "cell_type": "code",
   "execution_count": 38,
   "id": "b31abb78",
   "metadata": {},
   "outputs": [],
   "source": [
    "X_train, X_test, y_train, y_test = train_test_split(X, y, test_size=0.2, stratify=y, random_state=42)"
   ]
  },
  {
   "cell_type": "code",
   "execution_count": 39,
   "id": "40144ba5",
   "metadata": {},
   "outputs": [],
   "source": [
    "name = \"synthetic\"\n",
    "\n",
    "np.save(f\"./../Datasets/Gaussian/Processed/{name}/X_train_{name}.npy\",X_train)\n",
    "np.save(f\"./../Datasets/Gaussian/Processed/{name}/X_test_{name}.npy\",X_test)\n",
    "np.save(f\"./../Datasets/Gaussian/Processed/{name}/y_train_{name}.npy\",y_train)\n",
    "np.save(f\"./../Datasets/Gaussian/Processed/{name}/y_test_{name}.npy\",y_test)\n",
    "np.save(f\"./../Datasets/Gaussian/Processed/{name}/means_{name}.npy\", np.array(means))\n",
    "np.save(f\"./../Datasets/Gaussian/Processed/{name}/covs_{name}.npy\", np.array(covariances))"
   ]
  },
  {
   "cell_type": "markdown",
   "id": "6dcf2528",
   "metadata": {},
   "source": [
    "# Synthetic Bernoulli"
   ]
  },
  {
   "cell_type": "markdown",
   "id": "14903c8f",
   "metadata": {},
   "source": [
    "## Synthetic Bernoulli 5"
   ]
  },
  {
   "cell_type": "code",
   "execution_count": null,
   "id": "541431e2",
   "metadata": {},
   "outputs": [],
   "source": [
    "def generate_bernoulli_parameters(K, D, a=1, b=1, rng=None):\n",
    "    \"\"\"\n",
    "    Sample K D-dimensional Bernoulli probability vectors from Beta(a, b)\n",
    "    \"\"\"\n",
    "    rng = rng or np.random.default_rng()\n",
    "    return rng.beta(a, b, size=(K, D))\n",
    "\n",
    "def generate_bernoulli_mixture_data(θ, num_total=2500, rng=None):\n",
    "    rng = rng or np.random.default_rng()\n",
    "    K, D = θ.shape\n",
    "\n",
    "    pis = rng.dirichlet(np.full(K, 1.0))  # Equal prior\n",
    "\n",
    "    n_samples_per_cluster = rng.multinomial(num_total, pis)\n",
    "\n",
    "    X = []\n",
    "    y = []\n",
    "\n",
    "    for k in range(K):\n",
    "        n_k = n_samples_per_cluster[k]\n",
    "        samples = rng.binomial(n=1, p=θ[k], size=(n_k, D))\n",
    "        labels = np.full(n_k, k)\n",
    "        X.append(samples)\n",
    "        y.append(labels)\n",
    "\n",
    "    X = np.vstack(X)  # shape (num_total, D)\n",
    "    y = np.concatenate(y)  # shape (num_total,)\n",
    "    return X, y\n",
    "\n"
   ]
  },
  {
   "cell_type": "code",
   "execution_count": 20,
   "id": "0d56c6db",
   "metadata": {},
   "outputs": [],
   "source": [
    "thetas = generate_bernoulli_parameters(5, 5)\n",
    "X,y = generate_bernoulli_mixture_data(thetas)"
   ]
  },
  {
   "cell_type": "code",
   "execution_count": 21,
   "id": "93acfee6",
   "metadata": {},
   "outputs": [],
   "source": [
    "X_train, X_test, y_train, y_test = train_test_split(X, y, test_size=0.2, stratify=y, random_state=42)"
   ]
  },
  {
   "cell_type": "code",
   "execution_count": null,
   "id": "494ab64a",
   "metadata": {},
   "outputs": [],
   "source": [
    "name=\"synthetic5\"\n",
    "\n",
    "np.save(f\"./../Datasets/Bernoulli/Processed/{name}/X_train_{name}.npy\", X_train)\n",
    "np.save(f\"./../Datasets/Bernoulli/Processed/{name}/X_test_{name}.npy\", X_test)\n",
    "np.save(f\"./../Datasets/Bernoulli/Processed/{name}/y_train_{name}.npy\", y_train)\n",
    "np.save(f\"./../Datasets/Bernoulli/Processed/{name}/y_test_{name}.npy\", y_test)\n",
    "np.save(f\"./../Datasets/Bernoulli/Processed/{name}/means_{name}.npy\", np.array(thetas))"
   ]
  },
  {
   "cell_type": "markdown",
   "id": "f4d45782",
   "metadata": {},
   "source": [
    "# Guassian MNIST"
   ]
  },
  {
   "cell_type": "code",
   "execution_count": 2,
   "id": "b857eae2",
   "metadata": {},
   "outputs": [],
   "source": [
    "zero = np.array([\n",
    "    [0,1,1,1,0],\n",
    "    [1,0,0,0,1],\n",
    "    [1,0,0,0,1],\n",
    "    [1,0,0,0,1],\n",
    "    [1,0,0,0,1],\n",
    "    [1,0,0,0,1],\n",
    "    [0,1,1,1,0],\n",
    "])\n",
    "\n",
    "one = np.array([\n",
    "    [0,0,1,0,0],\n",
    "    [0,1,1,0,0],\n",
    "    [0,0,1,0,0],\n",
    "    [0,0,1,0,0],\n",
    "    [0,0,1,0,0],\n",
    "    [0,0,1,0,0],\n",
    "    [0,0,1,0,0],\n",
    "])\n",
    "\n",
    "two = np.array([\n",
    "    [0,1,1,1,0],\n",
    "    [1,0,0,0,1],\n",
    "    [1,0,0,0,1],\n",
    "    [0,0,0,1,0],\n",
    "    [0,0,1,0,0],\n",
    "    [0,1,0,0,0],\n",
    "    [1,1,1,1,1],\n",
    "])\n",
    "\n",
    "three = np.array([\n",
    "    [0,1,1,1,0],\n",
    "    [1,0,0,0,1],\n",
    "    [0,0,0,0,1],\n",
    "    [0,0,1,1,0],\n",
    "    [0,0,0,0,1],\n",
    "    [1,0,0,0,1],\n",
    "    [0,1,1,1,0],\n",
    "])\n",
    "\n",
    "four = np.array([\n",
    "    [0,1,0,1,0],\n",
    "    [0,1,0,1,0],\n",
    "    [1,0,0,1,0],\n",
    "    [1,1,1,1,1],\n",
    "    [0,0,0,1,0],\n",
    "    [0,0,0,1,0],\n",
    "    [0,0,0,1,0],\n",
    "])\n",
    "\n",
    "five = np.array([\n",
    "    [1,1,1,1,1],\n",
    "    [1,0,0,0,0],\n",
    "    [1,0,0,0,0],\n",
    "    [0,1,1,1,0],\n",
    "    [0,0,0,0,1],\n",
    "    [1,0,0,0,1],\n",
    "    [0,1,1,1,0],\n",
    "])\n",
    "\n",
    "six = np.array([\n",
    "    [0,1,1,1,0],\n",
    "    [1,0,0,0,0],\n",
    "    [1,0,0,0,0],\n",
    "    [1,1,1,1,0],\n",
    "    [1,0,0,0,1],\n",
    "    [1,0,0,0,1],\n",
    "    [0,1,1,1,0],\n",
    "])\n",
    "\n",
    "seven = np.array([\n",
    "    [1,1,1,1,1],\n",
    "    [0,0,0,0,1],\n",
    "    [0,0,0,0,1],\n",
    "    [0,0,0,1,0],\n",
    "    [0,0,1,0,0],\n",
    "    [0,1,0,0,0],\n",
    "    [1,0,0,0,0],\n",
    "])\n",
    "\n",
    "eight = np.array([\n",
    "    [0,1,1,1,0],\n",
    "    [1,0,0,0,1],\n",
    "    [1,0,0,0,1],\n",
    "    [0,1,1,1,0],\n",
    "    [1,0,0,0,1],\n",
    "    [1,0,0,0,1],\n",
    "    [0,1,1,1,0],\n",
    "])\n",
    "\n",
    "nine = np.array([\n",
    "    [0,1,1,1,0],\n",
    "    [1,0,0,0,1],\n",
    "    [1,0,0,0,1],\n",
    "    [0,1,1,1,1],\n",
    "    [0,0,0,0,1],\n",
    "    [1,0,0,0,1],\n",
    "    [0,1,1,1,0],\n",
    "])\n",
    "\n",
    "templates = np.array([zero, one, two, three, four , five, six, seven ,eight, nine])"
   ]
  },
  {
   "cell_type": "code",
   "execution_count": 3,
   "id": "430ee08a",
   "metadata": {},
   "outputs": [],
   "source": [
    "def paint_mnist(X):\n",
    "    figure = plt.figure(figsize=(7, 3.5))\n",
    "    rows, cols= 2, 5\n",
    "    for k in range(10):\n",
    "        img = X[k]\n",
    "        figure.add_subplot(rows, cols, k+1)\n",
    "        plt.imshow(img, cmap=\"gray\")\n",
    "    plt.show()"
   ]
  },
  {
   "cell_type": "code",
   "execution_count": 4,
   "id": "7815782b",
   "metadata": {},
   "outputs": [
    {
     "data": {
      "image/png": "[encoded data removed]",
      "text/plain": [
       "<Figure size 700x350 with 10 Axes>"
      ]
     },
     "metadata": {},
     "output_type": "display_data"
    }
   ],
   "source": [
    "paint_mnist(templates)"
   ]
  },
  {
   "cell_type": "code",
   "execution_count": 40,
   "id": "e72adfc8",
   "metadata": {},
   "outputs": [],
   "source": [
    "def add_gaussian_noise(X, mean=0.0, std=0.1):\n",
    "    noise = np.random.normal(loc=mean, scale=std, size=X.shape)\n",
    "    X_noisy = X + noise\n",
    "    return X_noisy"
   ]
  },
  {
   "cell_type": "code",
   "execution_count": 6,
   "id": "d2c86f2d",
   "metadata": {},
   "outputs": [],
   "source": [
    "X = []\n",
    "y = []\n",
    "\n",
    "for i in range(10):\n",
    "    for n in range(500):\n",
    "        X.append(add_gaussian_noise(templates[i].flatten()))\n",
    "        y.append(i)\n",
    "\n",
    "X = np.array(X)\n",
    "y = np.array(y)"
   ]
  },
  {
   "cell_type": "code",
   "execution_count": 7,
   "id": "a152e61a",
   "metadata": {},
   "outputs": [],
   "source": [
    "means = []\n",
    "covs = []\n",
    "for k in range(10):\n",
    "    means.append(np.mean(X[y==k], axis=0))\n",
    "    covs.append(np.cov(X[y==k], rowvar=False))\n",
    "means = np.array(means)\n",
    "covs = np.array(covs)"
   ]
  },
  {
   "cell_type": "code",
   "execution_count": 49,
   "id": "3de8ff53",
   "metadata": {},
   "outputs": [],
   "source": [
    "def paint_mnist(X,D1,D2):\n",
    "    figure = plt.figure(figsize=(7, 3.5))\n",
    "    rows, cols= 2, 5\n",
    "    for k in range(10):\n",
    "        img = X[k,:].reshape(D1,D2)\n",
    "        figure.add_subplot(rows, cols, k+1)\n",
    "        plt.imshow(img, cmap=\"gray\")\n",
    "    plt.show()"
   ]
  },
  {
   "cell_type": "code",
   "execution_count": null,
   "id": "8513fe44",
   "metadata": {},
   "outputs": [
    {
     "data": {
      "image/png": "[encoded data removed]",
      "text/plain": [
       "<Figure size 700x350 with 10 Axes>"
      ]
     },
     "metadata": {},
     "output_type": "display_data"
    }
   ],
   "source": [
    "paint_mnist(X[2000:], 5, 7)"
   ]
  },
  {
   "cell_type": "code",
   "execution_count": 10,
   "id": "2da1084d",
   "metadata": {},
   "outputs": [
    {
     "data": {
      "image/png": "[encoded data removed]",
      "text/plain": [
       "<Figure size 700x350 with 10 Axes>"
      ]
     },
     "metadata": {},
     "output_type": "display_data"
    }
   ],
   "source": [
    "paint_mnist(means)"
   ]
  },
  {
   "cell_type": "code",
   "execution_count": 11,
   "id": "ca43bc00",
   "metadata": {},
   "outputs": [],
   "source": [
    "X_train, X_test, y_train, y_test = train_test_split(X, y, test_size=0.2, stratify=y, random_state=42)"
   ]
  },
  {
   "cell_type": "code",
   "execution_count": 12,
   "id": "eb744587",
   "metadata": {},
   "outputs": [],
   "source": [
    "name = \"digits\"\n",
    "\n",
    "np.save(f\"./../Datasets/Gaussian/Processed/{name}/X_train_{name}.npy\", X_train)\n",
    "np.save(f\"./../Datasets/Gaussian/Processed/{name}/X_test_{name}.npy\", X_test)\n",
    "np.save(f\"./../Datasets/Gaussian/Processed/{name}/y_train_{name}.npy\", y_train)\n",
    "np.save(f\"./../Datasets/Gaussian/Processed/{name}/y_test_{name}.npy\", y_test)\n",
    "np.save(f\"./../Datasets/Gaussian/Processed/{name}/means_{name}.npy\", means)\n",
    "np.save(f\"./../Datasets/Gaussian/Processed/{name}/covariances_{name}.npy\", covs)"
   ]
  },
  {
   "cell_type": "markdown",
   "id": "2859211d",
   "metadata": {},
   "source": [
    "# Digits Small"
   ]
  },
  {
   "cell_type": "code",
   "execution_count": 128,
   "id": "153a7b5e",
   "metadata": {},
   "outputs": [],
   "source": [
    "zero = np.array([\n",
    "    [0,1,1,1,0],\n",
    "    [1,0,0,0,1],\n",
    "    [1,0,0,0,1],\n",
    "    [1,0,0,0,1],\n",
    "    [0,1,1,1,0]\n",
    "])\n",
    "\n",
    "one = np.array([\n",
    "    [0,0,1,0,0],\n",
    "    [0,1,1,0,0],\n",
    "    [0,0,1,0,0],\n",
    "    [0,0,1,0,0],\n",
    "    [0,1,1,1,0],\n",
    "])\n",
    "\n",
    "two = np.array([\n",
    "    [0,1,1,1,0],\n",
    "    [1,0,0,0,1],\n",
    "    [0,0,1,1,0],\n",
    "    [0,1,0,0,0],\n",
    "    [1,1,1,1,1],\n",
    "])\n",
    "\n",
    "three = np.array([\n",
    "    [1,1,1,1,0],\n",
    "    [0,0,0,0,1],\n",
    "    [0,0,1,1,0],\n",
    "    [0,0,0,0,1],\n",
    "    [1,1,1,1,0]\n",
    "])\n",
    "\n",
    "four = np.array([\n",
    "    [1,0,0,0,1],\n",
    "    [1,0,0,0,1],\n",
    "    [1,1,1,1,1],\n",
    "    [0,0,0,0,1],\n",
    "    [0,0,0,0,1]\n",
    "])\n",
    "\n",
    "five = np.array([\n",
    "    [1,1,1,1,1],\n",
    "    [1,0,0,0,0],\n",
    "    [0,1,1,1,0],\n",
    "    [0,0,0,0,1],\n",
    "    [1,1,1,1,1]\n",
    "])\n",
    "\n",
    "six = np.array([\n",
    "    [0,1,1,1,1],\n",
    "    [1,0,0,0,0],\n",
    "    [1,1,1,1,0],\n",
    "    [1,0,0,0,1],\n",
    "    [0,1,1,1,0]\n",
    "])\n",
    "\n",
    "seven = np.array([\n",
    "    [1,1,1,1,1],\n",
    "    [0,0,0,0,1],\n",
    "    [0,0,0,1,0],\n",
    "    [0,0,1,0,0],\n",
    "    [0,1,0,0,0],\n",
    "])\n",
    "\n",
    "eight = np.array([\n",
    "    [0,1,1,1,0],\n",
    "    [1,0,0,0,1],\n",
    "    [0,1,1,1,0],\n",
    "    [1,0,0,0,1],\n",
    "    [0,1,1,1,0],\n",
    "])\n",
    "\n",
    "\n",
    "nine = np.array([\n",
    "    [0,1,1,1,0],\n",
    "    [1,0,0,0,1],\n",
    "    [0,1,1,1,1],\n",
    "    [0,0,0,0,1],\n",
    "    [0,0,0,0,1],\n",
    "])\n",
    "\n",
    "\n",
    "# digits = np.array([\n",
    "#     zero, one, two, three, four, five, six, seven ,eight, nine\n",
    "# ])\n",
    "\n",
    "digits = np.array([\n",
    "    zero, one, two, three, four\n",
    "])"
   ]
  },
  {
   "cell_type": "code",
   "execution_count": 129,
   "id": "8cdefbe5",
   "metadata": {},
   "outputs": [],
   "source": [
    "def paint_mnist(X):\n",
    "    figure = plt.figure(figsize=(7, 3.5))\n",
    "    rows, cols= 2, 5\n",
    "    for k in range(5):\n",
    "        img = X[k]\n",
    "        figure.add_subplot(rows, cols, k+1)\n",
    "        plt.imshow(img, cmap=\"gray\")\n",
    "    plt.show()"
   ]
  },
  {
   "cell_type": "code",
   "execution_count": 66,
   "id": "07721bf4",
   "metadata": {},
   "outputs": [
    {
     "data": {
      "image/png": "[encoded data removed]",
      "text/plain": [
       "<Figure size 700x350 with 5 Axes>"
      ]
     },
     "metadata": {},
     "output_type": "display_data"
    }
   ],
   "source": [
    "paint_mnist(digits)"
   ]
  },
  {
   "cell_type": "code",
   "execution_count": 131,
   "id": "505b21d3",
   "metadata": {},
   "outputs": [],
   "source": [
    "X = []\n",
    "y = []\n",
    "\n",
    "for i in range(5):\n",
    "    for n in range(300):\n",
    "        X.append(add_gaussian_noise(digits[i].flatten(), std=0.15))\n",
    "        y.append(i)\n",
    "\n",
    "X = np.array(X)\n",
    "y = np.array(y)"
   ]
  },
  {
   "cell_type": "code",
   "execution_count": 132,
   "id": "dc6c1c50",
   "metadata": {},
   "outputs": [],
   "source": [
    "means = []\n",
    "covs = []\n",
    "for k in range(5):\n",
    "    means.append(np.mean(X[y==k], axis=0))\n",
    "    covs.append(np.cov(X[y==k], rowvar=False))\n",
    "means = np.array(means)\n",
    "covs = np.array(covs)"
   ]
  },
  {
   "cell_type": "code",
   "execution_count": 135,
   "id": "991da912",
   "metadata": {},
   "outputs": [],
   "source": [
    "X_train, X_test, y_train, y_test = train_test_split(X, y, test_size=0.2, stratify=y, random_state=42)"
   ]
  },
  {
   "cell_type": "code",
   "execution_count": 136,
   "id": "308ec60c",
   "metadata": {},
   "outputs": [],
   "source": [
    "name = \"digits5x5\"\n",
    "\n",
    "np.save(f\"./../Datasets/Gaussian/Processed/{name}/X_train_{name}.npy\", X_train)\n",
    "np.save(f\"./../Datasets/Gaussian/Processed/{name}/X_test_{name}.npy\", X_test)\n",
    "np.save(f\"./../Datasets/Gaussian/Processed/{name}/y_train_{name}.npy\", y_train)\n",
    "np.save(f\"./../Datasets/Gaussian/Processed/{name}/y_test_{name}.npy\", y_test)\n",
    "np.save(f\"./../Datasets/Gaussian/Processed/{name}/means_{name}.npy\", means)\n",
    "np.save(f\"./../Datasets/Gaussian/Processed/{name}/covariances_{name}.npy\", covs)"
   ]
  },
  {
   "cell_type": "markdown",
   "id": "b3aaad4a",
   "metadata": {},
   "source": [
    "# MNAR "
   ]
  },
  {
   "cell_type": "code",
   "execution_count": 235,
   "id": "180ab9aa",
   "metadata": {},
   "outputs": [],
   "source": [
    "dirpath_synthetic = \"./../Datasets/Bernoulli/Processed/synthetic/\"\n",
    "\n",
    "X_train_synthetic = np.load(dirpath_synthetic + \"X_train_synthetic.npy\")\n",
    "y_train_synthetic = np.load(dirpath_synthetic + \"y_train_synthetic.npy\")\n",
    "X_test_synthetic = np.load(dirpath_synthetic + \"X_test_synthetic.npy\")\n",
    "y_test_synthetic = np.load(dirpath_synthetic + \"y_test_synthetic.npy\")\n",
    "means = np.load(dirpath_synthetic + \"means_synthetic.npy\")"
   ]
  },
  {
   "cell_type": "markdown",
   "id": "60a072c6",
   "metadata": {},
   "source": [
    "### MNAR Missing Rate"
   ]
  },
  {
   "cell_type": "code",
   "execution_count": 236,
   "id": "d5260916",
   "metadata": {},
   "outputs": [],
   "source": [
    "rng = np.random.default_rng(5099)"
   ]
  },
  {
   "cell_type": "code",
   "execution_count": 237,
   "id": "2ff7bb7f",
   "metadata": {},
   "outputs": [],
   "source": [
    "def generate_mnar_mixture_data(X, y, K):\n",
    "    N,D = X.shape\n",
    "    \n",
    "    γ = np.array([\n",
    "            np.full((D), 0.0),np.full((D), 0.2),np.full((D), 0.4),\n",
    "            np.full((D), 0.6),np.full((D), 0.8)\n",
    "        ]) \n",
    "\n",
    "    R = np.ones((N, D), dtype=bool)  \n",
    "\n",
    "    for n in range(N):\n",
    "        k = y[n]\n",
    "\n",
    "        R[n] = rng.binomial(1, 1 - γ[k])  \n",
    "\n",
    "    X_missing = X.copy().astype(np.float64).copy()\n",
    "    X_missing[~R] = np.nan  \n",
    "\n",
    "    return X_missing,R\n"
   ]
  }
 ],
 "metadata": {
  "kernelspec": {
   "display_name": "myenv",
   "language": "python",
   "name": "python3"
  },
  "language_info": {
   "codemirror_mode": {
    "name": "ipython",
    "version": 3
   },
   "file_extension": ".py",
   "mimetype": "text/x-python",
   "name": "python",
   "nbconvert_exporter": "python",
   "pygments_lexer": "ipython3",
   "version": "3.9.21"
  }
 },
 "nbformat": 4,
 "nbformat_minor": 5
}
