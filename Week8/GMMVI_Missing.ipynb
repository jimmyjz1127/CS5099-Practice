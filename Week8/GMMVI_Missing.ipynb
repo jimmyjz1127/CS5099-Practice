{
 "cells": [
  {
   "cell_type": "code",
   "execution_count": 1,
   "id": "7d7b699f",
   "metadata": {},
   "outputs": [],
   "source": [
    "%matplotlib inline\n",
    "# %matplotlib notebook\n",
    "%config Completer.use_jedi = False\n",
    "import matplotlib.pyplot as plt\n",
    "import numpy as np\n",
    "import pandas as pd\n",
    "\n",
    "\n",
    "from scipy.special import logsumexp\n",
    "from scipy.special import softmax\n",
    "from scipy.special import betaln\n",
    "from scipy.special import beta\n",
    "\n",
    "from scipy.stats import multivariate_normal \n",
    "from scipy.stats import invwishart \n",
    "\n",
    "from sklearn import metrics\n",
    "from scipy.special import psi\n",
    "from scipy.special import digamma \n",
    "\n",
    "from scipy.special import gammaln, psi\n",
    "from numpy.linalg import slogdet, inv\n"
   ]
  },
  {
   "cell_type": "code",
   "execution_count": 2,
   "id": "5f3f7a0b",
   "metadata": {},
   "outputs": [],
   "source": [
    "random_seed = 123\n",
    "rng = np.random.default_rng(random_seed)"
   ]
  },
  {
   "cell_type": "markdown",
   "id": "2a4f18ed",
   "metadata": {},
   "source": [
    "We want to compute the intractable GMM posterior:\n",
    "$$\n",
    "    p(\\mathbf{z},\\boldsymbol{\\phi},\\boldsymbol{\\pi}|\\mathbf{X}) = \\frac{p(\\mathbf{X},\\boldsymbol{\\phi},\\mathbf{z},\\boldsymbol{\\pi})}{p(\\mathbf{X})}\n",
    "$$\n",
    "\n",
    "Introduce approximating distribution $q(\\mathbf{z},\\boldsymbol{\\phi},\\boldsymbol{\\pi})$ where we use KL divergence as a cost function \n",
    "$$\n",
    "    \\mathbb{KL}(q||p) = \\sum_{\\mathbf{z},\\boldsymbol{\\phi}}q(\\mathbf{z},\\boldsymbol{\\phi},\\boldsymbol{\\pi})\\log\\frac{q(\\mathbf{z},\\boldsymbol{\\phi},\\boldsymbol{\\pi})}{p(\\mathbf{z},\\boldsymbol{\\phi},\\boldsymbol{\\pi}|\\mathbf{X})}\n",
    "$$\n",
    "\n",
    "Objective : \n",
    "$$\\begin{align}\n",
    "    \\mathcal{J}(q) &= \\mathbb{KL}(q||p) = \\int\\int\\sum_{\\mathbf{z}}q(\\mathbf{z},\\boldsymbol{\\phi},\\boldsymbol{\\pi})\\log\\frac{q(\\mathbf{z},\\boldsymbol{\\phi},\\boldsymbol{\\pi})}{p(\\mathbf{z},\\boldsymbol{\\phi},\\boldsymbol{\\pi}|\\mathbf{X})}d\\boldsymbol{\\pi} d\\boldsymbol{\\phi}\\\\\\\\\n",
    "\n",
    "    &=  \\int\\int\\sum_{\\mathbf{z}}q(\\mathbf{z},\\boldsymbol{\\phi},\\boldsymbol{\\pi})\\log q(\\mathbf{z},\\boldsymbol{\\phi},\\boldsymbol{\\pi})d\\boldsymbol{\\phi}d\\boldsymbol{\\pi} - \\int\\int\\sum_{\\mathbf{z}}q(\\mathbf{z},\\boldsymbol{\\phi},\\boldsymbol{\\pi})\\log p(\\mathbf{z},\\boldsymbol{\\phi},\\boldsymbol{\\pi}|\\mathbf{X})d\\boldsymbol{\\pi}d\\boldsymbol{\\phi}\\\\\\\\\n",
    "\n",
    "    &= \\Big\\langle \\log q(\\mathbf{z},\\boldsymbol{\\phi},\\boldsymbol{\\pi}) \\Big\\rangle_{q(\\mathbf{z},\\boldsymbol{\\phi},\\boldsymbol{\\pi})} - \\Big\\langle \\log p(\\mathbf{z},\\boldsymbol{\\phi},\\boldsymbol{\\pi}|\\mathbf{X}) \\Big\\rangle_{q(\\mathbf{z},\\boldsymbol{\\phi},\\boldsymbol{\\pi})}\\\\\n",
    "\n",
    "    &= \\Big\\langle \\log q(\\mathbf{z},\\boldsymbol{\\phi},\\boldsymbol{\\pi}) \\Big\\rangle_{q(\\mathbf{z}, \n",
    "       \\boldsymbol{\\phi},\\boldsymbol{\\pi})} -\n",
    "       \\Big\\langle \\log p(\\mathbf{z},\\boldsymbol{\\phi},\\boldsymbol{\\pi},\\mathbf{X}) \\Big\\rangle_{q(\\mathbf{z},\\boldsymbol{\\phi},\\boldsymbol{\\pi})} + \n",
    "       \\Big\\langle  \\log p(\\mathbf{X}) \\Big\\rangle_{q(\\mathbf{z},\\boldsymbol{\\phi},\\boldsymbol{\\pi})}\\\\\\\\\n",
    "\n",
    "    &= \\Big\\langle  \\log \\frac{q(\\mathbf{z},\\boldsymbol{\\phi},\\boldsymbol{\\pi})}{p(\\mathbf{X})} \\Big\\rangle_{q(\\mathbf{z},\\boldsymbol{\\phi},\\boldsymbol{\\pi})}  + \n",
    "       \\log p(\\mathbf{X}) \\\\\\\\\n",
    "    \n",
    "    &= \\mathbb{KL}\\Big(q(\\mathbf{z},\\boldsymbol{\\phi},\\boldsymbol{\\pi}) || p(\\mathbf{z},\\boldsymbol{\\phi},\\boldsymbol{\\pi},\\mathbf{X})\\Big) + \\underbrace{\\log p(\\mathbf{X})}_{\\text{constant}}\n",
    "\\end{align}$$\n",
    "\n",
    "Objective can simplify to\n",
    "$$\\begin{align}\n",
    "    q* &\\leftarrow \\argmin_{q} \\left[  \\mathbb{KL}\\Big(q(\\mathbf{z},\\boldsymbol{\\phi},\\boldsymbol{\\pi}) || p(\\mathbf{z},\\boldsymbol{\\phi},\\boldsymbol{\\pi},\\mathbf{X})\\Big)  + \\underbrace{\\log p(\\mathbf{X})}_{\\text{constant}} \\right]\\\\\n",
    "        &= \\argmin_{q} \\left[ \\mathbb{KL}\\Big(q(\\mathbf{z},\\boldsymbol{\\phi},\\boldsymbol{\\pi}) || p(\\mathbf{z},\\boldsymbol{\\phi},\\boldsymbol{\\pi},\\mathbf{X})\\Big) \\right]\n",
    "\\end{align}$$"
   ]
  },
  {
   "cell_type": "markdown",
   "id": "80782feb",
   "metadata": {},
   "source": [
    "---"
   ]
  },
  {
   "cell_type": "markdown",
   "id": "e1343f90",
   "metadata": {},
   "source": [
    "## Mean Field \n",
    "\n",
    "Mean Field (Structured) Independence Simplifying Assumption\n",
    "$$\\begin{align}\n",
    "    q(\\boldsymbol{\\pi},\\boldsymbol{\\phi},\\mathbf{z},\\mathbf{X}_H)& = \n",
    "        \\underbrace{q(\\boldsymbol{\\pi})}_{\\text{Dirichlet}}\\quad\n",
    "        \\underbrace{q(\\boldsymbol{\\phi})}_{\\text{Gaussian}}\\quad\n",
    "        \\underbrace{q(\\mathbf{z})}_{\\text{Cat}}\\quad\n",
    "        \\underbrace{q(\\mathbf{X}_H)}_{\\text{Bernoulli}}\\\\\n",
    "\n",
    "        &=  q(\\mathbf{z}, \\mathbf{X}_H) \\cdot\n",
    "            \\prod_K^K q(\\boldsymbol{\\pi}_k) q(\\boldsymbol{\\phi}_k)\n",
    "\\end{align}$$\n",
    "\n",
    "Update Steps \n",
    "\n",
    "$$\\begin{align}\n",
    "    &\\ln q(\\boldsymbol{\\phi},\\boldsymbol{\\pi}) = \\Big\\langle \\ln p(\\mathbf{z},\\boldsymbol{\\phi},\\mathbf{X}_H,\\mathbf{X}_O) \\Big\\rangle_{q(\\mathbf{z},\\mathbf{X}_H)}  + \\text{const}\\\\\\\\\n",
    "    \n",
    "    &\\ln q(\\mathbf{z},\\mathbf{X}_H) = \\Big\\langle \\ln p(\\mathbf{z},\\boldsymbol{\\phi},\\mathbf{X}_H,\\mathbf{X}_O) \\Big\\rangle_{q(\\boldsymbol{\\phi},\\boldsymbol{\\pi})} + \\text{const}\n",
    "\\end{align}$$\n",
    "\n",
    "Posterior\n",
    "$$\n",
    "    p(\\mathbf{X}_O,\\mathbf{X}_H,\\boldsymbol{\\phi},\\mathbf{z},\\boldsymbol{\\pi}) \\propto p(\\mathbf{X}_O,\\mathbf{X}_H|\\boldsymbol{\\phi},\\mathbf{z})p(\\boldsymbol{\\phi})p(\\mathbf{z}|\\boldsymbol{\\pi})p(\\boldsymbol{\\pi})\n",
    "$$"
   ]
  },
  {
   "cell_type": "markdown",
   "id": "5ba0f7b9",
   "metadata": {},
   "source": [
    "### Updates for variational posterior of model parameters $q(\\boldsymbol{\\phi},\\boldsymbol{\\pi})$\n",
    "\n",
    "$$\\begin{align}\n",
    "    \\log q(\\boldsymbol{\\phi},\\boldsymbol{\\pi}) &= \\Big\\langle \\log p(\\mathbf{z},\\boldsymbol{\\phi},\\mathbf{X}) \\Big\\rangle_{q(\\mathbf{z},\\mathbf{X}_H)}  + \\text{const}\\\\\\\\\n",
    "\n",
    "    &= \\Big\\langle \\log p(\\mathbf{X}_O,\\mathbf{X}_H|\\mathbf{z},\\boldsymbol{\\phi}) \\Big\\rangle_{q(\\mathbf{z},\\mathbf{X}_H)} \n",
    "       + \\Big\\langle \\log p(\\boldsymbol{\\phi})\\Big\\rangle_{q(\\mathbf{z})} \n",
    "       + \\Big\\langle \\log p(\\mathbf{z}|\\boldsymbol{\\pi})p(\\boldsymbol{\\pi}) \\Big\\rangle_{q(\\mathbf{z})} \n",
    "       + \\text{const}\\\\\\\\\n",
    "\n",
    "    &= \\underbrace{\\log p(\\boldsymbol{\\phi}) \n",
    "       + \\Big\\langle \\log p(\\mathbf{X}_O,\\mathbf{X}_H|\\mathbf{z},\\boldsymbol{\\phi})}_{\\text{Terms containing $\\boldsymbol{\\phi}$}} \\Big\\rangle_{q(\\mathbf{z},\\mathbf{X}_H)}\n",
    "       + \\underbrace{\\Big\\langle \\log p(\\mathbf{z}|\\boldsymbol{\\pi}) \\Big\\rangle_{q(\\mathbf{z})} + \\log p(\\boldsymbol{\\pi})}_{\\text{Terms containing $\\pi$}}\n",
    "\\end{align}$$\n",
    "\n",
    "Can separate RHS into terms containing $\\pi$ and $\\mu$\n"
   ]
  },
  {
   "cell_type": "markdown",
   "id": "dd49a35f",
   "metadata": {},
   "source": [
    "\n",
    "\n",
    "#### Update Step for $q(\\boldsymbol{\\pi})$\n",
    "\n",
    "$$\\begin{align}\n",
    "    \\log q(\\boldsymbol{\\pi}) &= \\log p(\\boldsymbol{\\pi}) + \\Big\\langle \\log p(\\mathbf{z}|\\boldsymbol{\\pi}) \\Big\\rangle_{q(\\mathbf{z})} + \\text{const} \\\\\n",
    "\n",
    "    &= \\log \\text{Dir}(\\boldsymbol{\\pi}|\\boldsymbol{\\alpha}_0) + \\Big\\langle \\sum_n^N \\log p(z_n|\\boldsymbol{\\pi}) \\Big\\rangle_{q(\\mathbf{z})} + \\text{const} \\\\\n",
    "\n",
    "    &= \\log \\Big[ \\frac{1}{B(\\alpha_0)}\\prod_k^K \\pi_k^{\\alpha_0 - 1} \\Big] + \\Big\\langle \\sum_n^N \\sum_k^K \\log \\pi_{k}^{z_{nk}} \\Big\\rangle_{q(\\mathbf{z})} + \\text{const} \\\\\n",
    "       \n",
    "    &= \\underbrace{-\\log B(\\alpha_0)}_{\\text{Independent of $\\pi$}} + \\sum_k^K \\log \\pi_k^{\\alpha_0 - 1} +\n",
    "       \\Big\\langle \\sum_k^K \\sum_n^N z_{nk}\\log \\pi_{k} \\Big\\rangle_{q(\\mathbf{z})} + \\text{const} \\\\\n",
    "\n",
    "    &=   \\sum_k^K (\\alpha_0 - 1) \\log \\pi_k + \\sum_k^K \\sum_n^N \\Big\\langle z_{nk} \\Big\\rangle_{q(\\mathbf{z})} \\log \\pi_{k} + \\text{const}, \\quad -\\log B(\\alpha_0) \\text{ absorbed into const}\\\\\n",
    "\n",
    "    &= \\sum_k^K (\\alpha_0 - 1) \\log \\pi_k + \\sum_k^K \\sum_n^N r_{nk} \\log \\pi_{k} + \\text{const}\\\\\n",
    "\n",
    "    &= \\sum_k^K \\Big[ (\\alpha_0 - 1) \\log \\pi_k + \\log \\pi_{k} \\sum_n^N r_{nk} \\Big] + \\text{const}\\\\\n",
    "\n",
    "    &= \\sum_k^K \\Big[ (\\alpha_0 + N_k -1) \\log \\pi_k  \\Big] + \\text{const}, \\quad \\text{where } N_k = \\sum_n^N r_{nk} \\\\\n",
    "\n",
    "    \\implies & \\boxed{q(\\boldsymbol{\\pi}) = \\prod_k^K \\pi_k^{\\alpha_0 + N_k - 1} + \\text{const} = \\text{Dir}(\\boldsymbol{\\pi}|\\boldsymbol{\\alpha}_0 + N), \\quad \\text{where } N = [N_0,...,N_K]}\\\\\n",
    "\n",
    "\\end{align}$$"
   ]
  },
  {
   "cell_type": "markdown",
   "id": "be66c551",
   "metadata": {},
   "source": [
    "#### Update step for $q(\\boldsymbol{\\phi})$\n",
    "\n",
    "Here $\\boldsymbol{\\phi}=\\{\\boldsymbol{\\mu},\\boldsymbol{\\Sigma}\\}$, however we update $\\Sigma$ via M-Step optimization. Hence,\n",
    "$$\n",
    "    q(\\boldsymbol{\\phi}) = q(\\boldsymbol{\\mu}|\\hat{\\boldsymbol{\\Sigma}}), \\quad \\text{where } \\hat{\\boldsymbol{\\Sigma}} \\leftarrow \\argmax_{\\boldsymbol{\\Sigma}} \\Big\\langle p(\\mathbf{z},\\boldsymbol{\\phi},\\mathbf{X}_H,\\mathbf{X}_O) \\Big\\rangle_{q(\\mathbf{z},\\boldsymbol{\\mu})}\n",
    "$$\n",
    "\n",
    "Hence assuming an Inverse Wishart over $\\boldsymbol{\\Sigma}$,\n",
    "$$\\begin{align}\n",
    "    \\hat{\\boldsymbol{\\Sigma}} =& \\frac{\\mathbf{S}_0 + \\mathbf{S}_{k}}{N_k + \\nu_0 + D + 1}, \\quad \\text{where, }\\\\\\\\\n",
    "\n",
    "        &\\mathbf{S}_{k} = \\sum_n^N r_{nk} \\cdot  \\big(\\langle \\mathbf{x}_n \\rangle - \\bar{\\mathbf{x}}_k \\big)\\big(\\langle \\mathbf{x}_n \\rangle - \\bar{\\mathbf{x}}_k\\big)^T  = \\sum_n^N r_{nk} \\cdot \\Big[\\langle \\mathbf{x}_n \\mathbf{x}_n^T \\rangle - \\langle\\mathbf{x}_n\\rangle\\bar{\\mathbf{x}}_k^T - \\bar{\\mathbf{x}}_k\\langle\\mathbf{x}_n\\rangle^T + \\bar{\\mathbf{x}}_k\\bar{\\mathbf{x}}_k^T \\Big]\\\\\n",
    "\n",
    "        &\\bar{\\mathbf{x}}_k = \\frac{1}{N_k} \\sum_n^N r_{nk} \\cdot \\langle \\mathbf{x}_n \\rangle_k\n",
    "\\end{align}$$\n",
    "And,\n",
    "$$\\begin{align}\n",
    "    \\log q(\\boldsymbol{\\mu}|\\boldsymbol{\\hat{\\Sigma}}) &=\\Big\\langle \\log p(\\mathbf{X}|\\mathbf{z},\\boldsymbol{\\phi}) \\Big\\rangle_{q(z,X_H)} + \\log p(\\boldsymbol{\\phi}) + \\text{const}, \\quad \\text{where } \\mathbf{X} = [\\mathbf{X}_H,\\mathbf{X}_O]\\\\\\\\\n",
    "\n",
    "    &= \\Big\\langle \\log p(\\mathbf{X}|\\mathbf{z},\\boldsymbol{\\mu},\\boldsymbol{\\hat{\\Sigma}}) \\Big\\rangle_{q(z,X_H)} + \\log p(\\boldsymbol{\\mu},\\boldsymbol{\\hat{\\Sigma}}) + \\text{const} \\\\\\\\\n",
    "\n",
    "    &= \\Big\\langle \\sum_n^N \\sum_k^K \\log p(\\mathbf{x}_n|\\boldsymbol{\\mu}_k,\\boldsymbol{\\hat{\\Sigma}}_k)^{z_{nk}} \\Big\\rangle_{q(z,X_H)} + \\sum_k^K \\log p(\\boldsymbol{\\mu}_k,\\boldsymbol{\\hat{\\Sigma}}_k) + \\text{const} \\\\\\\\\n",
    "\n",
    "    &= \\sum_n^N \\sum_k^K \\Big\\langle z_{nk} \\Big\\rangle_{q(z_n=k)} \\Big\\langle \\log p(\\mathbf{x}_n|\\boldsymbol{\\mu}_k,\\boldsymbol{\\hat{\\Sigma}}_k) \\Big\\rangle_{q(X^n_H|z_n =k)} + \\sum_k^K \\log p(\\boldsymbol{\\mu}_k,\\boldsymbol{\\hat{\\Sigma}}_k) + \\text{const} \\\\\\\\\n",
    "\n",
    "    &= \\sum_k^K  \\Big[ \\sum_n^N r_{nk} \\Big\\langle \\log p(\\mathbf{x}_n|\\boldsymbol{\\mu}_k,\\boldsymbol{\\hat{\\Sigma}}_k) \\Big\\rangle_{q(X^n_H|z_n =k)} + \\log p(\\boldsymbol{\\mu}_k,\\boldsymbol{\\hat{\\Sigma}}_k) \\Big] + \\text{const} \\\\\\\\\n",
    "\n",
    "    \\implies \\log q(\\boldsymbol{\\mu}_k|\\boldsymbol{\\hat{\\Sigma}}_k) &=   \\sum_n^N r_{nk} \\Big\\langle \\log p(\\mathbf{x}_n|\\boldsymbol{\\mu}_k,\\boldsymbol{\\hat{\\Sigma}}_k) \\Big\\rangle_{q(X^n_H|z_n =k)} + \\log p(\\boldsymbol{\\mu}_k|\\boldsymbol{\\hat{\\Sigma}}_k) + \\text{const}\\\\\\\\\n",
    "\n",
    "    &= \\sum_n^N r_{nk} \\Big\\langle \\log \\mathcal{N}(\\mathbf{x}_n|\\boldsymbol{\\mu}_k,\\boldsymbol{\\hat{\\Sigma}}_k)\\Big\\rangle_{q(X^n_H|z_n =k)} + \\log \\mathcal{N}(\\boldsymbol{\\mu}|\\mathbf{m}_{0,k},\\boldsymbol{\\Lambda}_k) + \\text{const},  \\quad \\text{where } \\boldsymbol{\\Lambda}_k = \\kappa_0 \\boldsymbol{\\hat{\\Sigma}}_k^{-1}\\\\\\\\\n",
    "\n",
    "    &= \\sum_n^N r_{nk} \\cdot \\Big\\langle -\\frac{1}{2}(\\mathbf{x}_n - \\boldsymbol{\\mu}_k)^T\\boldsymbol{\\hat{\\Sigma}}_k^{-1}(\\mathbf{x}_n - \\boldsymbol{\\mu}_k) \\Big\\rangle_{q(X^n_H|z_n =k)}  - \\frac{1}{2} (\\boldsymbol{\\mu}_k - \\mathbf{m}_{0,k})^T\\boldsymbol{\\Lambda}_k(\\boldsymbol{\\mu}_k - \\mathbf{m}_{0,k}) + \\text{const}\\\\\\\\\n",
    "\n",
    "    &= \\sum_n^N r_{nk} \\cdot \\Bigg\\langle -\\frac{1}{2} \\Big(\\mathbf{x}_n^T\\boldsymbol{\\Sigma}_k^{-1}\\mathbf{x}_n - 2\\mathbf{x}_n^T\\boldsymbol{\\Sigma}_k^{-1}\\boldsymbol{\\mu}_k + \\boldsymbol{\\mu}_k^T\\boldsymbol{\\Sigma}_k^{-1}\\boldsymbol{\\mu}_k\\Big) \\Bigg\\rangle_{q(X^n_H|z_n =k)} - \n",
    "    \\frac{1}{2} \\Big( \n",
    "        \\boldsymbol{\\mu}_k^T\\boldsymbol{\\Lambda}_k\\boldsymbol{\\mu}_k - 2\\boldsymbol{\\mu}_k^T\\boldsymbol{\\Lambda}_k\\mathbf{m}_{0,k} + \\mathbf{m}_{0,k}^T\\boldsymbol{\\Lambda}_k\\mathbf{m}_{0,k}\n",
    "    \\Big)+ \\text{const}, \\quad \\text{Expand terms}\\\\\\\\\n",
    "\n",
    "    &= \\sum_n^N r_{nk} \\cdot \\Bigg\\langle -\\frac{1}{2} \\Big(\\text{tr}(\\boldsymbol{\\hat{\\Sigma}}_k^{-1}\\mathbf{x}_n\\mathbf{x}_n^T) - 2\\mathbf{x}_n^T\\boldsymbol{\\hat{\\Sigma}}_k^{-1}\\boldsymbol{\\mu}_k + \\boldsymbol{\\mu}_k^T\\boldsymbol{\\hat{\\Sigma}}_k^{-1}\\boldsymbol{\\mu}_k\\Big) \\Bigg\\rangle_{q(X^n_H|z_n =k)} - \\frac{1}{2} \\Big( \n",
    "        \\boldsymbol{\\mu}_k^T\\boldsymbol{\\Lambda}_k\\boldsymbol{\\mu}_k - 2\\boldsymbol{\\mu}_k^T\\boldsymbol{\\Lambda}_k\\mathbf{m}_{0,k} + \\mathbf{m}_{0,k}^T\\boldsymbol{\\Lambda}_k\\mathbf{m}_{0,k}\n",
    "    \\Big) + \\text{const}, \\quad \\text{Trace cyclic property}\\\\\\\\\n",
    "\n",
    "    &= \\sum_n^N r_{nk} \\cdot -\\frac{1}{2} \\Big(\\text{tr}(\\boldsymbol{\\hat{\\Sigma}}_k^{-1}\\langle\\mathbf{x}_n\\mathbf{x}_n^T\\rangle_k) - 2\\boldsymbol{\\mu}_k^T\\boldsymbol{\\hat{\\Sigma}}_k^{-1}\\langle\\mathbf{x}_n\\rangle_k + \\boldsymbol{\\mu}_k^T\\boldsymbol{\\hat{\\Sigma}}_k^{-1}\\boldsymbol{\\mu}_k\\Big) - \\frac{1}{2} \\Big( \n",
    "        \\boldsymbol{\\mu}_k^T\\boldsymbol{\\Lambda}_k\\boldsymbol{\\mu}_k - 2\\boldsymbol{\\mu}_k^T\\boldsymbol{\\Lambda}_k\\mathbf{m}_{0,k} + \\mathbf{m}_{0,k}^T\\boldsymbol{\\Lambda}_k\\mathbf{m}_{0,k}\n",
    "    \\Big) + \\text{const}, \\quad \\text{Linearity of trace \\& expectation}\\\\\\\\\n",
    "\n",
    "    &= \\underbrace{-\\frac{1}{2}\\sum_n^N r_{nk} \\text{tr}(\\boldsymbol{\\hat{\\Sigma}}_k^{-1}\\langle\\mathbf{x}_n\\mathbf{x}_n^T\\rangle_k)}_{\\text{Independent of }\\boldsymbol{\\mu}_k}\n",
    "       + \\sum_n^N r_{nk} \\boldsymbol{\\mu}_k^T\\boldsymbol{\\hat{\\Sigma}}_k^{-1}\\langle\\mathbf{x}_n\\rangle_k\n",
    "       -\\frac{1}{2}\\sum_n^N r_{nk} \\boldsymbol{\\mu}_k^T\\boldsymbol{\\hat{\\Sigma}}_k^{-1}\\boldsymbol{\\mu}_k\n",
    "       -\\frac{1}{2}\\boldsymbol{\\mu}_k^T\\boldsymbol{\\Lambda}_k\\boldsymbol{\\mu}_k\n",
    "       + \\boldsymbol{\\mu}_k^T\\boldsymbol{\\Lambda}_k\\mathbf{m}_{0,k}\n",
    "       \\underbrace{-\\frac{1}{2}\\mathbf{m}_{0,k}^T\\boldsymbol{\\Lambda}_k\\mathbf{m}_{0,k}}_{\\text{Independent of }\\boldsymbol{\\mu}_k}\n",
    "       + \\text{const}\\\\\\\\\n",
    "\n",
    "    &= \\sum_n^N r_{nk} \\boldsymbol{\\mu}_k^T\\boldsymbol{\\hat{\\Sigma}}_k^{-1}\\langle\\mathbf{x}_n\\rangle_k \n",
    "        -\\frac{1}{2}\\sum_n^N r_{nk} \\boldsymbol{\\mu}_k^T\\boldsymbol{\\hat{\\Sigma}}_k^{-1}\\boldsymbol{\\mu}_k\n",
    "        -\\frac{1}{2}\\boldsymbol{\\mu}_k^T\\boldsymbol{\\Lambda}_k\\boldsymbol{\\mu}_k\n",
    "        + \\boldsymbol{\\mu}_k^T\\boldsymbol{\\Lambda}_k\\mathbf{m}_{0,k}\n",
    "        + \\text{const}\\\\\\\\\n",
    "\n",
    "    &= -\\frac{1}{2}\\Bigg[\n",
    "            N_k  \\boldsymbol{\\mu}_k^T\\boldsymbol{\\hat{\\Sigma}}_k^{-1}\\boldsymbol{\\mu}_k +\n",
    "            \\boldsymbol{\\mu}_k^T\\boldsymbol{\\Lambda}_k\\boldsymbol{\\mu}_k - \n",
    "            2 \\boldsymbol{\\mu}_k^T\\boldsymbol{\\hat{\\Sigma}}_k^{-1}\\sum_n^N r_{nk}\\langle\\mathbf{x}_n\\rangle_k -\n",
    "            2 \\boldsymbol{\\mu}_k^T\\boldsymbol{\\Lambda}_k\\mathbf{m}_{0,k}\n",
    "        \\Bigg] + \\text{const}\\\\\\\\\n",
    "\n",
    "    &= -\\frac{1}{2}\\Bigg[\n",
    "            \\boldsymbol{\\mu}_k^T \\Big( N_K \\boldsymbol{\\hat{\\Sigma}}_k^{-1} + \\boldsymbol{\\Lambda}_k \\Big)- \n",
    "            2\\boldsymbol{\\mu}_k^T \\Big( \\boldsymbol{\\hat{\\Sigma}}_k^{-1}\\sum_n^N r_{nk}\\langle\\mathbf{x}_n\\rangle_k + \\boldsymbol{\\Lambda}_k\\mathbf{m}_{0,k} \\Big)\n",
    "        \\Bigg] + \\text{const}\\\\\\\\\n",
    "\n",
    "    \\text{Complete the square}&\\\\\n",
    "\n",
    "    &= -\\frac{1}{2}\\Bigg[\n",
    "            (\\boldsymbol{\\mu}_k - \\mathbf{M}^{-1}\\mathbf{b})^T\\mathbf{M}(\\boldsymbol{\\mu}_k - \\mathbf{M}^{-1}\\mathbf{b}) \n",
    "            + \\underbrace{\\mathbf{b}^T\\mathbf{M}^{-1}\\mathbf{b}}_{\\text{Independent of }\\boldsymbol{\\mu}_k}\n",
    "        \\Bigg] + \\text{const}, \\quad \\text{where}\\\\\n",
    "        &\\qquad\\qquad \\mathbf{M} = N_K\\boldsymbol{\\hat{\\Sigma}}_k^{-1} + \\boldsymbol{\\Lambda}_k \\\\\n",
    "        &\\qquad\\qquad \\mathbf{b} = \\boldsymbol{\\Lambda}_k\\mathbf{m}_{0,k} + \\boldsymbol{\\hat{\\Sigma}}_k^{-1}\\sum_n^N r_{nk}\\langle\\mathbf{x}_n\\rangle_k\\\\\\\\\n",
    "\n",
    "    &= -\\frac{1}{2} (\\boldsymbol{\\mu}_k - \\mathbf{M}^{-1}\\mathbf{b})^T\\mathbf{M}(\\boldsymbol{\\mu}_k - \\mathbf{M}^{-1}\\mathbf{b}) + \\text{const}\\\\\\\\\n",
    "\n",
    "    \\implies q(\\boldsymbol{\\mu}_k) &= \\exp(-\\frac{1}{2}(\\boldsymbol{\\mu}_k - \\mathbf{M}^{-1}\\mathbf{b})^T\\mathbf{M}(\\boldsymbol{\\mu}_k - \\mathbf{M}^{-1}\\mathbf{b})) + \\text{const}\n",
    "\\end{align}$$\n",
    "\n",
    "This is MVN form, hence\n",
    "\n",
    "$$\\begin{align}\n",
    "    q(\\boldsymbol{\\mu}_k) =& \\mathcal{N}(\\boldsymbol{\\mu}_k \\mid \\mathbf{m}_k, \\mathbf{V}_k)\\\\\n",
    "        & N_k = \\sum_n^N r_{nk}\\\\\n",
    "        & \\boldsymbol{\\Lambda}_k = \\kappa_0 \\boldsymbol{\\hat{\\Sigma}}_k^{-1}\\\\\n",
    "        & \\mathbf{V}_k = \\Big(N_k\\boldsymbol{\\hat{\\Sigma}}_k^{-1} + \\boldsymbol{\\Lambda}_k\\Big)^{-1}\\\\\n",
    "        & \\mathbf{m}_k = \\mathbf{V}_k \\Big(\\boldsymbol{\\Lambda}_k\\mathbf{m}_{0,k} + \\boldsymbol{\\hat{\\Sigma}}_k^{-1}\\sum_n^N r_{nk}\\langle\\mathbf{x}_n\\rangle_k\\Big)\n",
    "\\end{align}$$\n"
   ]
  },
  {
   "cell_type": "markdown",
   "id": "bf6d458b",
   "metadata": {},
   "source": [
    "## Update for $q(\\mathbf{z},\\mathbf{X}_H)$\n",
    "$$\\begin{align}\n",
    "    \\log q(\\mathbf{z},\\mathbf{X}_H) &= \\left\\langle \\log p(\\mathbf{X}_O,\\mathbf{X}_H) \\right\\rangle_{q(\\boldsymbol{\\phi},\\boldsymbol{\\pi})} + \\text{const}\\\\\\\\\n",
    "\n",
    "    &= \\left\\langle \n",
    "            \\underbrace{\\log p(\\boldsymbol{\\pi}) + \n",
    "            \\sum_k^K \\log p(\\boldsymbol{\\phi}_k)}_{\\text{Independent of $\\mathbf{X}_H$ and $\\mathbf{z}$}} + \n",
    "            \\sum_n^N \\sum_k^K z_{nk} \\log p(\\boldsymbol{\\pi}) + \n",
    "            \\sum_n^N \\sum_k^K z_{nk} \\log p(\\mathbf{x}^n_O,\\mathbf{x}^n_H \\mid \\boldsymbol{\\phi}_k)\n",
    "        \\right\\rangle_{q(\\boldsymbol{\\phi},\\boldsymbol{\\pi})} + \\text{const}\\\\\\\\\n",
    "\n",
    "    &=  \\left\\langle\n",
    "            \\sum_n^N \\sum_k^K z_{nk} \\log p(\\boldsymbol{\\pi}) + \n",
    "            \\sum_n^N \\sum_k^K z_{nk} \\log p(\\mathbf{x}^n_O,\\mathbf{x}^n_H \\mid \\boldsymbol{\\phi}_k)\n",
    "        \\right\\rangle_{q(\\boldsymbol{\\phi},\\boldsymbol{\\pi})} + \\text{const}\\\\\\\\\n",
    "\n",
    "    &= \\sum_n^N \\left\\langle\n",
    "        \\sum_k^K z_{nk} \\log p(\\boldsymbol{\\pi}) +\n",
    "        \\sum_k^K z_{nk} \\log p(\\mathbf{x}^n_O,\\mathbf{x}^n_H \\mid \\boldsymbol{\\phi}_k)\n",
    "    \\right\\rangle_{q(\\boldsymbol{\\phi},\\boldsymbol{\\pi})} + \\text{const}\\\\\\\\\n",
    "\n",
    "    \\implies \\log q(\\mathbf{z},\\mathbf{X}_H) &= \\sum_n^N \\log q(z_n, \\mathbf{x}_n)\\\\\\\\\n",
    "\n",
    "    \\implies \\log q(z_n, \\mathbf{x}_n) &=  \\left\\langle\n",
    "        \\sum_k^K z_{nk} \\log p(\\boldsymbol{\\pi}) +\n",
    "        \\sum_k^K z_{nk} \\log p(\\mathbf{x}^n_O,\\mathbf{x}^n_H \\mid \\boldsymbol{\\phi}_k)\n",
    "    \\right\\rangle_{q(\\boldsymbol{\\phi},\\boldsymbol{\\pi})} + \\text{const}\\\\\\\\\n",
    "\\end{align}$$\n",
    "\n",
    "Assuming\n",
    "$$\n",
    "    \\log q(\\mathbf{z},\\mathbf{X}_H) = \\log q(\\mathbf{z}) + \\log q(\\mathbf{X}_H|\\mathbf{z})\n",
    "$$\n",
    "We have,\n",
    "$$\\begin{align}\n",
    "    \\log q(\\mathbf{x}^n_H|z_n) &= \\ln q(\\mathbf{x}^n_H,z_n) - \\ln q(z_n)\\\\\\\\\n",
    "\n",
    "    &= \\log q(\\mathbf{x}^n_H,z_n) + \\text{const}\\\\\\\\\n",
    "\n",
    "    &=  \\left\\langle\n",
    "        \\underbrace{\\sum_k^K z_{nk} \\log p(\\boldsymbol{\\pi})}_{\\text{Independent of }\\mathbf{x}^n_H} +\n",
    "        \\sum_k^K z_{nk} \\log p(\\mathbf{x}^n_O,\\mathbf{x}^n_H \\mid \\boldsymbol{\\phi}_k)\n",
    "    \\right\\rangle_{q(\\boldsymbol{\\phi},\\boldsymbol{\\pi})} + \\text{const}\\\\\\\\\n",
    "\n",
    "    &= \\left\\langle\n",
    "        \\sum_k^K z_{nk} \\log p(\\mathbf{x}^n_O,\\mathbf{x}^n_H \\mid \\boldsymbol{\\phi}_k)\n",
    "    \\right\\rangle_{q(\\boldsymbol{\\phi})} + \\text{const}\\\\\\\\\n",
    "\n",
    "    &= \\sum_k^K  \\Big\\langle\n",
    "        z_{nk} \\log p(\\mathbf{x}^n_O,\\mathbf{x}^n_H \\mid \\boldsymbol{\\phi}_k)\n",
    "    \\Big\\rangle_{q(\\boldsymbol{\\phi})} + \\text{const}\\\\\\\\\n",
    "\n",
    "\\end{align}$$\n",
    "\n",
    "Hence if we condition on $z_n = k$\n",
    "\n",
    "$$\\begin{align}\n",
    "    \\log q(\\mathbf{x}^n_H|z_n=k) = \\Big\\langle\n",
    "         \\log p(\\mathbf{x}^n_O,\\mathbf{x}^n_H \\mid \\boldsymbol{\\phi}_k)\n",
    "    \\Big\\rangle_{q(\\boldsymbol{\\phi})} + \\text{const}\\\\\\\\\n",
    "\\end{align}$$\n",
    "\n",
    "Since $\\mathbf{X}$ is Gaussian\n",
    "\n",
    "$$\\begin{align}\n",
    "    \\log q(\\mathbf{x}^n_H|z_n=k) &= \\left\\langle \\sum_k^K \\ln \\mathcal{N}\\left(\\begin{bmatrix}\\mathbf{x}^n_O\\\\\\mathbf{x}^n_H\\end{bmatrix} \\mid \\boldsymbol{\\phi}\\right) \\right\\rangle_{q(\\phi)} + \\text{const}\\\\\\\\\n",
    "\n",
    "    \\text{Using derivation in Appendix (1)}\\\\\n",
    "\n",
    "    &= \\underbrace{-\\frac{1}{2}(\\mathbf{x}^n_O - \\boldsymbol{\\mu}_k^O)^T\\boldsymbol{\\Lambda}_k^{OO}(\\mathbf{x}^n_O - \\boldsymbol{\\mu}_k^O) }_{\\text{Independent of }\\mathbf{x}^n_H} - \\\\\n",
    "    &\\qquad\\left\\langle \n",
    "            \\frac{1}{2}(\\mathbf{x}^n_H - \\boldsymbol{\\mu}_k^H)^T\\boldsymbol{\\Lambda}_k^{HH}(\\mathbf{x}^n_O - \\boldsymbol{\\mu}_k^H)\n",
    "           - (\\mathbf{x}^n_H - \\boldsymbol{\\mu}_k^H)^T\\boldsymbol{\\Lambda}_k^{HO}(\\mathbf{x}^n_O - \\boldsymbol{\\mu}_k^O)\n",
    "        \\right\\rangle_{q(\\phi)} + \\text{const}\\\\\\\\\n",
    "\n",
    "    &= \\left\\langle \n",
    "            -\\frac{1}{2}(\\mathbf{x}^n_H - \\boldsymbol{\\mu}_k^H)^T\\boldsymbol{\\Lambda}_k^{HH}(\\mathbf{x}^n_O - \\boldsymbol{\\mu}_k^H)\n",
    "           - (\\mathbf{x}^n_H - \\boldsymbol{\\mu}_k^H)^T\\boldsymbol{\\Lambda}_k^{HO}(\\mathbf{x}^n_O - \\boldsymbol{\\mu}_k^O)\n",
    "        \\right\\rangle_{q(\\phi)} + \\text{const}\\\\\\\\\n",
    "\n",
    "    &=  -\\frac{1}{2}(\\mathbf{x}^n_H)^T\\boldsymbol{\\Lambda}_k^{HH}\\mathbf{x}^n_H  \n",
    "        +  \\left\\langle \n",
    "                (\\mathbf{x}^n_H)^T\\Big(\\boldsymbol{\\Lambda}_k^{HH}\\boldsymbol{\\mu}_k^H - \\boldsymbol{\\Lambda}_k^{HO}(\\mathbf{x}^n_O - \\boldsymbol{\\mu}_k^O)\\Big)\n",
    "        \\right\\rangle_{q(\\phi)} + \\text{const}\\\\\\\\\n",
    "\n",
    "    &= -\\frac{1}{2}(\\mathbf{x}^n_H)^T\\boldsymbol{\\Lambda}_k^{HH}\\mathbf{x}^n_H  \n",
    "        +  (\\mathbf{x}^n_H)^T\\Big(\n",
    "                \\boldsymbol{\\Lambda}_k^{HH}\\langle\\boldsymbol{\\mu}_k^H\\rangle \n",
    "                - \\boldsymbol{\\Lambda}_k^{HO}(\\mathbf{x}^n_O - \\langle\\boldsymbol{\\mu}_k^O\\rangle)\n",
    "            \\Big) + \\text{const}\n",
    "\\end{align}$$\n",
    "Completing the squares we get that this is Gaussian\n",
    "$$\\begin{align}\n",
    "    q(\\mathbf{x}^n_H|z_n=k) &= \\mathcal{N}(\\mathbf{m}_{nk}^{H|O},\\mathbf{V}_k^{H|O})\\\\\n",
    "        & \\mathbf{V}_k^{H|O} = (\\boldsymbol{\\Lambda}_k^{HH})^{-1}\\\\\n",
    "        & \\mathbf{m}_{nk}^{H|O} = \\langle \\boldsymbol{\\mu}_k^H \\rangle - (\\boldsymbol{\\Lambda}_k^{HH})^{-1}\\boldsymbol{\\Lambda}_k^{HO}(\\mathbf{x}^n_O - \\langle \\boldsymbol{\\mu}_k^O\\rangle) \n",
    "\\end{align}$$"
   ]
  },
  {
   "cell_type": "markdown",
   "id": "4bd25684",
   "metadata": {},
   "source": [
    "And  \n",
    "$$\\begin{align}\n",
    "    (1) \\quad \\ln q(z_n) &= \\ln q(z_n, \\mathbf{x}^n_H) - \\ln q(\\mathbf{x}_H^n) + \\text{const}\\\\\\\\\n",
    "\n",
    "    &= \\Big\\langle \\sum_k^K z_{nk} \\ln \\boldsymbol{\\pi}_k + \\sum_k^K z_{nk} \\ln p(\\mathbf{x}_O^n,\\mathbf{x}_H^n|\\boldsymbol{\\phi}_k)  \\Big\\rangle_{q(\\phi,\\pi)} - \n",
    "        \\Big\\langle \\sum_k^K z_{nk} \\ln p(\\mathbf{x}^n_H|\\mathbf{x}^n_O,\\boldsymbol{\\phi}_k) \\Big\\rangle_{q(\\phi)} + \\text{const}\\\\\\\\\n",
    "\n",
    "    &= \\Bigg\\langle  \n",
    "            \\sum_k^K z_{nk}\\ln \\boldsymbol{\\pi}_k + \n",
    "            \\sum_k^K z_{nk} \\ln p(\\mathbf{x}^n_O|\\boldsymbol{\\phi}_k) + \n",
    "            \\sum_k^K z_{nk} \\ln p(\\mathbf{x}^n_H|\\mathbf{x}^n_O,\\boldsymbol{\\phi}_k) \n",
    "       \\Bigg\\rangle_{q(\\phi,\\pi)} -\n",
    "       \\Bigg\\langle \n",
    "            \\sum_k^K z_{nk} \\ln p(\\mathbf{x}^n_H|\\mathbf{x}^n_O,\\boldsymbol{\\phi}_k)\n",
    "       \\Bigg\\rangle_{q(\\phi)} + \\text{const}\\\\\\\\\n",
    "\n",
    "    &= \\Bigg\\langle  \n",
    "            \\sum_k^K z_{nk}\\ln \\boldsymbol{\\pi}_k + \n",
    "            \\sum_k^K z_{nk} \\ln p(\\mathbf{x}^n_O|\\boldsymbol{\\phi}_k) \n",
    "       \\Bigg\\rangle_{q(\\phi,\\pi)} + \\text{const}\\\\\\\\\n",
    "\n",
    "    &= \\sum_k^K \\Bigg[ \n",
    "        \\Big\\langle  z_{nk}\\ln \\boldsymbol{\\pi}_k \\Big\\rangle_{q(\\pi)} + \n",
    "        \\Big\\langle z_{nk} \\ln p(\\mathbf{x}^n_O|\\boldsymbol{\\phi}_k) \\Big\\rangle_{q(\\phi)}\n",
    "       \\Bigg] + \\text{const}\\\\\\\\\n",
    "\n",
    "    \\implies \\ln q(z_n=k) &= \\Big\\langle \\ln \\boldsymbol{\\pi}_k \\Big\\rangle_{q(\\pi)} + \\Big\\langle\\ln p(\\mathbf{x}^n_O|\\boldsymbol{\\phi}_k) \\Big\\rangle_{q(\\phi)} + \\text{const}\\\\\\\\\n",
    "\n",
    "    &= \\psi(\\alpha_k) - \\psi\\Big(\\sum_{k'}\\alpha_{k'}\\Big) + \\Big\\langle \\ln \\mathcal{N}(\\mathbf{x}^n_O|\\boldsymbol{\\phi}_k) \\Big\\rangle_{q(\\phi)} + \\text{const}\\\\\\\\\n",
    "\n",
    "\\end{align}$$"
   ]
  },
  {
   "cell_type": "markdown",
   "id": "10bd8c20",
   "metadata": {},
   "source": [
    "# Implementation"
   ]
  },
  {
   "cell_type": "code",
   "execution_count": 48,
   "id": "f56ccab2",
   "metadata": {},
   "outputs": [],
   "source": [
    "def update_Θ(X, R, x_hats, x_hats_outer,S_0, k_0, m_0, ν_0):\n",
    "    N,D = X.shape\n",
    "    _,K = R.shape\n",
    "\n",
    "    nks = R.sum(axis=0)\n",
    "\n",
    "    Vks = np.zeros((K,D,D))\n",
    "    mks = np.zeros((K,D))\n",
    "    Σ_maps = np.zeros((K,D,D))\n",
    "\n",
    "    for k in range(K):\n",
    "        nk = nks[k]\n",
    "\n",
    "        x_bar = (R[:,k].T @ x_hats[k]) / nk\n",
    "\n",
    "        # S_k = (R[:,k] * (x_hats_outer[k] - x_hats[k]@x_bar.T - x_bar@x_hats[k].T + x_bar@x_bar.T)).sum(axis=0)\n",
    "        diffs = x_hats[k] - x_bar  # shape (N, D)\n",
    "        outer_diffs = diffs[:, :, None] * diffs[:, None, :]  # shape (N, D, D)\n",
    "        S_k = (R[:, k][:, None, None] * outer_diffs).sum(axis=0)  # shape (D, D)\n",
    "\n",
    "        Σ_map = (S_0[k] + S_k) / (nk + ν_0[k] + D + 1)\n",
    "\n",
    "        Σ_map_inv = np.linalg.inv(Σ_map)\n",
    "\n",
    "        Λ_k = k_0[k] * Σ_map_inv\n",
    "\n",
    "        V_k = np.linalg.inv(nk * Σ_map_inv + Λ_k)\n",
    "\n",
    "        m_k = V_k @ (Λ_k @ m_0[k] + Σ_map_inv @ x_bar + nk)\n",
    "\n",
    "        Vks[k,:,:] = V_k\n",
    "        mks[k,:] = m_k\n",
    "        Σ_maps[k,:,:] = Σ_map\n",
    "\n",
    "    return Vks,mks,Σ_maps\n",
    "\n",
    "\n"
   ]
  },
  {
   "cell_type": "code",
   "execution_count": 67,
   "id": "7dc30293",
   "metadata": {},
   "outputs": [],
   "source": [
    "def update_Θ(X, R, x_hats, x_hats_outer, S_0, k_0, m_0, ν_0):\n",
    "\n",
    "    N, D = X.shape\n",
    "    K    = R.shape[1]\n",
    "\n",
    "    n_k = R.sum(axis=0)  # (K,)\n",
    "\n",
    "    num   = (R.T[:, :, None] * x_hats).sum(axis=1)\n",
    "    x_bar = num / n_k[:, None] # (K,D)\n",
    "\n",
    "\n",
    "    diffs = x_hats - x_bar[:, None, :] # (K,N,D)\n",
    "    S_k   = np.einsum('nk,knm,knp->kmp', R, diffs, diffs) # (K,D,D)\n",
    "\n",
    "    Σ_map = (S_0 + S_k) / (n_k[:, None, None] + ν_0[:, None, None] + D + 1)\n",
    "\n",
    "    Σ_inv = np.array([np.linalg.inv(Σ_map[k]) for k in range(K)])\n",
    "\n",
    "    Λ_k   = k_0[:, None, None] * Σ_inv          # (K,D,D)\n",
    "    V_k   = np.array([np.linalg.inv(n_k[k] * Σ_inv[k] + Λ_k[k]) for k in range(K)])\n",
    "\n",
    "\n",
    "    rhs   = (Λ_k @ m_0[..., None]).squeeze(-1) +           \\\n",
    "            (n_k[:, None] * (Σ_inv @ x_bar[..., None]).squeeze(-1))\n",
    "    m_k   = np.einsum('kij,kj->ki', V_k, rhs)\n",
    "\n",
    "    return V_k, m_k, Σ_map\n"
   ]
  },
  {
   "cell_type": "code",
   "execution_count": 46,
   "id": "27ebe61f",
   "metadata": {},
   "outputs": [],
   "source": [
    "def gaussian_logprob_missing(X,ms,Σs,missing_mask):\n",
    "    N,D = X.shape\n",
    "    K,_ = ms.shape \n",
    "\n",
    "    conditional_means = np.zeros((N, K), dtype=object) \n",
    "    conditional_covs = np.zeros((N, K), dtype=object)\n",
    "\n",
    "    logprobs = np.zeros((N,K))\n",
    "\n",
    "    x_hats = np.zeros((K,N,D))\n",
    "    x_hats_outer = np.zeros((K,N,D,D))\n",
    "\n",
    "    for i in range(N):\n",
    "        miss_mask = missing_mask[i]\n",
    "        obs_mask = ~miss_mask\n",
    "\n",
    "        x_o = X[i][obs_mask]\n",
    "\n",
    "        for k in range(K):\n",
    "            m = ms[k]\n",
    "            Σ = Σs[k]\n",
    "\n",
    "            m_h = m[miss_mask]\n",
    "            m_o = m[obs_mask]\n",
    "            Σ_oh = Σ[obs_mask][:, miss_mask]\n",
    "            Σ_ho = Σ[miss_mask][:, obs_mask]\n",
    "            Σ_oo = Σ[obs_mask][:, obs_mask]\n",
    "            Σ_hh = Σ[miss_mask][:, miss_mask]\n",
    "\n",
    "            inv_Σ_oo = np.linalg.inv(Σ_oo)\n",
    "\n",
    "            cond_mean = m_h + Σ_ho @ inv_Σ_oo @ (x_o - m_o)\n",
    "            cond_cov = Σ_hh - Σ_ho @ inv_Σ_oo @ Σ_oh\n",
    "\n",
    "            conditional_means[i, k] = cond_mean\n",
    "            conditional_covs[i, k] = cond_cov\n",
    "\n",
    "            x_hat = X[i].copy()\n",
    "            x_hat[miss_mask] = cond_mean\n",
    "\n",
    "            outer = np.outer(x_hat, x_hat)\n",
    "            if np.any(miss_mask):\n",
    "                outer[np.ix_(miss_mask, miss_mask)] += cond_cov \n",
    "\n",
    "            x_hats[k,i,:] = x_hat.copy()\n",
    "            x_hats_outer[k,i,:,:] = outer.copy()\n",
    "\n",
    "            try:\n",
    "                log_prob = multivariate_normal.logpdf(x_o, mean=m_o, cov=Σ_oo)\n",
    "            except np.linalg.LinAlgError:\n",
    "                log_prob = -np.inf  # if singular\n",
    "\n",
    "            logprobs[i, k] =  log_prob\n",
    "\n",
    "    return conditional_means, conditional_covs, x_hats, x_hats_outer,logprobs"
   ]
  },
  {
   "cell_type": "code",
   "execution_count": 52,
   "id": "493c652f",
   "metadata": {},
   "outputs": [],
   "source": [
    "def update_z(X,dataLogProb,α,πs,K,mode=0,R=None):\n",
    "    N,D = X.shape\n",
    "\n",
    "    if R is None:\n",
    "        R = np.zeros((N,K))\n",
    "    else: # For debugging\n",
    "        return R, np.sum(logsumexp(R,axis=1,keepdims=True)) / N\n",
    "\n",
    "    α_sum = psi(np.sum(α))\n",
    "\n",
    "    for k in range(K):\n",
    "        logprior = psi(α[k]) - α_sum\n",
    "\n",
    "        R[:,k] = dataLogProb[:,k].copy()\n",
    "\n",
    "        if mode == 0:\n",
    "            R[:,k] += logprior\n",
    "        elif mode == 1:\n",
    "            R[:,k] += np.log(πs[k])\n",
    "\n",
    "    log_norm = logsumexp(R,axis=1,keepdims=True)\n",
    "\n",
    "    R = np.exp(R - log_norm)\n",
    "\n",
    "    loglik = np.sum(log_norm) / N\n",
    "\n",
    "    return R,loglik\n"
   ]
  },
  {
   "cell_type": "code",
   "execution_count": 53,
   "id": "878d2e79",
   "metadata": {},
   "outputs": [],
   "source": [
    "def update_π(R,α_0):\n",
    "    αs = α_0 + np.sum(R, axis=0) \n",
    "\n",
    "    return αs"
   ]
  },
  {
   "cell_type": "code",
   "execution_count": 62,
   "id": "e16fa841",
   "metadata": {},
   "outputs": [],
   "source": [
    "def meanfield_vi(X,K,R_true=None,mode=0,max_iters=100,min_iters=10,tol=1e-4):\n",
    "    N,D = X.shape\n",
    "\n",
    "    missing_mask = np.isnan(X)\n",
    "\n",
    "    m_0 = np.full((K,D), 1, dtype=np.float64)\n",
    "    S_0 = np.array([1e-3 * np.eye(D) for _ in range(K)])\n",
    "    α_0 = np.full(K, 1, dtype=np.float64)\n",
    "    k_0 = np.full(K, 0.01, dtype=np.float64)\n",
    "    ν_0 = np.full(K,(D + 1), dtype=np.float64 )\n",
    "\n",
    "    R = rng.dirichlet(alpha=α_0, size=N)  # (N, K)\n",
    "\n",
    "    if R_true is not None:\n",
    "        R = R_true\n",
    "\n",
    "    Σs = S_0.copy()  # Covariances of q(μ_k)\n",
    "    ms = m_0.copy() + rng.gamma(1.0, 0.1, size=(K, D))    # Means of q(μ_k)\n",
    "    α = α_0.copy()\n",
    "    ν = ν_0.copy()\n",
    "    πs = rng.dirichlet(alpha=α)\n",
    "\n",
    "    Vks = np.zeros((K,D,D))\n",
    "\n",
    "    loglikes=[]\n",
    "    elbos = []\n",
    "\n",
    "    for t in range(max_iters):\n",
    "        cond_means, cond_covs, x_hats, x_hats_outer,logprobs = gaussian_logprob_missing(X,ms,Σs,missing_mask)\n",
    "\n",
    "        R, loglik = update_z(X,logprobs,α,πs,K,mode=0,R=None)\n",
    "        πs = np.sum(R,axis=0)/N\n",
    "\n",
    "        Vks,ms,Σs = update_Θ(X, R, x_hats, x_hats_outer,S_0, k_0, m_0, ν_0)\n",
    "\n",
    "        α = update_π(R,α_0)\n",
    "\n",
    "        loglikes.append(loglik)\n",
    "\n",
    "        if t > min_iters and np.abs(loglikes[t] - loglikes[t-1]) < tol:\n",
    "            break\n",
    "\n",
    "    return R, Σs, ms, x_hats, x_hats_outer, α, Vks, loglikes"
   ]
  },
  {
   "cell_type": "markdown",
   "id": "1be44ae2",
   "metadata": {},
   "source": [
    "---"
   ]
  },
  {
   "cell_type": "markdown",
   "id": "318d208b",
   "metadata": {},
   "source": [
    "# 3 Evaluation"
   ]
  },
  {
   "cell_type": "code",
   "execution_count": 9,
   "id": "9e52f87d",
   "metadata": {},
   "outputs": [],
   "source": [
    "def plot_clusters(X,y,K,m=None,title=\"GMM Components\"):\n",
    "    colors = plt.cm.tab10(range(K))\n",
    "    for k,c in zip(range(K),colors):\n",
    "        indices = (y==k)\n",
    "        Xi = X[indices]\n",
    "        plt.scatter(Xi[:, 0], Xi[:, 1], s=12, alpha=0.6, label=f\"Component {k}\", color=c)\n",
    "\n",
    "    if m is not None:\n",
    "        plt.scatter(m[:,0], m[:,1], c='black', s=100, marker='x') \n",
    "\n",
    "    plt.xlabel(r\"$x_1$\")\n",
    "    plt.ylabel(r\"$x_2$\")\n",
    "    plt.title(title)\n",
    "    plt.legend()\n",
    "    plt.tight_layout()\n",
    "\n",
    "    plt.show()"
   ]
  },
  {
   "cell_type": "markdown",
   "id": "97abc929",
   "metadata": {},
   "source": [
    "# 3.1 IRIS dataset"
   ]
  },
  {
   "cell_type": "code",
   "execution_count": 79,
   "id": "510a34ca",
   "metadata": {},
   "outputs": [],
   "source": [
    "dirpath = \"./../../Datasets/Gaussian/Processed/IRIS/\"\n",
    "X_train = np.load(dirpath + \"X_train_iris.npy\")\n",
    "y_train = np.load(dirpath + \"y_train_iris.npy\")"
   ]
  },
  {
   "cell_type": "code",
   "execution_count": 80,
   "id": "f4f5b7d6",
   "metadata": {},
   "outputs": [],
   "source": [
    "R, Σs, ms, x_hats, x_hats_outer, α, Vks, loglikes = meanfield_vi(X_train,3)"
   ]
  },
  {
   "cell_type": "code",
   "execution_count": 81,
   "id": "6e2af85e",
   "metadata": {},
   "outputs": [],
   "source": [
    "zs = np.argmax(R, axis=1)"
   ]
  },
  {
   "cell_type": "code",
   "execution_count": 82,
   "id": "880c079a",
   "metadata": {},
   "outputs": [
    {
     "data": {
      "text/plain": [
       "0.5610205963725792"
      ]
     },
     "execution_count": 82,
     "metadata": {},
     "output_type": "execute_result"
    }
   ],
   "source": [
    "metrics.adjusted_rand_score(y_train, zs)"
   ]
  },
  {
   "cell_type": "code",
   "execution_count": 83,
   "id": "05a6cb29",
   "metadata": {},
   "outputs": [
    {
     "data": {
      "text/plain": [
       "[<matplotlib.lines.Line2D at 0x7f149153f190>]"
      ]
     },
     "execution_count": 83,
     "metadata": {},
     "output_type": "execute_result"
    },
    {
     "data": {
      "image/png": "[encoded data removed]",
      "text/plain": [
       "<Figure size 640x480 with 1 Axes>"
      ]
     },
     "metadata": {},
     "output_type": "display_data"
    }
   ],
   "source": [
    "plt.plot(loglikes)"
   ]
  },
  {
   "cell_type": "code",
   "execution_count": 84,
   "id": "46571de3",
   "metadata": {},
   "outputs": [],
   "source": [
    "import random\n",
    "N,D = X_train.shape\n",
    "X_cover1 = np.empty_like(X_train, dtype='f')\n",
    "X_cover1[:] = X_train\n",
    "for i in range(0,len(X_cover1)):\n",
    "    indices = random.sample(range(0,D), D//2)\n",
    "    X_cover1[i][indices] = np.nan"
   ]
  },
  {
   "cell_type": "code",
   "execution_count": 86,
   "id": "2a8db1ea",
   "metadata": {},
   "outputs": [],
   "source": [
    "R, Σs, ms, x_hats, x_hats_outer, α, Vks, loglikes = meanfield_vi(X_cover1,3)"
   ]
  },
  {
   "cell_type": "code",
   "execution_count": 87,
   "id": "9d3bdf76",
   "metadata": {},
   "outputs": [
    {
     "data": {
      "text/plain": [
       "0.5194799057724978"
      ]
     },
     "execution_count": 87,
     "metadata": {},
     "output_type": "execute_result"
    }
   ],
   "source": [
    "zs = np.argmax(R, axis=1)\n",
    "metrics.adjusted_rand_score(y_train, zs)"
   ]
  },
  {
   "cell_type": "code",
   "execution_count": 88,
   "id": "f729128f",
   "metadata": {},
   "outputs": [
    {
     "data": {
      "text/plain": [
       "[<matplotlib.lines.Line2D at 0x7f149152c730>]"
      ]
     },
     "execution_count": 88,
     "metadata": {},
     "output_type": "execute_result"
    },
    {
     "data": {
      "image/png": "[encoded data removed]",
      "text/plain": [
       "<Figure size 640x480 with 1 Axes>"
      ]
     },
     "metadata": {},
     "output_type": "display_data"
    }
   ],
   "source": [
    "plt.plot(loglikes)"
   ]
  },
  {
   "cell_type": "markdown",
   "id": "619bd7ed",
   "metadata": {},
   "source": [
    "## 3.2 Penguin Dataset"
   ]
  },
  {
   "cell_type": "code",
   "execution_count": 89,
   "id": "cebcdf37",
   "metadata": {},
   "outputs": [],
   "source": [
    "dirpath = \"./../../Datasets/Gaussian/Processed/penguin/\"\n",
    "X_train = np.load(dirpath + \"X_train_penguin.npy\")\n",
    "y_train = np.load(dirpath + \"y_train_penguin.npy\")"
   ]
  },
  {
   "cell_type": "code",
   "execution_count": 91,
   "id": "d2262366",
   "metadata": {},
   "outputs": [
    {
     "name": "stdout",
     "output_type": "stream",
     "text": [
      "0.9410120493018651\n"
     ]
    },
    {
     "data": {
      "image/png": "[encoded data removed]",
      "text/plain": [
       "<Figure size 640x480 with 1 Axes>"
      ]
     },
     "metadata": {},
     "output_type": "display_data"
    }
   ],
   "source": [
    "R, Σs, ms, x_hats, x_hats_outer, α, Vks, loglikes = meanfield_vi(X_train,3)\n",
    "zs = np.argmax(R, axis=1)\n",
    "print(metrics.adjusted_rand_score(y_train, zs))\n",
    "plt.plot(loglikes)\n",
    "plt.show()"
   ]
  },
  {
   "cell_type": "code",
   "execution_count": 92,
   "id": "b2ff800e",
   "metadata": {},
   "outputs": [],
   "source": [
    "import random\n",
    "N,D = X_train.shape\n",
    "X_cover1 = np.empty_like(X_train, dtype='f')\n",
    "X_cover1[:] = X_train\n",
    "for i in range(0,len(X_cover1)):\n",
    "    indices = random.sample(range(0,D), D//2)\n",
    "    X_cover1[i][indices] = np.nan"
   ]
  },
  {
   "cell_type": "code",
   "execution_count": 93,
   "id": "5e317d91",
   "metadata": {},
   "outputs": [
    {
     "name": "stdout",
     "output_type": "stream",
     "text": [
      "0.6412831171501642\n"
     ]
    },
    {
     "data": {
      "image/png": "[encoded data removed]",
      "text/plain": [
       "<Figure size 640x480 with 1 Axes>"
      ]
     },
     "metadata": {},
     "output_type": "display_data"
    }
   ],
   "source": [
    "R, Σs, ms, x_hats, x_hats_outer, α, Vks, loglikes = meanfield_vi(X_train,3)\n",
    "zs = np.argmax(R, axis=1)\n",
    "print(metrics.adjusted_rand_score(y_train, zs))\n",
    "plt.plot(loglikes)\n",
    "plt.show()"
   ]
  },
  {
   "cell_type": "markdown",
   "id": "69ca0c8b",
   "metadata": {},
   "source": [
    "# Appendix\n",
    "\n",
    "## 1 Conditional Derivation of X_H\n",
    "\n",
    "Let \n",
    "$$\n",
    "    \\mathbf{x}^n | z_n=k \\sim \\mathcal{N}(\\boldsymbol{\\mu}_k,\\boldsymbol{\\Sigma}_k)\n",
    "$$\n",
    "Where\n",
    "$$\\begin{align}\n",
    "    & \\mathbf{x}^n = \\begin{bmatrix}\\mathbf{x}^n_O \\\\  \\mathbf{x}^n_H\\end{bmatrix} \\quad\n",
    "      \\boldsymbol{\\mu}_k = \\begin{bmatrix} \\boldsymbol{\\mu}_k^O \\\\ \\boldsymbol{\\mu}_k^H \\end{bmatrix} \\quad \n",
    "      \\boldsymbol{\\Sigma}_k = \\begin{bmatrix} \n",
    "                                    \\boldsymbol{\\Sigma}_k^{OO} & \\boldsymbol{\\Sigma}_k^{OH}\\\\\n",
    "                                    \\boldsymbol{\\Sigma}_k^{HO} & \\boldsymbol{\\Sigma}_k^{HH}\n",
    "                              \\end{bmatrix}\n",
    "\\end{align}$$\n",
    "Then the quadratic term of $\\mathcal{N}(\\boldsymbol{\\mu}_k,\\boldsymbol{\\Sigma}_k)$ becomes:\n",
    "\n",
    "$$\\begin{align}\n",
    "    -\\frac{1}{2}(\\mathbf{x}_n - \\boldsymbol{\\mu}_k)^T\\boldsymbol{\\Sigma}_k^{-1}(\\mathbf{x}_n - \\boldsymbol{\\mu}_k) &= \n",
    "            -\\frac{1}{2} \\begin{bmatrix} \n",
    "                \\mathbf{x}^n_O - \\boldsymbol{\\mu}_k^O\\\\\n",
    "                \\mathbf{x}^n_H - \\boldsymbol{\\mu}_k^H\n",
    "            \\end{bmatrix}^T \\begin{bmatrix}\n",
    "                \\boldsymbol{\\Lambda}_k^{OO} & \\boldsymbol{\\Lambda}_k^{OH}\\\\\n",
    "                \\boldsymbol{\\Lambda}_k^{HO} & \\boldsymbol{\\Lambda}_k^{HH}\n",
    "            \\end{bmatrix} \\begin{bmatrix} \n",
    "                \\mathbf{x}^n_O - \\boldsymbol{\\mu}_k^O\\\\\n",
    "                \\mathbf{x}^n_H - \\boldsymbol{\\mu}_k^H\n",
    "            \\end{bmatrix}\\\\\\\\\n",
    "        \n",
    "        &= -\\frac{1}{2}(\\mathbf{x}^n_O - \\boldsymbol{\\mu}_k^O)^T\\boldsymbol{\\Lambda}_k^{OO}(\\mathbf{x}^n_O - \\boldsymbol{\\mu}_k^O)\n",
    "           -\\frac{1}{2}(\\mathbf{x}^n_H - \\boldsymbol{\\mu}_k^H)^T\\boldsymbol{\\Lambda}_k^{HH}(\\mathbf{x}^n_O - \\boldsymbol{\\mu}_k^H)\n",
    "           - (\\mathbf{x}^n_H - \\boldsymbol{\\mu}_k^H)^T\\boldsymbol{\\Lambda}_k^{HO}(\\mathbf{x}^n_O - \\boldsymbol{\\mu}_k^O)\n",
    "\\end{align}$$"
   ]
  },
  {
   "cell_type": "markdown",
   "id": "74d79a92",
   "metadata": {},
   "source": []
  }
 ],
 "metadata": {
  "kernelspec": {
   "display_name": "myenv",
   "language": "python",
   "name": "python3"
  },
  "language_info": {
   "codemirror_mode": {
    "name": "ipython",
    "version": 3
   },
   "file_extension": ".py",
   "mimetype": "text/x-python",
   "name": "python",
   "nbconvert_exporter": "python",
   "pygments_lexer": "ipython3",
   "version": "3.9.21"
  }
 },
 "nbformat": 4,
 "nbformat_minor": 5
}
